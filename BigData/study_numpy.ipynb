{
 "cells": [
  {
   "cell_type": "markdown",
   "metadata": {},
   "source": [
    "## Numpy\n",
    "- Numerical Python\n",
    "- C언어로 구현된 저수준의 고성능 라이브러리\n",
    "- 빠르고 메모리 효율적으로 다차원 배열 ndarray 연산 지원\n",
    "- 선형대수 난수 발생기, 푸리에 변환 등 다양한 연산 기능 지원"
   ]
  },
  {
   "cell_type": "code",
   "execution_count": 2,
   "metadata": {},
   "outputs": [],
   "source": [
    "import numpy as np"
   ]
  },
  {
   "cell_type": "code",
   "execution_count": 7,
   "metadata": {},
   "outputs": [
    {
     "name": "stdout",
     "output_type": "stream",
     "text": [
      "[1 2 3]\n"
     ]
    }
   ],
   "source": [
    "arr = np.array([1, 2, 3])\n",
    "print(arr)"
   ]
  },
  {
   "cell_type": "markdown",
   "metadata": {},
   "source": [
    "### numpy로 배열 만들기"
   ]
  },
  {
   "cell_type": "code",
   "execution_count": 26,
   "metadata": {},
   "outputs": [
    {
     "name": "stdout",
     "output_type": "stream",
     "text": [
      "[39]\n",
      "[1 2 3 4]\n",
      "[[1 2 3]\n",
      " [4 5 6]]\n",
      "[[[ 1  2  3]\n",
      "  [ 4  5  6]\n",
      "  [ 7  8  9]\n",
      "  [10 11 12]]]\n"
     ]
    }
   ],
   "source": [
    "# 0차원 배열 - 배열에 원소가 하나만 들어 있는 것\n",
    "arr0D = np.array([39])\n",
    "print(arr0D)\n",
    "# 1차원 배열 - 하나의 행이나 열로 이루어진 배열\n",
    "arr1D = np.array([1, 2, 3, 4])\n",
    "print(arr1D)\n",
    "# 2차원 배열 - 행과 열로 이루어진 배열\n",
    "arr2D = np.array([[1, 2, 3],\n",
    "                [4, 5, 6]])\n",
    "print(arr2D)\n",
    "# 3차원 배열 - 2차원 배열이 stack처럼 올라가있다고 생각하면 쉽다.\n",
    "arr3D = np.array([[[1, 2, 3], [4, 5, 6], [7, 8, 9], [10, 11, 12]]])                \n",
    "print(arr3D)"
   ]
  },
  {
   "cell_type": "markdown",
   "metadata": {},
   "source": [
    "### 배열 초기화 하는 법"
   ]
  },
  {
   "cell_type": "code",
   "execution_count": 5,
   "metadata": {},
   "outputs": [
    {
     "name": "stdout",
     "output_type": "stream",
     "text": [
      "[0. 0.]\n",
      "[1. 1.]\n",
      "[1. 1.]\n",
      "[5 5]\n",
      "[[1. 0. 0.]\n",
      " [0. 1. 0.]\n",
      " [0. 0. 1.]]\n",
      "[[0.96656758 0.38521503]\n",
      " [0.23988835 0.78010792]]\n",
      "[2 4 6 8]\n",
      "[ 0.  5. 10. 15. 20. 25. 30. 35.]\n"
     ]
    }
   ],
   "source": [
    "# 0으로 채워진 1차원 배열을 만들어 준다.\n",
    "arr0Init = np.zeros(2)\n",
    "print(arr0Init)\n",
    "# 1로 채워진 1차원 배열을 만들어 준다.\n",
    "arr1Init = np.ones(2)\n",
    "print(arr1Init)\n",
    "# 빈 배열을 만들어준다.\n",
    "arrEmpty = np.empty(2)\n",
    "print(arrEmpty)\n",
    "# index와 value를 입력하면 index 갯수만큼 value를 가진 배열을 만들어준다.\n",
    "arrFull = np.full(2, 5)\n",
    "print(arrFull)\n",
    "# nxn identity 행렬을 만들어 준다.\n",
    "arrEye = np.eye(3)\n",
    "print(arrEye)\n",
    "# 랜덤값을 가진 행렬을 만들어 준다.\n",
    "arrRan = np.random.random((2, 2))\n",
    "print(arrRan)\n",
    "# 원소의 범위만큼 1차원 배열을 만들어 준다.\n",
    "# np.arange(start value, finish value, interval)\n",
    "arrArange = np.arange(2, 9, 2)\n",
    "print(arrArange)\n",
    "#시작 값과 끝 값을 입력받은 숫자 만큼 나눈 배열을 만들어 준다.\n",
    "arrLin = np.linspace(0, 35, num=8)\n",
    "print(arrLin) \n"
   ]
  },
  {
   "cell_type": "markdown",
   "metadata": {},
   "source": [
    "### numpy array 데이터 타입 확인하기\n",
    "- 'i' : integer\n",
    "- 'b' : byte\n",
    "- 'u' : unsigned integer\n",
    "- 'f' : float\n",
    "- 'c' : complex float\n",
    "- 'm' : timedelta\n",
    "- 'M' : datetime\n",
    "- 'O' : object\n",
    "- 'S' : string\n",
    "- 'U' : unicode string\n",
    "- 'V' : fixed chuck of memory for other type "
   ]
  },
  {
   "cell_type": "code",
   "execution_count": 33,
   "metadata": {},
   "outputs": [
    {
     "name": "stdout",
     "output_type": "stream",
     "text": [
      "int32\n",
      "[4. 5. 6.]\n",
      "float32\n",
      "[1 2 3]\n",
      "int32\n",
      "3\n",
      "18\n",
      "3\n",
      "(3, 2, 3)\n",
      "5\n"
     ]
    }
   ],
   "source": [
    "# 현재 들어있는 배열의 데이터 타입을 확인한다.\n",
    "arr = np.array([1, 2, 3])\n",
    "print(arr.dtype)\n",
    "# 배열의 데이터 타입을 캐스팅하고 배열의 데이터 타입 출력하기\n",
    "arr2 = np.array([4, 5, 6], dtype='f')\n",
    "print(arr2)\n",
    "print(arr2.dtype)\n",
    "# 문자는 정수로 변환 될 수 없다.\n",
    "# 배열의 데이터 타입을 변경하면서 복사해오기.\n",
    "arr3 = np.array([1.1, 2.1, 3.1])\n",
    "newArr = arr3.astype('i')\n",
    "print(newArr)\n",
    "print(newArr.dtype)\n",
    "# 배열의 차원 즉 배열의 축의 갯수를 말해준다.\n",
    "arrExp = np.array([[[1, 2, 3], [4, 5, 6]], [[11, 21, 31], [41, 51, 61]], [[12, 22, 32], [42, 52, 62]]])\n",
    "print(arrExp.ndim)\n",
    "# 배열의 원소 갯수 알아내기\n",
    "print(arrExp.size)\n",
    "# 배열의 길이를 알아낸다. 여기서 길이는 일반적인 배열의 길이가 가 아닌 배열의 차원이다.\n",
    "print(len(arrExp))\n",
    "# shape는 (차원, 1차원의 행 갯수, 1차원의 열 갯수)\n",
    "print(arrExp.shape)\n",
    "# 3차원에서 배열값 찾아보기\n",
    "print(arrExp[0, 1, 1])"
   ]
  },
  {
   "cell_type": "markdown",
   "metadata": {},
   "source": [
    "### numpy array 형식 바꾸기"
   ]
  },
  {
   "cell_type": "code",
   "execution_count": 62,
   "metadata": {},
   "outputs": [
    {
     "name": "stdout",
     "output_type": "stream",
     "text": [
      "[[0 1]\n",
      " [2 3]\n",
      " [4 5]]\n",
      "[0 1 2 3 4 5]\n",
      "1\n",
      "[0 1]\n",
      "[4 5]\n",
      "[1 2 3]\n",
      "[3 4]\n",
      "[0 2 4]\n",
      "[1 2 3 4 5 6]\n",
      "[[1 4]\n",
      " [2 5]\n",
      " [3 6]]\n",
      "[array([0, 1]), array([2, 3]), array([4, 5])]\n",
      "[42  1  2  3  4  5]\n",
      "(array([3, 5, 6], dtype=int64),)\n",
      "[ 5  6  7  8  9 10]\n",
      "[0 1 2 3]\n",
      "[11 12 13 14 15 16 17 18 19 20]\n"
     ]
    }
   ],
   "source": [
    "# array를 n행 m열로 기존의 배열을 변경한다.\n",
    "a = np.arange(6)\n",
    "b = a.reshape(3, 2)\n",
    "print(b)\n",
    "# n차원 배열을 1 차원으로 변경하는 것\n",
    "c = b.reshape(-1)\n",
    "print(c)\n",
    "# array 슬라이싱하기 기존의 파이썬 문법과 똑같다\n",
    "print(c[1])\n",
    "print(c[0:2])\n",
    "print(c[-2:])\n",
    "print(c[1:4])\n",
    "print(c[-3:-1])\n",
    "# 2차원 배열 슬라이싱 하기. [행, 열]로 잘려서 나타난다.\n",
    "print(b[0:3, 0])\n",
    "# 2개의 배열 합치기\n",
    "arr1 = np.array([1, 2, 3])\n",
    "arr2 = np.array([4, 5, 6])\n",
    "arr = np.concatenate((arr1, arr2))\n",
    "print(arr)\n",
    "# 배열을 stack형으로 쌓아갈 수 있음\n",
    "arr = np.stack((arr1, arr2), axis=1)\n",
    "print(arr)\n",
    "# split으로 배열을 나눠 줄 수 있음\n",
    "arr = np.array_split(c, 3)\n",
    "print(arr)\n",
    "# 배열을 복사한다. 하지만 복사한 배열과 복사돼서 새로 생긴 배열은 메모리를 같이 공유하지 않는다.\n",
    "d = c.copy()\n",
    "d[0] = 42\n",
    "print(d)\n",
    "# 배열의 원소를 검색하는 법\n",
    "arr = np.array([1, 2, 3, 4, 5, 4, 4])\n",
    "x = np.where(arr == 4)\n",
    "print(x)\n",
    "a = np.arange(15)\n",
    "x = np.where((a >= 5) & (a <= 10))\n",
    "print(a[x])\n",
    "# 두 개의 1차원 배열을 비교해서 중복되는 게 있는 지 찾아보기\n",
    "a = np.array([1, 2, 3, 2, 3, 4, 3, 4, 5, 6])\n",
    "b = np.array([7, 2, 10, 2, 7, 4, 9, 4, 9, 8])\n",
    "np.intersect1d(a, b)\n",
    "# 두 개의 배열 비교해서 중복되는 원소 제거하기.\n",
    "a = np.array([1, 2, 3, 4, 5])\n",
    "b = np.array([5, 6, 7, 8, 9])\n",
    "np.setdiff1d(a, b)\n",
    "# 배열 정렬하기\n",
    "arr = np.array([3, 2, 0, 1])\n",
    "print(np.sort(arr))\n",
    "# 배열에서 중복되는 원소들을 하나로 출력시켜준다.\n",
    "arr = np.array([11, 11, 12, 13, 14, 15, 16, 17, 12, 13, 11, 14, 18, 19, 20])\n",
    "uniqueValues = np.unique(arr)\n",
    "print(uniqueValues)"
   ]
  },
  {
   "cell_type": "markdown",
   "metadata": {},
   "source": [
    "### numpy array의 수학 연산자"
   ]
  },
  {
   "cell_type": "code",
   "execution_count": 66,
   "metadata": {},
   "outputs": [
    {
     "name": "stdout",
     "output_type": "stream",
     "text": [
      "[2 3]\n",
      "[0 1]\n",
      "[1 2]\n",
      "[1. 1.]\n"
     ]
    }
   ],
   "source": [
    "# 더하기\n",
    "data = np.array([1, 2])\n",
    "ones = np.ones(2, dtype=int)\n",
    "print(data + ones)\n",
    "# 빼기 나누기 곱하기\n",
    "print(data - ones)\n",
    "print(data * ones)\n",
    "print(data / data)"
   ]
  },
  {
   "cell_type": "code",
   "execution_count": 68,
   "metadata": {},
   "outputs": [
    {
     "name": "stdout",
     "output_type": "stream",
     "text": [
      "[1.6 3.2]\n",
      "2.0\n",
      "1.0\n",
      "3.0\n"
     ]
    }
   ],
   "source": [
    "# Broadcasting - 배열에 숫자를 곱하는 것\n",
    "data = np.array([1.0, 2.0])\n",
    "print(data * 1.6)\n",
    "# max, min, sum과 같이 유용한 함수들\n",
    "print(data.max())\n",
    "print(data.min())\n",
    "print(data.sum())"
   ]
  }
 ],
 "metadata": {
  "kernelspec": {
   "display_name": "Python 3.10.7 64-bit",
   "language": "python",
   "name": "python3"
  },
  "language_info": {
   "codemirror_mode": {
    "name": "ipython",
    "version": 3
   },
   "file_extension": ".py",
   "mimetype": "text/x-python",
   "name": "python",
   "nbconvert_exporter": "python",
   "pygments_lexer": "ipython3",
   "version": "3.10.7"
  },
  "orig_nbformat": 4,
  "vscode": {
   "interpreter": {
    "hash": "e4434393e5ce7c6be21b057763801f3aacbc5b1ae01ea26fd365fd93e92b0c53"
   }
  }
 },
 "nbformat": 4,
 "nbformat_minor": 2
}
