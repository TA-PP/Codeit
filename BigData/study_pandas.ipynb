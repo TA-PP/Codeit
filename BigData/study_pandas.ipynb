{
 "cells": [
  {
   "cell_type": "markdown",
   "metadata": {},
   "source": [
    "Pandas란\n",
    "- Numpy 위에 만들어진 open source library이다.\n",
    "- data science에서 가장 유명한 라이브러리 중 하나이다.\n",
    "  . data read, data cleaning, data transforming, data analysis"
   ]
  },
  {
   "cell_type": "markdown",
   "metadata": {},
   "source": [
    "Pandas의 주요 구성 요소는 Series와 DataFrame이다.\n",
    "- Series : 레이블이 정해진 일차원 배열\n",
    "    . 문법 : pandas.Series(data, index, dtype, copy)\n",
    "    . data : n차원의 배열, 리스트, 딕셔너리, 또는 스칼라 값이다.\n",
    "    . index : 열의 index이다.\n",
    "    . dtype : 데이터 타입이다.\n",
    "    . copy : 복사된 데이터이다."
   ]
  },
  {
   "cell_type": "code",
   "execution_count": 1,
   "metadata": {},
   "outputs": [],
   "source": [
    "import numpy as np\n",
    "import pandas as pd"
   ]
  },
  {
   "cell_type": "code",
   "execution_count": 7,
   "metadata": {},
   "outputs": [
    {
     "name": "stdout",
     "output_type": "stream",
     "text": [
      "100    a\n",
      "101    b\n",
      "102    c\n",
      "103    d\n",
      "dtype: object\n",
      "100    a\n",
      "101    b\n",
      "102    c\n",
      "103    d\n",
      "dtype: object\n"
     ]
    }
   ],
   "source": [
    "# 배열을 Series 안에 넣기\n",
    "data = np.array(['a', 'b', 'c', 'd'])\n",
    "series = pd.Series(data, index=[100, 101, 102, 103])\n",
    "print(series)\n",
    "# 딕셔너리를 이용한 Sereis 만들기\n",
    "data = {100 : 'a', 101 : 'b', 102 : 'c', 103 : 'd'}\n",
    "series = pd.Series(data)\n",
    "print(series)"
   ]
  },
  {
   "cell_type": "code",
   "execution_count": 6,
   "metadata": {},
   "outputs": [
    {
     "name": "stdout",
     "output_type": "stream",
     "text": [
      "1    A\n",
      "2    B\n",
      "3    C\n",
      "4    D\n",
      "5    E\n",
      "dtype: object\n"
     ]
    }
   ],
   "source": [
    "# 그림대로 Series 하나 만들어보기\n",
    "data = np.array(['A', 'B', 'C', 'D', 'E'])\n",
    "series = pd.Series(data, index=[1, 2, 3, 4, 5])\n",
    "print(series)"
   ]
  },
  {
   "cell_type": "markdown",
   "metadata": {},
   "source": [
    "Pandas의 주요 구성 요소는 Series와 DataFrame이다.\n",
    "- DataFrame : Series 컬렉션으로 구성된 다차원 테이블이다.\n",
    "    . 문법 : pandas.DataFrame(data, index, columns, dtype, copy)\n",
    "    . data : 시리즈, n차원의 배열, 리스트, 딕셔너리, 또는 스칼라 값이다.\n",
    "    . index : 데이터 프레임의 index이다.\n",
    "    . columns : 열의 이름이나 라벨\n",
    "    . dtype : 데이터 타입이다.\n",
    "    . copy : 복사된 데이터이다."
   ]
  },
  {
   "cell_type": "code",
   "execution_count": 10,
   "metadata": {},
   "outputs": [
    {
     "name": "stdout",
     "output_type": "stream",
     "text": [
      "    Name   Age\n",
      "0    Tim  35.0\n",
      "1  Sonya  30.0\n",
      "2  Sunny  34.0\n",
      "   one  two\n",
      "a  1.0    1\n",
      "b  2.0    2\n",
      "c  3.0    3\n",
      "d  NaN    4\n"
     ]
    },
    {
     "name": "stderr",
     "output_type": "stream",
     "text": [
      "C:\\Users\\gesta\\AppData\\Local\\Temp\\ipykernel_3568\\1119490009.py:3: FutureWarning: Could not cast to float64, falling back to object. This behavior is deprecated. In a future version, when a dtype is passed to 'DataFrame', either all columns will be cast to that dtype, or a TypeError will be raised.\n",
      "  df = pd.DataFrame(data, columns=['Name', 'Age'], dtype=float)\n"
     ]
    }
   ],
   "source": [
    "# list를 이용해 DataFrame을 만드는  방법\n",
    "data = [['Tim', 35], ['Sonya', 30], ['Sunny', 34]]\n",
    "df = pd.DataFrame(data, columns=['Name', 'Age'], dtype=float)\n",
    "print(df)\n",
    "# 시리즈를 이요해 DataFrame을 만든다.\n",
    "data = {'one':pd.Series([1,2,3], index=['a','b','c']), 'two':pd.Series([1,2,3,4], index=['a','b','c','d'])}\n",
    "df = pd.DataFrame(data)\n",
    "print(df)"
   ]
  },
  {
   "cell_type": "code",
   "execution_count": 17,
   "metadata": {},
   "outputs": [
    {
     "name": "stdout",
     "output_type": "stream",
     "text": [
      "           Artist Genre  Listeners       Plays\n",
      "0  Billie Holiday  Jazz  1,300,000  27,000,000\n",
      "1    Jimi Hendrix  Rock  2,700,000  70,000,000\n",
      "2     Miles Davis  Jazz  1,500,000  48,000,000\n",
      "3             SIA   Pop  2,000,000  74,000,000\n"
     ]
    }
   ],
   "source": [
    "data = {'Artist':pd.Series(['Billie Holiday', 'Jimi Hendrix', 'Miles Davis', 'SIA'], index=[0,1,2,3]),\n",
    "        'Genre':pd.Series(['Jazz', 'Rock', 'Jazz', 'Pop'], index=[0,1,2,3]),\n",
    "        'Listeners':pd.Series(['1,300,000', '2,700,000', '1,500,000', '2,000,000'], index=[0,1,2,3]),\n",
    "        'Plays':pd.Series(['27,000,000', '70,000,000', '48,000,000', '74,000,000'], index=[0,1,2,3])}\n",
    "df = pd.DataFrame(data)\n",
    "print(df)"
   ]
  },
  {
   "cell_type": "markdown",
   "metadata": {},
   "source": [
    "pandas의 read_csv로 파일을 불러와서 데이터 프레임에 저장하기\n",
    "- index_col : csv 파일에는 index가 없기 때문에 index_col로 따로 지정해줘야 한다."
   ]
  },
  {
   "cell_type": "code",
   "execution_count": 13,
   "metadata": {},
   "outputs": [
    {
     "name": "stdout",
     "output_type": "stream",
     "text": [
      "                         Rank                     Genre  \\\n",
      "Title                                                     \n",
      "Guardians of the Galaxy     1   Action,Adventure,Sci-Fi   \n",
      "Prometheus                  2  Adventure,Mystery,Sci-Fi   \n",
      "Split                       3           Horror,Thriller   \n",
      "Sing                        4   Animation,Comedy,Family   \n",
      "Suicide Squad               5  Action,Adventure,Fantasy   \n",
      "...                       ...                       ...   \n",
      "Secret in Their Eyes      996       Crime,Drama,Mystery   \n",
      "Hostel: Part II           997                    Horror   \n",
      "Step Up 2: The Streets    998       Drama,Music,Romance   \n",
      "Search Party              999          Adventure,Comedy   \n",
      "Nine Lives               1000     Comedy,Family,Fantasy   \n",
      "\n",
      "                                                               Description  \\\n",
      "Title                                                                        \n",
      "Guardians of the Galaxy  A group of intergalactic criminals are forced ...   \n",
      "Prometheus               Following clues to the origin of mankind, a te...   \n",
      "Split                    Three girls are kidnapped by a man with a diag...   \n",
      "Sing                     In a city of humanoid animals, a hustling thea...   \n",
      "Suicide Squad            A secret government agency recruits some of th...   \n",
      "...                                                                    ...   \n",
      "Secret in Their Eyes     A tight-knit team of rising investigators, alo...   \n",
      "Hostel: Part II          Three American college students studying abroa...   \n",
      "Step Up 2: The Streets   Romantic sparks occur between two dance studen...   \n",
      "Search Party             A pair of friends embark on a mission to reuni...   \n",
      "Nine Lives               A stuffy businessman finds himself trapped ins...   \n",
      "\n",
      "                                     Director  \\\n",
      "Title                                           \n",
      "Guardians of the Galaxy            James Gunn   \n",
      "Prometheus                       Ridley Scott   \n",
      "Split                      M. Night Shyamalan   \n",
      "Sing                     Christophe Lourdelet   \n",
      "Suicide Squad                      David Ayer   \n",
      "...                                       ...   \n",
      "Secret in Their Eyes                Billy Ray   \n",
      "Hostel: Part II                      Eli Roth   \n",
      "Step Up 2: The Streets             Jon M. Chu   \n",
      "Search Party                   Scot Armstrong   \n",
      "Nine Lives                   Barry Sonnenfeld   \n",
      "\n",
      "                                                                    Actors  \\\n",
      "Title                                                                        \n",
      "Guardians of the Galaxy  Chris Pratt, Vin Diesel, Bradley Cooper, Zoe S...   \n",
      "Prometheus               Noomi Rapace, Logan Marshall-Green, Michael Fa...   \n",
      "Split                    James McAvoy, Anya Taylor-Joy, Haley Lu Richar...   \n",
      "Sing                     Matthew McConaughey,Reese Witherspoon, Seth Ma...   \n",
      "Suicide Squad            Will Smith, Jared Leto, Margot Robbie, Viola D...   \n",
      "...                                                                    ...   \n",
      "Secret in Their Eyes     Chiwetel Ejiofor, Nicole Kidman, Julia Roberts...   \n",
      "Hostel: Part II          Lauren German, Heather Matarazzo, Bijou Philli...   \n",
      "Step Up 2: The Streets   Robert Hoffman, Briana Evigan, Cassie Ventura,...   \n",
      "Search Party             Adam Pally, T.J. Miller, Thomas Middleditch,Sh...   \n",
      "Nine Lives               Kevin Spacey, Jennifer Garner, Robbie Amell,Ch...   \n",
      "\n",
      "                         Year  Runtime (Minutes)  Rating   Votes  \\\n",
      "Title                                                              \n",
      "Guardians of the Galaxy  2014                121     8.1  757074   \n",
      "Prometheus               2012                124     7.0  485820   \n",
      "Split                    2016                117     7.3  157606   \n",
      "Sing                     2016                108     7.2   60545   \n",
      "Suicide Squad            2016                123     6.2  393727   \n",
      "...                       ...                ...     ...     ...   \n",
      "Secret in Their Eyes     2015                111     6.2   27585   \n",
      "Hostel: Part II          2007                 94     5.5   73152   \n",
      "Step Up 2: The Streets   2008                 98     6.2   70699   \n",
      "Search Party             2014                 93     5.6    4881   \n",
      "Nine Lives               2016                 87     5.3   12435   \n",
      "\n",
      "                         Revenue (Millions)  Metascore  \n",
      "Title                                                   \n",
      "Guardians of the Galaxy              333.13       76.0  \n",
      "Prometheus                           126.46       65.0  \n",
      "Split                                138.12       62.0  \n",
      "Sing                                 270.32       59.0  \n",
      "Suicide Squad                        325.02       40.0  \n",
      "...                                     ...        ...  \n",
      "Secret in Their Eyes                    NaN       45.0  \n",
      "Hostel: Part II                       17.54       46.0  \n",
      "Step Up 2: The Streets                58.01       50.0  \n",
      "Search Party                            NaN       22.0  \n",
      "Nine Lives                            19.64       11.0  \n",
      "\n",
      "[1000 rows x 11 columns]\n"
     ]
    }
   ],
   "source": [
    "movie_df = pd.read_csv('./csv/IMDB-Movie-Data.csv', index_col='Title')\n",
    "print(movie_df)"
   ]
  },
  {
   "cell_type": "code",
   "execution_count": 16,
   "metadata": {},
   "outputs": [
    {
     "data": {
      "text/html": [
       "<div>\n",
       "<style scoped>\n",
       "    .dataframe tbody tr th:only-of-type {\n",
       "        vertical-align: middle;\n",
       "    }\n",
       "\n",
       "    .dataframe tbody tr th {\n",
       "        vertical-align: top;\n",
       "    }\n",
       "\n",
       "    .dataframe thead th {\n",
       "        text-align: right;\n",
       "    }\n",
       "</style>\n",
       "<table border=\"1\" class=\"dataframe\">\n",
       "  <thead>\n",
       "    <tr style=\"text-align: right;\">\n",
       "      <th></th>\n",
       "      <th>Rank</th>\n",
       "      <th>Genre</th>\n",
       "      <th>Description</th>\n",
       "      <th>Director</th>\n",
       "      <th>Actors</th>\n",
       "      <th>Year</th>\n",
       "      <th>Runtime (Minutes)</th>\n",
       "      <th>Rating</th>\n",
       "      <th>Votes</th>\n",
       "      <th>Revenue (Millions)</th>\n",
       "      <th>Metascore</th>\n",
       "    </tr>\n",
       "    <tr>\n",
       "      <th>Title</th>\n",
       "      <th></th>\n",
       "      <th></th>\n",
       "      <th></th>\n",
       "      <th></th>\n",
       "      <th></th>\n",
       "      <th></th>\n",
       "      <th></th>\n",
       "      <th></th>\n",
       "      <th></th>\n",
       "      <th></th>\n",
       "      <th></th>\n",
       "    </tr>\n",
       "  </thead>\n",
       "  <tbody>\n",
       "    <tr>\n",
       "      <th>Search Party</th>\n",
       "      <td>999</td>\n",
       "      <td>Adventure,Comedy</td>\n",
       "      <td>A pair of friends embark on a mission to reuni...</td>\n",
       "      <td>Scot Armstrong</td>\n",
       "      <td>Adam Pally, T.J. Miller, Thomas Middleditch,Sh...</td>\n",
       "      <td>2014</td>\n",
       "      <td>93</td>\n",
       "      <td>5.6</td>\n",
       "      <td>4881</td>\n",
       "      <td>NaN</td>\n",
       "      <td>22.0</td>\n",
       "    </tr>\n",
       "    <tr>\n",
       "      <th>Nine Lives</th>\n",
       "      <td>1000</td>\n",
       "      <td>Comedy,Family,Fantasy</td>\n",
       "      <td>A stuffy businessman finds himself trapped ins...</td>\n",
       "      <td>Barry Sonnenfeld</td>\n",
       "      <td>Kevin Spacey, Jennifer Garner, Robbie Amell,Ch...</td>\n",
       "      <td>2016</td>\n",
       "      <td>87</td>\n",
       "      <td>5.3</td>\n",
       "      <td>12435</td>\n",
       "      <td>19.64</td>\n",
       "      <td>11.0</td>\n",
       "    </tr>\n",
       "  </tbody>\n",
       "</table>\n",
       "</div>"
      ],
      "text/plain": [
       "              Rank                  Genre  \\\n",
       "Title                                       \n",
       "Search Party   999       Adventure,Comedy   \n",
       "Nine Lives    1000  Comedy,Family,Fantasy   \n",
       "\n",
       "                                                    Description  \\\n",
       "Title                                                             \n",
       "Search Party  A pair of friends embark on a mission to reuni...   \n",
       "Nine Lives    A stuffy businessman finds himself trapped ins...   \n",
       "\n",
       "                      Director  \\\n",
       "Title                            \n",
       "Search Party    Scot Armstrong   \n",
       "Nine Lives    Barry Sonnenfeld   \n",
       "\n",
       "                                                         Actors  Year  \\\n",
       "Title                                                                   \n",
       "Search Party  Adam Pally, T.J. Miller, Thomas Middleditch,Sh...  2014   \n",
       "Nine Lives    Kevin Spacey, Jennifer Garner, Robbie Amell,Ch...  2016   \n",
       "\n",
       "              Runtime (Minutes)  Rating  Votes  Revenue (Millions)  Metascore  \n",
       "Title                                                                          \n",
       "Search Party                 93     5.6   4881                 NaN       22.0  \n",
       "Nine Lives                   87     5.3  12435               19.64       11.0  "
      ]
     },
     "execution_count": 16,
     "metadata": {},
     "output_type": "execute_result"
    }
   ],
   "source": [
    "# 데이터 프레임의 처음 5개의 열을 보여준다.\n",
    "movie_df.head()\n",
    "# head(n)에 숫자를 넘겨줘서 n개의 열을 보여줄 수 있다.\n",
    "movie_df.head(10)\n",
    "# 데이터 프레임의 끝 5개의 열을 볼 수 있다.\n",
    "movie_df.tail()\n",
    "# head()처럼 숫자를 넘겨주면 원하는 만큼의 ㅣ열을 볼 수 있다.\n",
    "movie_df.tail(2)"
   ]
  },
  {
   "cell_type": "markdown",
   "metadata": {},
   "source": [
    "info() : 데이터 셋의 필수적인 정보를 보여준다.\n",
    "- 행의 갯수\n",
    "- 열의 갯수\n",
    "- non-null 값의 갯수\n",
    "- 각 열의 데이터 타입을 알려준다.\n",
    "- 데이터 프레임이 사용하고 있는 메모리의 양"
   ]
  },
  {
   "cell_type": "code",
   "execution_count": 19,
   "metadata": {},
   "outputs": [
    {
     "name": "stdout",
     "output_type": "stream",
     "text": [
      "<class 'pandas.core.frame.DataFrame'>\n",
      "Index: 1000 entries, Guardians of the Galaxy to Nine Lives\n",
      "Data columns (total 11 columns):\n",
      " #   Column              Non-Null Count  Dtype  \n",
      "---  ------              --------------  -----  \n",
      " 0   Rank                1000 non-null   int64  \n",
      " 1   Genre               1000 non-null   object \n",
      " 2   Description         1000 non-null   object \n",
      " 3   Director            1000 non-null   object \n",
      " 4   Actors              1000 non-null   object \n",
      " 5   Year                1000 non-null   int64  \n",
      " 6   Runtime (Minutes)   1000 non-null   int64  \n",
      " 7   Rating              1000 non-null   float64\n",
      " 8   Votes               1000 non-null   int64  \n",
      " 9   Revenue (Millions)  872 non-null    float64\n",
      " 10  Metascore           936 non-null    float64\n",
      "dtypes: float64(3), int64(4), object(4)\n",
      "memory usage: 93.8+ KB\n"
     ]
    }
   ],
   "source": [
    "movie_df.info()"
   ]
  },
  {
   "cell_type": "markdown",
   "metadata": {},
   "source": [
    "shape : 행과 열의 크기를 출력한다.\n",
    "- shape은 괄호가 없는 단순한 튜플(행, 열) 형식이다.\n",
    "- 데이터를 정리하거나 변환할 때 많이 사용한다.\n",
    "    . 기준에 따라 행을 필터링한 다음 제거된 행 수를 확인할 수 있다."
   ]
  },
  {
   "cell_type": "code",
   "execution_count": 21,
   "metadata": {},
   "outputs": [
    {
     "data": {
      "text/plain": [
       "(1000, 11)"
      ]
     },
     "execution_count": 21,
     "metadata": {},
     "output_type": "execute_result"
    }
   ],
   "source": [
    "movie_df.shape"
   ]
  },
  {
   "cell_type": "code",
   "execution_count": 25,
   "metadata": {},
   "outputs": [
    {
     "data": {
      "text/plain": [
       "count                        1000\n",
       "unique                        207\n",
       "top       Action,Adventure,Sci-Fi\n",
       "freq                           50\n",
       "Name: Genre, dtype: object"
      ]
     },
     "execution_count": 25,
     "metadata": {},
     "output_type": "execute_result"
    }
   ],
   "source": [
    "# descirbe() 통계량을 요약해서 출력해준다.\n",
    "movie_df.describe()\n",
    "# descirbe() 메소드를 열의 제목에 대한 요약을 할 수 도 있다.\n",
    "movie_df['Genre'].describe()\n",
    "# 행의 갯수\n",
    "# 중복되지 않는 열의 숫자\n",
    "# top category\n",
    "# top catoegory의 빈도"
   ]
  },
  {
   "cell_type": "code",
   "execution_count": 29,
   "metadata": {},
   "outputs": [
    {
     "data": {
      "text/plain": [
       "Index(['Rank', 'Genre', 'Description', 'Director', 'Actors', 'Year', 'Runtime',\n",
       "       'Rating', 'Votes', 'Revenue', 'Metascore'],\n",
       "      dtype='object')"
      ]
     },
     "execution_count": 29,
     "metadata": {},
     "output_type": "execute_result"
    }
   ],
   "source": [
    "# 데이터 프레임의 열의 이름을 알려준다.\n",
    "# columns를 column의 이름을 바꾸려고 할 때 사용할 수 도 있다.\n",
    "movie_df.columns\n",
    "movie_df.rename(columns={'Runtime (Minutes)':'Runtime',\n",
    "                        'Revenue (Millions)':'Revenue'},\n",
    "                inplace=True)\n",
    "movie_df.columns"
   ]
  },
  {
   "cell_type": "code",
   "execution_count": 38,
   "metadata": {},
   "outputs": [
    {
     "data": {
      "text/html": [
       "<div>\n",
       "<style scoped>\n",
       "    .dataframe tbody tr th:only-of-type {\n",
       "        vertical-align: middle;\n",
       "    }\n",
       "\n",
       "    .dataframe tbody tr th {\n",
       "        vertical-align: top;\n",
       "    }\n",
       "\n",
       "    .dataframe thead th {\n",
       "        text-align: right;\n",
       "    }\n",
       "</style>\n",
       "<table border=\"1\" class=\"dataframe\">\n",
       "  <thead>\n",
       "    <tr style=\"text-align: right;\">\n",
       "      <th></th>\n",
       "      <th>Rank</th>\n",
       "      <th>Genre</th>\n",
       "      <th>Description</th>\n",
       "      <th>Director</th>\n",
       "      <th>Actors</th>\n",
       "      <th>Year</th>\n",
       "      <th>Runtime</th>\n",
       "      <th>Rating</th>\n",
       "      <th>Votes</th>\n",
       "      <th>Revenue</th>\n",
       "      <th>Metascore</th>\n",
       "    </tr>\n",
       "    <tr>\n",
       "      <th>Title</th>\n",
       "      <th></th>\n",
       "      <th></th>\n",
       "      <th></th>\n",
       "      <th></th>\n",
       "      <th></th>\n",
       "      <th></th>\n",
       "      <th></th>\n",
       "      <th></th>\n",
       "      <th></th>\n",
       "      <th></th>\n",
       "      <th></th>\n",
       "    </tr>\n",
       "  </thead>\n",
       "  <tbody>\n",
       "    <tr>\n",
       "      <th>Nine Lives</th>\n",
       "      <td>1000</td>\n",
       "      <td>Comedy,Family,Fantasy</td>\n",
       "      <td>A stuffy businessman finds himself trapped ins...</td>\n",
       "      <td>Barry Sonnenfeld</td>\n",
       "      <td>Kevin Spacey, Jennifer Garner, Robbie Amell,Ch...</td>\n",
       "      <td>2016</td>\n",
       "      <td>87</td>\n",
       "      <td>5.3</td>\n",
       "      <td>12435</td>\n",
       "      <td>19.64</td>\n",
       "      <td>11.0</td>\n",
       "    </tr>\n",
       "    <tr>\n",
       "      <th>Free Fire</th>\n",
       "      <td>162</td>\n",
       "      <td>Action,Comedy,Crime</td>\n",
       "      <td>Set in Boston in 1978, a meeting in a deserted...</td>\n",
       "      <td>Ben Wheatley</td>\n",
       "      <td>Sharlto Copley, Brie Larson, Armie Hammer, Cil...</td>\n",
       "      <td>2016</td>\n",
       "      <td>90</td>\n",
       "      <td>7.0</td>\n",
       "      <td>6946</td>\n",
       "      <td>1.80</td>\n",
       "      <td>63.0</td>\n",
       "    </tr>\n",
       "    <tr>\n",
       "      <th>Tall Men</th>\n",
       "      <td>648</td>\n",
       "      <td>Fantasy,Horror,Thriller</td>\n",
       "      <td>A challenged man is stalked by tall phantoms i...</td>\n",
       "      <td>Jonathan Holbrook</td>\n",
       "      <td>Dan Crisafulli, Kay Whitney, Richard Garcia, P...</td>\n",
       "      <td>2016</td>\n",
       "      <td>133</td>\n",
       "      <td>3.2</td>\n",
       "      <td>173</td>\n",
       "      <td>NaN</td>\n",
       "      <td>57.0</td>\n",
       "    </tr>\n",
       "    <tr>\n",
       "      <th>The Huntsman: Winter's War</th>\n",
       "      <td>235</td>\n",
       "      <td>Action,Adventure,Drama</td>\n",
       "      <td>Eric and fellow warrior Sara, raised as member...</td>\n",
       "      <td>Cedric Nicolas-Troyan</td>\n",
       "      <td>Chris Hemsworth, Jessica Chastain, Charlize Th...</td>\n",
       "      <td>2016</td>\n",
       "      <td>114</td>\n",
       "      <td>6.1</td>\n",
       "      <td>66766</td>\n",
       "      <td>47.95</td>\n",
       "      <td>35.0</td>\n",
       "    </tr>\n",
       "    <tr>\n",
       "      <th>Popstar: Never Stop Never Stopping</th>\n",
       "      <td>654</td>\n",
       "      <td>Comedy,Music</td>\n",
       "      <td>When it becomes clear that his solo album is a...</td>\n",
       "      <td>Akiva Schaffer</td>\n",
       "      <td>Andy Samberg, Jorma Taccone,Akiva Schaffer, Sa...</td>\n",
       "      <td>2016</td>\n",
       "      <td>87</td>\n",
       "      <td>6.7</td>\n",
       "      <td>30875</td>\n",
       "      <td>9.39</td>\n",
       "      <td>68.0</td>\n",
       "    </tr>\n",
       "  </tbody>\n",
       "</table>\n",
       "</div>"
      ],
      "text/plain": [
       "                                    Rank                    Genre  \\\n",
       "Title                                                               \n",
       "Nine Lives                          1000    Comedy,Family,Fantasy   \n",
       "Free Fire                            162      Action,Comedy,Crime   \n",
       "Tall Men                             648  Fantasy,Horror,Thriller   \n",
       "The Huntsman: Winter's War           235   Action,Adventure,Drama   \n",
       "Popstar: Never Stop Never Stopping   654             Comedy,Music   \n",
       "\n",
       "                                                                          Description  \\\n",
       "Title                                                                                   \n",
       "Nine Lives                          A stuffy businessman finds himself trapped ins...   \n",
       "Free Fire                           Set in Boston in 1978, a meeting in a deserted...   \n",
       "Tall Men                            A challenged man is stalked by tall phantoms i...   \n",
       "The Huntsman: Winter's War          Eric and fellow warrior Sara, raised as member...   \n",
       "Popstar: Never Stop Never Stopping  When it becomes clear that his solo album is a...   \n",
       "\n",
       "                                                 Director  \\\n",
       "Title                                                       \n",
       "Nine Lives                               Barry Sonnenfeld   \n",
       "Free Fire                                    Ben Wheatley   \n",
       "Tall Men                                Jonathan Holbrook   \n",
       "The Huntsman: Winter's War          Cedric Nicolas-Troyan   \n",
       "Popstar: Never Stop Never Stopping         Akiva Schaffer   \n",
       "\n",
       "                                                                               Actors  \\\n",
       "Title                                                                                   \n",
       "Nine Lives                          Kevin Spacey, Jennifer Garner, Robbie Amell,Ch...   \n",
       "Free Fire                           Sharlto Copley, Brie Larson, Armie Hammer, Cil...   \n",
       "Tall Men                            Dan Crisafulli, Kay Whitney, Richard Garcia, P...   \n",
       "The Huntsman: Winter's War          Chris Hemsworth, Jessica Chastain, Charlize Th...   \n",
       "Popstar: Never Stop Never Stopping  Andy Samberg, Jorma Taccone,Akiva Schaffer, Sa...   \n",
       "\n",
       "                                    Year  Runtime  Rating  Votes  Revenue  \\\n",
       "Title                                                                       \n",
       "Nine Lives                          2016       87     5.3  12435    19.64   \n",
       "Free Fire                           2016       90     7.0   6946     1.80   \n",
       "Tall Men                            2016      133     3.2    173      NaN   \n",
       "The Huntsman: Winter's War          2016      114     6.1  66766    47.95   \n",
       "Popstar: Never Stop Never Stopping  2016       87     6.7  30875     9.39   \n",
       "\n",
       "                                    Metascore  \n",
       "Title                                          \n",
       "Nine Lives                               11.0  \n",
       "Free Fire                                63.0  \n",
       "Tall Men                                 57.0  \n",
       "The Huntsman: Winter's War               35.0  \n",
       "Popstar: Never Stop Never Stopping       68.0  "
      ]
     },
     "execution_count": 38,
     "metadata": {},
     "output_type": "execute_result"
    }
   ],
   "source": [
    "# 데이터 프레임 조정하기\n",
    "# 데이터 프레임에서 원하는 열만 불러오기.\n",
    "subset = movie_df[['Genre', 'Rating']]\n",
    "subset.head()\n",
    "# 특정 열에서 특정 값을 갖는 데이터 프레임만 가져오고 싶을 때\n",
    "movie_df[movie_df['Year']==2012].head()\n",
    "# 해당 값 이상을 갖는 값만 가져오고 싶을 때\n",
    "movie_df[movie_df['Rating'] >= 8.6].head()\n",
    "# A 값 또는 B 값을 갖는 값을 가져오고 싶을 때\n",
    "movie_df[(movie_df['Director'] == 'Christopher Nolan') | \n",
    "        (movie_df['Director'] == 'Ridely Scott')]\n",
    "# sort_value() 함수는 값에 의해서 정렬된다.\n",
    "# by 인수는 무슨 값을 기준으로 정렬할 건지 알려주는 역할을 한다.\n",
    "movie_df.sort_values(by='Year', ascending=False).head()        "
   ]
  },
  {
   "cell_type": "code",
   "execution_count": 42,
   "metadata": {},
   "outputs": [
    {
     "data": {
      "text/plain": [
       "Rank           0\n",
       "Genre          0\n",
       "Description    0\n",
       "Director       0\n",
       "Actors         0\n",
       "Year           0\n",
       "Runtime        0\n",
       "Rating         0\n",
       "Votes          0\n",
       "Revenue        0\n",
       "Metascore      0\n",
       "dtype: int64"
      ]
     },
     "execution_count": 42,
     "metadata": {},
     "output_type": "execute_result"
    }
   ],
   "source": [
    "# 놓친 값들 다루기\n",
    "# 잃어버리거나 null 값 : 데이터 셋의 질을 나타낸다.\n",
    "# isnull() 함수를 사용해서 어디서 missing value들을 가지고 있는 지 알아낸다.\n",
    "movie_df.isnull().tail()\n",
    "# missing value의 요약을 보고 싶을 떄\n",
    "movie_df.isnull().sum()\n",
    "# null 값 없애기 dropna() 함수를 사용해서 null 값을 가진 행을 지운다.\n",
    "movie_df.dropna(inplace=True)\n",
    "movie_df.isnull().sum()\n",
    "# dropna()를 사용해서 null 값을 가진 열을 제거 할 수 도 있다.\n",
    "# dropna()에 0이나 index를 넣어주면 행이 제거된다.\n",
    "# dropna()에 1이나 columns를 넣어주면 열이 제거된다.\n",
    "# 데이터 셋에 missing value가 많이 없을 때 dropna()를 사용한다.\n",
    "# fillna()를 사용해서 null 값에 값을 추가해줘야 한다.\n",
    "movie_df['Revenue'].fillna(movie_df['Revenue'].mean(), inplace=True)\n",
    "movie_df.isnull().sum()"
   ]
  },
  {
   "cell_type": "code",
   "execution_count": 45,
   "metadata": {},
   "outputs": [
    {
     "data": {
      "text/html": [
       "<div>\n",
       "<style scoped>\n",
       "    .dataframe tbody tr th:only-of-type {\n",
       "        vertical-align: middle;\n",
       "    }\n",
       "\n",
       "    .dataframe tbody tr th {\n",
       "        vertical-align: top;\n",
       "    }\n",
       "\n",
       "    .dataframe thead th {\n",
       "        text-align: right;\n",
       "    }\n",
       "</style>\n",
       "<table border=\"1\" class=\"dataframe\">\n",
       "  <thead>\n",
       "    <tr style=\"text-align: right;\">\n",
       "      <th></th>\n",
       "      <th>year</th>\n",
       "      <th>model</th>\n",
       "      <th>price</th>\n",
       "      <th>mileage</th>\n",
       "      <th>color</th>\n",
       "      <th>transmission</th>\n",
       "    </tr>\n",
       "  </thead>\n",
       "  <tbody>\n",
       "    <tr>\n",
       "      <th>0</th>\n",
       "      <td>2011</td>\n",
       "      <td>SEL</td>\n",
       "      <td>21992</td>\n",
       "      <td>7413</td>\n",
       "      <td>Yellow</td>\n",
       "      <td>AUTO</td>\n",
       "    </tr>\n",
       "    <tr>\n",
       "      <th>1</th>\n",
       "      <td>2011</td>\n",
       "      <td>SEL</td>\n",
       "      <td>20995</td>\n",
       "      <td>10926</td>\n",
       "      <td>Gray</td>\n",
       "      <td>AUTO</td>\n",
       "    </tr>\n",
       "    <tr>\n",
       "      <th>2</th>\n",
       "      <td>2011</td>\n",
       "      <td>SEL</td>\n",
       "      <td>19995</td>\n",
       "      <td>7351</td>\n",
       "      <td>Silver</td>\n",
       "      <td>AUTO</td>\n",
       "    </tr>\n",
       "    <tr>\n",
       "      <th>3</th>\n",
       "      <td>2011</td>\n",
       "      <td>SEL</td>\n",
       "      <td>17809</td>\n",
       "      <td>11613</td>\n",
       "      <td>Gray</td>\n",
       "      <td>AUTO</td>\n",
       "    </tr>\n",
       "    <tr>\n",
       "      <th>4</th>\n",
       "      <td>2012</td>\n",
       "      <td>SE</td>\n",
       "      <td>17500</td>\n",
       "      <td>8367</td>\n",
       "      <td>White</td>\n",
       "      <td>AUTO</td>\n",
       "    </tr>\n",
       "  </tbody>\n",
       "</table>\n",
       "</div>"
      ],
      "text/plain": [
       "   year model  price  mileage   color transmission\n",
       "0  2011   SEL  21992     7413  Yellow         AUTO\n",
       "1  2011   SEL  20995    10926    Gray         AUTO\n",
       "2  2011   SEL  19995     7351  Silver         AUTO\n",
       "3  2011   SEL  17809    11613    Gray         AUTO\n",
       "4  2012    SE  17500     8367   White         AUTO"
      ]
     },
     "execution_count": 45,
     "metadata": {},
     "output_type": "execute_result"
    }
   ],
   "source": [
    "car_df = pd.read_csv('./csv/usedcars.csv')\n",
    "car_df.head()"
   ]
  },
  {
   "cell_type": "code",
   "execution_count": 46,
   "metadata": {},
   "outputs": [
    {
     "data": {
      "text/html": [
       "<div>\n",
       "<style scoped>\n",
       "    .dataframe tbody tr th:only-of-type {\n",
       "        vertical-align: middle;\n",
       "    }\n",
       "\n",
       "    .dataframe tbody tr th {\n",
       "        vertical-align: top;\n",
       "    }\n",
       "\n",
       "    .dataframe thead th {\n",
       "        text-align: right;\n",
       "    }\n",
       "</style>\n",
       "<table border=\"1\" class=\"dataframe\">\n",
       "  <thead>\n",
       "    <tr style=\"text-align: right;\">\n",
       "      <th></th>\n",
       "      <th>year</th>\n",
       "      <th>model</th>\n",
       "      <th>price</th>\n",
       "      <th>mileage</th>\n",
       "      <th>color</th>\n",
       "      <th>transmission</th>\n",
       "    </tr>\n",
       "  </thead>\n",
       "  <tbody>\n",
       "    <tr>\n",
       "      <th>145</th>\n",
       "      <td>2006</td>\n",
       "      <td>SES</td>\n",
       "      <td>6200</td>\n",
       "      <td>95000</td>\n",
       "      <td>Silver</td>\n",
       "      <td>AUTO</td>\n",
       "    </tr>\n",
       "    <tr>\n",
       "      <th>146</th>\n",
       "      <td>2002</td>\n",
       "      <td>SE</td>\n",
       "      <td>5995</td>\n",
       "      <td>87003</td>\n",
       "      <td>Red</td>\n",
       "      <td>AUTO</td>\n",
       "    </tr>\n",
       "    <tr>\n",
       "      <th>147</th>\n",
       "      <td>2000</td>\n",
       "      <td>SE</td>\n",
       "      <td>5980</td>\n",
       "      <td>96841</td>\n",
       "      <td>Red</td>\n",
       "      <td>AUTO</td>\n",
       "    </tr>\n",
       "    <tr>\n",
       "      <th>148</th>\n",
       "      <td>2001</td>\n",
       "      <td>SE</td>\n",
       "      <td>4899</td>\n",
       "      <td>151479</td>\n",
       "      <td>Yellow</td>\n",
       "      <td>AUTO</td>\n",
       "    </tr>\n",
       "    <tr>\n",
       "      <th>149</th>\n",
       "      <td>2000</td>\n",
       "      <td>SE</td>\n",
       "      <td>3800</td>\n",
       "      <td>109259</td>\n",
       "      <td>Red</td>\n",
       "      <td>AUTO</td>\n",
       "    </tr>\n",
       "  </tbody>\n",
       "</table>\n",
       "</div>"
      ],
      "text/plain": [
       "     year model  price  mileage   color transmission\n",
       "145  2006   SES   6200    95000  Silver         AUTO\n",
       "146  2002    SE   5995    87003     Red         AUTO\n",
       "147  2000    SE   5980    96841     Red         AUTO\n",
       "148  2001    SE   4899   151479  Yellow         AUTO\n",
       "149  2000    SE   3800   109259     Red         AUTO"
      ]
     },
     "execution_count": 46,
     "metadata": {},
     "output_type": "execute_result"
    }
   ],
   "source": [
    "car_df.tail()"
   ]
  },
  {
   "cell_type": "code",
   "execution_count": 48,
   "metadata": {},
   "outputs": [
    {
     "name": "stdout",
     "output_type": "stream",
     "text": [
      "<class 'pandas.core.frame.DataFrame'>\n",
      "RangeIndex: 150 entries, 0 to 149\n",
      "Data columns (total 6 columns):\n",
      " #   Column        Non-Null Count  Dtype \n",
      "---  ------        --------------  ----- \n",
      " 0   year          150 non-null    int64 \n",
      " 1   model         150 non-null    object\n",
      " 2   price         150 non-null    int64 \n",
      " 3   mileage       150 non-null    int64 \n",
      " 4   color         150 non-null    object\n",
      " 5   transmission  150 non-null    object\n",
      "dtypes: int64(3), object(3)\n",
      "memory usage: 7.2+ KB\n"
     ]
    }
   ],
   "source": [
    "car_df.info()"
   ]
  },
  {
   "cell_type": "code",
   "execution_count": 50,
   "metadata": {},
   "outputs": [
    {
     "data": {
      "text/html": [
       "<div>\n",
       "<style scoped>\n",
       "    .dataframe tbody tr th:only-of-type {\n",
       "        vertical-align: middle;\n",
       "    }\n",
       "\n",
       "    .dataframe tbody tr th {\n",
       "        vertical-align: top;\n",
       "    }\n",
       "\n",
       "    .dataframe thead th {\n",
       "        text-align: right;\n",
       "    }\n",
       "</style>\n",
       "<table border=\"1\" class=\"dataframe\">\n",
       "  <thead>\n",
       "    <tr style=\"text-align: right;\">\n",
       "      <th></th>\n",
       "      <th>year</th>\n",
       "      <th>price</th>\n",
       "      <th>mileage</th>\n",
       "    </tr>\n",
       "  </thead>\n",
       "  <tbody>\n",
       "    <tr>\n",
       "      <th>count</th>\n",
       "      <td>150.000000</td>\n",
       "      <td>150.000000</td>\n",
       "      <td>150.000000</td>\n",
       "    </tr>\n",
       "    <tr>\n",
       "      <th>mean</th>\n",
       "      <td>2008.726667</td>\n",
       "      <td>12961.933333</td>\n",
       "      <td>44260.646667</td>\n",
       "    </tr>\n",
       "    <tr>\n",
       "      <th>std</th>\n",
       "      <td>2.200966</td>\n",
       "      <td>3122.481735</td>\n",
       "      <td>26982.104322</td>\n",
       "    </tr>\n",
       "    <tr>\n",
       "      <th>min</th>\n",
       "      <td>2000.000000</td>\n",
       "      <td>3800.000000</td>\n",
       "      <td>4867.000000</td>\n",
       "    </tr>\n",
       "    <tr>\n",
       "      <th>25%</th>\n",
       "      <td>2008.000000</td>\n",
       "      <td>10995.000000</td>\n",
       "      <td>27200.250000</td>\n",
       "    </tr>\n",
       "    <tr>\n",
       "      <th>50%</th>\n",
       "      <td>2009.000000</td>\n",
       "      <td>13591.500000</td>\n",
       "      <td>36385.000000</td>\n",
       "    </tr>\n",
       "    <tr>\n",
       "      <th>75%</th>\n",
       "      <td>2010.000000</td>\n",
       "      <td>14904.500000</td>\n",
       "      <td>55124.500000</td>\n",
       "    </tr>\n",
       "    <tr>\n",
       "      <th>max</th>\n",
       "      <td>2012.000000</td>\n",
       "      <td>21992.000000</td>\n",
       "      <td>151479.000000</td>\n",
       "    </tr>\n",
       "  </tbody>\n",
       "</table>\n",
       "</div>"
      ],
      "text/plain": [
       "              year         price        mileage\n",
       "count   150.000000    150.000000     150.000000\n",
       "mean   2008.726667  12961.933333   44260.646667\n",
       "std       2.200966   3122.481735   26982.104322\n",
       "min    2000.000000   3800.000000    4867.000000\n",
       "25%    2008.000000  10995.000000   27200.250000\n",
       "50%    2009.000000  13591.500000   36385.000000\n",
       "75%    2010.000000  14904.500000   55124.500000\n",
       "max    2012.000000  21992.000000  151479.000000"
      ]
     },
     "execution_count": 50,
     "metadata": {},
     "output_type": "execute_result"
    }
   ],
   "source": [
    "car_df.describe()"
   ]
  },
  {
   "cell_type": "code",
   "execution_count": 55,
   "metadata": {},
   "outputs": [
    {
     "data": {
      "text/plain": [
       "Index(['year', 'modal', 'price', 'mileage', 'color', 'transmission'], dtype='object')"
      ]
     },
     "execution_count": 55,
     "metadata": {},
     "output_type": "execute_result"
    }
   ],
   "source": [
    "car_df.columns\n",
    "car_df.rename(columns={'model':'modal'}, inplace=True)\n",
    "car_df.columns"
   ]
  },
  {
   "cell_type": "code",
   "execution_count": 57,
   "metadata": {},
   "outputs": [
    {
     "data": {
      "text/plain": [
       "year            0\n",
       "modal           0\n",
       "price           0\n",
       "mileage         0\n",
       "color           0\n",
       "transmission    0\n",
       "dtype: int64"
      ]
     },
     "execution_count": 57,
     "metadata": {},
     "output_type": "execute_result"
    }
   ],
   "source": [
    "car_df.isnull().sum()"
   ]
  }
 ],
 "metadata": {
  "kernelspec": {
   "display_name": "Python 3.10.7 64-bit",
   "language": "python",
   "name": "python3"
  },
  "language_info": {
   "codemirror_mode": {
    "name": "ipython",
    "version": 3
   },
   "file_extension": ".py",
   "mimetype": "text/x-python",
   "name": "python",
   "nbconvert_exporter": "python",
   "pygments_lexer": "ipython3",
   "version": "3.10.7"
  },
  "orig_nbformat": 4,
  "vscode": {
   "interpreter": {
    "hash": "e4434393e5ce7c6be21b057763801f3aacbc5b1ae01ea26fd365fd93e92b0c53"
   }
  }
 },
 "nbformat": 4,
 "nbformat_minor": 2
}
