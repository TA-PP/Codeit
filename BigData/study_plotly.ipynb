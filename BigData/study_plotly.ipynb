{
 "cells": [
  {
   "cell_type": "markdown",
   "metadata": {},
   "source": [
    "데이터 시각화 - 정보의 시각적 요약을 통해 패턴과 트렌드를 쉽게 식별할 수 있으므로 데이터 시각화가 필요하다."
   ]
  },
  {
   "cell_type": "markdown",
   "metadata": {},
   "source": [
    "\n",
    "Plotly - 데이터 분석 및 시각화 도구 개발에 참여하는 Motreal 기반 회사이다.\n",
    "       - plotly 파이썬 라이브러리는 40개 이상의 독특한 차트 유형을 지원하는 대화형 오픈 소스 플로팅 라이브러리이다.\n",
    "    . 대화형 그래프를 생성한다.\n",
    "    . 그래프는 JSON (JavaScript Object Notation) 형식으로 저장된다.\n",
    "        - 다른 프로그래밍 언어의 스크립트를 사용하여 읽을 수 있다.\n",
    "    . 그래프는 다양한 레스터 및 벡터 이미지 형식으로 내보낼 수 있다.\n",
    "\n",
    "Plotly를 배우는 이유\n",
    "    . 최근 AI와 Machine Learning에 활용되고 있다.\n",
    "    . plotly는 여러 대기업에서 활용되고 있다."
   ]
  },
  {
   "cell_type": "code",
   "execution_count": 33,
   "metadata": {},
   "outputs": [],
   "source": [
    "import plotly.graph_objects as go\n",
    "import numpy as np\n",
    "# subplot을 그리고 싶으면 추가해줘야 한다.\n",
    "from plotly.subplots import make_subplots"
   ]
  },
  {
   "cell_type": "code",
   "execution_count": 3,
   "metadata": {},
   "outputs": [
    {
     "data": {
      "application/vnd.plotly.v1+json": {
       "config": {
        "plotlyServerURL": "https://plot.ly"
       },
       "data": [
        {
         "type": "bar",
         "y": [
          2,
          3,
          1
         ]
        }
       ],
       "layout": {
        "template": {
         "data": {
          "bar": [
           {
            "error_x": {
             "color": "#2a3f5f"
            },
            "error_y": {
             "color": "#2a3f5f"
            },
            "marker": {
             "line": {
              "color": "#E5ECF6",
              "width": 0.5
             },
             "pattern": {
              "fillmode": "overlay",
              "size": 10,
              "solidity": 0.2
             }
            },
            "type": "bar"
           }
          ],
          "barpolar": [
           {
            "marker": {
             "line": {
              "color": "#E5ECF6",
              "width": 0.5
             },
             "pattern": {
              "fillmode": "overlay",
              "size": 10,
              "solidity": 0.2
             }
            },
            "type": "barpolar"
           }
          ],
          "carpet": [
           {
            "aaxis": {
             "endlinecolor": "#2a3f5f",
             "gridcolor": "white",
             "linecolor": "white",
             "minorgridcolor": "white",
             "startlinecolor": "#2a3f5f"
            },
            "baxis": {
             "endlinecolor": "#2a3f5f",
             "gridcolor": "white",
             "linecolor": "white",
             "minorgridcolor": "white",
             "startlinecolor": "#2a3f5f"
            },
            "type": "carpet"
           }
          ],
          "choropleth": [
           {
            "colorbar": {
             "outlinewidth": 0,
             "ticks": ""
            },
            "type": "choropleth"
           }
          ],
          "contour": [
           {
            "colorbar": {
             "outlinewidth": 0,
             "ticks": ""
            },
            "colorscale": [
             [
              0,
              "#0d0887"
             ],
             [
              0.1111111111111111,
              "#46039f"
             ],
             [
              0.2222222222222222,
              "#7201a8"
             ],
             [
              0.3333333333333333,
              "#9c179e"
             ],
             [
              0.4444444444444444,
              "#bd3786"
             ],
             [
              0.5555555555555556,
              "#d8576b"
             ],
             [
              0.6666666666666666,
              "#ed7953"
             ],
             [
              0.7777777777777778,
              "#fb9f3a"
             ],
             [
              0.8888888888888888,
              "#fdca26"
             ],
             [
              1,
              "#f0f921"
             ]
            ],
            "type": "contour"
           }
          ],
          "contourcarpet": [
           {
            "colorbar": {
             "outlinewidth": 0,
             "ticks": ""
            },
            "type": "contourcarpet"
           }
          ],
          "heatmap": [
           {
            "colorbar": {
             "outlinewidth": 0,
             "ticks": ""
            },
            "colorscale": [
             [
              0,
              "#0d0887"
             ],
             [
              0.1111111111111111,
              "#46039f"
             ],
             [
              0.2222222222222222,
              "#7201a8"
             ],
             [
              0.3333333333333333,
              "#9c179e"
             ],
             [
              0.4444444444444444,
              "#bd3786"
             ],
             [
              0.5555555555555556,
              "#d8576b"
             ],
             [
              0.6666666666666666,
              "#ed7953"
             ],
             [
              0.7777777777777778,
              "#fb9f3a"
             ],
             [
              0.8888888888888888,
              "#fdca26"
             ],
             [
              1,
              "#f0f921"
             ]
            ],
            "type": "heatmap"
           }
          ],
          "heatmapgl": [
           {
            "colorbar": {
             "outlinewidth": 0,
             "ticks": ""
            },
            "colorscale": [
             [
              0,
              "#0d0887"
             ],
             [
              0.1111111111111111,
              "#46039f"
             ],
             [
              0.2222222222222222,
              "#7201a8"
             ],
             [
              0.3333333333333333,
              "#9c179e"
             ],
             [
              0.4444444444444444,
              "#bd3786"
             ],
             [
              0.5555555555555556,
              "#d8576b"
             ],
             [
              0.6666666666666666,
              "#ed7953"
             ],
             [
              0.7777777777777778,
              "#fb9f3a"
             ],
             [
              0.8888888888888888,
              "#fdca26"
             ],
             [
              1,
              "#f0f921"
             ]
            ],
            "type": "heatmapgl"
           }
          ],
          "histogram": [
           {
            "marker": {
             "pattern": {
              "fillmode": "overlay",
              "size": 10,
              "solidity": 0.2
             }
            },
            "type": "histogram"
           }
          ],
          "histogram2d": [
           {
            "colorbar": {
             "outlinewidth": 0,
             "ticks": ""
            },
            "colorscale": [
             [
              0,
              "#0d0887"
             ],
             [
              0.1111111111111111,
              "#46039f"
             ],
             [
              0.2222222222222222,
              "#7201a8"
             ],
             [
              0.3333333333333333,
              "#9c179e"
             ],
             [
              0.4444444444444444,
              "#bd3786"
             ],
             [
              0.5555555555555556,
              "#d8576b"
             ],
             [
              0.6666666666666666,
              "#ed7953"
             ],
             [
              0.7777777777777778,
              "#fb9f3a"
             ],
             [
              0.8888888888888888,
              "#fdca26"
             ],
             [
              1,
              "#f0f921"
             ]
            ],
            "type": "histogram2d"
           }
          ],
          "histogram2dcontour": [
           {
            "colorbar": {
             "outlinewidth": 0,
             "ticks": ""
            },
            "colorscale": [
             [
              0,
              "#0d0887"
             ],
             [
              0.1111111111111111,
              "#46039f"
             ],
             [
              0.2222222222222222,
              "#7201a8"
             ],
             [
              0.3333333333333333,
              "#9c179e"
             ],
             [
              0.4444444444444444,
              "#bd3786"
             ],
             [
              0.5555555555555556,
              "#d8576b"
             ],
             [
              0.6666666666666666,
              "#ed7953"
             ],
             [
              0.7777777777777778,
              "#fb9f3a"
             ],
             [
              0.8888888888888888,
              "#fdca26"
             ],
             [
              1,
              "#f0f921"
             ]
            ],
            "type": "histogram2dcontour"
           }
          ],
          "mesh3d": [
           {
            "colorbar": {
             "outlinewidth": 0,
             "ticks": ""
            },
            "type": "mesh3d"
           }
          ],
          "parcoords": [
           {
            "line": {
             "colorbar": {
              "outlinewidth": 0,
              "ticks": ""
             }
            },
            "type": "parcoords"
           }
          ],
          "pie": [
           {
            "automargin": true,
            "type": "pie"
           }
          ],
          "scatter": [
           {
            "fillpattern": {
             "fillmode": "overlay",
             "size": 10,
             "solidity": 0.2
            },
            "type": "scatter"
           }
          ],
          "scatter3d": [
           {
            "line": {
             "colorbar": {
              "outlinewidth": 0,
              "ticks": ""
             }
            },
            "marker": {
             "colorbar": {
              "outlinewidth": 0,
              "ticks": ""
             }
            },
            "type": "scatter3d"
           }
          ],
          "scattercarpet": [
           {
            "marker": {
             "colorbar": {
              "outlinewidth": 0,
              "ticks": ""
             }
            },
            "type": "scattercarpet"
           }
          ],
          "scattergeo": [
           {
            "marker": {
             "colorbar": {
              "outlinewidth": 0,
              "ticks": ""
             }
            },
            "type": "scattergeo"
           }
          ],
          "scattergl": [
           {
            "marker": {
             "colorbar": {
              "outlinewidth": 0,
              "ticks": ""
             }
            },
            "type": "scattergl"
           }
          ],
          "scattermapbox": [
           {
            "marker": {
             "colorbar": {
              "outlinewidth": 0,
              "ticks": ""
             }
            },
            "type": "scattermapbox"
           }
          ],
          "scatterpolar": [
           {
            "marker": {
             "colorbar": {
              "outlinewidth": 0,
              "ticks": ""
             }
            },
            "type": "scatterpolar"
           }
          ],
          "scatterpolargl": [
           {
            "marker": {
             "colorbar": {
              "outlinewidth": 0,
              "ticks": ""
             }
            },
            "type": "scatterpolargl"
           }
          ],
          "scatterternary": [
           {
            "marker": {
             "colorbar": {
              "outlinewidth": 0,
              "ticks": ""
             }
            },
            "type": "scatterternary"
           }
          ],
          "surface": [
           {
            "colorbar": {
             "outlinewidth": 0,
             "ticks": ""
            },
            "colorscale": [
             [
              0,
              "#0d0887"
             ],
             [
              0.1111111111111111,
              "#46039f"
             ],
             [
              0.2222222222222222,
              "#7201a8"
             ],
             [
              0.3333333333333333,
              "#9c179e"
             ],
             [
              0.4444444444444444,
              "#bd3786"
             ],
             [
              0.5555555555555556,
              "#d8576b"
             ],
             [
              0.6666666666666666,
              "#ed7953"
             ],
             [
              0.7777777777777778,
              "#fb9f3a"
             ],
             [
              0.8888888888888888,
              "#fdca26"
             ],
             [
              1,
              "#f0f921"
             ]
            ],
            "type": "surface"
           }
          ],
          "table": [
           {
            "cells": {
             "fill": {
              "color": "#EBF0F8"
             },
             "line": {
              "color": "white"
             }
            },
            "header": {
             "fill": {
              "color": "#C8D4E3"
             },
             "line": {
              "color": "white"
             }
            },
            "type": "table"
           }
          ]
         },
         "layout": {
          "annotationdefaults": {
           "arrowcolor": "#2a3f5f",
           "arrowhead": 0,
           "arrowwidth": 1
          },
          "autotypenumbers": "strict",
          "coloraxis": {
           "colorbar": {
            "outlinewidth": 0,
            "ticks": ""
           }
          },
          "colorscale": {
           "diverging": [
            [
             0,
             "#8e0152"
            ],
            [
             0.1,
             "#c51b7d"
            ],
            [
             0.2,
             "#de77ae"
            ],
            [
             0.3,
             "#f1b6da"
            ],
            [
             0.4,
             "#fde0ef"
            ],
            [
             0.5,
             "#f7f7f7"
            ],
            [
             0.6,
             "#e6f5d0"
            ],
            [
             0.7,
             "#b8e186"
            ],
            [
             0.8,
             "#7fbc41"
            ],
            [
             0.9,
             "#4d9221"
            ],
            [
             1,
             "#276419"
            ]
           ],
           "sequential": [
            [
             0,
             "#0d0887"
            ],
            [
             0.1111111111111111,
             "#46039f"
            ],
            [
             0.2222222222222222,
             "#7201a8"
            ],
            [
             0.3333333333333333,
             "#9c179e"
            ],
            [
             0.4444444444444444,
             "#bd3786"
            ],
            [
             0.5555555555555556,
             "#d8576b"
            ],
            [
             0.6666666666666666,
             "#ed7953"
            ],
            [
             0.7777777777777778,
             "#fb9f3a"
            ],
            [
             0.8888888888888888,
             "#fdca26"
            ],
            [
             1,
             "#f0f921"
            ]
           ],
           "sequentialminus": [
            [
             0,
             "#0d0887"
            ],
            [
             0.1111111111111111,
             "#46039f"
            ],
            [
             0.2222222222222222,
             "#7201a8"
            ],
            [
             0.3333333333333333,
             "#9c179e"
            ],
            [
             0.4444444444444444,
             "#bd3786"
            ],
            [
             0.5555555555555556,
             "#d8576b"
            ],
            [
             0.6666666666666666,
             "#ed7953"
            ],
            [
             0.7777777777777778,
             "#fb9f3a"
            ],
            [
             0.8888888888888888,
             "#fdca26"
            ],
            [
             1,
             "#f0f921"
            ]
           ]
          },
          "colorway": [
           "#636efa",
           "#EF553B",
           "#00cc96",
           "#ab63fa",
           "#FFA15A",
           "#19d3f3",
           "#FF6692",
           "#B6E880",
           "#FF97FF",
           "#FECB52"
          ],
          "font": {
           "color": "#2a3f5f"
          },
          "geo": {
           "bgcolor": "white",
           "lakecolor": "white",
           "landcolor": "#E5ECF6",
           "showlakes": true,
           "showland": true,
           "subunitcolor": "white"
          },
          "hoverlabel": {
           "align": "left"
          },
          "hovermode": "closest",
          "mapbox": {
           "style": "light"
          },
          "paper_bgcolor": "white",
          "plot_bgcolor": "#E5ECF6",
          "polar": {
           "angularaxis": {
            "gridcolor": "white",
            "linecolor": "white",
            "ticks": ""
           },
           "bgcolor": "#E5ECF6",
           "radialaxis": {
            "gridcolor": "white",
            "linecolor": "white",
            "ticks": ""
           }
          },
          "scene": {
           "xaxis": {
            "backgroundcolor": "#E5ECF6",
            "gridcolor": "white",
            "gridwidth": 2,
            "linecolor": "white",
            "showbackground": true,
            "ticks": "",
            "zerolinecolor": "white"
           },
           "yaxis": {
            "backgroundcolor": "#E5ECF6",
            "gridcolor": "white",
            "gridwidth": 2,
            "linecolor": "white",
            "showbackground": true,
            "ticks": "",
            "zerolinecolor": "white"
           },
           "zaxis": {
            "backgroundcolor": "#E5ECF6",
            "gridcolor": "white",
            "gridwidth": 2,
            "linecolor": "white",
            "showbackground": true,
            "ticks": "",
            "zerolinecolor": "white"
           }
          },
          "shapedefaults": {
           "line": {
            "color": "#2a3f5f"
           }
          },
          "ternary": {
           "aaxis": {
            "gridcolor": "white",
            "linecolor": "white",
            "ticks": ""
           },
           "baxis": {
            "gridcolor": "white",
            "linecolor": "white",
            "ticks": ""
           },
           "bgcolor": "#E5ECF6",
           "caxis": {
            "gridcolor": "white",
            "linecolor": "white",
            "ticks": ""
           }
          },
          "title": {
           "x": 0.05
          },
          "xaxis": {
           "automargin": true,
           "gridcolor": "white",
           "linecolor": "white",
           "ticks": "",
           "title": {
            "standoff": 15
           },
           "zerolinecolor": "white",
           "zerolinewidth": 2
          },
          "yaxis": {
           "automargin": true,
           "gridcolor": "white",
           "linecolor": "white",
           "ticks": "",
           "title": {
            "standoff": 15
           },
           "zerolinecolor": "white",
           "zerolinewidth": 2
          }
         }
        }
       }
      }
     },
     "metadata": {},
     "output_type": "display_data"
    }
   ],
   "source": [
    "# y값을 2,3,1을 가지는 막대형 그래프를 그려라\n",
    "fig = go.Figure(data=go.Bar(y=[2,3,1]))\n",
    "fig.show()"
   ]
  },
  {
   "cell_type": "code",
   "execution_count": 6,
   "metadata": {},
   "outputs": [
    {
     "data": {
      "application/vnd.plotly.v1+json": {
       "config": {
        "plotlyServerURL": "https://plot.ly"
       },
       "data": [
        {
         "type": "bar",
         "x": [
          "C",
          "C++",
          "Java",
          "Pyhton",
          "PHP"
         ],
         "y": [
          23,
          17,
          35,
          29,
          12
         ]
        }
       ],
       "layout": {
        "template": {
         "data": {
          "bar": [
           {
            "error_x": {
             "color": "#2a3f5f"
            },
            "error_y": {
             "color": "#2a3f5f"
            },
            "marker": {
             "line": {
              "color": "#E5ECF6",
              "width": 0.5
             },
             "pattern": {
              "fillmode": "overlay",
              "size": 10,
              "solidity": 0.2
             }
            },
            "type": "bar"
           }
          ],
          "barpolar": [
           {
            "marker": {
             "line": {
              "color": "#E5ECF6",
              "width": 0.5
             },
             "pattern": {
              "fillmode": "overlay",
              "size": 10,
              "solidity": 0.2
             }
            },
            "type": "barpolar"
           }
          ],
          "carpet": [
           {
            "aaxis": {
             "endlinecolor": "#2a3f5f",
             "gridcolor": "white",
             "linecolor": "white",
             "minorgridcolor": "white",
             "startlinecolor": "#2a3f5f"
            },
            "baxis": {
             "endlinecolor": "#2a3f5f",
             "gridcolor": "white",
             "linecolor": "white",
             "minorgridcolor": "white",
             "startlinecolor": "#2a3f5f"
            },
            "type": "carpet"
           }
          ],
          "choropleth": [
           {
            "colorbar": {
             "outlinewidth": 0,
             "ticks": ""
            },
            "type": "choropleth"
           }
          ],
          "contour": [
           {
            "colorbar": {
             "outlinewidth": 0,
             "ticks": ""
            },
            "colorscale": [
             [
              0,
              "#0d0887"
             ],
             [
              0.1111111111111111,
              "#46039f"
             ],
             [
              0.2222222222222222,
              "#7201a8"
             ],
             [
              0.3333333333333333,
              "#9c179e"
             ],
             [
              0.4444444444444444,
              "#bd3786"
             ],
             [
              0.5555555555555556,
              "#d8576b"
             ],
             [
              0.6666666666666666,
              "#ed7953"
             ],
             [
              0.7777777777777778,
              "#fb9f3a"
             ],
             [
              0.8888888888888888,
              "#fdca26"
             ],
             [
              1,
              "#f0f921"
             ]
            ],
            "type": "contour"
           }
          ],
          "contourcarpet": [
           {
            "colorbar": {
             "outlinewidth": 0,
             "ticks": ""
            },
            "type": "contourcarpet"
           }
          ],
          "heatmap": [
           {
            "colorbar": {
             "outlinewidth": 0,
             "ticks": ""
            },
            "colorscale": [
             [
              0,
              "#0d0887"
             ],
             [
              0.1111111111111111,
              "#46039f"
             ],
             [
              0.2222222222222222,
              "#7201a8"
             ],
             [
              0.3333333333333333,
              "#9c179e"
             ],
             [
              0.4444444444444444,
              "#bd3786"
             ],
             [
              0.5555555555555556,
              "#d8576b"
             ],
             [
              0.6666666666666666,
              "#ed7953"
             ],
             [
              0.7777777777777778,
              "#fb9f3a"
             ],
             [
              0.8888888888888888,
              "#fdca26"
             ],
             [
              1,
              "#f0f921"
             ]
            ],
            "type": "heatmap"
           }
          ],
          "heatmapgl": [
           {
            "colorbar": {
             "outlinewidth": 0,
             "ticks": ""
            },
            "colorscale": [
             [
              0,
              "#0d0887"
             ],
             [
              0.1111111111111111,
              "#46039f"
             ],
             [
              0.2222222222222222,
              "#7201a8"
             ],
             [
              0.3333333333333333,
              "#9c179e"
             ],
             [
              0.4444444444444444,
              "#bd3786"
             ],
             [
              0.5555555555555556,
              "#d8576b"
             ],
             [
              0.6666666666666666,
              "#ed7953"
             ],
             [
              0.7777777777777778,
              "#fb9f3a"
             ],
             [
              0.8888888888888888,
              "#fdca26"
             ],
             [
              1,
              "#f0f921"
             ]
            ],
            "type": "heatmapgl"
           }
          ],
          "histogram": [
           {
            "marker": {
             "pattern": {
              "fillmode": "overlay",
              "size": 10,
              "solidity": 0.2
             }
            },
            "type": "histogram"
           }
          ],
          "histogram2d": [
           {
            "colorbar": {
             "outlinewidth": 0,
             "ticks": ""
            },
            "colorscale": [
             [
              0,
              "#0d0887"
             ],
             [
              0.1111111111111111,
              "#46039f"
             ],
             [
              0.2222222222222222,
              "#7201a8"
             ],
             [
              0.3333333333333333,
              "#9c179e"
             ],
             [
              0.4444444444444444,
              "#bd3786"
             ],
             [
              0.5555555555555556,
              "#d8576b"
             ],
             [
              0.6666666666666666,
              "#ed7953"
             ],
             [
              0.7777777777777778,
              "#fb9f3a"
             ],
             [
              0.8888888888888888,
              "#fdca26"
             ],
             [
              1,
              "#f0f921"
             ]
            ],
            "type": "histogram2d"
           }
          ],
          "histogram2dcontour": [
           {
            "colorbar": {
             "outlinewidth": 0,
             "ticks": ""
            },
            "colorscale": [
             [
              0,
              "#0d0887"
             ],
             [
              0.1111111111111111,
              "#46039f"
             ],
             [
              0.2222222222222222,
              "#7201a8"
             ],
             [
              0.3333333333333333,
              "#9c179e"
             ],
             [
              0.4444444444444444,
              "#bd3786"
             ],
             [
              0.5555555555555556,
              "#d8576b"
             ],
             [
              0.6666666666666666,
              "#ed7953"
             ],
             [
              0.7777777777777778,
              "#fb9f3a"
             ],
             [
              0.8888888888888888,
              "#fdca26"
             ],
             [
              1,
              "#f0f921"
             ]
            ],
            "type": "histogram2dcontour"
           }
          ],
          "mesh3d": [
           {
            "colorbar": {
             "outlinewidth": 0,
             "ticks": ""
            },
            "type": "mesh3d"
           }
          ],
          "parcoords": [
           {
            "line": {
             "colorbar": {
              "outlinewidth": 0,
              "ticks": ""
             }
            },
            "type": "parcoords"
           }
          ],
          "pie": [
           {
            "automargin": true,
            "type": "pie"
           }
          ],
          "scatter": [
           {
            "fillpattern": {
             "fillmode": "overlay",
             "size": 10,
             "solidity": 0.2
            },
            "type": "scatter"
           }
          ],
          "scatter3d": [
           {
            "line": {
             "colorbar": {
              "outlinewidth": 0,
              "ticks": ""
             }
            },
            "marker": {
             "colorbar": {
              "outlinewidth": 0,
              "ticks": ""
             }
            },
            "type": "scatter3d"
           }
          ],
          "scattercarpet": [
           {
            "marker": {
             "colorbar": {
              "outlinewidth": 0,
              "ticks": ""
             }
            },
            "type": "scattercarpet"
           }
          ],
          "scattergeo": [
           {
            "marker": {
             "colorbar": {
              "outlinewidth": 0,
              "ticks": ""
             }
            },
            "type": "scattergeo"
           }
          ],
          "scattergl": [
           {
            "marker": {
             "colorbar": {
              "outlinewidth": 0,
              "ticks": ""
             }
            },
            "type": "scattergl"
           }
          ],
          "scattermapbox": [
           {
            "marker": {
             "colorbar": {
              "outlinewidth": 0,
              "ticks": ""
             }
            },
            "type": "scattermapbox"
           }
          ],
          "scatterpolar": [
           {
            "marker": {
             "colorbar": {
              "outlinewidth": 0,
              "ticks": ""
             }
            },
            "type": "scatterpolar"
           }
          ],
          "scatterpolargl": [
           {
            "marker": {
             "colorbar": {
              "outlinewidth": 0,
              "ticks": ""
             }
            },
            "type": "scatterpolargl"
           }
          ],
          "scatterternary": [
           {
            "marker": {
             "colorbar": {
              "outlinewidth": 0,
              "ticks": ""
             }
            },
            "type": "scatterternary"
           }
          ],
          "surface": [
           {
            "colorbar": {
             "outlinewidth": 0,
             "ticks": ""
            },
            "colorscale": [
             [
              0,
              "#0d0887"
             ],
             [
              0.1111111111111111,
              "#46039f"
             ],
             [
              0.2222222222222222,
              "#7201a8"
             ],
             [
              0.3333333333333333,
              "#9c179e"
             ],
             [
              0.4444444444444444,
              "#bd3786"
             ],
             [
              0.5555555555555556,
              "#d8576b"
             ],
             [
              0.6666666666666666,
              "#ed7953"
             ],
             [
              0.7777777777777778,
              "#fb9f3a"
             ],
             [
              0.8888888888888888,
              "#fdca26"
             ],
             [
              1,
              "#f0f921"
             ]
            ],
            "type": "surface"
           }
          ],
          "table": [
           {
            "cells": {
             "fill": {
              "color": "#EBF0F8"
             },
             "line": {
              "color": "white"
             }
            },
            "header": {
             "fill": {
              "color": "#C8D4E3"
             },
             "line": {
              "color": "white"
             }
            },
            "type": "table"
           }
          ]
         },
         "layout": {
          "annotationdefaults": {
           "arrowcolor": "#2a3f5f",
           "arrowhead": 0,
           "arrowwidth": 1
          },
          "autotypenumbers": "strict",
          "coloraxis": {
           "colorbar": {
            "outlinewidth": 0,
            "ticks": ""
           }
          },
          "colorscale": {
           "diverging": [
            [
             0,
             "#8e0152"
            ],
            [
             0.1,
             "#c51b7d"
            ],
            [
             0.2,
             "#de77ae"
            ],
            [
             0.3,
             "#f1b6da"
            ],
            [
             0.4,
             "#fde0ef"
            ],
            [
             0.5,
             "#f7f7f7"
            ],
            [
             0.6,
             "#e6f5d0"
            ],
            [
             0.7,
             "#b8e186"
            ],
            [
             0.8,
             "#7fbc41"
            ],
            [
             0.9,
             "#4d9221"
            ],
            [
             1,
             "#276419"
            ]
           ],
           "sequential": [
            [
             0,
             "#0d0887"
            ],
            [
             0.1111111111111111,
             "#46039f"
            ],
            [
             0.2222222222222222,
             "#7201a8"
            ],
            [
             0.3333333333333333,
             "#9c179e"
            ],
            [
             0.4444444444444444,
             "#bd3786"
            ],
            [
             0.5555555555555556,
             "#d8576b"
            ],
            [
             0.6666666666666666,
             "#ed7953"
            ],
            [
             0.7777777777777778,
             "#fb9f3a"
            ],
            [
             0.8888888888888888,
             "#fdca26"
            ],
            [
             1,
             "#f0f921"
            ]
           ],
           "sequentialminus": [
            [
             0,
             "#0d0887"
            ],
            [
             0.1111111111111111,
             "#46039f"
            ],
            [
             0.2222222222222222,
             "#7201a8"
            ],
            [
             0.3333333333333333,
             "#9c179e"
            ],
            [
             0.4444444444444444,
             "#bd3786"
            ],
            [
             0.5555555555555556,
             "#d8576b"
            ],
            [
             0.6666666666666666,
             "#ed7953"
            ],
            [
             0.7777777777777778,
             "#fb9f3a"
            ],
            [
             0.8888888888888888,
             "#fdca26"
            ],
            [
             1,
             "#f0f921"
            ]
           ]
          },
          "colorway": [
           "#636efa",
           "#EF553B",
           "#00cc96",
           "#ab63fa",
           "#FFA15A",
           "#19d3f3",
           "#FF6692",
           "#B6E880",
           "#FF97FF",
           "#FECB52"
          ],
          "font": {
           "color": "#2a3f5f"
          },
          "geo": {
           "bgcolor": "white",
           "lakecolor": "white",
           "landcolor": "#E5ECF6",
           "showlakes": true,
           "showland": true,
           "subunitcolor": "white"
          },
          "hoverlabel": {
           "align": "left"
          },
          "hovermode": "closest",
          "mapbox": {
           "style": "light"
          },
          "paper_bgcolor": "white",
          "plot_bgcolor": "#E5ECF6",
          "polar": {
           "angularaxis": {
            "gridcolor": "white",
            "linecolor": "white",
            "ticks": ""
           },
           "bgcolor": "#E5ECF6",
           "radialaxis": {
            "gridcolor": "white",
            "linecolor": "white",
            "ticks": ""
           }
          },
          "scene": {
           "xaxis": {
            "backgroundcolor": "#E5ECF6",
            "gridcolor": "white",
            "gridwidth": 2,
            "linecolor": "white",
            "showbackground": true,
            "ticks": "",
            "zerolinecolor": "white"
           },
           "yaxis": {
            "backgroundcolor": "#E5ECF6",
            "gridcolor": "white",
            "gridwidth": 2,
            "linecolor": "white",
            "showbackground": true,
            "ticks": "",
            "zerolinecolor": "white"
           },
           "zaxis": {
            "backgroundcolor": "#E5ECF6",
            "gridcolor": "white",
            "gridwidth": 2,
            "linecolor": "white",
            "showbackground": true,
            "ticks": "",
            "zerolinecolor": "white"
           }
          },
          "shapedefaults": {
           "line": {
            "color": "#2a3f5f"
           }
          },
          "ternary": {
           "aaxis": {
            "gridcolor": "white",
            "linecolor": "white",
            "ticks": ""
           },
           "baxis": {
            "gridcolor": "white",
            "linecolor": "white",
            "ticks": ""
           },
           "bgcolor": "#E5ECF6",
           "caxis": {
            "gridcolor": "white",
            "linecolor": "white",
            "ticks": ""
           }
          },
          "title": {
           "x": 0.05
          },
          "xaxis": {
           "automargin": true,
           "gridcolor": "white",
           "linecolor": "white",
           "ticks": "",
           "title": {
            "standoff": 15
           },
           "zerolinecolor": "white",
           "zerolinewidth": 2
          },
          "yaxis": {
           "automargin": true,
           "gridcolor": "white",
           "linecolor": "white",
           "ticks": "",
           "title": {
            "standoff": 15
           },
           "zerolinecolor": "white",
           "zerolinewidth": 2
          }
         }
        }
       }
      }
     },
     "metadata": {},
     "output_type": "display_data"
    }
   ],
   "source": [
    "langs = ['C','C++','Java','Pyhton','PHP']\n",
    "students = [23,17,35,29,12]\n",
    "\n",
    "data = [go.Bar(\n",
    "    x=langs,\n",
    "    y=students\n",
    ")]\n",
    "\n",
    "fig = go.Figure(data=data)\n",
    "fig.show()"
   ]
  },
  {
   "cell_type": "code",
   "execution_count": 11,
   "metadata": {},
   "outputs": [
    {
     "data": {
      "application/vnd.plotly.v1+json": {
       "config": {
        "plotlyServerURL": "https://plot.ly"
       },
       "data": [
        {
         "name": "FY",
         "type": "bar",
         "x": [
          "Cse",
          "Mech",
          "Eletronics"
         ],
         "y": [
          23,
          17,
          35
         ]
        },
        {
         "name": "SY",
         "type": "bar",
         "x": [
          "Cse",
          "Mech",
          "Eletronics"
         ],
         "y": [
          20,
          23,
          30
         ]
        },
        {
         "name": "TY",
         "type": "bar",
         "x": [
          "Cse",
          "Mech",
          "Eletronics"
         ],
         "y": [
          30,
          20,
          15
         ]
        }
       ],
       "layout": {
        "barmode": "group",
        "template": {
         "data": {
          "bar": [
           {
            "error_x": {
             "color": "#2a3f5f"
            },
            "error_y": {
             "color": "#2a3f5f"
            },
            "marker": {
             "line": {
              "color": "#E5ECF6",
              "width": 0.5
             },
             "pattern": {
              "fillmode": "overlay",
              "size": 10,
              "solidity": 0.2
             }
            },
            "type": "bar"
           }
          ],
          "barpolar": [
           {
            "marker": {
             "line": {
              "color": "#E5ECF6",
              "width": 0.5
             },
             "pattern": {
              "fillmode": "overlay",
              "size": 10,
              "solidity": 0.2
             }
            },
            "type": "barpolar"
           }
          ],
          "carpet": [
           {
            "aaxis": {
             "endlinecolor": "#2a3f5f",
             "gridcolor": "white",
             "linecolor": "white",
             "minorgridcolor": "white",
             "startlinecolor": "#2a3f5f"
            },
            "baxis": {
             "endlinecolor": "#2a3f5f",
             "gridcolor": "white",
             "linecolor": "white",
             "minorgridcolor": "white",
             "startlinecolor": "#2a3f5f"
            },
            "type": "carpet"
           }
          ],
          "choropleth": [
           {
            "colorbar": {
             "outlinewidth": 0,
             "ticks": ""
            },
            "type": "choropleth"
           }
          ],
          "contour": [
           {
            "colorbar": {
             "outlinewidth": 0,
             "ticks": ""
            },
            "colorscale": [
             [
              0,
              "#0d0887"
             ],
             [
              0.1111111111111111,
              "#46039f"
             ],
             [
              0.2222222222222222,
              "#7201a8"
             ],
             [
              0.3333333333333333,
              "#9c179e"
             ],
             [
              0.4444444444444444,
              "#bd3786"
             ],
             [
              0.5555555555555556,
              "#d8576b"
             ],
             [
              0.6666666666666666,
              "#ed7953"
             ],
             [
              0.7777777777777778,
              "#fb9f3a"
             ],
             [
              0.8888888888888888,
              "#fdca26"
             ],
             [
              1,
              "#f0f921"
             ]
            ],
            "type": "contour"
           }
          ],
          "contourcarpet": [
           {
            "colorbar": {
             "outlinewidth": 0,
             "ticks": ""
            },
            "type": "contourcarpet"
           }
          ],
          "heatmap": [
           {
            "colorbar": {
             "outlinewidth": 0,
             "ticks": ""
            },
            "colorscale": [
             [
              0,
              "#0d0887"
             ],
             [
              0.1111111111111111,
              "#46039f"
             ],
             [
              0.2222222222222222,
              "#7201a8"
             ],
             [
              0.3333333333333333,
              "#9c179e"
             ],
             [
              0.4444444444444444,
              "#bd3786"
             ],
             [
              0.5555555555555556,
              "#d8576b"
             ],
             [
              0.6666666666666666,
              "#ed7953"
             ],
             [
              0.7777777777777778,
              "#fb9f3a"
             ],
             [
              0.8888888888888888,
              "#fdca26"
             ],
             [
              1,
              "#f0f921"
             ]
            ],
            "type": "heatmap"
           }
          ],
          "heatmapgl": [
           {
            "colorbar": {
             "outlinewidth": 0,
             "ticks": ""
            },
            "colorscale": [
             [
              0,
              "#0d0887"
             ],
             [
              0.1111111111111111,
              "#46039f"
             ],
             [
              0.2222222222222222,
              "#7201a8"
             ],
             [
              0.3333333333333333,
              "#9c179e"
             ],
             [
              0.4444444444444444,
              "#bd3786"
             ],
             [
              0.5555555555555556,
              "#d8576b"
             ],
             [
              0.6666666666666666,
              "#ed7953"
             ],
             [
              0.7777777777777778,
              "#fb9f3a"
             ],
             [
              0.8888888888888888,
              "#fdca26"
             ],
             [
              1,
              "#f0f921"
             ]
            ],
            "type": "heatmapgl"
           }
          ],
          "histogram": [
           {
            "marker": {
             "pattern": {
              "fillmode": "overlay",
              "size": 10,
              "solidity": 0.2
             }
            },
            "type": "histogram"
           }
          ],
          "histogram2d": [
           {
            "colorbar": {
             "outlinewidth": 0,
             "ticks": ""
            },
            "colorscale": [
             [
              0,
              "#0d0887"
             ],
             [
              0.1111111111111111,
              "#46039f"
             ],
             [
              0.2222222222222222,
              "#7201a8"
             ],
             [
              0.3333333333333333,
              "#9c179e"
             ],
             [
              0.4444444444444444,
              "#bd3786"
             ],
             [
              0.5555555555555556,
              "#d8576b"
             ],
             [
              0.6666666666666666,
              "#ed7953"
             ],
             [
              0.7777777777777778,
              "#fb9f3a"
             ],
             [
              0.8888888888888888,
              "#fdca26"
             ],
             [
              1,
              "#f0f921"
             ]
            ],
            "type": "histogram2d"
           }
          ],
          "histogram2dcontour": [
           {
            "colorbar": {
             "outlinewidth": 0,
             "ticks": ""
            },
            "colorscale": [
             [
              0,
              "#0d0887"
             ],
             [
              0.1111111111111111,
              "#46039f"
             ],
             [
              0.2222222222222222,
              "#7201a8"
             ],
             [
              0.3333333333333333,
              "#9c179e"
             ],
             [
              0.4444444444444444,
              "#bd3786"
             ],
             [
              0.5555555555555556,
              "#d8576b"
             ],
             [
              0.6666666666666666,
              "#ed7953"
             ],
             [
              0.7777777777777778,
              "#fb9f3a"
             ],
             [
              0.8888888888888888,
              "#fdca26"
             ],
             [
              1,
              "#f0f921"
             ]
            ],
            "type": "histogram2dcontour"
           }
          ],
          "mesh3d": [
           {
            "colorbar": {
             "outlinewidth": 0,
             "ticks": ""
            },
            "type": "mesh3d"
           }
          ],
          "parcoords": [
           {
            "line": {
             "colorbar": {
              "outlinewidth": 0,
              "ticks": ""
             }
            },
            "type": "parcoords"
           }
          ],
          "pie": [
           {
            "automargin": true,
            "type": "pie"
           }
          ],
          "scatter": [
           {
            "fillpattern": {
             "fillmode": "overlay",
             "size": 10,
             "solidity": 0.2
            },
            "type": "scatter"
           }
          ],
          "scatter3d": [
           {
            "line": {
             "colorbar": {
              "outlinewidth": 0,
              "ticks": ""
             }
            },
            "marker": {
             "colorbar": {
              "outlinewidth": 0,
              "ticks": ""
             }
            },
            "type": "scatter3d"
           }
          ],
          "scattercarpet": [
           {
            "marker": {
             "colorbar": {
              "outlinewidth": 0,
              "ticks": ""
             }
            },
            "type": "scattercarpet"
           }
          ],
          "scattergeo": [
           {
            "marker": {
             "colorbar": {
              "outlinewidth": 0,
              "ticks": ""
             }
            },
            "type": "scattergeo"
           }
          ],
          "scattergl": [
           {
            "marker": {
             "colorbar": {
              "outlinewidth": 0,
              "ticks": ""
             }
            },
            "type": "scattergl"
           }
          ],
          "scattermapbox": [
           {
            "marker": {
             "colorbar": {
              "outlinewidth": 0,
              "ticks": ""
             }
            },
            "type": "scattermapbox"
           }
          ],
          "scatterpolar": [
           {
            "marker": {
             "colorbar": {
              "outlinewidth": 0,
              "ticks": ""
             }
            },
            "type": "scatterpolar"
           }
          ],
          "scatterpolargl": [
           {
            "marker": {
             "colorbar": {
              "outlinewidth": 0,
              "ticks": ""
             }
            },
            "type": "scatterpolargl"
           }
          ],
          "scatterternary": [
           {
            "marker": {
             "colorbar": {
              "outlinewidth": 0,
              "ticks": ""
             }
            },
            "type": "scatterternary"
           }
          ],
          "surface": [
           {
            "colorbar": {
             "outlinewidth": 0,
             "ticks": ""
            },
            "colorscale": [
             [
              0,
              "#0d0887"
             ],
             [
              0.1111111111111111,
              "#46039f"
             ],
             [
              0.2222222222222222,
              "#7201a8"
             ],
             [
              0.3333333333333333,
              "#9c179e"
             ],
             [
              0.4444444444444444,
              "#bd3786"
             ],
             [
              0.5555555555555556,
              "#d8576b"
             ],
             [
              0.6666666666666666,
              "#ed7953"
             ],
             [
              0.7777777777777778,
              "#fb9f3a"
             ],
             [
              0.8888888888888888,
              "#fdca26"
             ],
             [
              1,
              "#f0f921"
             ]
            ],
            "type": "surface"
           }
          ],
          "table": [
           {
            "cells": {
             "fill": {
              "color": "#EBF0F8"
             },
             "line": {
              "color": "white"
             }
            },
            "header": {
             "fill": {
              "color": "#C8D4E3"
             },
             "line": {
              "color": "white"
             }
            },
            "type": "table"
           }
          ]
         },
         "layout": {
          "annotationdefaults": {
           "arrowcolor": "#2a3f5f",
           "arrowhead": 0,
           "arrowwidth": 1
          },
          "autotypenumbers": "strict",
          "coloraxis": {
           "colorbar": {
            "outlinewidth": 0,
            "ticks": ""
           }
          },
          "colorscale": {
           "diverging": [
            [
             0,
             "#8e0152"
            ],
            [
             0.1,
             "#c51b7d"
            ],
            [
             0.2,
             "#de77ae"
            ],
            [
             0.3,
             "#f1b6da"
            ],
            [
             0.4,
             "#fde0ef"
            ],
            [
             0.5,
             "#f7f7f7"
            ],
            [
             0.6,
             "#e6f5d0"
            ],
            [
             0.7,
             "#b8e186"
            ],
            [
             0.8,
             "#7fbc41"
            ],
            [
             0.9,
             "#4d9221"
            ],
            [
             1,
             "#276419"
            ]
           ],
           "sequential": [
            [
             0,
             "#0d0887"
            ],
            [
             0.1111111111111111,
             "#46039f"
            ],
            [
             0.2222222222222222,
             "#7201a8"
            ],
            [
             0.3333333333333333,
             "#9c179e"
            ],
            [
             0.4444444444444444,
             "#bd3786"
            ],
            [
             0.5555555555555556,
             "#d8576b"
            ],
            [
             0.6666666666666666,
             "#ed7953"
            ],
            [
             0.7777777777777778,
             "#fb9f3a"
            ],
            [
             0.8888888888888888,
             "#fdca26"
            ],
            [
             1,
             "#f0f921"
            ]
           ],
           "sequentialminus": [
            [
             0,
             "#0d0887"
            ],
            [
             0.1111111111111111,
             "#46039f"
            ],
            [
             0.2222222222222222,
             "#7201a8"
            ],
            [
             0.3333333333333333,
             "#9c179e"
            ],
            [
             0.4444444444444444,
             "#bd3786"
            ],
            [
             0.5555555555555556,
             "#d8576b"
            ],
            [
             0.6666666666666666,
             "#ed7953"
            ],
            [
             0.7777777777777778,
             "#fb9f3a"
            ],
            [
             0.8888888888888888,
             "#fdca26"
            ],
            [
             1,
             "#f0f921"
            ]
           ]
          },
          "colorway": [
           "#636efa",
           "#EF553B",
           "#00cc96",
           "#ab63fa",
           "#FFA15A",
           "#19d3f3",
           "#FF6692",
           "#B6E880",
           "#FF97FF",
           "#FECB52"
          ],
          "font": {
           "color": "#2a3f5f"
          },
          "geo": {
           "bgcolor": "white",
           "lakecolor": "white",
           "landcolor": "#E5ECF6",
           "showlakes": true,
           "showland": true,
           "subunitcolor": "white"
          },
          "hoverlabel": {
           "align": "left"
          },
          "hovermode": "closest",
          "mapbox": {
           "style": "light"
          },
          "paper_bgcolor": "white",
          "plot_bgcolor": "#E5ECF6",
          "polar": {
           "angularaxis": {
            "gridcolor": "white",
            "linecolor": "white",
            "ticks": ""
           },
           "bgcolor": "#E5ECF6",
           "radialaxis": {
            "gridcolor": "white",
            "linecolor": "white",
            "ticks": ""
           }
          },
          "scene": {
           "xaxis": {
            "backgroundcolor": "#E5ECF6",
            "gridcolor": "white",
            "gridwidth": 2,
            "linecolor": "white",
            "showbackground": true,
            "ticks": "",
            "zerolinecolor": "white"
           },
           "yaxis": {
            "backgroundcolor": "#E5ECF6",
            "gridcolor": "white",
            "gridwidth": 2,
            "linecolor": "white",
            "showbackground": true,
            "ticks": "",
            "zerolinecolor": "white"
           },
           "zaxis": {
            "backgroundcolor": "#E5ECF6",
            "gridcolor": "white",
            "gridwidth": 2,
            "linecolor": "white",
            "showbackground": true,
            "ticks": "",
            "zerolinecolor": "white"
           }
          },
          "shapedefaults": {
           "line": {
            "color": "#2a3f5f"
           }
          },
          "ternary": {
           "aaxis": {
            "gridcolor": "white",
            "linecolor": "white",
            "ticks": ""
           },
           "baxis": {
            "gridcolor": "white",
            "linecolor": "white",
            "ticks": ""
           },
           "bgcolor": "#E5ECF6",
           "caxis": {
            "gridcolor": "white",
            "linecolor": "white",
            "ticks": ""
           }
          },
          "title": {
           "x": 0.05
          },
          "xaxis": {
           "automargin": true,
           "gridcolor": "white",
           "linecolor": "white",
           "ticks": "",
           "title": {
            "standoff": 15
           },
           "zerolinecolor": "white",
           "zerolinewidth": 2
          },
          "yaxis": {
           "automargin": true,
           "gridcolor": "white",
           "linecolor": "white",
           "ticks": "",
           "title": {
            "standoff": 15
           },
           "zerolinecolor": "white",
           "zerolinewidth": 2
          }
         }
        },
        "title": {
         "text": "Departments"
        }
       }
      }
     },
     "metadata": {},
     "output_type": "display_data"
    }
   ],
   "source": [
    "# Grouped Bar Chart 만들기\n",
    "branches = ['Cse','Mech','Eletronics']\n",
    "\n",
    "fy = [23,17,35]\n",
    "sy = [20,23,30]\n",
    "ty = [30,20,15]\n",
    "\n",
    "trace1 = go.Bar(\n",
    "    x=branches,\n",
    "    y=fy,\n",
    "    name='FY'\n",
    ")\n",
    "trace2 = go.Bar(\n",
    "    x=branches,\n",
    "    y=sy,\n",
    "    name='SY'\n",
    ")\n",
    "trace3 = go.Bar(\n",
    "    x=branches,\n",
    "    y=ty,\n",
    "    name='TY'\n",
    ")\n",
    "\n",
    "# 그룹화된 막대 그래프를 출력하려면 레이아웃 개체의 막대 속성을 group으로 설정해야 한다.\n",
    "data = [trace1, trace2, trace3]\n",
    "layout = go.Layout(barmode='group', title='Departments')\n",
    "fig = go.Figure(data=data, layout=layout)\n",
    "fig.show()"
   ]
  },
  {
   "cell_type": "code",
   "execution_count": 13,
   "metadata": {},
   "outputs": [
    {
     "data": {
      "application/vnd.plotly.v1+json": {
       "config": {
        "plotlyServerURL": "https://plot.ly"
       },
       "data": [
        {
         "name": "FY",
         "type": "bar",
         "x": [
          "Cse",
          "Mech",
          "Eletronics"
         ],
         "y": [
          23,
          17,
          35
         ]
        },
        {
         "name": "SY",
         "type": "bar",
         "x": [
          "Cse",
          "Mech",
          "Eletronics"
         ],
         "y": [
          20,
          23,
          30
         ]
        },
        {
         "name": "TY",
         "type": "bar",
         "x": [
          "Cse",
          "Mech",
          "Eletronics"
         ],
         "y": [
          30,
          20,
          15
         ]
        }
       ],
       "layout": {
        "barmode": "stack",
        "template": {
         "data": {
          "bar": [
           {
            "error_x": {
             "color": "#2a3f5f"
            },
            "error_y": {
             "color": "#2a3f5f"
            },
            "marker": {
             "line": {
              "color": "#E5ECF6",
              "width": 0.5
             },
             "pattern": {
              "fillmode": "overlay",
              "size": 10,
              "solidity": 0.2
             }
            },
            "type": "bar"
           }
          ],
          "barpolar": [
           {
            "marker": {
             "line": {
              "color": "#E5ECF6",
              "width": 0.5
             },
             "pattern": {
              "fillmode": "overlay",
              "size": 10,
              "solidity": 0.2
             }
            },
            "type": "barpolar"
           }
          ],
          "carpet": [
           {
            "aaxis": {
             "endlinecolor": "#2a3f5f",
             "gridcolor": "white",
             "linecolor": "white",
             "minorgridcolor": "white",
             "startlinecolor": "#2a3f5f"
            },
            "baxis": {
             "endlinecolor": "#2a3f5f",
             "gridcolor": "white",
             "linecolor": "white",
             "minorgridcolor": "white",
             "startlinecolor": "#2a3f5f"
            },
            "type": "carpet"
           }
          ],
          "choropleth": [
           {
            "colorbar": {
             "outlinewidth": 0,
             "ticks": ""
            },
            "type": "choropleth"
           }
          ],
          "contour": [
           {
            "colorbar": {
             "outlinewidth": 0,
             "ticks": ""
            },
            "colorscale": [
             [
              0,
              "#0d0887"
             ],
             [
              0.1111111111111111,
              "#46039f"
             ],
             [
              0.2222222222222222,
              "#7201a8"
             ],
             [
              0.3333333333333333,
              "#9c179e"
             ],
             [
              0.4444444444444444,
              "#bd3786"
             ],
             [
              0.5555555555555556,
              "#d8576b"
             ],
             [
              0.6666666666666666,
              "#ed7953"
             ],
             [
              0.7777777777777778,
              "#fb9f3a"
             ],
             [
              0.8888888888888888,
              "#fdca26"
             ],
             [
              1,
              "#f0f921"
             ]
            ],
            "type": "contour"
           }
          ],
          "contourcarpet": [
           {
            "colorbar": {
             "outlinewidth": 0,
             "ticks": ""
            },
            "type": "contourcarpet"
           }
          ],
          "heatmap": [
           {
            "colorbar": {
             "outlinewidth": 0,
             "ticks": ""
            },
            "colorscale": [
             [
              0,
              "#0d0887"
             ],
             [
              0.1111111111111111,
              "#46039f"
             ],
             [
              0.2222222222222222,
              "#7201a8"
             ],
             [
              0.3333333333333333,
              "#9c179e"
             ],
             [
              0.4444444444444444,
              "#bd3786"
             ],
             [
              0.5555555555555556,
              "#d8576b"
             ],
             [
              0.6666666666666666,
              "#ed7953"
             ],
             [
              0.7777777777777778,
              "#fb9f3a"
             ],
             [
              0.8888888888888888,
              "#fdca26"
             ],
             [
              1,
              "#f0f921"
             ]
            ],
            "type": "heatmap"
           }
          ],
          "heatmapgl": [
           {
            "colorbar": {
             "outlinewidth": 0,
             "ticks": ""
            },
            "colorscale": [
             [
              0,
              "#0d0887"
             ],
             [
              0.1111111111111111,
              "#46039f"
             ],
             [
              0.2222222222222222,
              "#7201a8"
             ],
             [
              0.3333333333333333,
              "#9c179e"
             ],
             [
              0.4444444444444444,
              "#bd3786"
             ],
             [
              0.5555555555555556,
              "#d8576b"
             ],
             [
              0.6666666666666666,
              "#ed7953"
             ],
             [
              0.7777777777777778,
              "#fb9f3a"
             ],
             [
              0.8888888888888888,
              "#fdca26"
             ],
             [
              1,
              "#f0f921"
             ]
            ],
            "type": "heatmapgl"
           }
          ],
          "histogram": [
           {
            "marker": {
             "pattern": {
              "fillmode": "overlay",
              "size": 10,
              "solidity": 0.2
             }
            },
            "type": "histogram"
           }
          ],
          "histogram2d": [
           {
            "colorbar": {
             "outlinewidth": 0,
             "ticks": ""
            },
            "colorscale": [
             [
              0,
              "#0d0887"
             ],
             [
              0.1111111111111111,
              "#46039f"
             ],
             [
              0.2222222222222222,
              "#7201a8"
             ],
             [
              0.3333333333333333,
              "#9c179e"
             ],
             [
              0.4444444444444444,
              "#bd3786"
             ],
             [
              0.5555555555555556,
              "#d8576b"
             ],
             [
              0.6666666666666666,
              "#ed7953"
             ],
             [
              0.7777777777777778,
              "#fb9f3a"
             ],
             [
              0.8888888888888888,
              "#fdca26"
             ],
             [
              1,
              "#f0f921"
             ]
            ],
            "type": "histogram2d"
           }
          ],
          "histogram2dcontour": [
           {
            "colorbar": {
             "outlinewidth": 0,
             "ticks": ""
            },
            "colorscale": [
             [
              0,
              "#0d0887"
             ],
             [
              0.1111111111111111,
              "#46039f"
             ],
             [
              0.2222222222222222,
              "#7201a8"
             ],
             [
              0.3333333333333333,
              "#9c179e"
             ],
             [
              0.4444444444444444,
              "#bd3786"
             ],
             [
              0.5555555555555556,
              "#d8576b"
             ],
             [
              0.6666666666666666,
              "#ed7953"
             ],
             [
              0.7777777777777778,
              "#fb9f3a"
             ],
             [
              0.8888888888888888,
              "#fdca26"
             ],
             [
              1,
              "#f0f921"
             ]
            ],
            "type": "histogram2dcontour"
           }
          ],
          "mesh3d": [
           {
            "colorbar": {
             "outlinewidth": 0,
             "ticks": ""
            },
            "type": "mesh3d"
           }
          ],
          "parcoords": [
           {
            "line": {
             "colorbar": {
              "outlinewidth": 0,
              "ticks": ""
             }
            },
            "type": "parcoords"
           }
          ],
          "pie": [
           {
            "automargin": true,
            "type": "pie"
           }
          ],
          "scatter": [
           {
            "fillpattern": {
             "fillmode": "overlay",
             "size": 10,
             "solidity": 0.2
            },
            "type": "scatter"
           }
          ],
          "scatter3d": [
           {
            "line": {
             "colorbar": {
              "outlinewidth": 0,
              "ticks": ""
             }
            },
            "marker": {
             "colorbar": {
              "outlinewidth": 0,
              "ticks": ""
             }
            },
            "type": "scatter3d"
           }
          ],
          "scattercarpet": [
           {
            "marker": {
             "colorbar": {
              "outlinewidth": 0,
              "ticks": ""
             }
            },
            "type": "scattercarpet"
           }
          ],
          "scattergeo": [
           {
            "marker": {
             "colorbar": {
              "outlinewidth": 0,
              "ticks": ""
             }
            },
            "type": "scattergeo"
           }
          ],
          "scattergl": [
           {
            "marker": {
             "colorbar": {
              "outlinewidth": 0,
              "ticks": ""
             }
            },
            "type": "scattergl"
           }
          ],
          "scattermapbox": [
           {
            "marker": {
             "colorbar": {
              "outlinewidth": 0,
              "ticks": ""
             }
            },
            "type": "scattermapbox"
           }
          ],
          "scatterpolar": [
           {
            "marker": {
             "colorbar": {
              "outlinewidth": 0,
              "ticks": ""
             }
            },
            "type": "scatterpolar"
           }
          ],
          "scatterpolargl": [
           {
            "marker": {
             "colorbar": {
              "outlinewidth": 0,
              "ticks": ""
             }
            },
            "type": "scatterpolargl"
           }
          ],
          "scatterternary": [
           {
            "marker": {
             "colorbar": {
              "outlinewidth": 0,
              "ticks": ""
             }
            },
            "type": "scatterternary"
           }
          ],
          "surface": [
           {
            "colorbar": {
             "outlinewidth": 0,
             "ticks": ""
            },
            "colorscale": [
             [
              0,
              "#0d0887"
             ],
             [
              0.1111111111111111,
              "#46039f"
             ],
             [
              0.2222222222222222,
              "#7201a8"
             ],
             [
              0.3333333333333333,
              "#9c179e"
             ],
             [
              0.4444444444444444,
              "#bd3786"
             ],
             [
              0.5555555555555556,
              "#d8576b"
             ],
             [
              0.6666666666666666,
              "#ed7953"
             ],
             [
              0.7777777777777778,
              "#fb9f3a"
             ],
             [
              0.8888888888888888,
              "#fdca26"
             ],
             [
              1,
              "#f0f921"
             ]
            ],
            "type": "surface"
           }
          ],
          "table": [
           {
            "cells": {
             "fill": {
              "color": "#EBF0F8"
             },
             "line": {
              "color": "white"
             }
            },
            "header": {
             "fill": {
              "color": "#C8D4E3"
             },
             "line": {
              "color": "white"
             }
            },
            "type": "table"
           }
          ]
         },
         "layout": {
          "annotationdefaults": {
           "arrowcolor": "#2a3f5f",
           "arrowhead": 0,
           "arrowwidth": 1
          },
          "autotypenumbers": "strict",
          "coloraxis": {
           "colorbar": {
            "outlinewidth": 0,
            "ticks": ""
           }
          },
          "colorscale": {
           "diverging": [
            [
             0,
             "#8e0152"
            ],
            [
             0.1,
             "#c51b7d"
            ],
            [
             0.2,
             "#de77ae"
            ],
            [
             0.3,
             "#f1b6da"
            ],
            [
             0.4,
             "#fde0ef"
            ],
            [
             0.5,
             "#f7f7f7"
            ],
            [
             0.6,
             "#e6f5d0"
            ],
            [
             0.7,
             "#b8e186"
            ],
            [
             0.8,
             "#7fbc41"
            ],
            [
             0.9,
             "#4d9221"
            ],
            [
             1,
             "#276419"
            ]
           ],
           "sequential": [
            [
             0,
             "#0d0887"
            ],
            [
             0.1111111111111111,
             "#46039f"
            ],
            [
             0.2222222222222222,
             "#7201a8"
            ],
            [
             0.3333333333333333,
             "#9c179e"
            ],
            [
             0.4444444444444444,
             "#bd3786"
            ],
            [
             0.5555555555555556,
             "#d8576b"
            ],
            [
             0.6666666666666666,
             "#ed7953"
            ],
            [
             0.7777777777777778,
             "#fb9f3a"
            ],
            [
             0.8888888888888888,
             "#fdca26"
            ],
            [
             1,
             "#f0f921"
            ]
           ],
           "sequentialminus": [
            [
             0,
             "#0d0887"
            ],
            [
             0.1111111111111111,
             "#46039f"
            ],
            [
             0.2222222222222222,
             "#7201a8"
            ],
            [
             0.3333333333333333,
             "#9c179e"
            ],
            [
             0.4444444444444444,
             "#bd3786"
            ],
            [
             0.5555555555555556,
             "#d8576b"
            ],
            [
             0.6666666666666666,
             "#ed7953"
            ],
            [
             0.7777777777777778,
             "#fb9f3a"
            ],
            [
             0.8888888888888888,
             "#fdca26"
            ],
            [
             1,
             "#f0f921"
            ]
           ]
          },
          "colorway": [
           "#636efa",
           "#EF553B",
           "#00cc96",
           "#ab63fa",
           "#FFA15A",
           "#19d3f3",
           "#FF6692",
           "#B6E880",
           "#FF97FF",
           "#FECB52"
          ],
          "font": {
           "color": "#2a3f5f"
          },
          "geo": {
           "bgcolor": "white",
           "lakecolor": "white",
           "landcolor": "#E5ECF6",
           "showlakes": true,
           "showland": true,
           "subunitcolor": "white"
          },
          "hoverlabel": {
           "align": "left"
          },
          "hovermode": "closest",
          "mapbox": {
           "style": "light"
          },
          "paper_bgcolor": "white",
          "plot_bgcolor": "#E5ECF6",
          "polar": {
           "angularaxis": {
            "gridcolor": "white",
            "linecolor": "white",
            "ticks": ""
           },
           "bgcolor": "#E5ECF6",
           "radialaxis": {
            "gridcolor": "white",
            "linecolor": "white",
            "ticks": ""
           }
          },
          "scene": {
           "xaxis": {
            "backgroundcolor": "#E5ECF6",
            "gridcolor": "white",
            "gridwidth": 2,
            "linecolor": "white",
            "showbackground": true,
            "ticks": "",
            "zerolinecolor": "white"
           },
           "yaxis": {
            "backgroundcolor": "#E5ECF6",
            "gridcolor": "white",
            "gridwidth": 2,
            "linecolor": "white",
            "showbackground": true,
            "ticks": "",
            "zerolinecolor": "white"
           },
           "zaxis": {
            "backgroundcolor": "#E5ECF6",
            "gridcolor": "white",
            "gridwidth": 2,
            "linecolor": "white",
            "showbackground": true,
            "ticks": "",
            "zerolinecolor": "white"
           }
          },
          "shapedefaults": {
           "line": {
            "color": "#2a3f5f"
           }
          },
          "ternary": {
           "aaxis": {
            "gridcolor": "white",
            "linecolor": "white",
            "ticks": ""
           },
           "baxis": {
            "gridcolor": "white",
            "linecolor": "white",
            "ticks": ""
           },
           "bgcolor": "#E5ECF6",
           "caxis": {
            "gridcolor": "white",
            "linecolor": "white",
            "ticks": ""
           }
          },
          "title": {
           "x": 0.05
          },
          "xaxis": {
           "automargin": true,
           "gridcolor": "white",
           "linecolor": "white",
           "ticks": "",
           "title": {
            "standoff": 15
           },
           "zerolinecolor": "white",
           "zerolinewidth": 2
          },
          "yaxis": {
           "automargin": true,
           "gridcolor": "white",
           "linecolor": "white",
           "ticks": "",
           "title": {
            "standoff": 15
           },
           "zerolinecolor": "white",
           "zerolinewidth": 2
          }
         }
        },
        "title": {
         "text": "Departments"
        }
       }
      }
     },
     "metadata": {},
     "output_type": "display_data"
    }
   ],
   "source": [
    "# stack 형태의 그룹 막대 그래프를 출력한다.\n",
    "data = [trace1, trace2, trace3]\n",
    "layout = go.Layout(barmode='stack', title='Departments')\n",
    "fig = go.Figure(data=data, layout=layout)\n",
    "fig.show()"
   ]
  },
  {
   "cell_type": "code",
   "execution_count": 19,
   "metadata": {},
   "outputs": [
    {
     "data": {
      "application/vnd.plotly.v1+json": {
       "config": {
        "plotlyServerURL": "https://plot.ly"
       },
       "data": [
        {
         "marker": {
          "color": "rgb(49,130,189)",
          "opacity": 0.7
         },
         "name": "Rest of World",
         "type": "bar",
         "x": [
          1995,
          1997,
          1998,
          1999,
          2000,
          2001,
          2002,
          2003,
          2004,
          2005,
          2006,
          2007,
          2008,
          2009,
          2010,
          2011,
          2012
         ],
         "y": [
          219,
          146,
          112,
          127,
          124,
          180,
          236,
          207,
          236,
          263,
          350,
          430,
          474,
          526,
          488,
          537,
          500,
          439
         ]
        },
        {
         "marker": {
          "color": "rgb(204,204,204)",
          "opacity": 0.5
         },
         "name": "China",
         "type": "bar",
         "x": [
          1995,
          1997,
          1998,
          1999,
          2000,
          2001,
          2002,
          2003,
          2004,
          2005,
          2006,
          2007,
          2008,
          2009,
          2010,
          2011,
          2012
         ],
         "y": [
          16,
          13,
          10,
          11,
          28,
          37,
          43,
          55,
          56,
          88,
          105,
          156,
          270,
          299,
          340,
          403,
          549,
          499
         ]
        }
       ],
       "layout": {
        "barmode": "group",
        "template": {
         "data": {
          "bar": [
           {
            "error_x": {
             "color": "#2a3f5f"
            },
            "error_y": {
             "color": "#2a3f5f"
            },
            "marker": {
             "line": {
              "color": "#E5ECF6",
              "width": 0.5
             },
             "pattern": {
              "fillmode": "overlay",
              "size": 10,
              "solidity": 0.2
             }
            },
            "type": "bar"
           }
          ],
          "barpolar": [
           {
            "marker": {
             "line": {
              "color": "#E5ECF6",
              "width": 0.5
             },
             "pattern": {
              "fillmode": "overlay",
              "size": 10,
              "solidity": 0.2
             }
            },
            "type": "barpolar"
           }
          ],
          "carpet": [
           {
            "aaxis": {
             "endlinecolor": "#2a3f5f",
             "gridcolor": "white",
             "linecolor": "white",
             "minorgridcolor": "white",
             "startlinecolor": "#2a3f5f"
            },
            "baxis": {
             "endlinecolor": "#2a3f5f",
             "gridcolor": "white",
             "linecolor": "white",
             "minorgridcolor": "white",
             "startlinecolor": "#2a3f5f"
            },
            "type": "carpet"
           }
          ],
          "choropleth": [
           {
            "colorbar": {
             "outlinewidth": 0,
             "ticks": ""
            },
            "type": "choropleth"
           }
          ],
          "contour": [
           {
            "colorbar": {
             "outlinewidth": 0,
             "ticks": ""
            },
            "colorscale": [
             [
              0,
              "#0d0887"
             ],
             [
              0.1111111111111111,
              "#46039f"
             ],
             [
              0.2222222222222222,
              "#7201a8"
             ],
             [
              0.3333333333333333,
              "#9c179e"
             ],
             [
              0.4444444444444444,
              "#bd3786"
             ],
             [
              0.5555555555555556,
              "#d8576b"
             ],
             [
              0.6666666666666666,
              "#ed7953"
             ],
             [
              0.7777777777777778,
              "#fb9f3a"
             ],
             [
              0.8888888888888888,
              "#fdca26"
             ],
             [
              1,
              "#f0f921"
             ]
            ],
            "type": "contour"
           }
          ],
          "contourcarpet": [
           {
            "colorbar": {
             "outlinewidth": 0,
             "ticks": ""
            },
            "type": "contourcarpet"
           }
          ],
          "heatmap": [
           {
            "colorbar": {
             "outlinewidth": 0,
             "ticks": ""
            },
            "colorscale": [
             [
              0,
              "#0d0887"
             ],
             [
              0.1111111111111111,
              "#46039f"
             ],
             [
              0.2222222222222222,
              "#7201a8"
             ],
             [
              0.3333333333333333,
              "#9c179e"
             ],
             [
              0.4444444444444444,
              "#bd3786"
             ],
             [
              0.5555555555555556,
              "#d8576b"
             ],
             [
              0.6666666666666666,
              "#ed7953"
             ],
             [
              0.7777777777777778,
              "#fb9f3a"
             ],
             [
              0.8888888888888888,
              "#fdca26"
             ],
             [
              1,
              "#f0f921"
             ]
            ],
            "type": "heatmap"
           }
          ],
          "heatmapgl": [
           {
            "colorbar": {
             "outlinewidth": 0,
             "ticks": ""
            },
            "colorscale": [
             [
              0,
              "#0d0887"
             ],
             [
              0.1111111111111111,
              "#46039f"
             ],
             [
              0.2222222222222222,
              "#7201a8"
             ],
             [
              0.3333333333333333,
              "#9c179e"
             ],
             [
              0.4444444444444444,
              "#bd3786"
             ],
             [
              0.5555555555555556,
              "#d8576b"
             ],
             [
              0.6666666666666666,
              "#ed7953"
             ],
             [
              0.7777777777777778,
              "#fb9f3a"
             ],
             [
              0.8888888888888888,
              "#fdca26"
             ],
             [
              1,
              "#f0f921"
             ]
            ],
            "type": "heatmapgl"
           }
          ],
          "histogram": [
           {
            "marker": {
             "pattern": {
              "fillmode": "overlay",
              "size": 10,
              "solidity": 0.2
             }
            },
            "type": "histogram"
           }
          ],
          "histogram2d": [
           {
            "colorbar": {
             "outlinewidth": 0,
             "ticks": ""
            },
            "colorscale": [
             [
              0,
              "#0d0887"
             ],
             [
              0.1111111111111111,
              "#46039f"
             ],
             [
              0.2222222222222222,
              "#7201a8"
             ],
             [
              0.3333333333333333,
              "#9c179e"
             ],
             [
              0.4444444444444444,
              "#bd3786"
             ],
             [
              0.5555555555555556,
              "#d8576b"
             ],
             [
              0.6666666666666666,
              "#ed7953"
             ],
             [
              0.7777777777777778,
              "#fb9f3a"
             ],
             [
              0.8888888888888888,
              "#fdca26"
             ],
             [
              1,
              "#f0f921"
             ]
            ],
            "type": "histogram2d"
           }
          ],
          "histogram2dcontour": [
           {
            "colorbar": {
             "outlinewidth": 0,
             "ticks": ""
            },
            "colorscale": [
             [
              0,
              "#0d0887"
             ],
             [
              0.1111111111111111,
              "#46039f"
             ],
             [
              0.2222222222222222,
              "#7201a8"
             ],
             [
              0.3333333333333333,
              "#9c179e"
             ],
             [
              0.4444444444444444,
              "#bd3786"
             ],
             [
              0.5555555555555556,
              "#d8576b"
             ],
             [
              0.6666666666666666,
              "#ed7953"
             ],
             [
              0.7777777777777778,
              "#fb9f3a"
             ],
             [
              0.8888888888888888,
              "#fdca26"
             ],
             [
              1,
              "#f0f921"
             ]
            ],
            "type": "histogram2dcontour"
           }
          ],
          "mesh3d": [
           {
            "colorbar": {
             "outlinewidth": 0,
             "ticks": ""
            },
            "type": "mesh3d"
           }
          ],
          "parcoords": [
           {
            "line": {
             "colorbar": {
              "outlinewidth": 0,
              "ticks": ""
             }
            },
            "type": "parcoords"
           }
          ],
          "pie": [
           {
            "automargin": true,
            "type": "pie"
           }
          ],
          "scatter": [
           {
            "fillpattern": {
             "fillmode": "overlay",
             "size": 10,
             "solidity": 0.2
            },
            "type": "scatter"
           }
          ],
          "scatter3d": [
           {
            "line": {
             "colorbar": {
              "outlinewidth": 0,
              "ticks": ""
             }
            },
            "marker": {
             "colorbar": {
              "outlinewidth": 0,
              "ticks": ""
             }
            },
            "type": "scatter3d"
           }
          ],
          "scattercarpet": [
           {
            "marker": {
             "colorbar": {
              "outlinewidth": 0,
              "ticks": ""
             }
            },
            "type": "scattercarpet"
           }
          ],
          "scattergeo": [
           {
            "marker": {
             "colorbar": {
              "outlinewidth": 0,
              "ticks": ""
             }
            },
            "type": "scattergeo"
           }
          ],
          "scattergl": [
           {
            "marker": {
             "colorbar": {
              "outlinewidth": 0,
              "ticks": ""
             }
            },
            "type": "scattergl"
           }
          ],
          "scattermapbox": [
           {
            "marker": {
             "colorbar": {
              "outlinewidth": 0,
              "ticks": ""
             }
            },
            "type": "scattermapbox"
           }
          ],
          "scatterpolar": [
           {
            "marker": {
             "colorbar": {
              "outlinewidth": 0,
              "ticks": ""
             }
            },
            "type": "scatterpolar"
           }
          ],
          "scatterpolargl": [
           {
            "marker": {
             "colorbar": {
              "outlinewidth": 0,
              "ticks": ""
             }
            },
            "type": "scatterpolargl"
           }
          ],
          "scatterternary": [
           {
            "marker": {
             "colorbar": {
              "outlinewidth": 0,
              "ticks": ""
             }
            },
            "type": "scatterternary"
           }
          ],
          "surface": [
           {
            "colorbar": {
             "outlinewidth": 0,
             "ticks": ""
            },
            "colorscale": [
             [
              0,
              "#0d0887"
             ],
             [
              0.1111111111111111,
              "#46039f"
             ],
             [
              0.2222222222222222,
              "#7201a8"
             ],
             [
              0.3333333333333333,
              "#9c179e"
             ],
             [
              0.4444444444444444,
              "#bd3786"
             ],
             [
              0.5555555555555556,
              "#d8576b"
             ],
             [
              0.6666666666666666,
              "#ed7953"
             ],
             [
              0.7777777777777778,
              "#fb9f3a"
             ],
             [
              0.8888888888888888,
              "#fdca26"
             ],
             [
              1,
              "#f0f921"
             ]
            ],
            "type": "surface"
           }
          ],
          "table": [
           {
            "cells": {
             "fill": {
              "color": "#EBF0F8"
             },
             "line": {
              "color": "white"
             }
            },
            "header": {
             "fill": {
              "color": "#C8D4E3"
             },
             "line": {
              "color": "white"
             }
            },
            "type": "table"
           }
          ]
         },
         "layout": {
          "annotationdefaults": {
           "arrowcolor": "#2a3f5f",
           "arrowhead": 0,
           "arrowwidth": 1
          },
          "autotypenumbers": "strict",
          "coloraxis": {
           "colorbar": {
            "outlinewidth": 0,
            "ticks": ""
           }
          },
          "colorscale": {
           "diverging": [
            [
             0,
             "#8e0152"
            ],
            [
             0.1,
             "#c51b7d"
            ],
            [
             0.2,
             "#de77ae"
            ],
            [
             0.3,
             "#f1b6da"
            ],
            [
             0.4,
             "#fde0ef"
            ],
            [
             0.5,
             "#f7f7f7"
            ],
            [
             0.6,
             "#e6f5d0"
            ],
            [
             0.7,
             "#b8e186"
            ],
            [
             0.8,
             "#7fbc41"
            ],
            [
             0.9,
             "#4d9221"
            ],
            [
             1,
             "#276419"
            ]
           ],
           "sequential": [
            [
             0,
             "#0d0887"
            ],
            [
             0.1111111111111111,
             "#46039f"
            ],
            [
             0.2222222222222222,
             "#7201a8"
            ],
            [
             0.3333333333333333,
             "#9c179e"
            ],
            [
             0.4444444444444444,
             "#bd3786"
            ],
            [
             0.5555555555555556,
             "#d8576b"
            ],
            [
             0.6666666666666666,
             "#ed7953"
            ],
            [
             0.7777777777777778,
             "#fb9f3a"
            ],
            [
             0.8888888888888888,
             "#fdca26"
            ],
            [
             1,
             "#f0f921"
            ]
           ],
           "sequentialminus": [
            [
             0,
             "#0d0887"
            ],
            [
             0.1111111111111111,
             "#46039f"
            ],
            [
             0.2222222222222222,
             "#7201a8"
            ],
            [
             0.3333333333333333,
             "#9c179e"
            ],
            [
             0.4444444444444444,
             "#bd3786"
            ],
            [
             0.5555555555555556,
             "#d8576b"
            ],
            [
             0.6666666666666666,
             "#ed7953"
            ],
            [
             0.7777777777777778,
             "#fb9f3a"
            ],
            [
             0.8888888888888888,
             "#fdca26"
            ],
            [
             1,
             "#f0f921"
            ]
           ]
          },
          "colorway": [
           "#636efa",
           "#EF553B",
           "#00cc96",
           "#ab63fa",
           "#FFA15A",
           "#19d3f3",
           "#FF6692",
           "#B6E880",
           "#FF97FF",
           "#FECB52"
          ],
          "font": {
           "color": "#2a3f5f"
          },
          "geo": {
           "bgcolor": "white",
           "lakecolor": "white",
           "landcolor": "#E5ECF6",
           "showlakes": true,
           "showland": true,
           "subunitcolor": "white"
          },
          "hoverlabel": {
           "align": "left"
          },
          "hovermode": "closest",
          "mapbox": {
           "style": "light"
          },
          "paper_bgcolor": "white",
          "plot_bgcolor": "#E5ECF6",
          "polar": {
           "angularaxis": {
            "gridcolor": "white",
            "linecolor": "white",
            "ticks": ""
           },
           "bgcolor": "#E5ECF6",
           "radialaxis": {
            "gridcolor": "white",
            "linecolor": "white",
            "ticks": ""
           }
          },
          "scene": {
           "xaxis": {
            "backgroundcolor": "#E5ECF6",
            "gridcolor": "white",
            "gridwidth": 2,
            "linecolor": "white",
            "showbackground": true,
            "ticks": "",
            "zerolinecolor": "white"
           },
           "yaxis": {
            "backgroundcolor": "#E5ECF6",
            "gridcolor": "white",
            "gridwidth": 2,
            "linecolor": "white",
            "showbackground": true,
            "ticks": "",
            "zerolinecolor": "white"
           },
           "zaxis": {
            "backgroundcolor": "#E5ECF6",
            "gridcolor": "white",
            "gridwidth": 2,
            "linecolor": "white",
            "showbackground": true,
            "ticks": "",
            "zerolinecolor": "white"
           }
          },
          "shapedefaults": {
           "line": {
            "color": "#2a3f5f"
           }
          },
          "ternary": {
           "aaxis": {
            "gridcolor": "white",
            "linecolor": "white",
            "ticks": ""
           },
           "baxis": {
            "gridcolor": "white",
            "linecolor": "white",
            "ticks": ""
           },
           "bgcolor": "#E5ECF6",
           "caxis": {
            "gridcolor": "white",
            "linecolor": "white",
            "ticks": ""
           }
          },
          "title": {
           "x": 0.05
          },
          "xaxis": {
           "automargin": true,
           "gridcolor": "white",
           "linecolor": "white",
           "ticks": "",
           "title": {
            "standoff": 15
           },
           "zerolinecolor": "white",
           "zerolinewidth": 2
          },
          "yaxis": {
           "automargin": true,
           "gridcolor": "white",
           "linecolor": "white",
           "ticks": "",
           "title": {
            "standoff": 15
           },
           "zerolinecolor": "white",
           "zerolinewidth": 2
          }
         }
        },
        "title": {
         "text": "Export of Plastic Scrap"
        }
       }
      }
     },
     "metadata": {},
     "output_type": "display_data"
    }
   ],
   "source": [
    "# Bar Graph의 색상 커스터마이징 하기\n",
    "years = [1995,1997,1998,1999,2000,2001,2002,2003,2004,2005,2006,2007,2008,2009,2010,2011,2012]\n",
    "rest = [219,146,112,127,124,180,236,207,236,263,350,430,474,526,488,537,500,439]\n",
    "china = [16,13,10,11,28,37,43,55,56,88,105,156,270,299,340,403,549,499]\n",
    "\n",
    "trace1 = go.Bar(\n",
    "    x=years,\n",
    "    y=rest,\n",
    "    name='Rest of World',\n",
    "    marker=dict(\n",
    "        color='rgb(49,130,189)',\n",
    "        opacity=0.7\n",
    "    )\n",
    ")\n",
    "trace2 = go.Bar(\n",
    "    x=years,\n",
    "    y=china,\n",
    "    name='China',\n",
    "    marker=dict(\n",
    "        color='rgb(204,204,204)',\n",
    "        opacity=0.5\n",
    "    )\n",
    ")\n",
    "\n",
    "data = [trace1,trace2]\n",
    "layout = go.Layout(barmode='group', title='Export of Plastic Scrap')\n",
    "fig = go.Figure(data=data, layout=layout)\n",
    "\n",
    "fig.show()\n"
   ]
  },
  {
   "cell_type": "code",
   "execution_count": 23,
   "metadata": {},
   "outputs": [
    {
     "data": {
      "application/vnd.plotly.v1+json": {
       "config": {
        "plotlyServerURL": "https://plot.ly"
       },
       "data": [
        {
         "marker": {
          "color": "rgb(49,130,189)",
          "opacity": 0.7
         },
         "name": "Primary Product",
         "text": [
          "20",
          "14",
          "25",
          "16",
          "18",
          "22",
          "19",
          "15",
          "12",
          "16",
          "14",
          "17"
         ],
         "textposition": "auto",
         "type": "bar",
         "x": [
          "Jan",
          "Feb",
          "Mar",
          "Apr",
          "May",
          "Jun",
          "Jul",
          "Aug",
          "Sep",
          "Oct",
          "Nov",
          "Dec"
         ],
         "y": [
          20,
          14,
          25,
          16,
          18,
          22,
          19,
          15,
          12,
          16,
          14,
          17
         ]
        },
        {
         "marker": {
          "color": "rgb(204,204,204)",
          "opacity": 0.5
         },
         "name": "Secondary Product",
         "text": [
          "19",
          "14",
          "22",
          "14",
          "16",
          "19",
          "15",
          "14",
          "10",
          "12",
          "12",
          "16"
         ],
         "textposition": "auto",
         "type": "bar",
         "x": [
          "Jan",
          "Feb",
          "Mar",
          "Apr",
          "May",
          "Jun",
          "Jul",
          "Aug",
          "Sep",
          "Oct",
          "Nov",
          "Dec"
         ],
         "y": [
          19,
          14,
          22,
          14,
          16,
          19,
          15,
          14,
          10,
          12,
          12,
          16
         ]
        }
       ],
       "layout": {
        "barmode": "group",
        "template": {
         "data": {
          "bar": [
           {
            "error_x": {
             "color": "#2a3f5f"
            },
            "error_y": {
             "color": "#2a3f5f"
            },
            "marker": {
             "line": {
              "color": "#E5ECF6",
              "width": 0.5
             },
             "pattern": {
              "fillmode": "overlay",
              "size": 10,
              "solidity": 0.2
             }
            },
            "type": "bar"
           }
          ],
          "barpolar": [
           {
            "marker": {
             "line": {
              "color": "#E5ECF6",
              "width": 0.5
             },
             "pattern": {
              "fillmode": "overlay",
              "size": 10,
              "solidity": 0.2
             }
            },
            "type": "barpolar"
           }
          ],
          "carpet": [
           {
            "aaxis": {
             "endlinecolor": "#2a3f5f",
             "gridcolor": "white",
             "linecolor": "white",
             "minorgridcolor": "white",
             "startlinecolor": "#2a3f5f"
            },
            "baxis": {
             "endlinecolor": "#2a3f5f",
             "gridcolor": "white",
             "linecolor": "white",
             "minorgridcolor": "white",
             "startlinecolor": "#2a3f5f"
            },
            "type": "carpet"
           }
          ],
          "choropleth": [
           {
            "colorbar": {
             "outlinewidth": 0,
             "ticks": ""
            },
            "type": "choropleth"
           }
          ],
          "contour": [
           {
            "colorbar": {
             "outlinewidth": 0,
             "ticks": ""
            },
            "colorscale": [
             [
              0,
              "#0d0887"
             ],
             [
              0.1111111111111111,
              "#46039f"
             ],
             [
              0.2222222222222222,
              "#7201a8"
             ],
             [
              0.3333333333333333,
              "#9c179e"
             ],
             [
              0.4444444444444444,
              "#bd3786"
             ],
             [
              0.5555555555555556,
              "#d8576b"
             ],
             [
              0.6666666666666666,
              "#ed7953"
             ],
             [
              0.7777777777777778,
              "#fb9f3a"
             ],
             [
              0.8888888888888888,
              "#fdca26"
             ],
             [
              1,
              "#f0f921"
             ]
            ],
            "type": "contour"
           }
          ],
          "contourcarpet": [
           {
            "colorbar": {
             "outlinewidth": 0,
             "ticks": ""
            },
            "type": "contourcarpet"
           }
          ],
          "heatmap": [
           {
            "colorbar": {
             "outlinewidth": 0,
             "ticks": ""
            },
            "colorscale": [
             [
              0,
              "#0d0887"
             ],
             [
              0.1111111111111111,
              "#46039f"
             ],
             [
              0.2222222222222222,
              "#7201a8"
             ],
             [
              0.3333333333333333,
              "#9c179e"
             ],
             [
              0.4444444444444444,
              "#bd3786"
             ],
             [
              0.5555555555555556,
              "#d8576b"
             ],
             [
              0.6666666666666666,
              "#ed7953"
             ],
             [
              0.7777777777777778,
              "#fb9f3a"
             ],
             [
              0.8888888888888888,
              "#fdca26"
             ],
             [
              1,
              "#f0f921"
             ]
            ],
            "type": "heatmap"
           }
          ],
          "heatmapgl": [
           {
            "colorbar": {
             "outlinewidth": 0,
             "ticks": ""
            },
            "colorscale": [
             [
              0,
              "#0d0887"
             ],
             [
              0.1111111111111111,
              "#46039f"
             ],
             [
              0.2222222222222222,
              "#7201a8"
             ],
             [
              0.3333333333333333,
              "#9c179e"
             ],
             [
              0.4444444444444444,
              "#bd3786"
             ],
             [
              0.5555555555555556,
              "#d8576b"
             ],
             [
              0.6666666666666666,
              "#ed7953"
             ],
             [
              0.7777777777777778,
              "#fb9f3a"
             ],
             [
              0.8888888888888888,
              "#fdca26"
             ],
             [
              1,
              "#f0f921"
             ]
            ],
            "type": "heatmapgl"
           }
          ],
          "histogram": [
           {
            "marker": {
             "pattern": {
              "fillmode": "overlay",
              "size": 10,
              "solidity": 0.2
             }
            },
            "type": "histogram"
           }
          ],
          "histogram2d": [
           {
            "colorbar": {
             "outlinewidth": 0,
             "ticks": ""
            },
            "colorscale": [
             [
              0,
              "#0d0887"
             ],
             [
              0.1111111111111111,
              "#46039f"
             ],
             [
              0.2222222222222222,
              "#7201a8"
             ],
             [
              0.3333333333333333,
              "#9c179e"
             ],
             [
              0.4444444444444444,
              "#bd3786"
             ],
             [
              0.5555555555555556,
              "#d8576b"
             ],
             [
              0.6666666666666666,
              "#ed7953"
             ],
             [
              0.7777777777777778,
              "#fb9f3a"
             ],
             [
              0.8888888888888888,
              "#fdca26"
             ],
             [
              1,
              "#f0f921"
             ]
            ],
            "type": "histogram2d"
           }
          ],
          "histogram2dcontour": [
           {
            "colorbar": {
             "outlinewidth": 0,
             "ticks": ""
            },
            "colorscale": [
             [
              0,
              "#0d0887"
             ],
             [
              0.1111111111111111,
              "#46039f"
             ],
             [
              0.2222222222222222,
              "#7201a8"
             ],
             [
              0.3333333333333333,
              "#9c179e"
             ],
             [
              0.4444444444444444,
              "#bd3786"
             ],
             [
              0.5555555555555556,
              "#d8576b"
             ],
             [
              0.6666666666666666,
              "#ed7953"
             ],
             [
              0.7777777777777778,
              "#fb9f3a"
             ],
             [
              0.8888888888888888,
              "#fdca26"
             ],
             [
              1,
              "#f0f921"
             ]
            ],
            "type": "histogram2dcontour"
           }
          ],
          "mesh3d": [
           {
            "colorbar": {
             "outlinewidth": 0,
             "ticks": ""
            },
            "type": "mesh3d"
           }
          ],
          "parcoords": [
           {
            "line": {
             "colorbar": {
              "outlinewidth": 0,
              "ticks": ""
             }
            },
            "type": "parcoords"
           }
          ],
          "pie": [
           {
            "automargin": true,
            "type": "pie"
           }
          ],
          "scatter": [
           {
            "fillpattern": {
             "fillmode": "overlay",
             "size": 10,
             "solidity": 0.2
            },
            "type": "scatter"
           }
          ],
          "scatter3d": [
           {
            "line": {
             "colorbar": {
              "outlinewidth": 0,
              "ticks": ""
             }
            },
            "marker": {
             "colorbar": {
              "outlinewidth": 0,
              "ticks": ""
             }
            },
            "type": "scatter3d"
           }
          ],
          "scattercarpet": [
           {
            "marker": {
             "colorbar": {
              "outlinewidth": 0,
              "ticks": ""
             }
            },
            "type": "scattercarpet"
           }
          ],
          "scattergeo": [
           {
            "marker": {
             "colorbar": {
              "outlinewidth": 0,
              "ticks": ""
             }
            },
            "type": "scattergeo"
           }
          ],
          "scattergl": [
           {
            "marker": {
             "colorbar": {
              "outlinewidth": 0,
              "ticks": ""
             }
            },
            "type": "scattergl"
           }
          ],
          "scattermapbox": [
           {
            "marker": {
             "colorbar": {
              "outlinewidth": 0,
              "ticks": ""
             }
            },
            "type": "scattermapbox"
           }
          ],
          "scatterpolar": [
           {
            "marker": {
             "colorbar": {
              "outlinewidth": 0,
              "ticks": ""
             }
            },
            "type": "scatterpolar"
           }
          ],
          "scatterpolargl": [
           {
            "marker": {
             "colorbar": {
              "outlinewidth": 0,
              "ticks": ""
             }
            },
            "type": "scatterpolargl"
           }
          ],
          "scatterternary": [
           {
            "marker": {
             "colorbar": {
              "outlinewidth": 0,
              "ticks": ""
             }
            },
            "type": "scatterternary"
           }
          ],
          "surface": [
           {
            "colorbar": {
             "outlinewidth": 0,
             "ticks": ""
            },
            "colorscale": [
             [
              0,
              "#0d0887"
             ],
             [
              0.1111111111111111,
              "#46039f"
             ],
             [
              0.2222222222222222,
              "#7201a8"
             ],
             [
              0.3333333333333333,
              "#9c179e"
             ],
             [
              0.4444444444444444,
              "#bd3786"
             ],
             [
              0.5555555555555556,
              "#d8576b"
             ],
             [
              0.6666666666666666,
              "#ed7953"
             ],
             [
              0.7777777777777778,
              "#fb9f3a"
             ],
             [
              0.8888888888888888,
              "#fdca26"
             ],
             [
              1,
              "#f0f921"
             ]
            ],
            "type": "surface"
           }
          ],
          "table": [
           {
            "cells": {
             "fill": {
              "color": "#EBF0F8"
             },
             "line": {
              "color": "white"
             }
            },
            "header": {
             "fill": {
              "color": "#C8D4E3"
             },
             "line": {
              "color": "white"
             }
            },
            "type": "table"
           }
          ]
         },
         "layout": {
          "annotationdefaults": {
           "arrowcolor": "#2a3f5f",
           "arrowhead": 0,
           "arrowwidth": 1
          },
          "autotypenumbers": "strict",
          "coloraxis": {
           "colorbar": {
            "outlinewidth": 0,
            "ticks": ""
           }
          },
          "colorscale": {
           "diverging": [
            [
             0,
             "#8e0152"
            ],
            [
             0.1,
             "#c51b7d"
            ],
            [
             0.2,
             "#de77ae"
            ],
            [
             0.3,
             "#f1b6da"
            ],
            [
             0.4,
             "#fde0ef"
            ],
            [
             0.5,
             "#f7f7f7"
            ],
            [
             0.6,
             "#e6f5d0"
            ],
            [
             0.7,
             "#b8e186"
            ],
            [
             0.8,
             "#7fbc41"
            ],
            [
             0.9,
             "#4d9221"
            ],
            [
             1,
             "#276419"
            ]
           ],
           "sequential": [
            [
             0,
             "#0d0887"
            ],
            [
             0.1111111111111111,
             "#46039f"
            ],
            [
             0.2222222222222222,
             "#7201a8"
            ],
            [
             0.3333333333333333,
             "#9c179e"
            ],
            [
             0.4444444444444444,
             "#bd3786"
            ],
            [
             0.5555555555555556,
             "#d8576b"
            ],
            [
             0.6666666666666666,
             "#ed7953"
            ],
            [
             0.7777777777777778,
             "#fb9f3a"
            ],
            [
             0.8888888888888888,
             "#fdca26"
            ],
            [
             1,
             "#f0f921"
            ]
           ],
           "sequentialminus": [
            [
             0,
             "#0d0887"
            ],
            [
             0.1111111111111111,
             "#46039f"
            ],
            [
             0.2222222222222222,
             "#7201a8"
            ],
            [
             0.3333333333333333,
             "#9c179e"
            ],
            [
             0.4444444444444444,
             "#bd3786"
            ],
            [
             0.5555555555555556,
             "#d8576b"
            ],
            [
             0.6666666666666666,
             "#ed7953"
            ],
            [
             0.7777777777777778,
             "#fb9f3a"
            ],
            [
             0.8888888888888888,
             "#fdca26"
            ],
            [
             1,
             "#f0f921"
            ]
           ]
          },
          "colorway": [
           "#636efa",
           "#EF553B",
           "#00cc96",
           "#ab63fa",
           "#FFA15A",
           "#19d3f3",
           "#FF6692",
           "#B6E880",
           "#FF97FF",
           "#FECB52"
          ],
          "font": {
           "color": "#2a3f5f"
          },
          "geo": {
           "bgcolor": "white",
           "lakecolor": "white",
           "landcolor": "#E5ECF6",
           "showlakes": true,
           "showland": true,
           "subunitcolor": "white"
          },
          "hoverlabel": {
           "align": "left"
          },
          "hovermode": "closest",
          "mapbox": {
           "style": "light"
          },
          "paper_bgcolor": "white",
          "plot_bgcolor": "#E5ECF6",
          "polar": {
           "angularaxis": {
            "gridcolor": "white",
            "linecolor": "white",
            "ticks": ""
           },
           "bgcolor": "#E5ECF6",
           "radialaxis": {
            "gridcolor": "white",
            "linecolor": "white",
            "ticks": ""
           }
          },
          "scene": {
           "xaxis": {
            "backgroundcolor": "#E5ECF6",
            "gridcolor": "white",
            "gridwidth": 2,
            "linecolor": "white",
            "showbackground": true,
            "ticks": "",
            "zerolinecolor": "white"
           },
           "yaxis": {
            "backgroundcolor": "#E5ECF6",
            "gridcolor": "white",
            "gridwidth": 2,
            "linecolor": "white",
            "showbackground": true,
            "ticks": "",
            "zerolinecolor": "white"
           },
           "zaxis": {
            "backgroundcolor": "#E5ECF6",
            "gridcolor": "white",
            "gridwidth": 2,
            "linecolor": "white",
            "showbackground": true,
            "ticks": "",
            "zerolinecolor": "white"
           }
          },
          "shapedefaults": {
           "line": {
            "color": "#2a3f5f"
           }
          },
          "ternary": {
           "aaxis": {
            "gridcolor": "white",
            "linecolor": "white",
            "ticks": ""
           },
           "baxis": {
            "gridcolor": "white",
            "linecolor": "white",
            "ticks": ""
           },
           "bgcolor": "#E5ECF6",
           "caxis": {
            "gridcolor": "white",
            "linecolor": "white",
            "ticks": ""
           }
          },
          "title": {
           "x": 0.05
          },
          "xaxis": {
           "automargin": true,
           "gridcolor": "white",
           "linecolor": "white",
           "ticks": "",
           "title": {
            "standoff": 15
           },
           "zerolinecolor": "white",
           "zerolinewidth": 2
          },
          "yaxis": {
           "automargin": true,
           "gridcolor": "white",
           "linecolor": "white",
           "ticks": "",
           "title": {
            "standoff": 15
           },
           "zerolinecolor": "white",
           "zerolinewidth": 2
          }
         }
        },
        "title": {
         "text": "2020 Sales Report"
        }
       }
      }
     },
     "metadata": {},
     "output_type": "display_data"
    }
   ],
   "source": [
    "# Bar Graph에 글씨 세기기\n",
    "months = ['Jan','Feb','Mar','Apr','May','Jun','Jul','Aug','Sep','Oct','Nov','Dec']\n",
    "primary_scales= [20,14,25,16,18,22,19,15,12,16,14,17]\n",
    "secondary_scales = [19,14,22,14,16,19,15,14,10,12,12,16]\n",
    "\n",
    "trace1 = go.Bar(\n",
    "    x=months,\n",
    "    y=primary_scales,\n",
    "    name='Primary Product',\n",
    "    marker=dict(\n",
    "        color='rgb(49,130,189)',\n",
    "        opacity=0.7\n",
    "    ),\n",
    "    text=primary_scales,\n",
    "    textposition='auto',\n",
    ")\n",
    "trace2 = go.Bar(\n",
    "    x=months,\n",
    "    y=secondary_scales,\n",
    "    name='Secondary Product',\n",
    "    marker=dict(\n",
    "        color='rgb(204,204,204)',\n",
    "        opacity=0.5\n",
    "    ),\n",
    "    text=secondary_scales,\n",
    "    textposition='auto',\n",
    ")\n",
    "\n",
    "data = [trace1, trace2]\n",
    "layout = go.Layout(barmode='group', title='2020 Sales Report')\n",
    "fig = go.Figure(data=data, layout=layout)\n",
    "fig.show() "
   ]
  },
  {
   "cell_type": "code",
   "execution_count": 26,
   "metadata": {},
   "outputs": [
    {
     "data": {
      "application/vnd.plotly.v1+json": {
       "config": {
        "plotlyServerURL": "https://plot.ly"
       },
       "data": [
        {
         "labels": [
          "C",
          "C++",
          "Java",
          "Pyhton",
          "PHP"
         ],
         "pull": [
          0.1,
          0,
          0,
          0,
          0
         ],
         "type": "pie",
         "values": [
          23,
          17,
          35,
          29,
          12
         ]
        }
       ],
       "layout": {
        "template": {
         "data": {
          "bar": [
           {
            "error_x": {
             "color": "#2a3f5f"
            },
            "error_y": {
             "color": "#2a3f5f"
            },
            "marker": {
             "line": {
              "color": "#E5ECF6",
              "width": 0.5
             },
             "pattern": {
              "fillmode": "overlay",
              "size": 10,
              "solidity": 0.2
             }
            },
            "type": "bar"
           }
          ],
          "barpolar": [
           {
            "marker": {
             "line": {
              "color": "#E5ECF6",
              "width": 0.5
             },
             "pattern": {
              "fillmode": "overlay",
              "size": 10,
              "solidity": 0.2
             }
            },
            "type": "barpolar"
           }
          ],
          "carpet": [
           {
            "aaxis": {
             "endlinecolor": "#2a3f5f",
             "gridcolor": "white",
             "linecolor": "white",
             "minorgridcolor": "white",
             "startlinecolor": "#2a3f5f"
            },
            "baxis": {
             "endlinecolor": "#2a3f5f",
             "gridcolor": "white",
             "linecolor": "white",
             "minorgridcolor": "white",
             "startlinecolor": "#2a3f5f"
            },
            "type": "carpet"
           }
          ],
          "choropleth": [
           {
            "colorbar": {
             "outlinewidth": 0,
             "ticks": ""
            },
            "type": "choropleth"
           }
          ],
          "contour": [
           {
            "colorbar": {
             "outlinewidth": 0,
             "ticks": ""
            },
            "colorscale": [
             [
              0,
              "#0d0887"
             ],
             [
              0.1111111111111111,
              "#46039f"
             ],
             [
              0.2222222222222222,
              "#7201a8"
             ],
             [
              0.3333333333333333,
              "#9c179e"
             ],
             [
              0.4444444444444444,
              "#bd3786"
             ],
             [
              0.5555555555555556,
              "#d8576b"
             ],
             [
              0.6666666666666666,
              "#ed7953"
             ],
             [
              0.7777777777777778,
              "#fb9f3a"
             ],
             [
              0.8888888888888888,
              "#fdca26"
             ],
             [
              1,
              "#f0f921"
             ]
            ],
            "type": "contour"
           }
          ],
          "contourcarpet": [
           {
            "colorbar": {
             "outlinewidth": 0,
             "ticks": ""
            },
            "type": "contourcarpet"
           }
          ],
          "heatmap": [
           {
            "colorbar": {
             "outlinewidth": 0,
             "ticks": ""
            },
            "colorscale": [
             [
              0,
              "#0d0887"
             ],
             [
              0.1111111111111111,
              "#46039f"
             ],
             [
              0.2222222222222222,
              "#7201a8"
             ],
             [
              0.3333333333333333,
              "#9c179e"
             ],
             [
              0.4444444444444444,
              "#bd3786"
             ],
             [
              0.5555555555555556,
              "#d8576b"
             ],
             [
              0.6666666666666666,
              "#ed7953"
             ],
             [
              0.7777777777777778,
              "#fb9f3a"
             ],
             [
              0.8888888888888888,
              "#fdca26"
             ],
             [
              1,
              "#f0f921"
             ]
            ],
            "type": "heatmap"
           }
          ],
          "heatmapgl": [
           {
            "colorbar": {
             "outlinewidth": 0,
             "ticks": ""
            },
            "colorscale": [
             [
              0,
              "#0d0887"
             ],
             [
              0.1111111111111111,
              "#46039f"
             ],
             [
              0.2222222222222222,
              "#7201a8"
             ],
             [
              0.3333333333333333,
              "#9c179e"
             ],
             [
              0.4444444444444444,
              "#bd3786"
             ],
             [
              0.5555555555555556,
              "#d8576b"
             ],
             [
              0.6666666666666666,
              "#ed7953"
             ],
             [
              0.7777777777777778,
              "#fb9f3a"
             ],
             [
              0.8888888888888888,
              "#fdca26"
             ],
             [
              1,
              "#f0f921"
             ]
            ],
            "type": "heatmapgl"
           }
          ],
          "histogram": [
           {
            "marker": {
             "pattern": {
              "fillmode": "overlay",
              "size": 10,
              "solidity": 0.2
             }
            },
            "type": "histogram"
           }
          ],
          "histogram2d": [
           {
            "colorbar": {
             "outlinewidth": 0,
             "ticks": ""
            },
            "colorscale": [
             [
              0,
              "#0d0887"
             ],
             [
              0.1111111111111111,
              "#46039f"
             ],
             [
              0.2222222222222222,
              "#7201a8"
             ],
             [
              0.3333333333333333,
              "#9c179e"
             ],
             [
              0.4444444444444444,
              "#bd3786"
             ],
             [
              0.5555555555555556,
              "#d8576b"
             ],
             [
              0.6666666666666666,
              "#ed7953"
             ],
             [
              0.7777777777777778,
              "#fb9f3a"
             ],
             [
              0.8888888888888888,
              "#fdca26"
             ],
             [
              1,
              "#f0f921"
             ]
            ],
            "type": "histogram2d"
           }
          ],
          "histogram2dcontour": [
           {
            "colorbar": {
             "outlinewidth": 0,
             "ticks": ""
            },
            "colorscale": [
             [
              0,
              "#0d0887"
             ],
             [
              0.1111111111111111,
              "#46039f"
             ],
             [
              0.2222222222222222,
              "#7201a8"
             ],
             [
              0.3333333333333333,
              "#9c179e"
             ],
             [
              0.4444444444444444,
              "#bd3786"
             ],
             [
              0.5555555555555556,
              "#d8576b"
             ],
             [
              0.6666666666666666,
              "#ed7953"
             ],
             [
              0.7777777777777778,
              "#fb9f3a"
             ],
             [
              0.8888888888888888,
              "#fdca26"
             ],
             [
              1,
              "#f0f921"
             ]
            ],
            "type": "histogram2dcontour"
           }
          ],
          "mesh3d": [
           {
            "colorbar": {
             "outlinewidth": 0,
             "ticks": ""
            },
            "type": "mesh3d"
           }
          ],
          "parcoords": [
           {
            "line": {
             "colorbar": {
              "outlinewidth": 0,
              "ticks": ""
             }
            },
            "type": "parcoords"
           }
          ],
          "pie": [
           {
            "automargin": true,
            "type": "pie"
           }
          ],
          "scatter": [
           {
            "fillpattern": {
             "fillmode": "overlay",
             "size": 10,
             "solidity": 0.2
            },
            "type": "scatter"
           }
          ],
          "scatter3d": [
           {
            "line": {
             "colorbar": {
              "outlinewidth": 0,
              "ticks": ""
             }
            },
            "marker": {
             "colorbar": {
              "outlinewidth": 0,
              "ticks": ""
             }
            },
            "type": "scatter3d"
           }
          ],
          "scattercarpet": [
           {
            "marker": {
             "colorbar": {
              "outlinewidth": 0,
              "ticks": ""
             }
            },
            "type": "scattercarpet"
           }
          ],
          "scattergeo": [
           {
            "marker": {
             "colorbar": {
              "outlinewidth": 0,
              "ticks": ""
             }
            },
            "type": "scattergeo"
           }
          ],
          "scattergl": [
           {
            "marker": {
             "colorbar": {
              "outlinewidth": 0,
              "ticks": ""
             }
            },
            "type": "scattergl"
           }
          ],
          "scattermapbox": [
           {
            "marker": {
             "colorbar": {
              "outlinewidth": 0,
              "ticks": ""
             }
            },
            "type": "scattermapbox"
           }
          ],
          "scatterpolar": [
           {
            "marker": {
             "colorbar": {
              "outlinewidth": 0,
              "ticks": ""
             }
            },
            "type": "scatterpolar"
           }
          ],
          "scatterpolargl": [
           {
            "marker": {
             "colorbar": {
              "outlinewidth": 0,
              "ticks": ""
             }
            },
            "type": "scatterpolargl"
           }
          ],
          "scatterternary": [
           {
            "marker": {
             "colorbar": {
              "outlinewidth": 0,
              "ticks": ""
             }
            },
            "type": "scatterternary"
           }
          ],
          "surface": [
           {
            "colorbar": {
             "outlinewidth": 0,
             "ticks": ""
            },
            "colorscale": [
             [
              0,
              "#0d0887"
             ],
             [
              0.1111111111111111,
              "#46039f"
             ],
             [
              0.2222222222222222,
              "#7201a8"
             ],
             [
              0.3333333333333333,
              "#9c179e"
             ],
             [
              0.4444444444444444,
              "#bd3786"
             ],
             [
              0.5555555555555556,
              "#d8576b"
             ],
             [
              0.6666666666666666,
              "#ed7953"
             ],
             [
              0.7777777777777778,
              "#fb9f3a"
             ],
             [
              0.8888888888888888,
              "#fdca26"
             ],
             [
              1,
              "#f0f921"
             ]
            ],
            "type": "surface"
           }
          ],
          "table": [
           {
            "cells": {
             "fill": {
              "color": "#EBF0F8"
             },
             "line": {
              "color": "white"
             }
            },
            "header": {
             "fill": {
              "color": "#C8D4E3"
             },
             "line": {
              "color": "white"
             }
            },
            "type": "table"
           }
          ]
         },
         "layout": {
          "annotationdefaults": {
           "arrowcolor": "#2a3f5f",
           "arrowhead": 0,
           "arrowwidth": 1
          },
          "autotypenumbers": "strict",
          "coloraxis": {
           "colorbar": {
            "outlinewidth": 0,
            "ticks": ""
           }
          },
          "colorscale": {
           "diverging": [
            [
             0,
             "#8e0152"
            ],
            [
             0.1,
             "#c51b7d"
            ],
            [
             0.2,
             "#de77ae"
            ],
            [
             0.3,
             "#f1b6da"
            ],
            [
             0.4,
             "#fde0ef"
            ],
            [
             0.5,
             "#f7f7f7"
            ],
            [
             0.6,
             "#e6f5d0"
            ],
            [
             0.7,
             "#b8e186"
            ],
            [
             0.8,
             "#7fbc41"
            ],
            [
             0.9,
             "#4d9221"
            ],
            [
             1,
             "#276419"
            ]
           ],
           "sequential": [
            [
             0,
             "#0d0887"
            ],
            [
             0.1111111111111111,
             "#46039f"
            ],
            [
             0.2222222222222222,
             "#7201a8"
            ],
            [
             0.3333333333333333,
             "#9c179e"
            ],
            [
             0.4444444444444444,
             "#bd3786"
            ],
            [
             0.5555555555555556,
             "#d8576b"
            ],
            [
             0.6666666666666666,
             "#ed7953"
            ],
            [
             0.7777777777777778,
             "#fb9f3a"
            ],
            [
             0.8888888888888888,
             "#fdca26"
            ],
            [
             1,
             "#f0f921"
            ]
           ],
           "sequentialminus": [
            [
             0,
             "#0d0887"
            ],
            [
             0.1111111111111111,
             "#46039f"
            ],
            [
             0.2222222222222222,
             "#7201a8"
            ],
            [
             0.3333333333333333,
             "#9c179e"
            ],
            [
             0.4444444444444444,
             "#bd3786"
            ],
            [
             0.5555555555555556,
             "#d8576b"
            ],
            [
             0.6666666666666666,
             "#ed7953"
            ],
            [
             0.7777777777777778,
             "#fb9f3a"
            ],
            [
             0.8888888888888888,
             "#fdca26"
            ],
            [
             1,
             "#f0f921"
            ]
           ]
          },
          "colorway": [
           "#636efa",
           "#EF553B",
           "#00cc96",
           "#ab63fa",
           "#FFA15A",
           "#19d3f3",
           "#FF6692",
           "#B6E880",
           "#FF97FF",
           "#FECB52"
          ],
          "font": {
           "color": "#2a3f5f"
          },
          "geo": {
           "bgcolor": "white",
           "lakecolor": "white",
           "landcolor": "#E5ECF6",
           "showlakes": true,
           "showland": true,
           "subunitcolor": "white"
          },
          "hoverlabel": {
           "align": "left"
          },
          "hovermode": "closest",
          "mapbox": {
           "style": "light"
          },
          "paper_bgcolor": "white",
          "plot_bgcolor": "#E5ECF6",
          "polar": {
           "angularaxis": {
            "gridcolor": "white",
            "linecolor": "white",
            "ticks": ""
           },
           "bgcolor": "#E5ECF6",
           "radialaxis": {
            "gridcolor": "white",
            "linecolor": "white",
            "ticks": ""
           }
          },
          "scene": {
           "xaxis": {
            "backgroundcolor": "#E5ECF6",
            "gridcolor": "white",
            "gridwidth": 2,
            "linecolor": "white",
            "showbackground": true,
            "ticks": "",
            "zerolinecolor": "white"
           },
           "yaxis": {
            "backgroundcolor": "#E5ECF6",
            "gridcolor": "white",
            "gridwidth": 2,
            "linecolor": "white",
            "showbackground": true,
            "ticks": "",
            "zerolinecolor": "white"
           },
           "zaxis": {
            "backgroundcolor": "#E5ECF6",
            "gridcolor": "white",
            "gridwidth": 2,
            "linecolor": "white",
            "showbackground": true,
            "ticks": "",
            "zerolinecolor": "white"
           }
          },
          "shapedefaults": {
           "line": {
            "color": "#2a3f5f"
           }
          },
          "ternary": {
           "aaxis": {
            "gridcolor": "white",
            "linecolor": "white",
            "ticks": ""
           },
           "baxis": {
            "gridcolor": "white",
            "linecolor": "white",
            "ticks": ""
           },
           "bgcolor": "#E5ECF6",
           "caxis": {
            "gridcolor": "white",
            "linecolor": "white",
            "ticks": ""
           }
          },
          "title": {
           "x": 0.05
          },
          "xaxis": {
           "automargin": true,
           "gridcolor": "white",
           "linecolor": "white",
           "ticks": "",
           "title": {
            "standoff": 15
           },
           "zerolinecolor": "white",
           "zerolinewidth": 2
          },
          "yaxis": {
           "automargin": true,
           "gridcolor": "white",
           "linecolor": "white",
           "ticks": "",
           "title": {
            "standoff": 15
           },
           "zerolinecolor": "white",
           "zerolinewidth": 2
          }
         }
        }
       }
      }
     },
     "metadata": {},
     "output_type": "display_data"
    }
   ],
   "source": [
    "# Pie 그래프 - label과 value는 필수 요소이다.\n",
    "langs = ['C','C++','Java','Pyhton','PHP']\n",
    "students = [23,17,35,29,12]\n",
    "\n",
    "data = [go.Pie(\n",
    "    labels=langs,\n",
    "    values=students,\n",
    "    pull=[0.1,0,0,0,0]\n",
    ")]\n",
    "\n",
    "fig = go.Figure(data=data)\n",
    "fig.show()"
   ]
  },
  {
   "cell_type": "code",
   "execution_count": 31,
   "metadata": {},
   "outputs": [
    {
     "data": {
      "application/vnd.plotly.v1+json": {
       "config": {
        "plotlyServerURL": "https://plot.ly"
       },
       "data": [
        {
         "domain": {
          "x": [
           0,
           0.45
          ],
          "y": [
           0,
           1
          ]
         },
         "hole": 0.4,
         "hoverinfo": "label+percent+name",
         "labels": [
          "US",
          "China",
          "European Union",
          "Russian Federation",
          "Brazil",
          "India",
          "Rest of World"
         ],
         "name": "GHG Emissions",
         "type": "pie",
         "values": [
          16,
          15,
          12,
          6,
          5,
          4,
          42
         ]
        },
        {
         "domain": {
          "x": [
           0.55,
           1
          ],
          "y": [
           0,
           1
          ]
         },
         "hole": 0.4,
         "hoverinfo": "label+percent+name",
         "labels": [
          "US",
          "China",
          "European Union",
          "Russian Federation",
          "Brazil",
          "India",
          "Rest of World"
         ],
         "name": "CO2 Emissions",
         "type": "pie",
         "values": [
          27,
          11,
          25,
          8,
          1,
          3,
          25
         ]
        }
       ],
       "layout": {
        "annotations": [
         {
          "font": {
           "size": 20
          },
          "showarrow": false,
          "text": "GHG",
          "x": 0.18,
          "y": 0.5
         },
         {
          "font": {
           "size": 20
          },
          "showarrow": false,
          "text": "CO2",
          "x": 0.82,
          "y": 0.5
         }
        ],
        "template": {
         "data": {
          "bar": [
           {
            "error_x": {
             "color": "#2a3f5f"
            },
            "error_y": {
             "color": "#2a3f5f"
            },
            "marker": {
             "line": {
              "color": "#E5ECF6",
              "width": 0.5
             },
             "pattern": {
              "fillmode": "overlay",
              "size": 10,
              "solidity": 0.2
             }
            },
            "type": "bar"
           }
          ],
          "barpolar": [
           {
            "marker": {
             "line": {
              "color": "#E5ECF6",
              "width": 0.5
             },
             "pattern": {
              "fillmode": "overlay",
              "size": 10,
              "solidity": 0.2
             }
            },
            "type": "barpolar"
           }
          ],
          "carpet": [
           {
            "aaxis": {
             "endlinecolor": "#2a3f5f",
             "gridcolor": "white",
             "linecolor": "white",
             "minorgridcolor": "white",
             "startlinecolor": "#2a3f5f"
            },
            "baxis": {
             "endlinecolor": "#2a3f5f",
             "gridcolor": "white",
             "linecolor": "white",
             "minorgridcolor": "white",
             "startlinecolor": "#2a3f5f"
            },
            "type": "carpet"
           }
          ],
          "choropleth": [
           {
            "colorbar": {
             "outlinewidth": 0,
             "ticks": ""
            },
            "type": "choropleth"
           }
          ],
          "contour": [
           {
            "colorbar": {
             "outlinewidth": 0,
             "ticks": ""
            },
            "colorscale": [
             [
              0,
              "#0d0887"
             ],
             [
              0.1111111111111111,
              "#46039f"
             ],
             [
              0.2222222222222222,
              "#7201a8"
             ],
             [
              0.3333333333333333,
              "#9c179e"
             ],
             [
              0.4444444444444444,
              "#bd3786"
             ],
             [
              0.5555555555555556,
              "#d8576b"
             ],
             [
              0.6666666666666666,
              "#ed7953"
             ],
             [
              0.7777777777777778,
              "#fb9f3a"
             ],
             [
              0.8888888888888888,
              "#fdca26"
             ],
             [
              1,
              "#f0f921"
             ]
            ],
            "type": "contour"
           }
          ],
          "contourcarpet": [
           {
            "colorbar": {
             "outlinewidth": 0,
             "ticks": ""
            },
            "type": "contourcarpet"
           }
          ],
          "heatmap": [
           {
            "colorbar": {
             "outlinewidth": 0,
             "ticks": ""
            },
            "colorscale": [
             [
              0,
              "#0d0887"
             ],
             [
              0.1111111111111111,
              "#46039f"
             ],
             [
              0.2222222222222222,
              "#7201a8"
             ],
             [
              0.3333333333333333,
              "#9c179e"
             ],
             [
              0.4444444444444444,
              "#bd3786"
             ],
             [
              0.5555555555555556,
              "#d8576b"
             ],
             [
              0.6666666666666666,
              "#ed7953"
             ],
             [
              0.7777777777777778,
              "#fb9f3a"
             ],
             [
              0.8888888888888888,
              "#fdca26"
             ],
             [
              1,
              "#f0f921"
             ]
            ],
            "type": "heatmap"
           }
          ],
          "heatmapgl": [
           {
            "colorbar": {
             "outlinewidth": 0,
             "ticks": ""
            },
            "colorscale": [
             [
              0,
              "#0d0887"
             ],
             [
              0.1111111111111111,
              "#46039f"
             ],
             [
              0.2222222222222222,
              "#7201a8"
             ],
             [
              0.3333333333333333,
              "#9c179e"
             ],
             [
              0.4444444444444444,
              "#bd3786"
             ],
             [
              0.5555555555555556,
              "#d8576b"
             ],
             [
              0.6666666666666666,
              "#ed7953"
             ],
             [
              0.7777777777777778,
              "#fb9f3a"
             ],
             [
              0.8888888888888888,
              "#fdca26"
             ],
             [
              1,
              "#f0f921"
             ]
            ],
            "type": "heatmapgl"
           }
          ],
          "histogram": [
           {
            "marker": {
             "pattern": {
              "fillmode": "overlay",
              "size": 10,
              "solidity": 0.2
             }
            },
            "type": "histogram"
           }
          ],
          "histogram2d": [
           {
            "colorbar": {
             "outlinewidth": 0,
             "ticks": ""
            },
            "colorscale": [
             [
              0,
              "#0d0887"
             ],
             [
              0.1111111111111111,
              "#46039f"
             ],
             [
              0.2222222222222222,
              "#7201a8"
             ],
             [
              0.3333333333333333,
              "#9c179e"
             ],
             [
              0.4444444444444444,
              "#bd3786"
             ],
             [
              0.5555555555555556,
              "#d8576b"
             ],
             [
              0.6666666666666666,
              "#ed7953"
             ],
             [
              0.7777777777777778,
              "#fb9f3a"
             ],
             [
              0.8888888888888888,
              "#fdca26"
             ],
             [
              1,
              "#f0f921"
             ]
            ],
            "type": "histogram2d"
           }
          ],
          "histogram2dcontour": [
           {
            "colorbar": {
             "outlinewidth": 0,
             "ticks": ""
            },
            "colorscale": [
             [
              0,
              "#0d0887"
             ],
             [
              0.1111111111111111,
              "#46039f"
             ],
             [
              0.2222222222222222,
              "#7201a8"
             ],
             [
              0.3333333333333333,
              "#9c179e"
             ],
             [
              0.4444444444444444,
              "#bd3786"
             ],
             [
              0.5555555555555556,
              "#d8576b"
             ],
             [
              0.6666666666666666,
              "#ed7953"
             ],
             [
              0.7777777777777778,
              "#fb9f3a"
             ],
             [
              0.8888888888888888,
              "#fdca26"
             ],
             [
              1,
              "#f0f921"
             ]
            ],
            "type": "histogram2dcontour"
           }
          ],
          "mesh3d": [
           {
            "colorbar": {
             "outlinewidth": 0,
             "ticks": ""
            },
            "type": "mesh3d"
           }
          ],
          "parcoords": [
           {
            "line": {
             "colorbar": {
              "outlinewidth": 0,
              "ticks": ""
             }
            },
            "type": "parcoords"
           }
          ],
          "pie": [
           {
            "automargin": true,
            "type": "pie"
           }
          ],
          "scatter": [
           {
            "fillpattern": {
             "fillmode": "overlay",
             "size": 10,
             "solidity": 0.2
            },
            "type": "scatter"
           }
          ],
          "scatter3d": [
           {
            "line": {
             "colorbar": {
              "outlinewidth": 0,
              "ticks": ""
             }
            },
            "marker": {
             "colorbar": {
              "outlinewidth": 0,
              "ticks": ""
             }
            },
            "type": "scatter3d"
           }
          ],
          "scattercarpet": [
           {
            "marker": {
             "colorbar": {
              "outlinewidth": 0,
              "ticks": ""
             }
            },
            "type": "scattercarpet"
           }
          ],
          "scattergeo": [
           {
            "marker": {
             "colorbar": {
              "outlinewidth": 0,
              "ticks": ""
             }
            },
            "type": "scattergeo"
           }
          ],
          "scattergl": [
           {
            "marker": {
             "colorbar": {
              "outlinewidth": 0,
              "ticks": ""
             }
            },
            "type": "scattergl"
           }
          ],
          "scattermapbox": [
           {
            "marker": {
             "colorbar": {
              "outlinewidth": 0,
              "ticks": ""
             }
            },
            "type": "scattermapbox"
           }
          ],
          "scatterpolar": [
           {
            "marker": {
             "colorbar": {
              "outlinewidth": 0,
              "ticks": ""
             }
            },
            "type": "scatterpolar"
           }
          ],
          "scatterpolargl": [
           {
            "marker": {
             "colorbar": {
              "outlinewidth": 0,
              "ticks": ""
             }
            },
            "type": "scatterpolargl"
           }
          ],
          "scatterternary": [
           {
            "marker": {
             "colorbar": {
              "outlinewidth": 0,
              "ticks": ""
             }
            },
            "type": "scatterternary"
           }
          ],
          "surface": [
           {
            "colorbar": {
             "outlinewidth": 0,
             "ticks": ""
            },
            "colorscale": [
             [
              0,
              "#0d0887"
             ],
             [
              0.1111111111111111,
              "#46039f"
             ],
             [
              0.2222222222222222,
              "#7201a8"
             ],
             [
              0.3333333333333333,
              "#9c179e"
             ],
             [
              0.4444444444444444,
              "#bd3786"
             ],
             [
              0.5555555555555556,
              "#d8576b"
             ],
             [
              0.6666666666666666,
              "#ed7953"
             ],
             [
              0.7777777777777778,
              "#fb9f3a"
             ],
             [
              0.8888888888888888,
              "#fdca26"
             ],
             [
              1,
              "#f0f921"
             ]
            ],
            "type": "surface"
           }
          ],
          "table": [
           {
            "cells": {
             "fill": {
              "color": "#EBF0F8"
             },
             "line": {
              "color": "white"
             }
            },
            "header": {
             "fill": {
              "color": "#C8D4E3"
             },
             "line": {
              "color": "white"
             }
            },
            "type": "table"
           }
          ]
         },
         "layout": {
          "annotationdefaults": {
           "arrowcolor": "#2a3f5f",
           "arrowhead": 0,
           "arrowwidth": 1
          },
          "autotypenumbers": "strict",
          "coloraxis": {
           "colorbar": {
            "outlinewidth": 0,
            "ticks": ""
           }
          },
          "colorscale": {
           "diverging": [
            [
             0,
             "#8e0152"
            ],
            [
             0.1,
             "#c51b7d"
            ],
            [
             0.2,
             "#de77ae"
            ],
            [
             0.3,
             "#f1b6da"
            ],
            [
             0.4,
             "#fde0ef"
            ],
            [
             0.5,
             "#f7f7f7"
            ],
            [
             0.6,
             "#e6f5d0"
            ],
            [
             0.7,
             "#b8e186"
            ],
            [
             0.8,
             "#7fbc41"
            ],
            [
             0.9,
             "#4d9221"
            ],
            [
             1,
             "#276419"
            ]
           ],
           "sequential": [
            [
             0,
             "#0d0887"
            ],
            [
             0.1111111111111111,
             "#46039f"
            ],
            [
             0.2222222222222222,
             "#7201a8"
            ],
            [
             0.3333333333333333,
             "#9c179e"
            ],
            [
             0.4444444444444444,
             "#bd3786"
            ],
            [
             0.5555555555555556,
             "#d8576b"
            ],
            [
             0.6666666666666666,
             "#ed7953"
            ],
            [
             0.7777777777777778,
             "#fb9f3a"
            ],
            [
             0.8888888888888888,
             "#fdca26"
            ],
            [
             1,
             "#f0f921"
            ]
           ],
           "sequentialminus": [
            [
             0,
             "#0d0887"
            ],
            [
             0.1111111111111111,
             "#46039f"
            ],
            [
             0.2222222222222222,
             "#7201a8"
            ],
            [
             0.3333333333333333,
             "#9c179e"
            ],
            [
             0.4444444444444444,
             "#bd3786"
            ],
            [
             0.5555555555555556,
             "#d8576b"
            ],
            [
             0.6666666666666666,
             "#ed7953"
            ],
            [
             0.7777777777777778,
             "#fb9f3a"
            ],
            [
             0.8888888888888888,
             "#fdca26"
            ],
            [
             1,
             "#f0f921"
            ]
           ]
          },
          "colorway": [
           "#636efa",
           "#EF553B",
           "#00cc96",
           "#ab63fa",
           "#FFA15A",
           "#19d3f3",
           "#FF6692",
           "#B6E880",
           "#FF97FF",
           "#FECB52"
          ],
          "font": {
           "color": "#2a3f5f"
          },
          "geo": {
           "bgcolor": "white",
           "lakecolor": "white",
           "landcolor": "#E5ECF6",
           "showlakes": true,
           "showland": true,
           "subunitcolor": "white"
          },
          "hoverlabel": {
           "align": "left"
          },
          "hovermode": "closest",
          "mapbox": {
           "style": "light"
          },
          "paper_bgcolor": "white",
          "plot_bgcolor": "#E5ECF6",
          "polar": {
           "angularaxis": {
            "gridcolor": "white",
            "linecolor": "white",
            "ticks": ""
           },
           "bgcolor": "#E5ECF6",
           "radialaxis": {
            "gridcolor": "white",
            "linecolor": "white",
            "ticks": ""
           }
          },
          "scene": {
           "xaxis": {
            "backgroundcolor": "#E5ECF6",
            "gridcolor": "white",
            "gridwidth": 2,
            "linecolor": "white",
            "showbackground": true,
            "ticks": "",
            "zerolinecolor": "white"
           },
           "yaxis": {
            "backgroundcolor": "#E5ECF6",
            "gridcolor": "white",
            "gridwidth": 2,
            "linecolor": "white",
            "showbackground": true,
            "ticks": "",
            "zerolinecolor": "white"
           },
           "zaxis": {
            "backgroundcolor": "#E5ECF6",
            "gridcolor": "white",
            "gridwidth": 2,
            "linecolor": "white",
            "showbackground": true,
            "ticks": "",
            "zerolinecolor": "white"
           }
          },
          "shapedefaults": {
           "line": {
            "color": "#2a3f5f"
           }
          },
          "ternary": {
           "aaxis": {
            "gridcolor": "white",
            "linecolor": "white",
            "ticks": ""
           },
           "baxis": {
            "gridcolor": "white",
            "linecolor": "white",
            "ticks": ""
           },
           "bgcolor": "#E5ECF6",
           "caxis": {
            "gridcolor": "white",
            "linecolor": "white",
            "ticks": ""
           }
          },
          "title": {
           "x": 0.05
          },
          "xaxis": {
           "automargin": true,
           "gridcolor": "white",
           "linecolor": "white",
           "ticks": "",
           "title": {
            "standoff": 15
           },
           "zerolinecolor": "white",
           "zerolinewidth": 2
          },
          "yaxis": {
           "automargin": true,
           "gridcolor": "white",
           "linecolor": "white",
           "ticks": "",
           "title": {
            "standoff": 15
           },
           "zerolinecolor": "white",
           "zerolinewidth": 2
          }
         }
        },
        "title": {
         "text": "Global Emissions 1990-2011"
        }
       }
      }
     },
     "metadata": {},
     "output_type": "display_data"
    }
   ],
   "source": [
    "# subplot으로 한번에 그래프 2개 그리고 파이차트에 구멍 뚫어서 가운데에 이름 새기기\n",
    "countries = [\"US\",\"China\",\"European Union\",\"Russian Federation\", \"Brazil\",\"India\",\"Rest of World\"]\n",
    "ghg = [16,15,12,6,5,4,42]\n",
    "co2 = [27,11,25,8,1,3,25]\n",
    "\n",
    "fig = make_subplots(\n",
    "    rows=1,\n",
    "    cols=2,\n",
    "    specs=[[{'type':'domain'},{'type':'domain'}]]\n",
    ")\n",
    "fig.add_trace(go.Pie(\n",
    "    labels=countries,\n",
    "    values=ghg,\n",
    "    name='GHG Emissions'),\n",
    "    row=1,\n",
    "    col=1,\n",
    ")\n",
    "fig.add_trace(go.Pie(\n",
    "    labels=countries,\n",
    "    values=co2,\n",
    "    name='CO2 Emissions'),\n",
    "    row=1,\n",
    "    col=2,\n",
    ")\n",
    "fig.update_traces(\n",
    "    hole=.4,\n",
    "    hoverinfo='label+percent+name',    \n",
    ")\n",
    "fig.update_layout(\n",
    "    title_text='Global Emissions 1990-2011',\n",
    "    annotations=[dict(text='GHG',x=0.18,y=0.5,font_size=20,showarrow=False),\n",
    "        dict(text='CO2',x=0.82,y=0.5,font_size=20,showarrow=False)]\n",
    ")\n",
    "fig.show()"
   ]
  },
  {
   "cell_type": "code",
   "execution_count": 35,
   "metadata": {},
   "outputs": [
    {
     "data": {
      "application/vnd.plotly.v1+json": {
       "config": {
        "plotlyServerURL": "https://plot.ly"
       },
       "data": [
        {
         "mode": "markers",
         "name": "marekrs",
         "type": "scatter",
         "x": [
          0,
          0.010101010101010102,
          0.020202020202020204,
          0.030303030303030304,
          0.04040404040404041,
          0.05050505050505051,
          0.06060606060606061,
          0.07070707070707072,
          0.08080808080808081,
          0.09090909090909091,
          0.10101010101010102,
          0.11111111111111112,
          0.12121212121212122,
          0.13131313131313133,
          0.14141414141414144,
          0.15151515151515152,
          0.16161616161616163,
          0.17171717171717174,
          0.18181818181818182,
          0.19191919191919193,
          0.20202020202020204,
          0.21212121212121213,
          0.22222222222222224,
          0.23232323232323235,
          0.24242424242424243,
          0.25252525252525254,
          0.26262626262626265,
          0.27272727272727276,
          0.2828282828282829,
          0.29292929292929293,
          0.30303030303030304,
          0.31313131313131315,
          0.32323232323232326,
          0.33333333333333337,
          0.3434343434343435,
          0.3535353535353536,
          0.36363636363636365,
          0.37373737373737376,
          0.38383838383838387,
          0.393939393939394,
          0.4040404040404041,
          0.4141414141414142,
          0.42424242424242425,
          0.43434343434343436,
          0.4444444444444445,
          0.4545454545454546,
          0.4646464646464647,
          0.4747474747474748,
          0.48484848484848486,
          0.494949494949495,
          0.5050505050505051,
          0.5151515151515152,
          0.5252525252525253,
          0.5353535353535354,
          0.5454545454545455,
          0.5555555555555556,
          0.5656565656565657,
          0.5757575757575758,
          0.5858585858585859,
          0.595959595959596,
          0.6060606060606061,
          0.6161616161616162,
          0.6262626262626263,
          0.6363636363636365,
          0.6464646464646465,
          0.6565656565656566,
          0.6666666666666667,
          0.6767676767676768,
          0.686868686868687,
          0.696969696969697,
          0.7070707070707072,
          0.7171717171717172,
          0.7272727272727273,
          0.7373737373737375,
          0.7474747474747475,
          0.7575757575757577,
          0.7676767676767677,
          0.7777777777777778,
          0.787878787878788,
          0.797979797979798,
          0.8080808080808082,
          0.8181818181818182,
          0.8282828282828284,
          0.8383838383838385,
          0.8484848484848485,
          0.8585858585858587,
          0.8686868686868687,
          0.8787878787878789,
          0.888888888888889,
          0.8989898989898991,
          0.9090909090909092,
          0.9191919191919192,
          0.9292929292929294,
          0.9393939393939394,
          0.9494949494949496,
          0.9595959595959597,
          0.9696969696969697,
          0.9797979797979799,
          0.98989898989899,
          1
         ],
         "y": [
          6.297540765651961,
          4.714599017686799,
          4.245829154646604,
          4.056356022469619,
          3.593827745213927,
          5.6538457613242965,
          3.8534884649095975,
          5.260888159392493,
          6.213261293754197,
          4.858251327736905,
          5.024409438012759,
          5.801258286051335,
          4.283821442333061,
          4.363701535469054,
          4.396535649182404,
          6.607020931676318,
          5.076473241775521,
          5.765770978629468,
          4.441783879210689,
          4.8765034719775535,
          4.5556985188735215,
          5.5113571712619365,
          5.0498376445216415,
          6.447570649068874,
          5.923533236774088,
          5.016266479476419,
          5.3306087536077245,
          4.676462436025152,
          5.150653706489624,
          5.198342786572316,
          6.998412040233749,
          4.310426217814329,
          5.760569236185967,
          3.5046705667276976,
          3.910052060459148,
          4.969514711730787,
          3.914819733915744,
          6.655949063667236,
          4.067198384175798,
          5.730382702613885,
          4.9051530987471805,
          6.67139357832649,
          6.014819785634124,
          4.193915054307686,
          3.9524024216001226,
          4.043725768679514,
          5.437506083609293,
          4.446340149160317,
          3.532431117218529,
          6.998962174132573,
          4.787610166143238,
          4.5581580928416505,
          4.335648695243444,
          6.194077804001558,
          3.951539464729911,
          6.271403915603723,
          6.504827302141569,
          4.461540264624368,
          5.480223034621392,
          6.090272338017805,
          4.76268905022449,
          3.46491977108982,
          5.595515398193593,
          3.866020606626525,
          5.165505974599427,
          7.3018866447032345,
          6.264153201915986,
          5.108271652461388,
          5.154746704380355,
          3.9015971167841457,
          4.547188516068473,
          6.424908797477772,
          4.511915715318785,
          5.244398643163884,
          5.175390951926745,
          4.847145543157806,
          4.751502114435028,
          5.357269248183556,
          6.486642158733465,
          4.1713424567301525,
          6.427167808313422,
          4.760804354166714,
          4.898632883653228,
          4.635790433952375,
          5.331865637920197,
          5.334584847383429,
          6.08220575782734,
          6.055917316914968,
          4.057826961525027,
          6.196772909460485,
          5.438140611523297,
          4.567437129337939,
          6.593385398641887,
          5.316159796843262,
          3.963912454614977,
          5.9811173703947755,
          5.612111320000541,
          3.6565528329351,
          4.0398187425444565,
          5.36778407729456
         ]
        },
        {
         "mode": "lines+markers",
         "name": "lines+markers",
         "type": "scatter",
         "x": [
          0,
          0.010101010101010102,
          0.020202020202020204,
          0.030303030303030304,
          0.04040404040404041,
          0.05050505050505051,
          0.06060606060606061,
          0.07070707070707072,
          0.08080808080808081,
          0.09090909090909091,
          0.10101010101010102,
          0.11111111111111112,
          0.12121212121212122,
          0.13131313131313133,
          0.14141414141414144,
          0.15151515151515152,
          0.16161616161616163,
          0.17171717171717174,
          0.18181818181818182,
          0.19191919191919193,
          0.20202020202020204,
          0.21212121212121213,
          0.22222222222222224,
          0.23232323232323235,
          0.24242424242424243,
          0.25252525252525254,
          0.26262626262626265,
          0.27272727272727276,
          0.2828282828282829,
          0.29292929292929293,
          0.30303030303030304,
          0.31313131313131315,
          0.32323232323232326,
          0.33333333333333337,
          0.3434343434343435,
          0.3535353535353536,
          0.36363636363636365,
          0.37373737373737376,
          0.38383838383838387,
          0.393939393939394,
          0.4040404040404041,
          0.4141414141414142,
          0.42424242424242425,
          0.43434343434343436,
          0.4444444444444445,
          0.4545454545454546,
          0.4646464646464647,
          0.4747474747474748,
          0.48484848484848486,
          0.494949494949495,
          0.5050505050505051,
          0.5151515151515152,
          0.5252525252525253,
          0.5353535353535354,
          0.5454545454545455,
          0.5555555555555556,
          0.5656565656565657,
          0.5757575757575758,
          0.5858585858585859,
          0.595959595959596,
          0.6060606060606061,
          0.6161616161616162,
          0.6262626262626263,
          0.6363636363636365,
          0.6464646464646465,
          0.6565656565656566,
          0.6666666666666667,
          0.6767676767676768,
          0.686868686868687,
          0.696969696969697,
          0.7070707070707072,
          0.7171717171717172,
          0.7272727272727273,
          0.7373737373737375,
          0.7474747474747475,
          0.7575757575757577,
          0.7676767676767677,
          0.7777777777777778,
          0.787878787878788,
          0.797979797979798,
          0.8080808080808082,
          0.8181818181818182,
          0.8282828282828284,
          0.8383838383838385,
          0.8484848484848485,
          0.8585858585858587,
          0.8686868686868687,
          0.8787878787878789,
          0.888888888888889,
          0.8989898989898991,
          0.9090909090909092,
          0.9191919191919192,
          0.9292929292929294,
          0.9393939393939394,
          0.9494949494949496,
          0.9595959595959597,
          0.9696969696969697,
          0.9797979797979799,
          0.98989898989899,
          1
         ],
         "y": [
          -0.22500628349128082,
          -1.7666428991500294,
          -0.4863912933121627,
          -0.775963999225364,
          -0.36722367450294274,
          -0.5643245977240114,
          0.6133482650172057,
          0.8455479460905512,
          0.09034027662201555,
          0.08879783466824176,
          0.5010729341519203,
          -0.48163808019956794,
          -2.0848507540263137,
          1.2634067985116464,
          -0.4408915644026211,
          0.1063926305913649,
          -0.8773344919013624,
          -0.5323765284204613,
          0.13164628206127443,
          0.43349142753658565,
          0.5839782139376724,
          0.27503854464808014,
          2.233891310334614,
          -0.36731548578022555,
          0.3140972020562401,
          1.475878095982716,
          -0.3600271342305194,
          -0.5656450140812129,
          -0.02446434970459038,
          0.5694653258276815,
          0.10758544571911095,
          -0.3218544902385437,
          0.11128906351873123,
          -0.8009901626694742,
          1.5324963435088512,
          0.4762358538584566,
          0.28159942745496674,
          -0.4263104402836738,
          -0.9545726392185221,
          -1.4292844241050668,
          0.6088783893706681,
          -0.4194613217723694,
          -0.8377183747678694,
          0.39801752258211254,
          -0.5123747011813775,
          0.7462897971675466,
          1.0754036978655015,
          -0.87838836453366,
          -1.0412919585208094,
          0.8303992063445588,
          0.23115024282961347,
          -0.1277331079894695,
          0.11003471262999505,
          -0.6342591981448623,
          -0.5554191846139359,
          -0.011203830692432784,
          -0.17211872692822353,
          -1.82554513902474,
          0.3496807106845301,
          0.38680268228977754,
          -0.44787535837933096,
          0.5923555846714407,
          0.7177531414833026,
          -0.865038597723073,
          -0.4230974707198995,
          0.28137205366499335,
          -1.4509036922170861,
          -0.9789897201485979,
          -0.497798429091725,
          0.5909505147111778,
          -0.06641597727760128,
          0.5385340451343128,
          0.4886705361584696,
          0.09724731151888077,
          -1.8030884156388844,
          0.6407979080581314,
          -0.6572360447078288,
          -0.3089470108253685,
          0.015921913842694806,
          -2.0352523352376712,
          0.21739653047347263,
          -0.8016017192824674,
          2.1525204077630025,
          -0.2174190841282699,
          -0.22158209729625622,
          -0.38182669965705346,
          0.5154566638713516,
          -0.180273442276207,
          -1.1000432352665561,
          1.1104909671322007,
          0.6244503489051368,
          -0.3812646577210587,
          -1.5662678442596187,
          -0.3549425731453446,
          1.5410926880152123,
          0.408315755369507,
          -0.545364488322963,
          0.7844522081503438,
          0.4016794235218469,
          -1.2437585368078852
         ]
        },
        {
         "mode": "lines",
         "name": "lines",
         "type": "scatter",
         "x": [
          0,
          0.010101010101010102,
          0.020202020202020204,
          0.030303030303030304,
          0.04040404040404041,
          0.05050505050505051,
          0.06060606060606061,
          0.07070707070707072,
          0.08080808080808081,
          0.09090909090909091,
          0.10101010101010102,
          0.11111111111111112,
          0.12121212121212122,
          0.13131313131313133,
          0.14141414141414144,
          0.15151515151515152,
          0.16161616161616163,
          0.17171717171717174,
          0.18181818181818182,
          0.19191919191919193,
          0.20202020202020204,
          0.21212121212121213,
          0.22222222222222224,
          0.23232323232323235,
          0.24242424242424243,
          0.25252525252525254,
          0.26262626262626265,
          0.27272727272727276,
          0.2828282828282829,
          0.29292929292929293,
          0.30303030303030304,
          0.31313131313131315,
          0.32323232323232326,
          0.33333333333333337,
          0.3434343434343435,
          0.3535353535353536,
          0.36363636363636365,
          0.37373737373737376,
          0.38383838383838387,
          0.393939393939394,
          0.4040404040404041,
          0.4141414141414142,
          0.42424242424242425,
          0.43434343434343436,
          0.4444444444444445,
          0.4545454545454546,
          0.4646464646464647,
          0.4747474747474748,
          0.48484848484848486,
          0.494949494949495,
          0.5050505050505051,
          0.5151515151515152,
          0.5252525252525253,
          0.5353535353535354,
          0.5454545454545455,
          0.5555555555555556,
          0.5656565656565657,
          0.5757575757575758,
          0.5858585858585859,
          0.595959595959596,
          0.6060606060606061,
          0.6161616161616162,
          0.6262626262626263,
          0.6363636363636365,
          0.6464646464646465,
          0.6565656565656566,
          0.6666666666666667,
          0.6767676767676768,
          0.686868686868687,
          0.696969696969697,
          0.7070707070707072,
          0.7171717171717172,
          0.7272727272727273,
          0.7373737373737375,
          0.7474747474747475,
          0.7575757575757577,
          0.7676767676767677,
          0.7777777777777778,
          0.787878787878788,
          0.797979797979798,
          0.8080808080808082,
          0.8181818181818182,
          0.8282828282828284,
          0.8383838383838385,
          0.8484848484848485,
          0.8585858585858587,
          0.8686868686868687,
          0.8787878787878789,
          0.888888888888889,
          0.8989898989898991,
          0.9090909090909092,
          0.9191919191919192,
          0.9292929292929294,
          0.9393939393939394,
          0.9494949494949496,
          0.9595959595959597,
          0.9696969696969697,
          0.9797979797979799,
          0.98989898989899,
          1
         ],
         "y": [
          -6.34050124205273,
          -6.327675472046165,
          -4.800611462519488,
          -3.9674396666414413,
          -6.9663880452826055,
          -5.98600065367977,
          -5.8032146800239355,
          -6.258884629260942,
          -5.146598261189717,
          -6.7005236362604705,
          -3.8760269795463302,
          -4.762775497887968,
          -6.510492214248325,
          -4.313023939998665,
          -5.147327086719204,
          -4.934879070118262,
          -6.404858183398351,
          -4.2976322501715325,
          -5.75796951142378,
          -4.814507112738026,
          -5.889934982462387,
          -5.519682193771373,
          -4.985788718076994,
          -4.475408784870792,
          -7.25178951574639,
          -5.736896344134362,
          -6.3075621736056755,
          -6.985194321089695,
          -3.263106246021735,
          -4.627423290802839,
          -2.5454009804546125,
          -2.467177847987,
          -4.577269261444149,
          -4.84642361543213,
          -3.8164095079579097,
          -5.9827363309192805,
          -5.746832171105593,
          -6.064859563392073,
          -6.206802019991007,
          -7.054860806299979,
          -4.665269539304132,
          -4.745942313428918,
          -4.47410798078419,
          -5.079892164923699,
          -5.954143857166215,
          -5.7993462647565455,
          -5.002304821876086,
          -5.040950012464644,
          -5.537893148768886,
          -4.7811359087863385,
          -4.678936350768363,
          -5.217889436775897,
          -3.7901587976039703,
          -5.404797325443484,
          -3.45694209423148,
          -3.439484640600626,
          -2.8597399759309283,
          -5.792570851847676,
          -5.491918989151664,
          -4.765053954694143,
          -4.457959566897555,
          -4.851569346367987,
          -5.5200444749105255,
          -3.7503927986827352,
          -2.255637152660083,
          -5.263909784959571,
          -4.464887375852129,
          -4.879742744150901,
          -2.6944394235803757,
          -4.3917114819292955,
          -4.26569476381566,
          -5.408742136046122,
          -7.227914894084479,
          -5.8314959082182005,
          -5.451483190284043,
          -4.342903319370755,
          -7.5069002611685125,
          -4.338388103198914,
          -4.555040489094366,
          -4.308933068868121,
          -3.1173532045468697,
          -5.032308481886987,
          -6.010400574631513,
          -4.298131959031022,
          -2.564061332419142,
          -5.871608301367721,
          -5.422847570561706,
          -4.949841138229163,
          -3.263867035352576,
          -6.480252861306729,
          -5.371945753757753,
          -6.0418659655911995,
          -4.798091874699678,
          -5.7088573461907215,
          -3.365309889043418,
          -5.183760554041697,
          -3.767674026989579,
          -5.167737531258228,
          -6.031622434327205,
          -4.867727160022249
         ]
        }
       ],
       "layout": {
        "template": {
         "data": {
          "bar": [
           {
            "error_x": {
             "color": "#2a3f5f"
            },
            "error_y": {
             "color": "#2a3f5f"
            },
            "marker": {
             "line": {
              "color": "#E5ECF6",
              "width": 0.5
             },
             "pattern": {
              "fillmode": "overlay",
              "size": 10,
              "solidity": 0.2
             }
            },
            "type": "bar"
           }
          ],
          "barpolar": [
           {
            "marker": {
             "line": {
              "color": "#E5ECF6",
              "width": 0.5
             },
             "pattern": {
              "fillmode": "overlay",
              "size": 10,
              "solidity": 0.2
             }
            },
            "type": "barpolar"
           }
          ],
          "carpet": [
           {
            "aaxis": {
             "endlinecolor": "#2a3f5f",
             "gridcolor": "white",
             "linecolor": "white",
             "minorgridcolor": "white",
             "startlinecolor": "#2a3f5f"
            },
            "baxis": {
             "endlinecolor": "#2a3f5f",
             "gridcolor": "white",
             "linecolor": "white",
             "minorgridcolor": "white",
             "startlinecolor": "#2a3f5f"
            },
            "type": "carpet"
           }
          ],
          "choropleth": [
           {
            "colorbar": {
             "outlinewidth": 0,
             "ticks": ""
            },
            "type": "choropleth"
           }
          ],
          "contour": [
           {
            "colorbar": {
             "outlinewidth": 0,
             "ticks": ""
            },
            "colorscale": [
             [
              0,
              "#0d0887"
             ],
             [
              0.1111111111111111,
              "#46039f"
             ],
             [
              0.2222222222222222,
              "#7201a8"
             ],
             [
              0.3333333333333333,
              "#9c179e"
             ],
             [
              0.4444444444444444,
              "#bd3786"
             ],
             [
              0.5555555555555556,
              "#d8576b"
             ],
             [
              0.6666666666666666,
              "#ed7953"
             ],
             [
              0.7777777777777778,
              "#fb9f3a"
             ],
             [
              0.8888888888888888,
              "#fdca26"
             ],
             [
              1,
              "#f0f921"
             ]
            ],
            "type": "contour"
           }
          ],
          "contourcarpet": [
           {
            "colorbar": {
             "outlinewidth": 0,
             "ticks": ""
            },
            "type": "contourcarpet"
           }
          ],
          "heatmap": [
           {
            "colorbar": {
             "outlinewidth": 0,
             "ticks": ""
            },
            "colorscale": [
             [
              0,
              "#0d0887"
             ],
             [
              0.1111111111111111,
              "#46039f"
             ],
             [
              0.2222222222222222,
              "#7201a8"
             ],
             [
              0.3333333333333333,
              "#9c179e"
             ],
             [
              0.4444444444444444,
              "#bd3786"
             ],
             [
              0.5555555555555556,
              "#d8576b"
             ],
             [
              0.6666666666666666,
              "#ed7953"
             ],
             [
              0.7777777777777778,
              "#fb9f3a"
             ],
             [
              0.8888888888888888,
              "#fdca26"
             ],
             [
              1,
              "#f0f921"
             ]
            ],
            "type": "heatmap"
           }
          ],
          "heatmapgl": [
           {
            "colorbar": {
             "outlinewidth": 0,
             "ticks": ""
            },
            "colorscale": [
             [
              0,
              "#0d0887"
             ],
             [
              0.1111111111111111,
              "#46039f"
             ],
             [
              0.2222222222222222,
              "#7201a8"
             ],
             [
              0.3333333333333333,
              "#9c179e"
             ],
             [
              0.4444444444444444,
              "#bd3786"
             ],
             [
              0.5555555555555556,
              "#d8576b"
             ],
             [
              0.6666666666666666,
              "#ed7953"
             ],
             [
              0.7777777777777778,
              "#fb9f3a"
             ],
             [
              0.8888888888888888,
              "#fdca26"
             ],
             [
              1,
              "#f0f921"
             ]
            ],
            "type": "heatmapgl"
           }
          ],
          "histogram": [
           {
            "marker": {
             "pattern": {
              "fillmode": "overlay",
              "size": 10,
              "solidity": 0.2
             }
            },
            "type": "histogram"
           }
          ],
          "histogram2d": [
           {
            "colorbar": {
             "outlinewidth": 0,
             "ticks": ""
            },
            "colorscale": [
             [
              0,
              "#0d0887"
             ],
             [
              0.1111111111111111,
              "#46039f"
             ],
             [
              0.2222222222222222,
              "#7201a8"
             ],
             [
              0.3333333333333333,
              "#9c179e"
             ],
             [
              0.4444444444444444,
              "#bd3786"
             ],
             [
              0.5555555555555556,
              "#d8576b"
             ],
             [
              0.6666666666666666,
              "#ed7953"
             ],
             [
              0.7777777777777778,
              "#fb9f3a"
             ],
             [
              0.8888888888888888,
              "#fdca26"
             ],
             [
              1,
              "#f0f921"
             ]
            ],
            "type": "histogram2d"
           }
          ],
          "histogram2dcontour": [
           {
            "colorbar": {
             "outlinewidth": 0,
             "ticks": ""
            },
            "colorscale": [
             [
              0,
              "#0d0887"
             ],
             [
              0.1111111111111111,
              "#46039f"
             ],
             [
              0.2222222222222222,
              "#7201a8"
             ],
             [
              0.3333333333333333,
              "#9c179e"
             ],
             [
              0.4444444444444444,
              "#bd3786"
             ],
             [
              0.5555555555555556,
              "#d8576b"
             ],
             [
              0.6666666666666666,
              "#ed7953"
             ],
             [
              0.7777777777777778,
              "#fb9f3a"
             ],
             [
              0.8888888888888888,
              "#fdca26"
             ],
             [
              1,
              "#f0f921"
             ]
            ],
            "type": "histogram2dcontour"
           }
          ],
          "mesh3d": [
           {
            "colorbar": {
             "outlinewidth": 0,
             "ticks": ""
            },
            "type": "mesh3d"
           }
          ],
          "parcoords": [
           {
            "line": {
             "colorbar": {
              "outlinewidth": 0,
              "ticks": ""
             }
            },
            "type": "parcoords"
           }
          ],
          "pie": [
           {
            "automargin": true,
            "type": "pie"
           }
          ],
          "scatter": [
           {
            "fillpattern": {
             "fillmode": "overlay",
             "size": 10,
             "solidity": 0.2
            },
            "type": "scatter"
           }
          ],
          "scatter3d": [
           {
            "line": {
             "colorbar": {
              "outlinewidth": 0,
              "ticks": ""
             }
            },
            "marker": {
             "colorbar": {
              "outlinewidth": 0,
              "ticks": ""
             }
            },
            "type": "scatter3d"
           }
          ],
          "scattercarpet": [
           {
            "marker": {
             "colorbar": {
              "outlinewidth": 0,
              "ticks": ""
             }
            },
            "type": "scattercarpet"
           }
          ],
          "scattergeo": [
           {
            "marker": {
             "colorbar": {
              "outlinewidth": 0,
              "ticks": ""
             }
            },
            "type": "scattergeo"
           }
          ],
          "scattergl": [
           {
            "marker": {
             "colorbar": {
              "outlinewidth": 0,
              "ticks": ""
             }
            },
            "type": "scattergl"
           }
          ],
          "scattermapbox": [
           {
            "marker": {
             "colorbar": {
              "outlinewidth": 0,
              "ticks": ""
             }
            },
            "type": "scattermapbox"
           }
          ],
          "scatterpolar": [
           {
            "marker": {
             "colorbar": {
              "outlinewidth": 0,
              "ticks": ""
             }
            },
            "type": "scatterpolar"
           }
          ],
          "scatterpolargl": [
           {
            "marker": {
             "colorbar": {
              "outlinewidth": 0,
              "ticks": ""
             }
            },
            "type": "scatterpolargl"
           }
          ],
          "scatterternary": [
           {
            "marker": {
             "colorbar": {
              "outlinewidth": 0,
              "ticks": ""
             }
            },
            "type": "scatterternary"
           }
          ],
          "surface": [
           {
            "colorbar": {
             "outlinewidth": 0,
             "ticks": ""
            },
            "colorscale": [
             [
              0,
              "#0d0887"
             ],
             [
              0.1111111111111111,
              "#46039f"
             ],
             [
              0.2222222222222222,
              "#7201a8"
             ],
             [
              0.3333333333333333,
              "#9c179e"
             ],
             [
              0.4444444444444444,
              "#bd3786"
             ],
             [
              0.5555555555555556,
              "#d8576b"
             ],
             [
              0.6666666666666666,
              "#ed7953"
             ],
             [
              0.7777777777777778,
              "#fb9f3a"
             ],
             [
              0.8888888888888888,
              "#fdca26"
             ],
             [
              1,
              "#f0f921"
             ]
            ],
            "type": "surface"
           }
          ],
          "table": [
           {
            "cells": {
             "fill": {
              "color": "#EBF0F8"
             },
             "line": {
              "color": "white"
             }
            },
            "header": {
             "fill": {
              "color": "#C8D4E3"
             },
             "line": {
              "color": "white"
             }
            },
            "type": "table"
           }
          ]
         },
         "layout": {
          "annotationdefaults": {
           "arrowcolor": "#2a3f5f",
           "arrowhead": 0,
           "arrowwidth": 1
          },
          "autotypenumbers": "strict",
          "coloraxis": {
           "colorbar": {
            "outlinewidth": 0,
            "ticks": ""
           }
          },
          "colorscale": {
           "diverging": [
            [
             0,
             "#8e0152"
            ],
            [
             0.1,
             "#c51b7d"
            ],
            [
             0.2,
             "#de77ae"
            ],
            [
             0.3,
             "#f1b6da"
            ],
            [
             0.4,
             "#fde0ef"
            ],
            [
             0.5,
             "#f7f7f7"
            ],
            [
             0.6,
             "#e6f5d0"
            ],
            [
             0.7,
             "#b8e186"
            ],
            [
             0.8,
             "#7fbc41"
            ],
            [
             0.9,
             "#4d9221"
            ],
            [
             1,
             "#276419"
            ]
           ],
           "sequential": [
            [
             0,
             "#0d0887"
            ],
            [
             0.1111111111111111,
             "#46039f"
            ],
            [
             0.2222222222222222,
             "#7201a8"
            ],
            [
             0.3333333333333333,
             "#9c179e"
            ],
            [
             0.4444444444444444,
             "#bd3786"
            ],
            [
             0.5555555555555556,
             "#d8576b"
            ],
            [
             0.6666666666666666,
             "#ed7953"
            ],
            [
             0.7777777777777778,
             "#fb9f3a"
            ],
            [
             0.8888888888888888,
             "#fdca26"
            ],
            [
             1,
             "#f0f921"
            ]
           ],
           "sequentialminus": [
            [
             0,
             "#0d0887"
            ],
            [
             0.1111111111111111,
             "#46039f"
            ],
            [
             0.2222222222222222,
             "#7201a8"
            ],
            [
             0.3333333333333333,
             "#9c179e"
            ],
            [
             0.4444444444444444,
             "#bd3786"
            ],
            [
             0.5555555555555556,
             "#d8576b"
            ],
            [
             0.6666666666666666,
             "#ed7953"
            ],
            [
             0.7777777777777778,
             "#fb9f3a"
            ],
            [
             0.8888888888888888,
             "#fdca26"
            ],
            [
             1,
             "#f0f921"
            ]
           ]
          },
          "colorway": [
           "#636efa",
           "#EF553B",
           "#00cc96",
           "#ab63fa",
           "#FFA15A",
           "#19d3f3",
           "#FF6692",
           "#B6E880",
           "#FF97FF",
           "#FECB52"
          ],
          "font": {
           "color": "#2a3f5f"
          },
          "geo": {
           "bgcolor": "white",
           "lakecolor": "white",
           "landcolor": "#E5ECF6",
           "showlakes": true,
           "showland": true,
           "subunitcolor": "white"
          },
          "hoverlabel": {
           "align": "left"
          },
          "hovermode": "closest",
          "mapbox": {
           "style": "light"
          },
          "paper_bgcolor": "white",
          "plot_bgcolor": "#E5ECF6",
          "polar": {
           "angularaxis": {
            "gridcolor": "white",
            "linecolor": "white",
            "ticks": ""
           },
           "bgcolor": "#E5ECF6",
           "radialaxis": {
            "gridcolor": "white",
            "linecolor": "white",
            "ticks": ""
           }
          },
          "scene": {
           "xaxis": {
            "backgroundcolor": "#E5ECF6",
            "gridcolor": "white",
            "gridwidth": 2,
            "linecolor": "white",
            "showbackground": true,
            "ticks": "",
            "zerolinecolor": "white"
           },
           "yaxis": {
            "backgroundcolor": "#E5ECF6",
            "gridcolor": "white",
            "gridwidth": 2,
            "linecolor": "white",
            "showbackground": true,
            "ticks": "",
            "zerolinecolor": "white"
           },
           "zaxis": {
            "backgroundcolor": "#E5ECF6",
            "gridcolor": "white",
            "gridwidth": 2,
            "linecolor": "white",
            "showbackground": true,
            "ticks": "",
            "zerolinecolor": "white"
           }
          },
          "shapedefaults": {
           "line": {
            "color": "#2a3f5f"
           }
          },
          "ternary": {
           "aaxis": {
            "gridcolor": "white",
            "linecolor": "white",
            "ticks": ""
           },
           "baxis": {
            "gridcolor": "white",
            "linecolor": "white",
            "ticks": ""
           },
           "bgcolor": "#E5ECF6",
           "caxis": {
            "gridcolor": "white",
            "linecolor": "white",
            "ticks": ""
           }
          },
          "title": {
           "x": 0.05
          },
          "xaxis": {
           "automargin": true,
           "gridcolor": "white",
           "linecolor": "white",
           "ticks": "",
           "title": {
            "standoff": 15
           },
           "zerolinecolor": "white",
           "zerolinewidth": 2
          },
          "yaxis": {
           "automargin": true,
           "gridcolor": "white",
           "linecolor": "white",
           "ticks": "",
           "title": {
            "standoff": 15
           },
           "zerolinecolor": "white",
           "zerolinewidth": 2
          }
         }
        }
       }
      }
     },
     "metadata": {},
     "output_type": "display_data"
    }
   ],
   "source": [
    "# scatter plot 그리기\n",
    "N = 100\n",
    "x_vals = np.linspace(0,1,N)\n",
    "y1 = np.random.randn(N)+5\n",
    "y2 = np.random.randn(N)\n",
    "y3 = np.random.randn(N)-5 \n",
    "\n",
    "trace1 = go.Scatter(\n",
    "    x=x_vals,\n",
    "    y=y1,\n",
    "    mode='markers',\n",
    "    name='marekrs'\n",
    ")\n",
    "trace2 = go.Scatter(\n",
    "    x=x_vals,\n",
    "    y=y2,\n",
    "    mode='lines+markers',\n",
    "    name='lines+markers'\n",
    ")\n",
    "trace3 = go.Scatter(\n",
    "    x=x_vals,\n",
    "    y=y3,\n",
    "    mode='lines',\n",
    "    name='lines'\n",
    ")\n",
    "\n",
    "data=[trace1,trace2,trace3]\n",
    "\n",
    "fig=go.Figure(data=data)\n",
    "fig.show()"
   ]
  },
  {
   "cell_type": "code",
   "execution_count": 37,
   "metadata": {},
   "outputs": [
    {
     "data": {
      "application/vnd.plotly.v1+json": {
       "config": {
        "plotlyServerURL": "https://plot.ly"
       },
       "data": [
        {
         "marker": {
          "color": "crimson",
          "size": 12
         },
         "mode": "markers",
         "name": "Women",
         "type": "scatter",
         "x": [
          72,
          67,
          73,
          80,
          76,
          79,
          84,
          78,
          86,
          93,
          94,
          90,
          92,
          96,
          94,
          112
         ],
         "y": [
          "Brown",
          "NYU",
          "Notre Dame",
          "Cornell",
          "Tufts",
          "Yale",
          "Dartmouth",
          "Chicago",
          "Columbia",
          "Duke",
          "Georgetown",
          "Princeton",
          "U.Penn",
          "Stanford",
          "MIT",
          "Harvard"
         ]
        },
        {
         "marker": {
          "color": "gold",
          "size": 12
         },
         "mode": "markers",
         "name": "Men",
         "type": "scatter",
         "x": [
          92,
          94,
          100,
          107,
          112,
          114,
          114,
          118,
          119,
          124,
          131,
          137,
          141,
          151,
          152,
          165
         ],
         "y": [
          "Brown",
          "NYU",
          "Notre Dame",
          "Cornell",
          "Tufts",
          "Yale",
          "Dartmouth",
          "Chicago",
          "Columbia",
          "Duke",
          "Georgetown",
          "Princeton",
          "U.Penn",
          "Stanford",
          "MIT",
          "Harvard"
         ]
        }
       ],
       "layout": {
        "template": {
         "data": {
          "bar": [
           {
            "error_x": {
             "color": "#2a3f5f"
            },
            "error_y": {
             "color": "#2a3f5f"
            },
            "marker": {
             "line": {
              "color": "#E5ECF6",
              "width": 0.5
             },
             "pattern": {
              "fillmode": "overlay",
              "size": 10,
              "solidity": 0.2
             }
            },
            "type": "bar"
           }
          ],
          "barpolar": [
           {
            "marker": {
             "line": {
              "color": "#E5ECF6",
              "width": 0.5
             },
             "pattern": {
              "fillmode": "overlay",
              "size": 10,
              "solidity": 0.2
             }
            },
            "type": "barpolar"
           }
          ],
          "carpet": [
           {
            "aaxis": {
             "endlinecolor": "#2a3f5f",
             "gridcolor": "white",
             "linecolor": "white",
             "minorgridcolor": "white",
             "startlinecolor": "#2a3f5f"
            },
            "baxis": {
             "endlinecolor": "#2a3f5f",
             "gridcolor": "white",
             "linecolor": "white",
             "minorgridcolor": "white",
             "startlinecolor": "#2a3f5f"
            },
            "type": "carpet"
           }
          ],
          "choropleth": [
           {
            "colorbar": {
             "outlinewidth": 0,
             "ticks": ""
            },
            "type": "choropleth"
           }
          ],
          "contour": [
           {
            "colorbar": {
             "outlinewidth": 0,
             "ticks": ""
            },
            "colorscale": [
             [
              0,
              "#0d0887"
             ],
             [
              0.1111111111111111,
              "#46039f"
             ],
             [
              0.2222222222222222,
              "#7201a8"
             ],
             [
              0.3333333333333333,
              "#9c179e"
             ],
             [
              0.4444444444444444,
              "#bd3786"
             ],
             [
              0.5555555555555556,
              "#d8576b"
             ],
             [
              0.6666666666666666,
              "#ed7953"
             ],
             [
              0.7777777777777778,
              "#fb9f3a"
             ],
             [
              0.8888888888888888,
              "#fdca26"
             ],
             [
              1,
              "#f0f921"
             ]
            ],
            "type": "contour"
           }
          ],
          "contourcarpet": [
           {
            "colorbar": {
             "outlinewidth": 0,
             "ticks": ""
            },
            "type": "contourcarpet"
           }
          ],
          "heatmap": [
           {
            "colorbar": {
             "outlinewidth": 0,
             "ticks": ""
            },
            "colorscale": [
             [
              0,
              "#0d0887"
             ],
             [
              0.1111111111111111,
              "#46039f"
             ],
             [
              0.2222222222222222,
              "#7201a8"
             ],
             [
              0.3333333333333333,
              "#9c179e"
             ],
             [
              0.4444444444444444,
              "#bd3786"
             ],
             [
              0.5555555555555556,
              "#d8576b"
             ],
             [
              0.6666666666666666,
              "#ed7953"
             ],
             [
              0.7777777777777778,
              "#fb9f3a"
             ],
             [
              0.8888888888888888,
              "#fdca26"
             ],
             [
              1,
              "#f0f921"
             ]
            ],
            "type": "heatmap"
           }
          ],
          "heatmapgl": [
           {
            "colorbar": {
             "outlinewidth": 0,
             "ticks": ""
            },
            "colorscale": [
             [
              0,
              "#0d0887"
             ],
             [
              0.1111111111111111,
              "#46039f"
             ],
             [
              0.2222222222222222,
              "#7201a8"
             ],
             [
              0.3333333333333333,
              "#9c179e"
             ],
             [
              0.4444444444444444,
              "#bd3786"
             ],
             [
              0.5555555555555556,
              "#d8576b"
             ],
             [
              0.6666666666666666,
              "#ed7953"
             ],
             [
              0.7777777777777778,
              "#fb9f3a"
             ],
             [
              0.8888888888888888,
              "#fdca26"
             ],
             [
              1,
              "#f0f921"
             ]
            ],
            "type": "heatmapgl"
           }
          ],
          "histogram": [
           {
            "marker": {
             "pattern": {
              "fillmode": "overlay",
              "size": 10,
              "solidity": 0.2
             }
            },
            "type": "histogram"
           }
          ],
          "histogram2d": [
           {
            "colorbar": {
             "outlinewidth": 0,
             "ticks": ""
            },
            "colorscale": [
             [
              0,
              "#0d0887"
             ],
             [
              0.1111111111111111,
              "#46039f"
             ],
             [
              0.2222222222222222,
              "#7201a8"
             ],
             [
              0.3333333333333333,
              "#9c179e"
             ],
             [
              0.4444444444444444,
              "#bd3786"
             ],
             [
              0.5555555555555556,
              "#d8576b"
             ],
             [
              0.6666666666666666,
              "#ed7953"
             ],
             [
              0.7777777777777778,
              "#fb9f3a"
             ],
             [
              0.8888888888888888,
              "#fdca26"
             ],
             [
              1,
              "#f0f921"
             ]
            ],
            "type": "histogram2d"
           }
          ],
          "histogram2dcontour": [
           {
            "colorbar": {
             "outlinewidth": 0,
             "ticks": ""
            },
            "colorscale": [
             [
              0,
              "#0d0887"
             ],
             [
              0.1111111111111111,
              "#46039f"
             ],
             [
              0.2222222222222222,
              "#7201a8"
             ],
             [
              0.3333333333333333,
              "#9c179e"
             ],
             [
              0.4444444444444444,
              "#bd3786"
             ],
             [
              0.5555555555555556,
              "#d8576b"
             ],
             [
              0.6666666666666666,
              "#ed7953"
             ],
             [
              0.7777777777777778,
              "#fb9f3a"
             ],
             [
              0.8888888888888888,
              "#fdca26"
             ],
             [
              1,
              "#f0f921"
             ]
            ],
            "type": "histogram2dcontour"
           }
          ],
          "mesh3d": [
           {
            "colorbar": {
             "outlinewidth": 0,
             "ticks": ""
            },
            "type": "mesh3d"
           }
          ],
          "parcoords": [
           {
            "line": {
             "colorbar": {
              "outlinewidth": 0,
              "ticks": ""
             }
            },
            "type": "parcoords"
           }
          ],
          "pie": [
           {
            "automargin": true,
            "type": "pie"
           }
          ],
          "scatter": [
           {
            "fillpattern": {
             "fillmode": "overlay",
             "size": 10,
             "solidity": 0.2
            },
            "type": "scatter"
           }
          ],
          "scatter3d": [
           {
            "line": {
             "colorbar": {
              "outlinewidth": 0,
              "ticks": ""
             }
            },
            "marker": {
             "colorbar": {
              "outlinewidth": 0,
              "ticks": ""
             }
            },
            "type": "scatter3d"
           }
          ],
          "scattercarpet": [
           {
            "marker": {
             "colorbar": {
              "outlinewidth": 0,
              "ticks": ""
             }
            },
            "type": "scattercarpet"
           }
          ],
          "scattergeo": [
           {
            "marker": {
             "colorbar": {
              "outlinewidth": 0,
              "ticks": ""
             }
            },
            "type": "scattergeo"
           }
          ],
          "scattergl": [
           {
            "marker": {
             "colorbar": {
              "outlinewidth": 0,
              "ticks": ""
             }
            },
            "type": "scattergl"
           }
          ],
          "scattermapbox": [
           {
            "marker": {
             "colorbar": {
              "outlinewidth": 0,
              "ticks": ""
             }
            },
            "type": "scattermapbox"
           }
          ],
          "scatterpolar": [
           {
            "marker": {
             "colorbar": {
              "outlinewidth": 0,
              "ticks": ""
             }
            },
            "type": "scatterpolar"
           }
          ],
          "scatterpolargl": [
           {
            "marker": {
             "colorbar": {
              "outlinewidth": 0,
              "ticks": ""
             }
            },
            "type": "scatterpolargl"
           }
          ],
          "scatterternary": [
           {
            "marker": {
             "colorbar": {
              "outlinewidth": 0,
              "ticks": ""
             }
            },
            "type": "scatterternary"
           }
          ],
          "surface": [
           {
            "colorbar": {
             "outlinewidth": 0,
             "ticks": ""
            },
            "colorscale": [
             [
              0,
              "#0d0887"
             ],
             [
              0.1111111111111111,
              "#46039f"
             ],
             [
              0.2222222222222222,
              "#7201a8"
             ],
             [
              0.3333333333333333,
              "#9c179e"
             ],
             [
              0.4444444444444444,
              "#bd3786"
             ],
             [
              0.5555555555555556,
              "#d8576b"
             ],
             [
              0.6666666666666666,
              "#ed7953"
             ],
             [
              0.7777777777777778,
              "#fb9f3a"
             ],
             [
              0.8888888888888888,
              "#fdca26"
             ],
             [
              1,
              "#f0f921"
             ]
            ],
            "type": "surface"
           }
          ],
          "table": [
           {
            "cells": {
             "fill": {
              "color": "#EBF0F8"
             },
             "line": {
              "color": "white"
             }
            },
            "header": {
             "fill": {
              "color": "#C8D4E3"
             },
             "line": {
              "color": "white"
             }
            },
            "type": "table"
           }
          ]
         },
         "layout": {
          "annotationdefaults": {
           "arrowcolor": "#2a3f5f",
           "arrowhead": 0,
           "arrowwidth": 1
          },
          "autotypenumbers": "strict",
          "coloraxis": {
           "colorbar": {
            "outlinewidth": 0,
            "ticks": ""
           }
          },
          "colorscale": {
           "diverging": [
            [
             0,
             "#8e0152"
            ],
            [
             0.1,
             "#c51b7d"
            ],
            [
             0.2,
             "#de77ae"
            ],
            [
             0.3,
             "#f1b6da"
            ],
            [
             0.4,
             "#fde0ef"
            ],
            [
             0.5,
             "#f7f7f7"
            ],
            [
             0.6,
             "#e6f5d0"
            ],
            [
             0.7,
             "#b8e186"
            ],
            [
             0.8,
             "#7fbc41"
            ],
            [
             0.9,
             "#4d9221"
            ],
            [
             1,
             "#276419"
            ]
           ],
           "sequential": [
            [
             0,
             "#0d0887"
            ],
            [
             0.1111111111111111,
             "#46039f"
            ],
            [
             0.2222222222222222,
             "#7201a8"
            ],
            [
             0.3333333333333333,
             "#9c179e"
            ],
            [
             0.4444444444444444,
             "#bd3786"
            ],
            [
             0.5555555555555556,
             "#d8576b"
            ],
            [
             0.6666666666666666,
             "#ed7953"
            ],
            [
             0.7777777777777778,
             "#fb9f3a"
            ],
            [
             0.8888888888888888,
             "#fdca26"
            ],
            [
             1,
             "#f0f921"
            ]
           ],
           "sequentialminus": [
            [
             0,
             "#0d0887"
            ],
            [
             0.1111111111111111,
             "#46039f"
            ],
            [
             0.2222222222222222,
             "#7201a8"
            ],
            [
             0.3333333333333333,
             "#9c179e"
            ],
            [
             0.4444444444444444,
             "#bd3786"
            ],
            [
             0.5555555555555556,
             "#d8576b"
            ],
            [
             0.6666666666666666,
             "#ed7953"
            ],
            [
             0.7777777777777778,
             "#fb9f3a"
            ],
            [
             0.8888888888888888,
             "#fdca26"
            ],
            [
             1,
             "#f0f921"
            ]
           ]
          },
          "colorway": [
           "#636efa",
           "#EF553B",
           "#00cc96",
           "#ab63fa",
           "#FFA15A",
           "#19d3f3",
           "#FF6692",
           "#B6E880",
           "#FF97FF",
           "#FECB52"
          ],
          "font": {
           "color": "#2a3f5f"
          },
          "geo": {
           "bgcolor": "white",
           "lakecolor": "white",
           "landcolor": "#E5ECF6",
           "showlakes": true,
           "showland": true,
           "subunitcolor": "white"
          },
          "hoverlabel": {
           "align": "left"
          },
          "hovermode": "closest",
          "mapbox": {
           "style": "light"
          },
          "paper_bgcolor": "white",
          "plot_bgcolor": "#E5ECF6",
          "polar": {
           "angularaxis": {
            "gridcolor": "white",
            "linecolor": "white",
            "ticks": ""
           },
           "bgcolor": "#E5ECF6",
           "radialaxis": {
            "gridcolor": "white",
            "linecolor": "white",
            "ticks": ""
           }
          },
          "scene": {
           "xaxis": {
            "backgroundcolor": "#E5ECF6",
            "gridcolor": "white",
            "gridwidth": 2,
            "linecolor": "white",
            "showbackground": true,
            "ticks": "",
            "zerolinecolor": "white"
           },
           "yaxis": {
            "backgroundcolor": "#E5ECF6",
            "gridcolor": "white",
            "gridwidth": 2,
            "linecolor": "white",
            "showbackground": true,
            "ticks": "",
            "zerolinecolor": "white"
           },
           "zaxis": {
            "backgroundcolor": "#E5ECF6",
            "gridcolor": "white",
            "gridwidth": 2,
            "linecolor": "white",
            "showbackground": true,
            "ticks": "",
            "zerolinecolor": "white"
           }
          },
          "shapedefaults": {
           "line": {
            "color": "#2a3f5f"
           }
          },
          "ternary": {
           "aaxis": {
            "gridcolor": "white",
            "linecolor": "white",
            "ticks": ""
           },
           "baxis": {
            "gridcolor": "white",
            "linecolor": "white",
            "ticks": ""
           },
           "bgcolor": "#E5ECF6",
           "caxis": {
            "gridcolor": "white",
            "linecolor": "white",
            "ticks": ""
           }
          },
          "title": {
           "x": 0.05
          },
          "xaxis": {
           "automargin": true,
           "gridcolor": "white",
           "linecolor": "white",
           "ticks": "",
           "title": {
            "standoff": 15
           },
           "zerolinecolor": "white",
           "zerolinewidth": 2
          },
          "yaxis": {
           "automargin": true,
           "gridcolor": "white",
           "linecolor": "white",
           "ticks": "",
           "title": {
            "standoff": 15
           },
           "zerolinecolor": "white",
           "zerolinewidth": 2
          }
         }
        },
        "title": {
         "text": "Gender Earnings Disparify"
        },
        "xaxis": {
         "title": {
          "text": "Annual Salary (in thousands)"
         }
        },
        "yaxis": {
         "title": {
          "text": "School"
         }
        }
       }
      }
     },
     "metadata": {},
     "output_type": "display_data"
    }
   ],
   "source": [
    "# go.Scatter를 이용해서 dot Plot을 만들 수 있다.\n",
    "schools = ['Brown','NYU','Notre Dame','Cornell','Tufts','Yale','Dartmouth','Chicago','Columbia','Duke','Georgetown','Princeton','U.Penn','Stanford','MIT','Harvard']\n",
    "\n",
    "trace1 = go.Scatter(\n",
    "    x=[72,67,73,80,76,79,84,78,86,93,94,90,92,96,94,112],\n",
    "    y=schools,\n",
    "    marker=dict(color='crimson', size=12),\n",
    "    mode='markers',\n",
    "    name='Women',\n",
    ")\n",
    "trace2 = go.Scatter(\n",
    "    x=[92,94,100,107,112,114,114,118,119,124,131,137,141,151,152,165],\n",
    "    y=schools,\n",
    "    marker=dict(color='gold', size=12),\n",
    "    mode='markers',\n",
    "    name='Men',\n",
    ")\n",
    "\n",
    "data=[trace1,trace2]\n",
    "layout=go.Layout(title=\"Gender Earnings Disparify\",\n",
    "                xaxis_title=\"Annual Salary (in thousands)\",\n",
    "                yaxis_title=\"School\")\n",
    "fig = go.Figure(data=data, layout=layout)\n",
    "fig.show()"
   ]
  },
  {
   "cell_type": "code",
   "execution_count": 40,
   "metadata": {},
   "outputs": [
    {
     "data": {
      "application/vnd.plotly.v1+json": {
       "config": {
        "plotlyServerURL": "https://plot.ly"
       },
       "data": [
        {
         "type": "histogram",
         "x": [
          1.6243453636632417,
          -0.6117564136500754,
          -0.5281717522634557,
          -1.0729686221561705,
          0.8654076293246785,
          -2.3015386968802827,
          1.74481176421648,
          -0.7612069008951028,
          0.31903909605709857,
          -0.2493703754774101,
          1.462107937044974,
          -2.060140709497654,
          -0.3224172040135075,
          -0.38405435466841564,
          1.1337694423354374,
          -1.0998912673140309,
          -0.17242820755043575,
          -0.8778584179213718,
          0.04221374671559283,
          0.5828152137158222,
          -1.1006191772129212,
          1.1447237098396141,
          0.9015907205927955,
          0.5024943389018682,
          0.9008559492644118,
          -0.6837278591743331,
          -0.12289022551864817,
          -0.9357694342590688,
          -0.2678880796260159,
          0.530355466738186,
          -0.691660751725309,
          -0.39675352685597737,
          -0.6871727001195994,
          -0.8452056414987196,
          -0.671246130836819,
          -0.01266459891890136,
          -1.1173103486352778,
          0.23441569781709215,
          1.6598021771098705,
          0.7420441605773356,
          -0.19183555236161492,
          -0.8876289640848363,
          -0.7471582937508376,
          1.6924546010277466,
          0.05080775477602897,
          -0.6369956465693534,
          0.19091548466746602,
          2.100255136478842,
          0.12015895248162915,
          0.6172031097074192,
          0.3001703199558275,
          -0.35224984649351865,
          -1.1425181980221402,
          -0.3493427224128775,
          -0.2088942333747781,
          0.5866231911821976,
          0.8389834138745049,
          0.9311020813035573,
          0.2855873252542588,
          0.8851411642707281,
          -0.7543979409966528,
          1.2528681552332879,
          0.5129298204180088,
          -0.29809283510271567,
          0.48851814653749703,
          -0.07557171302105573,
          1.131629387451427,
          1.5198168164221988,
          2.1855754065331614,
          -1.3964963354881377,
          -1.4441138054295894,
          -0.5044658629464512,
          0.16003706944783047,
          0.8761689211162249,
          0.31563494724160523,
          -2.022201215824003,
          -0.3062040126283718,
          0.8279746426072462,
          0.2300947353643834,
          0.7620111803120247,
          -0.22232814261035927,
          -0.20075806892999745,
          0.1865613909882843,
          0.4100516472082563,
          0.19829972012676975,
          0.11900864580745882,
          -0.6706622862890306,
          0.3775637863209194,
          0.12182127099143693,
          1.1294839079119197,
          1.198917879901507,
          0.18515641748394385,
          -0.3752849500901142,
          -0.6387304074542224,
          0.4234943540641129,
          0.07734006834855942,
          -0.3438536755710756,
          0.04359685683424694,
          -0.6200008439481293,
          0.6980320340722189,
          -0.4471285647859982,
          1.2245077048054989,
          0.4034916417908,
          0.593578523237067,
          -1.0949118457410418,
          0.1693824330586681,
          0.7405564510962748,
          -0.9537006018079346,
          -0.26621850600362207,
          0.03261454669335856,
          -1.3731173202467557,
          0.31515939204229176,
          0.8461606475850334,
          -0.8595159408319863,
          0.35054597866410736,
          -1.3122834112374318,
          -0.038695509266051115,
          -1.6157723547032947,
          1.121417708235664,
          0.4089005379368278,
          -0.024616955875778355,
          -0.7751616191691596,
          1.2737559301587766,
          1.9671017492547347,
          -1.857981864446752,
          1.2361640304528203,
          1.6276507531489064,
          0.3380116965744758,
          -1.199268032335186,
          0.8633453175440216,
          -0.18092030207815046,
          -0.6039206277932573,
          -1.2300581356669618,
          0.5505374959762154,
          0.7928068659193477,
          -0.6235307296797916,
          0.5205763370733708,
          -1.1443413896231427,
          0.8018610318713447,
          0.04656729842414554,
          -0.18656977190734877,
          -0.10174587252914521,
          0.8688861570058679,
          0.7504116398650081,
          0.5294653243527092,
          0.13770120999738608,
          0.07782112791270591,
          0.6183802619985245,
          0.23249455917873788,
          0.6825514068644851,
          -0.31011677351806,
          -2.434837764107139,
          1.038824601859414,
          2.1869796469742577,
          0.44136444356858207,
          -0.10015523328349978,
          -0.13644474389603303,
          -0.11905418777480989,
          0.0174094083000046,
          -1.1220187287468883,
          -0.5170944579202279,
          -0.997026827650263,
          0.2487991613877705,
          -0.29664115237086275,
          0.4952113239779604,
          -0.17470315974250095,
          0.986335187821242,
          0.21353390133544178,
          2.1906997289697334,
          -1.8963609228910925,
          -0.646916688254908,
          0.901486891648711,
          2.528325706806398,
          -0.24863477771546005,
          0.043668993178389105,
          -0.22631424251360518,
          1.3314571125875918,
          -0.2873078634760189,
          0.6800698398781045,
          -0.3198015988986712,
          -1.2725587552459943,
          0.31354772046343216,
          0.5031848134353261,
          1.2932258825322618,
          -0.11044702641731631,
          -0.6173620637123609,
          0.5627610966190263,
          0.24073709223773224,
          0.28066507712263905,
          -0.07311270374727777,
          1.1603385699937696,
          0.36949271637572373,
          1.9046587083409812,
          1.1110566985605046,
          0.6590497961002102,
          -1.6274383406162574,
          0.602319280295629,
          0.42028220364705954,
          0.8109516728035557,
          1.0444420947072588,
          -0.40087819178892664,
          0.8240056184504077,
          -0.5623054310190898,
          1.9548780750090344,
          -1.3319516665172482,
          -1.7606885603987834,
          -1.6507212658241002,
          -0.8905555841630485,
          -1.119115398559728,
          1.956078903703642,
          -0.32649949807818424,
          -1.342675789377436,
          1.114382976779792,
          -0.5865239388215925,
          -1.2368533765413974,
          0.8758389276492995,
          0.6233621765780327,
          -0.4349566829552277,
          1.4075400002412286,
          0.12910157971072544,
          1.6169495988573002,
          0.5027408819999043,
          1.5588055406198593,
          0.10940269642542817,
          -1.2197443969790327,
          2.4493686490613973,
          -0.5457741679825677,
          -0.19883786288889674,
          -0.7003985049212547,
          -0.20339444896455844,
          0.24266944108179458,
          0.20183017887400403,
          0.6610202875986929,
          1.792158208975567,
          -0.12046457178850745,
          -1.2331207354464266,
          -1.1823181265096336,
          -0.6657545181991266,
          -1.674195807618932,
          0.8250298244389859,
          -0.4982135636310781,
          -0.3109849783028509,
          -0.0018914828380037015,
          -1.396620424595432,
          -0.861316360776042,
          0.6747115256879723,
          0.6185391307862932,
          -0.44317193070063776,
          1.8105349141254563,
          -1.3057269225577375,
          -0.34498721015497946,
          -0.23083974313546946,
          -2.79308500014654,
          1.9375288136160798,
          0.36633201454005826,
          -1.0445893819077916,
          2.0511734428574444,
          0.5856620001723825,
          0.4295261400219645,
          -0.6069983982000461,
          0.1062227240352178,
          -1.5256803162293577,
          0.7950260944248447,
          -0.37443831884322065,
          0.13404819655462313,
          1.2020548621997058,
          0.28474811084905793,
          0.2624674454632686,
          0.27649930482218366,
          -0.7332716038953129,
          0.8360047194342688,
          1.5433591108044837,
          0.7588056600979309,
          0.8849088144648833,
          -0.8772815189181883,
          -0.8677872228729256,
          -1.44087602429184,
          1.232253070828436,
          -0.2541798676073683,
          1.3998439424809859,
          -0.7819116826868007,
          -0.437508982828581,
          0.0954250871912577,
          0.9214500686595114,
          0.060750195799506745,
          0.21112475500771674,
          0.01652756730561561,
          0.17718772027596041,
          -1.1164700178847444,
          0.0809271009732786,
          -0.18657899351146628,
          -0.0568244808858473,
          0.4923365559366488,
          -0.6806781410088858,
          -0.0845080274046298,
          -0.2973618827735036,
          0.41730200497486253,
          0.7847706510155895,
          -0.9554252623736892,
          0.5859104311026156,
          2.0657833202188343,
          -1.471156925832625,
          -0.8301718953151139,
          -0.8805775998441709,
          -0.27909772154329027,
          1.622849085954001,
          0.013352676347176594,
          -0.6946935952872263,
          0.6218035043055724,
          -0.5998045310708474,
          1.1234121620219353,
          0.30526704024401075,
          1.3887793963702684,
          -0.6613442431530187,
          3.0308571123720305,
          0.8245846250334574,
          0.6545801525867004,
          -0.05118844760766421,
          -0.7255971191344275,
          -0.8677686776235903,
          -0.13597732610058932,
          -0.7972697854931297,
          0.28267571224842025,
          -0.8260974318473202,
          0.6210827008390084,
          0.9561217041246964,
          -0.7058405074022839,
          1.1926860677546935,
          -0.23794193575218264,
          1.1552878860882252,
          0.4381663472912375,
          1.1223283216570923,
          -0.9970197955296825,
          -0.10679398677922511,
          1.4514292605909354,
          -0.6180368476815788,
          -2.037201225680795,
          -1.9425891814764555,
          -2.506440652676061,
          -2.114163921916826,
          -0.41163916318848254,
          1.2785280828417218,
          -0.4422292795131728,
          0.3235273536014321,
          -0.10999149016360682,
          0.008548945436024693,
          -0.16819883974471597,
          -0.1741803443079907,
          0.46116409997701746,
          -1.1759826714413153,
          1.0101271773347245,
          0.9200179332477632,
          -0.19505734087590118,
          0.8053934242321815,
          -0.7013444262571769,
          -0.5372230238753384,
          0.15626385027008327,
          -0.1902210250848615,
          -0.44873803267162277,
          -0.6724480387865963,
          -0.5574947217860433,
          0.9391687441964878,
          -1.9433234056683528,
          0.352494364369333,
          -0.2364369518129867,
          0.7278134999996488,
          0.5150736136393657,
          -2.7825344676529227,
          0.5846466104774262,
          0.32427424344842104,
          0.02186283662655242,
          -0.46867381627789134,
          0.8532812219556223,
          -0.4130293097110322,
          1.8347176266496867,
          0.5643828554943137,
          2.1378280674394823,
          -0.7855339969202355,
          -1.7559256402328518,
          0.7147895974858154,
          0.8527040617252863,
          0.03536009705475734,
          -1.5387932457446432,
          -0.4478951847161186,
          0.6179855339203347,
          -0.18417632565374534,
          -0.11598518547239624,
          -0.1754589686617526,
          -0.9339146556265013,
          -0.5330203260835993,
          -1.426555420520532,
          1.7679599483110264,
          -0.4753728751379821,
          0.47761018181755727,
          -1.0218859446413093,
          0.7945282396010823,
          -1.8731609776353015,
          0.9206151180549562,
          -0.03536792487871091,
          2.1106050536007097,
          -1.3065340728440185,
          0.076380480159592,
          0.3672318138838647,
          1.2328991923762371,
          -0.4228569613907754,
          0.08646440652428741,
          -2.1424667290773685,
          -0.830168864022708,
          0.45161595055524156,
          1.1041743263032135,
          -0.28173626906561283,
          2.0563555231982935,
          1.7602492264490932,
          -0.06065249177480989,
          -2.4135030011737877,
          -1.7775663758059874,
          -0.7778588266274128,
          1.1158411079241686,
          0.3102722877837673,
          -2.094247816222812,
          -0.22876582887016242,
          1.6133613745631155,
          -0.3748046873026527,
          -0.7499696172756662,
          2.054624102518116,
          0.05340953679834792,
          -0.4791570987860799,
          0.3501671588282789,
          0.017164726374088564,
          -0.42914227823509377,
          1.208456328551963,
          1.1157018027844863,
          0.8408615581411037,
          -0.1028872175735376,
          1.146900376399483,
          -0.04970257915867584,
          0.46664326722884075,
          1.033686867939501,
          0.8088443602656821,
          1.7897546832062712,
          0.4512840160401709,
          -1.6840599858682372,
          -1.1601701049822761,
          1.350106818681726,
          -0.3312831699326283,
          0.3865391451330911,
          -0.8514556565308268,
          1.000881423680301,
          -0.38483224883279044,
          1.4581082386095199,
          -0.5322340208981775,
          1.1181333967176956,
          0.6743961048208689,
          -0.7223919054141509,
          1.0989963327471792,
          -0.901634490475998,
          -0.8224671889042517,
          0.7217112921126926,
          -0.625342001465988,
          -0.5938430672545096,
          -0.3439007092103924,
          -1.0001691898725158,
          1.0449944096738975,
          0.6085146984848496,
          -0.06932869669048287,
          -0.10839206717353982,
          0.45015551276717897,
          1.7653351005190716,
          0.8709698025322423,
          -0.5084571342754007,
          0.7774192052488628,
          -0.11877117210308928,
          -0.19899818380372442,
          1.8664713751521251,
          -0.41893789767812306,
          -0.47918491512740585,
          -1.9521052872452325,
          -1.4023291454531368,
          0.4511229387345986,
          -0.6949209011852391,
          0.515413801783241,
          -1.1148710523659369,
          -0.7673098263317347,
          0.6745707069560037,
          1.460892380463078,
          0.5924728014240198,
          1.197830841721251,
          1.7045941713724069,
          1.0400891531540952,
          -0.918440038300026,
          -0.10534471250754213,
          0.630195670684911,
          -0.4148469012882354,
          0.45194603732122307,
          -1.5791562853944654,
          -0.8286279788564058,
          0.528879745585174,
          -2.2370865111124707,
          -1.1077125022845524,
          -0.01771831791014226
         ]
        }
       ],
       "layout": {
        "template": {
         "data": {
          "bar": [
           {
            "error_x": {
             "color": "#2a3f5f"
            },
            "error_y": {
             "color": "#2a3f5f"
            },
            "marker": {
             "line": {
              "color": "#E5ECF6",
              "width": 0.5
             },
             "pattern": {
              "fillmode": "overlay",
              "size": 10,
              "solidity": 0.2
             }
            },
            "type": "bar"
           }
          ],
          "barpolar": [
           {
            "marker": {
             "line": {
              "color": "#E5ECF6",
              "width": 0.5
             },
             "pattern": {
              "fillmode": "overlay",
              "size": 10,
              "solidity": 0.2
             }
            },
            "type": "barpolar"
           }
          ],
          "carpet": [
           {
            "aaxis": {
             "endlinecolor": "#2a3f5f",
             "gridcolor": "white",
             "linecolor": "white",
             "minorgridcolor": "white",
             "startlinecolor": "#2a3f5f"
            },
            "baxis": {
             "endlinecolor": "#2a3f5f",
             "gridcolor": "white",
             "linecolor": "white",
             "minorgridcolor": "white",
             "startlinecolor": "#2a3f5f"
            },
            "type": "carpet"
           }
          ],
          "choropleth": [
           {
            "colorbar": {
             "outlinewidth": 0,
             "ticks": ""
            },
            "type": "choropleth"
           }
          ],
          "contour": [
           {
            "colorbar": {
             "outlinewidth": 0,
             "ticks": ""
            },
            "colorscale": [
             [
              0,
              "#0d0887"
             ],
             [
              0.1111111111111111,
              "#46039f"
             ],
             [
              0.2222222222222222,
              "#7201a8"
             ],
             [
              0.3333333333333333,
              "#9c179e"
             ],
             [
              0.4444444444444444,
              "#bd3786"
             ],
             [
              0.5555555555555556,
              "#d8576b"
             ],
             [
              0.6666666666666666,
              "#ed7953"
             ],
             [
              0.7777777777777778,
              "#fb9f3a"
             ],
             [
              0.8888888888888888,
              "#fdca26"
             ],
             [
              1,
              "#f0f921"
             ]
            ],
            "type": "contour"
           }
          ],
          "contourcarpet": [
           {
            "colorbar": {
             "outlinewidth": 0,
             "ticks": ""
            },
            "type": "contourcarpet"
           }
          ],
          "heatmap": [
           {
            "colorbar": {
             "outlinewidth": 0,
             "ticks": ""
            },
            "colorscale": [
             [
              0,
              "#0d0887"
             ],
             [
              0.1111111111111111,
              "#46039f"
             ],
             [
              0.2222222222222222,
              "#7201a8"
             ],
             [
              0.3333333333333333,
              "#9c179e"
             ],
             [
              0.4444444444444444,
              "#bd3786"
             ],
             [
              0.5555555555555556,
              "#d8576b"
             ],
             [
              0.6666666666666666,
              "#ed7953"
             ],
             [
              0.7777777777777778,
              "#fb9f3a"
             ],
             [
              0.8888888888888888,
              "#fdca26"
             ],
             [
              1,
              "#f0f921"
             ]
            ],
            "type": "heatmap"
           }
          ],
          "heatmapgl": [
           {
            "colorbar": {
             "outlinewidth": 0,
             "ticks": ""
            },
            "colorscale": [
             [
              0,
              "#0d0887"
             ],
             [
              0.1111111111111111,
              "#46039f"
             ],
             [
              0.2222222222222222,
              "#7201a8"
             ],
             [
              0.3333333333333333,
              "#9c179e"
             ],
             [
              0.4444444444444444,
              "#bd3786"
             ],
             [
              0.5555555555555556,
              "#d8576b"
             ],
             [
              0.6666666666666666,
              "#ed7953"
             ],
             [
              0.7777777777777778,
              "#fb9f3a"
             ],
             [
              0.8888888888888888,
              "#fdca26"
             ],
             [
              1,
              "#f0f921"
             ]
            ],
            "type": "heatmapgl"
           }
          ],
          "histogram": [
           {
            "marker": {
             "pattern": {
              "fillmode": "overlay",
              "size": 10,
              "solidity": 0.2
             }
            },
            "type": "histogram"
           }
          ],
          "histogram2d": [
           {
            "colorbar": {
             "outlinewidth": 0,
             "ticks": ""
            },
            "colorscale": [
             [
              0,
              "#0d0887"
             ],
             [
              0.1111111111111111,
              "#46039f"
             ],
             [
              0.2222222222222222,
              "#7201a8"
             ],
             [
              0.3333333333333333,
              "#9c179e"
             ],
             [
              0.4444444444444444,
              "#bd3786"
             ],
             [
              0.5555555555555556,
              "#d8576b"
             ],
             [
              0.6666666666666666,
              "#ed7953"
             ],
             [
              0.7777777777777778,
              "#fb9f3a"
             ],
             [
              0.8888888888888888,
              "#fdca26"
             ],
             [
              1,
              "#f0f921"
             ]
            ],
            "type": "histogram2d"
           }
          ],
          "histogram2dcontour": [
           {
            "colorbar": {
             "outlinewidth": 0,
             "ticks": ""
            },
            "colorscale": [
             [
              0,
              "#0d0887"
             ],
             [
              0.1111111111111111,
              "#46039f"
             ],
             [
              0.2222222222222222,
              "#7201a8"
             ],
             [
              0.3333333333333333,
              "#9c179e"
             ],
             [
              0.4444444444444444,
              "#bd3786"
             ],
             [
              0.5555555555555556,
              "#d8576b"
             ],
             [
              0.6666666666666666,
              "#ed7953"
             ],
             [
              0.7777777777777778,
              "#fb9f3a"
             ],
             [
              0.8888888888888888,
              "#fdca26"
             ],
             [
              1,
              "#f0f921"
             ]
            ],
            "type": "histogram2dcontour"
           }
          ],
          "mesh3d": [
           {
            "colorbar": {
             "outlinewidth": 0,
             "ticks": ""
            },
            "type": "mesh3d"
           }
          ],
          "parcoords": [
           {
            "line": {
             "colorbar": {
              "outlinewidth": 0,
              "ticks": ""
             }
            },
            "type": "parcoords"
           }
          ],
          "pie": [
           {
            "automargin": true,
            "type": "pie"
           }
          ],
          "scatter": [
           {
            "fillpattern": {
             "fillmode": "overlay",
             "size": 10,
             "solidity": 0.2
            },
            "type": "scatter"
           }
          ],
          "scatter3d": [
           {
            "line": {
             "colorbar": {
              "outlinewidth": 0,
              "ticks": ""
             }
            },
            "marker": {
             "colorbar": {
              "outlinewidth": 0,
              "ticks": ""
             }
            },
            "type": "scatter3d"
           }
          ],
          "scattercarpet": [
           {
            "marker": {
             "colorbar": {
              "outlinewidth": 0,
              "ticks": ""
             }
            },
            "type": "scattercarpet"
           }
          ],
          "scattergeo": [
           {
            "marker": {
             "colorbar": {
              "outlinewidth": 0,
              "ticks": ""
             }
            },
            "type": "scattergeo"
           }
          ],
          "scattergl": [
           {
            "marker": {
             "colorbar": {
              "outlinewidth": 0,
              "ticks": ""
             }
            },
            "type": "scattergl"
           }
          ],
          "scattermapbox": [
           {
            "marker": {
             "colorbar": {
              "outlinewidth": 0,
              "ticks": ""
             }
            },
            "type": "scattermapbox"
           }
          ],
          "scatterpolar": [
           {
            "marker": {
             "colorbar": {
              "outlinewidth": 0,
              "ticks": ""
             }
            },
            "type": "scatterpolar"
           }
          ],
          "scatterpolargl": [
           {
            "marker": {
             "colorbar": {
              "outlinewidth": 0,
              "ticks": ""
             }
            },
            "type": "scatterpolargl"
           }
          ],
          "scatterternary": [
           {
            "marker": {
             "colorbar": {
              "outlinewidth": 0,
              "ticks": ""
             }
            },
            "type": "scatterternary"
           }
          ],
          "surface": [
           {
            "colorbar": {
             "outlinewidth": 0,
             "ticks": ""
            },
            "colorscale": [
             [
              0,
              "#0d0887"
             ],
             [
              0.1111111111111111,
              "#46039f"
             ],
             [
              0.2222222222222222,
              "#7201a8"
             ],
             [
              0.3333333333333333,
              "#9c179e"
             ],
             [
              0.4444444444444444,
              "#bd3786"
             ],
             [
              0.5555555555555556,
              "#d8576b"
             ],
             [
              0.6666666666666666,
              "#ed7953"
             ],
             [
              0.7777777777777778,
              "#fb9f3a"
             ],
             [
              0.8888888888888888,
              "#fdca26"
             ],
             [
              1,
              "#f0f921"
             ]
            ],
            "type": "surface"
           }
          ],
          "table": [
           {
            "cells": {
             "fill": {
              "color": "#EBF0F8"
             },
             "line": {
              "color": "white"
             }
            },
            "header": {
             "fill": {
              "color": "#C8D4E3"
             },
             "line": {
              "color": "white"
             }
            },
            "type": "table"
           }
          ]
         },
         "layout": {
          "annotationdefaults": {
           "arrowcolor": "#2a3f5f",
           "arrowhead": 0,
           "arrowwidth": 1
          },
          "autotypenumbers": "strict",
          "coloraxis": {
           "colorbar": {
            "outlinewidth": 0,
            "ticks": ""
           }
          },
          "colorscale": {
           "diverging": [
            [
             0,
             "#8e0152"
            ],
            [
             0.1,
             "#c51b7d"
            ],
            [
             0.2,
             "#de77ae"
            ],
            [
             0.3,
             "#f1b6da"
            ],
            [
             0.4,
             "#fde0ef"
            ],
            [
             0.5,
             "#f7f7f7"
            ],
            [
             0.6,
             "#e6f5d0"
            ],
            [
             0.7,
             "#b8e186"
            ],
            [
             0.8,
             "#7fbc41"
            ],
            [
             0.9,
             "#4d9221"
            ],
            [
             1,
             "#276419"
            ]
           ],
           "sequential": [
            [
             0,
             "#0d0887"
            ],
            [
             0.1111111111111111,
             "#46039f"
            ],
            [
             0.2222222222222222,
             "#7201a8"
            ],
            [
             0.3333333333333333,
             "#9c179e"
            ],
            [
             0.4444444444444444,
             "#bd3786"
            ],
            [
             0.5555555555555556,
             "#d8576b"
            ],
            [
             0.6666666666666666,
             "#ed7953"
            ],
            [
             0.7777777777777778,
             "#fb9f3a"
            ],
            [
             0.8888888888888888,
             "#fdca26"
            ],
            [
             1,
             "#f0f921"
            ]
           ],
           "sequentialminus": [
            [
             0,
             "#0d0887"
            ],
            [
             0.1111111111111111,
             "#46039f"
            ],
            [
             0.2222222222222222,
             "#7201a8"
            ],
            [
             0.3333333333333333,
             "#9c179e"
            ],
            [
             0.4444444444444444,
             "#bd3786"
            ],
            [
             0.5555555555555556,
             "#d8576b"
            ],
            [
             0.6666666666666666,
             "#ed7953"
            ],
            [
             0.7777777777777778,
             "#fb9f3a"
            ],
            [
             0.8888888888888888,
             "#fdca26"
            ],
            [
             1,
             "#f0f921"
            ]
           ]
          },
          "colorway": [
           "#636efa",
           "#EF553B",
           "#00cc96",
           "#ab63fa",
           "#FFA15A",
           "#19d3f3",
           "#FF6692",
           "#B6E880",
           "#FF97FF",
           "#FECB52"
          ],
          "font": {
           "color": "#2a3f5f"
          },
          "geo": {
           "bgcolor": "white",
           "lakecolor": "white",
           "landcolor": "#E5ECF6",
           "showlakes": true,
           "showland": true,
           "subunitcolor": "white"
          },
          "hoverlabel": {
           "align": "left"
          },
          "hovermode": "closest",
          "mapbox": {
           "style": "light"
          },
          "paper_bgcolor": "white",
          "plot_bgcolor": "#E5ECF6",
          "polar": {
           "angularaxis": {
            "gridcolor": "white",
            "linecolor": "white",
            "ticks": ""
           },
           "bgcolor": "#E5ECF6",
           "radialaxis": {
            "gridcolor": "white",
            "linecolor": "white",
            "ticks": ""
           }
          },
          "scene": {
           "xaxis": {
            "backgroundcolor": "#E5ECF6",
            "gridcolor": "white",
            "gridwidth": 2,
            "linecolor": "white",
            "showbackground": true,
            "ticks": "",
            "zerolinecolor": "white"
           },
           "yaxis": {
            "backgroundcolor": "#E5ECF6",
            "gridcolor": "white",
            "gridwidth": 2,
            "linecolor": "white",
            "showbackground": true,
            "ticks": "",
            "zerolinecolor": "white"
           },
           "zaxis": {
            "backgroundcolor": "#E5ECF6",
            "gridcolor": "white",
            "gridwidth": 2,
            "linecolor": "white",
            "showbackground": true,
            "ticks": "",
            "zerolinecolor": "white"
           }
          },
          "shapedefaults": {
           "line": {
            "color": "#2a3f5f"
           }
          },
          "ternary": {
           "aaxis": {
            "gridcolor": "white",
            "linecolor": "white",
            "ticks": ""
           },
           "baxis": {
            "gridcolor": "white",
            "linecolor": "white",
            "ticks": ""
           },
           "bgcolor": "#E5ECF6",
           "caxis": {
            "gridcolor": "white",
            "linecolor": "white",
            "ticks": ""
           }
          },
          "title": {
           "x": 0.05
          },
          "xaxis": {
           "automargin": true,
           "gridcolor": "white",
           "linecolor": "white",
           "ticks": "",
           "title": {
            "standoff": 15
           },
           "zerolinecolor": "white",
           "zerolinewidth": 2
          },
          "yaxis": {
           "automargin": true,
           "gridcolor": "white",
           "linecolor": "white",
           "ticks": "",
           "title": {
            "standoff": 15
           },
           "zerolinecolor": "white",
           "zerolinewidth": 2
          }
         }
        }
       }
      }
     },
     "metadata": {},
     "output_type": "display_data"
    }
   ],
   "source": [
    "# Histogram은 수치 데이터의 분포를 표시하는 데 사용된다.\n",
    "np.random.seed(1)\n",
    "\n",
    "x=np.random.randn(500)\n",
    "\n",
    "data=go.Histogram(x=x)\n",
    "\n",
    "fig=go.Figure(data)\n",
    "fig.show()"
   ]
  },
  {
   "cell_type": "code",
   "execution_count": 43,
   "metadata": {},
   "outputs": [
    {
     "data": {
      "application/vnd.plotly.v1+json": {
       "config": {
        "plotlyServerURL": "https://plot.ly"
       },
       "data": [
        {
         "opacity": 0.75,
         "type": "histogram",
         "x": [
          1.0839519781997107,
          -0.013095411345173575,
          -0.5946762577195795,
          -1.2513907568690088,
          -0.7693836244291606,
          -0.25431071572145914,
          1.202059351006588,
          -1.2718735784146247,
          1.0401527392549108,
          -0.09176419335806169,
          -0.8314450803505212,
          -1.3190912300084694,
          0.5489951251882254,
          -1.9062328456870805,
          -0.4615129705246348,
          -0.4403619312799522,
          -0.16312500621284975,
          0.5811849443107208,
          -0.6146409249169097,
          0.1203424280078301,
          -1.2178460507591775,
          0.0576920925776941,
          0.608355376691552,
          -0.35169187612357783,
          0.36866569299588453,
          0.10463232334045328,
          -0.3442891492802984,
          -0.06081747453551338,
          -0.19502087663908493,
          -1.9742477626379515,
          -1.49916286177836,
          0.4328522273782929,
          -2.0883470416843757,
          1.1583817949984427,
          -1.409971137971963,
          0.030525287891121366,
          0.472135915901166,
          -0.6367350241906234,
          1.162588546776034,
          -1.3708535487883826,
          0.9067663773284979,
          0.14855654928392611,
          -0.15118582188059088,
          1.0116959457668908,
          0.5392538227271283,
          -1.2044774365748985,
          1.4118106063787874,
          1.0039964033226745,
          0.10380768108867151,
          0.14968752877271832,
          1.3362367180035077,
          1.6581722542565447,
          0.6126584867054992,
          -1.1626214343860233,
          0.12025014650600971,
          0.8200199055267631,
          -0.8344983354558086,
          -1.2058669118259404,
          0.005778391705293282,
          0.11236384565475019,
          0.3778297912979604,
          1.230299344816437,
          -2.182425399509166,
          0.09986144802354702,
          -0.2056777237581383,
          0.015749245653221937,
          0.16743325478125634,
          1.0257495478066412,
          0.5589327357143823,
          -0.045699923222044234,
          0.0891175300595829,
          0.10535739192515123,
          -0.13296578186014174,
          1.322013784498662,
          -1.9122382859697469,
          -1.4014961881101127,
          1.5976369628457134,
          0.5736533442539641,
          0.6306416725254931,
          1.1581868527405184,
          -2.0183550516948063,
          1.4391354025339331,
          -1.1664641491312413,
          -0.9827389700521454,
          1.0362427757607,
          -1.155715954115885,
          0.530921212786579,
          1.4273293869368373,
          -0.6495935481591003,
          -0.5890801512833148,
          0.6720285679819714,
          0.8963216468688703,
          0.34172522132346783,
          -1.581368005190903,
          1.6102040229900612,
          0.6224949307878803,
          -2.3568649077708295,
          -0.8997874930908698,
          -1.0600342610720748,
          -0.7776976185631873,
          0.25605238613052045,
          -0.7152321407714558,
          1.224947014327952,
          1.1087379256659278,
          0.07425068210338727,
          -1.0532269735060111,
          -0.0006130050749615328,
          0.40675972575016384,
          1.162457386956998,
          -0.464294102344676,
          0.07972196175027634,
          -0.9967397713054439,
          -0.4609823730753101,
          1.1683381663504107,
          1.5962034793090145,
          -0.34497412040426745,
          -0.2641389428883686,
          -0.7606621655012265,
          -1.5295979793746663,
          0.3727604823882885,
          0.4726903170601264,
          0.6044470805127579,
          0.026131979530616148,
          0.5292113042641395,
          0.1653818999636567,
          1.2444590620289295,
          0.37457611195590107,
          1.4513351157605372,
          1.0723618705649005,
          0.35901654387424187,
          -1.2423005116668568,
          0.5172723109699303,
          0.3207619806555976,
          1.9186195264011077,
          0.742341573755488,
          -1.1312712082912715,
          -0.7928637346996404,
          0.9639369237089188,
          -0.19311226230054834,
          -1.2028900119713275,
          0.4907613815015929,
          0.4936492371435114,
          -0.11854175010917876,
          0.8615962373417193,
          -0.10423392541083455,
          1.86481534291299,
          -1.0975098026466428,
          0.9079220869128258,
          0.9909861710337484,
          1.2668665643981818,
          -0.12525423890135004,
          -0.41299433809262887,
          1.7406750640355182,
          0.5465691026603778,
          -0.5851352797686908,
          0.8323518154376313,
          1.5870825219388973,
          0.6663810561258107,
          -0.7259800553524552,
          0.9794249859599479,
          -1.5375348412154786,
          0.7768192843307928,
          0.978327542602826,
          -0.22196889971060488,
          0.2771265005611528,
          0.15028030707346207,
          -0.5357956620139959,
          -0.8576003202029047,
          -0.2786813476594679,
          -0.6220121543392613,
          1.5138407485294787,
          -1.3552714642976345,
          1.799211810942495,
          -0.23541095803671688,
          -0.7710385133282165,
          -0.5442459107735271,
          -1.0409628473237882,
          -2.032167323739674,
          0.8159891538121661,
          -0.15364732494142597,
          -0.8384502906325029,
          -1.3058329534318514,
          -0.562829044435584,
          -1.2514994035400624,
          1.2985716217739778,
          -1.896277930424392,
          -0.9582128157722813,
          -0.8830217303668589,
          0.47517739276916127,
          0.2537748075110025,
          -0.1447931144765984,
          -0.17222498883714352,
          0.39807178788075337,
          -0.7954389347419866,
          0.48366473336493476,
          -1.3227624197657841,
          0.5403055162702174,
          -0.5072572026876707,
          1.1283785422364605,
          -1.2233505715927329,
          -0.45350311891367795,
          -0.8209053714367824,
          0.940218905118492,
          -1.4112934668388917,
          0.8841477951153655,
          0.4632172228765913,
          0.565973205432593,
          -0.6881593072259579,
          0.47534051728142246,
          1.7507218048489623,
          -0.6913085383825598,
          0.25318954811736005,
          -0.2630812529374809,
          -1.100346396145693,
          -0.8248275939563184,
          0.5248509452500714,
          -0.045382556696442526,
          -2.4529198628005378,
          0.5322881797215193,
          -0.3175893278301259,
          0.9177471118740052,
          -0.6436341669020254,
          2.306927273971173,
          -0.9487492520091053,
          0.7662261906874215,
          -1.0754598165366551,
          0.1949556147899143,
          -1.1475100576742117,
          1.254848753511963,
          -0.02110381939647485,
          1.4947691825286369,
          -0.09728584530160729,
          -1.6243589631658872,
          -0.8431173300928395,
          -0.3921689753142158,
          1.3814994155847962,
          2.729462135445094,
          -0.11415706800292051,
          0.31801686094946124,
          1.2501122262187145,
          -1.1413083218566606,
          -0.31560320940172826,
          0.6695926959117037,
          0.35313325447531546,
          -0.08432253269598856,
          -0.9774007100227984,
          0.10418997587261888,
          0.7128772994560211,
          -0.718420956902102,
          0.07447709492304472,
          2.08974091704949,
          0.4773366596902064,
          0.5931235663760103,
          -1.0361885663919008,
          -0.550875649603592,
          -0.31746617059138227,
          -0.8386774077745356,
          -1.209100458641519,
          -1.5657748449138427,
          -0.20787983780257424,
          0.8328187435217099,
          0.6167805635806435,
          0.6762815106358739,
          0.9120868581510255,
          -0.8588231507422037,
          -0.6832707184137332,
          -0.23558565194673464,
          -0.8912576389118602,
          0.24967101487352886,
          -0.6631558312958422,
          1.1139527418808068,
          -0.8778515425288499,
          0.5625417835249032,
          1.6787603994940319,
          -1.2152254181311306,
          -0.5513231444446826,
          -0.7681584763741307,
          -1.0602738188253056,
          0.2606884809102133,
          0.5003195194866704,
          -0.7328074372194352,
          -0.5124826255142971,
          0.24241075242619894,
          0.31396174295537116,
          -1.1113729323078212,
          2.3016345027808534,
          -0.23344104883120642,
          0.08811970446198623,
          -0.6280690126587997,
          -0.2586954360976899,
          -0.9042886387435229,
          1.6282387080178005,
          -1.847187510881867,
          -0.18494936447121513,
          0.6611144634726759,
          -1.5972142442577566,
          0.46101596374318504,
          1.3165064027087494,
          0.2963696717799263,
          0.000007512221247400476,
          -0.034210800092609434,
          -0.2814993205506845,
          0.5801776447125971,
          -0.8635265965180466,
          0.32681306197752724,
          -0.33852572514158347,
          -0.5816228502650783,
          -1.1563755922941563,
          0.6745282193394017,
          -0.5906453787685052,
          1.0775199822005939,
          -0.028045418922321503,
          -0.0030922379575568136,
          -1.0978727092313199,
          -1.0001157199466832,
          0.5469982296454587,
          -0.0961876932390115,
          0.0587424306110808,
          0.6510145056416429,
          0.5218448364473295,
          -0.3558323037687913,
          2.8943861916269094,
          3.135047340087907,
          0.44031310911722576,
          -1.439194359044072,
          -0.8936101413393984,
          0.5817392889695517,
          -0.5766068866208774,
          -0.08170226840933198,
          -1.9967455389180462,
          0.4361815159008643,
          1.2084426041815277,
          -1.2143733634764424,
          -0.34350002560034015,
          -0.35902060721950624,
          -2.4848954085549657,
          -0.475650077257237,
          -0.5691645557455409,
          -1.393556966972329,
          -0.8745405206894936,
          0.2468532710856716,
          0.3413890470753744,
          0.3248685522382847,
          -0.5759521961535723,
          -0.824904519498372,
          0.1453879754503495,
          -0.393142158559682,
          1.0364170105858024,
          1.1643086471236404,
          -0.4726131262518513,
          -1.633486958657259,
          0.18335976313563973,
          -0.6688954996256538,
          0.8222970703188968,
          0.7000995177303653,
          -1.050609359178075,
          1.0482305593614218,
          1.3922773402588107,
          0.38622388289878856,
          0.6101460366504673,
          -0.5209280451862826,
          -0.859160398168045,
          1.2548868714256634,
          0.24110911704715515,
          -0.0916751996340547,
          -0.06892501949678126,
          0.7527614653068494,
          -0.21565126620908956,
          -0.49842790108547963,
          -0.30474360581146104,
          -0.16249720102336535,
          -0.48647135206821807,
          0.0882823106652884,
          -0.491598626876554,
          -0.4549278426221724,
          1.986539197727147,
          0.00726048398584936,
          1.7079861809188028,
          -1.0047646079403063,
          0.7548167342810945,
          0.011318007124972324,
          1.6910100183182633,
          -0.4651863471275594,
          1.7923229893528498,
          -0.5886460984983551,
          0.007627448212862024,
          -1.156085933205499,
          -0.034551151621253356,
          -0.20682310363823816,
          -1.1093858227166964,
          -1.8459965521446364,
          0.8964069423491676,
          0.49513757821686233,
          -0.696338517135318,
          -0.10679363646938571,
          -0.7252038456637648,
          -0.13807465634608823,
          0.2500426887487006,
          0.3531156570701145,
          -0.5009768736160316,
          -0.20980437698718157,
          0.5161168844666463,
          -0.6593264509967056,
          -0.5555571154574089,
          0.08185020859733498,
          0.4947622485940051,
          -0.42394975124012607,
          0.7965307986530902,
          -0.07006411599606449,
          -0.672742530304163,
          0.09441540724620351,
          -1.4566902940280657,
          -1.8358990412908596,
          0.3390251296105697,
          -1.7763233397671936,
          -0.8019470832016612,
          0.9986705888993866,
          0.3316940642614485,
          -0.8499668680628096,
          -0.014990428661929877,
          -1.4338957280829991,
          -1.1391903140756272,
          -0.16781809657054741,
          0.5874495514265937,
          -0.033729521000650874,
          -0.08429426710562539,
          -0.6503443302703483,
          0.07451824253011115,
          0.7960178154738345,
          1.1037480234615573,
          0.3427734110208479,
          0.12197818894064819,
          0.3551726778037381,
          0.5253602080090382,
          -0.48177637406572554,
          -0.36911191595649046,
          -0.6634449740226703,
          -0.6287994264700616,
          1.883029536322861,
          0.7849377222952587,
          -0.6847397056736109,
          0.042316779241044995,
          0.30748920265025553,
          -0.0899584325212619,
          -0.9637543939105327,
          1.446528642388544,
          -1.1884246050321579,
          0.8683403811601966,
          0.054036956344474814,
          -0.8134718048962176,
          -0.16150411454896868,
          -1.8504991327810163,
          0.27497256944050336,
          0.7284646065701588,
          -0.5300609543646709,
          0.297857928006686,
          -2.498894274710741,
          -0.5313955414362246,
          -1.3374015901317073,
          0.9252926034964264,
          0.1943131872410117,
          -0.04723757850072069,
          -0.18922869804373182,
          -0.24288838588631786,
          0.7850624781487754,
          -1.0417528048855629,
          0.9322531272553473,
          0.6995888948805858,
          1.0307543310626488,
          -0.3479366684274727,
          1.0814859205102036,
          1.000785925774463,
          0.4495976919139571,
          1.1228697457953762,
          -0.4413016436826329,
          -0.07314789196366885,
          1.347599579628929,
          2.0173903802198088,
          -1.646634781578608,
          0.9370434368925864,
          -1.258115919534747,
          0.2102915014503142,
          -0.5878981025013955,
          0.2056890407178121,
          -0.29823864939612726,
          0.39407345174029856,
          0.6497446906254494,
          -0.3481558156261132,
          0.6685633960121458,
          -0.28757562650431656,
          0.6848194568419582,
          1.1774543938903057,
          0.1650850837802196,
          0.23311263636668741,
          -1.8027220504245314,
          -0.7718904782638553,
          -0.6226565784556466,
          -0.1506596141383785,
          -1.4000228868967703,
          -1.301066078757485
         ]
        },
        {
         "opacity": 0.75,
         "type": "histogram",
         "x": [
          0.9228930431325937,
          1.207825267312994,
          1.9861959282732953,
          2.4327564266221433,
          1.528258499515287,
          0.6322680251760158,
          1.691720859369497,
          0.20165325173513504,
          1.2138177272479647,
          2.78997592953971,
          2.473573932175686,
          0.6976145977348465,
          1.9703637044692226,
          0.612082979473966,
          0.38489398961255783,
          -0.6093373677207141,
          1.536890163109165,
          1.305940784165888,
          1.9844940171717376,
          1.8059221474364318,
          0.70047966615562,
          1.8631016097637816,
          2.8807307546241123,
          3.3012837618788504,
          1.7724558045656562,
          1.288475888265399,
          1.3886640869423181,
          1.083389668652679,
          0.42443111667701194,
          2.5772914018653585,
          1.7625064699753437,
          1.146496699700322,
          2.4876209683463104,
          1.8397314754461633,
          -0.2562782121342697,
          2.2366387666542806,
          0.5905687380850269,
          -0.3175820382080725,
          1.2898594014928233,
          0.6898030996665458,
          0.25552719494374687,
          2.583547291673275,
          1.0597221754362767,
          0.9477760118430211,
          0.7486348543729875,
          0.6070176670971825,
          1.1887792036589495,
          0.6788562568361741,
          4.238343196752377,
          -0.054375035910720015,
          1.1172431821119988,
          0.5297267224340874,
          0.29745945860876266,
          0.3320614835305524,
          1.0276550536909579,
          1.9311947106654654,
          2.1945064126916285,
          1.6966415247324456,
          0.5763182295586979,
          2.92173816791684,
          2.7777335964581393,
          2.763158283549572,
          0.5285468402967142,
          1.6214346427417776,
          1.7102542824744325,
          1.5849327330836132,
          1.5687547960188786,
          1.549022707734368,
          0.697568539144732,
          2.2073170305002083,
          2.3776666162314943,
          1.6362839300179233,
          1.0552973534990586,
          1.4058171169131124,
          2.2484572829871987,
          0.8725183890780701,
          1.6994356666012878,
          0.26474953997169326,
          1.379216099360931,
          -0.2746618205200255,
          -0.13691382206947011,
          3.0884818045490885,
          1.1316468172402232,
          2.1037148180302014,
          -1.6768413763474905,
          0.7623015363310323,
          0.8242167402416618,
          0.44176145944988443,
          1.1396555682344904,
          0.13365474822850332,
          2.2558611434205806,
          1.6589328879933323,
          -0.14435573999820983,
          1.4846547176740095,
          1.3145199030982753,
          2.6108814773826814,
          2.0558686021830503,
          -0.11831983687955172,
          0.22282467805476802,
          1.9944350023559068,
          -0.32151337835149896,
          1.5999020417751053,
          0.3216519330060569,
          1.5089450728523228,
          1.538264819331764,
          1.3745336570778013,
          0.25318275934405376,
          1.03353786731489,
          2.2202224782766833,
          0.815400167408662,
          1.446674362298707,
          2.648747795073854,
          2.9095286915525786,
          2.5546894746825,
          1.1427776731341104,
          1.102803356902325,
          0.8233998755313724,
          0.4879324175793728,
          0.8360497867757412,
          -0.4109659716113072,
          1.578024943735173,
          0.7153648472442695,
          2.131264870800236,
          2.050003438263212,
          2.393015753572061,
          0.22319060806897173,
          0.7733246409212499,
          0.2697871773311207,
          -0.5590951624737899,
          0.3297970308967285,
          0.20725938384315779,
          2.1306051773633974,
          -1.739141738963788,
          1.5103149781599827,
          0.746380679167727,
          0.5423373323179077,
          0.69396350326251,
          1.4657575557576121,
          0.9020243494579587,
          3.3782396207685506,
          1.1968457647342114,
          0.5291566901226774,
          0.47032463117533885,
          0.7838243185833585,
          2.590556729913435,
          1.5431137214467077,
          2.377037456655711,
          -0.26421097398965543,
          0.5128577532694752,
          1.0696285362455438,
          0.7994918339603473,
          1.702972940949333,
          2.051500717385532,
          0.633876739897858,
          -1.8720502502872667,
          0.077180812831947,
          -0.2005083039338007,
          1.5825205566485963,
          3.0434699799311615,
          1.3430748186148231,
          2.819773086209831,
          1.338016911783674,
          2.122974756204621,
          1.3241130623760646,
          1.7553743342106332,
          0.0730075259573646,
          0.6899052224778712,
          2.508111571640253,
          1.929709204686588,
          -0.3551904271156632,
          2.075115691837281,
          2.2316693445367433,
          0.7243977363642918,
          1.3340435690661392,
          0.4259396390240039,
          1.3083972620706863,
          1.1571163284250607,
          0.6146970854371137,
          0.9594725968694917,
          0.45746263309416013,
          1.688969784738842,
          0.35577368038442725,
          1.3540425043243762,
          1.280810295332091,
          0.21185158123941472,
          0.6011881235924126,
          1.3125135923115863,
          2.3744246847347794,
          0.3594975437518677,
          0.8761451485345425,
          0.8137475563887907,
          -0.7534069130437526,
          0.852113031067868,
          1.7519208813872225,
          1.7813188429885818,
          0.5199652635893114,
          1.5357097643598974,
          0.751148178289182,
          1.35753176257304,
          1.9359749079643223,
          0.3362479949158522,
          1.4797369191758816,
          -0.639838761278805,
          1.9753386130718262,
          -0.5458008471502322,
          0.9362689452854865,
          0.8103563410779457,
          1.8616703901092384,
          2.7891854254545834,
          0.8119847545799903,
          1.008588610451617,
          -0.05864698293996495,
          1.5651747090967718,
          1.9979772377572043,
          2.1765710026397773,
          0.003915273120208673,
          0.12651089124850468,
          1.9046195237125951,
          1.9391726718903264,
          -1.0499932285070188,
          0.18343853482311656,
          -1.1948926470362755,
          0.8088164106754621,
          1.141689042758294,
          1.349133952491338,
          1.452069219980312,
          1.657262312303715,
          0.899272391356699,
          -0.5118818047530538,
          1.2137688042064223,
          1.751167078777227,
          -0.4124588451341633,
          0.03221614759375724,
          2.2012087431840337,
          2.630151933422008,
          0.5349414072988438,
          -0.3043075134939017,
          0.4016425420033054,
          0.17104468255513916,
          0.5427723195334229,
          1.8227610387971014,
          -0.9220872246925802,
          -1.043549125815142,
          2.942953893558448,
          0.19556383533465682,
          2.1836577834365962,
          -0.8452509326065438,
          1.8586039353798407,
          -0.4139401420406146,
          0.012649119730354652,
          -0.3966601937956997,
          1.5447258304626237,
          -0.041193560835655285,
          0.0015773451576642783,
          1.6736533602179264,
          2.567895297610643,
          1.4293211845674345,
          1.2610413364313395,
          1.7798494040864161,
          2.6677782326588924,
          0.7516810062061576,
          0.022153014742790855,
          2.8430945049733944,
          2.4149011535194624,
          -0.21412921252001982,
          1.8132614607247919,
          1.4075160066088692,
          0.928989136082592,
          -0.1523748696302505,
          -0.41083193008496677,
          0.4524364223526287,
          0.9279603828494152,
          2.641049198722794,
          -0.39892498665307285,
          2.0182231587385395,
          1.212908786788541,
          1.815925507981433,
          3.022575774207162,
          0.5564281190793277,
          1.137907689146762,
          -0.6816991757688537,
          0.3301646490225486,
          2.561720071243357,
          3.0246659034374526,
          1.1671791149157504,
          0.9478001301457092,
          1.460828984409745,
          1.2970265991695178,
          3.252553060760863,
          -0.010409948700301985,
          -0.6849541154860361,
          0.25501349997341427,
          -0.37775509681522657,
          1.1135550046481453,
          1.0563437278124226,
          -0.4932743109949942,
          0.9670581115147194,
          0.7062230536662757,
          1.2398714989614765,
          0.35906254472224886,
          0.5994926357761454,
          0.7121218727157168,
          2.3289123198663377,
          -0.13505820162904403,
          0.41750643433349177,
          1.0648412476431275,
          0.927379909973216,
          2.1563291434216483,
          0.6966662801253253,
          1.3464819893828208,
          1.032758303914771,
          0.14611892589724218,
          0.6926065960485046,
          0.9712558943155668,
          0.20096413392420598,
          3.596253592278405,
          1.223446461209746,
          2.04556737867067,
          2.665770094275735,
          3.0043766037815898,
          -0.8031043988642115,
          0.35898562866535133,
          -0.40127391482793473,
          0.5093559820779768,
          0.6434393959309823,
          -0.4717866978330598,
          2.110337876617874,
          2.2747583805838447,
          0.2927822423340696,
          1.6805080548537776,
          1.8540508405945584,
          1.6615557763078623,
          -0.35810146096184337,
          3.4453780428813885,
          3.087213742421698,
          0.5107646112607578,
          0.5368158646249118,
          -0.3307692154999886,
          1.6148357723988764,
          0.9968074291712203,
          1.482006189882346,
          0.5788987712238114,
          -0.26234688369711257,
          0.0390796321292991,
          0.38272512852673113,
          1.1492273820395795,
          0.7724397057241725,
          1.7789258285024379,
          1.678163231870987,
          1.9340219424867424,
          1.2966141164674856,
          2.855970927084158,
          3.143985913349917,
          0.5086089937730853,
          -0.0576092700670261,
          1.7669484672676288,
          1.587343045779241,
          1.8025266807621025,
          0.5022363512382573,
          -0.024300412381216496,
          0.8433515159206811,
          2.7365566244552055,
          0.7978123595184325,
          1.6960823694816927,
          0.4370959397088604,
          0.12025379573174133,
          0.19947615971669852,
          -1.25158043920523,
          0.34451836602696295,
          1.8834421787202937,
          1.0433204468073827,
          0.15399244519485666,
          0.946411333076742,
          1.2598135480077164,
          1.832332345478339,
          0.26866678641232533,
          0.9924129152575739,
          1.33288725589561,
          2.0534759531187836,
          -0.2506780630612555,
          0.6941857049782192,
          -0.7988384604142338,
          0.16035030457742527,
          1.3371342423788544,
          2.7092076972994517,
          0.7618149804516198,
          0.5984055546906086,
          0.0005377147743643729,
          -0.36678970120449805,
          0.13828408307980578,
          1.6207175080560532,
          -1.0958667037808993,
          0.7939416057205512,
          0.31684195641796786,
          -0.04550908017725441,
          1.2378836783913676,
          0.2077336935883094,
          -0.0876027853539374,
          0.4164238544499166,
          -0.5444871311526884,
          -0.644618809560858,
          0.2033375836660939,
          -0.14517011060767104,
          1.8911211906779184,
          0.9180871856007538,
          -0.16405656459614426,
          0.8939711261715785,
          1.7011329271775453,
          1.5764018908678432,
          2.7146550932733264,
          0.1973482808376006,
          2.2829324548372774,
          0.6308966940533375,
          1.0763406376532298,
          0.14155111889049987,
          -0.03817030963330659,
          2.8167779194672207,
          2.8912873415956053,
          1.295873652510397,
          1.8343563422553872,
          1.2147819821319552,
          2.5819798151255586,
          -0.7807879191313207,
          2.6301521350461106,
          -0.6801210137645177,
          2.5990507624118644,
          3.139918438166299,
          -0.2531192471478576,
          0.29117250301465347,
          0.9876923039911905,
          1.8346459051794204,
          -1.1691784369713987,
          0.8429645226763671,
          1.6662111447038725,
          1.785648912271168,
          1.650194709772543,
          0.5474751908950415,
          0.589043152502956,
          0.4360647258901944,
          3.529127892253223,
          -0.030724011863828338,
          1.2425741833482469,
          0.6829885473359977,
          0.8362645390265221,
          1.3210728719140343,
          0.418324387828963,
          1.0375921257168583,
          0.5509858108463296,
          1.73329445042853,
          0.5993476416286536,
          1.057598794214007,
          1.0052139420116306,
          2.8849653319779858,
          2.853945106099201,
          -0.19939579984131584,
          0.20148468306397338,
          -0.46111948844781936,
          0.6110264182233138,
          0.8722469777624768,
          0.26854184068046083,
          1.3118748970392526,
          0.4498557708775326,
          0.9090352641408985,
          -0.9027168020109666,
          1.600032238949944,
          -0.010138645195232554,
          0.5109156240563434,
          1.5787046731973293,
          -0.4683186599448339,
          1.99063125713097,
          1.2322334812450886,
          1.2213485829567876,
          -0.44026511614769825,
          -0.37175135631753786,
          1.0344744830924448,
          0.6645194174050473,
          0.38395754034308316,
          0.8408819669842037,
          0.0693313478212173,
          0.8165455240045678,
          1.5020189727827118,
          0.0723626434234711,
          0.1216209271098253,
          0.8414748991122577,
          0.4985438537065625,
          0.8810475305726119,
          1.023769135688093,
          -0.7672221005014541,
          2.5414295054538227,
          0.7560154883393738,
          1.0367123285755764,
          -0.24187993890787007,
          0.699346562570608,
          0.6530406326824907,
          -0.0853534453455318,
          0.7238589985896171,
          -0.597310496359126,
          3.2238208153845407,
          1.1670058089177529,
          1.434323075862904
         ]
        }
       ],
       "layout": {
        "barmode": "overlay",
        "template": {
         "data": {
          "bar": [
           {
            "error_x": {
             "color": "#2a3f5f"
            },
            "error_y": {
             "color": "#2a3f5f"
            },
            "marker": {
             "line": {
              "color": "#E5ECF6",
              "width": 0.5
             },
             "pattern": {
              "fillmode": "overlay",
              "size": 10,
              "solidity": 0.2
             }
            },
            "type": "bar"
           }
          ],
          "barpolar": [
           {
            "marker": {
             "line": {
              "color": "#E5ECF6",
              "width": 0.5
             },
             "pattern": {
              "fillmode": "overlay",
              "size": 10,
              "solidity": 0.2
             }
            },
            "type": "barpolar"
           }
          ],
          "carpet": [
           {
            "aaxis": {
             "endlinecolor": "#2a3f5f",
             "gridcolor": "white",
             "linecolor": "white",
             "minorgridcolor": "white",
             "startlinecolor": "#2a3f5f"
            },
            "baxis": {
             "endlinecolor": "#2a3f5f",
             "gridcolor": "white",
             "linecolor": "white",
             "minorgridcolor": "white",
             "startlinecolor": "#2a3f5f"
            },
            "type": "carpet"
           }
          ],
          "choropleth": [
           {
            "colorbar": {
             "outlinewidth": 0,
             "ticks": ""
            },
            "type": "choropleth"
           }
          ],
          "contour": [
           {
            "colorbar": {
             "outlinewidth": 0,
             "ticks": ""
            },
            "colorscale": [
             [
              0,
              "#0d0887"
             ],
             [
              0.1111111111111111,
              "#46039f"
             ],
             [
              0.2222222222222222,
              "#7201a8"
             ],
             [
              0.3333333333333333,
              "#9c179e"
             ],
             [
              0.4444444444444444,
              "#bd3786"
             ],
             [
              0.5555555555555556,
              "#d8576b"
             ],
             [
              0.6666666666666666,
              "#ed7953"
             ],
             [
              0.7777777777777778,
              "#fb9f3a"
             ],
             [
              0.8888888888888888,
              "#fdca26"
             ],
             [
              1,
              "#f0f921"
             ]
            ],
            "type": "contour"
           }
          ],
          "contourcarpet": [
           {
            "colorbar": {
             "outlinewidth": 0,
             "ticks": ""
            },
            "type": "contourcarpet"
           }
          ],
          "heatmap": [
           {
            "colorbar": {
             "outlinewidth": 0,
             "ticks": ""
            },
            "colorscale": [
             [
              0,
              "#0d0887"
             ],
             [
              0.1111111111111111,
              "#46039f"
             ],
             [
              0.2222222222222222,
              "#7201a8"
             ],
             [
              0.3333333333333333,
              "#9c179e"
             ],
             [
              0.4444444444444444,
              "#bd3786"
             ],
             [
              0.5555555555555556,
              "#d8576b"
             ],
             [
              0.6666666666666666,
              "#ed7953"
             ],
             [
              0.7777777777777778,
              "#fb9f3a"
             ],
             [
              0.8888888888888888,
              "#fdca26"
             ],
             [
              1,
              "#f0f921"
             ]
            ],
            "type": "heatmap"
           }
          ],
          "heatmapgl": [
           {
            "colorbar": {
             "outlinewidth": 0,
             "ticks": ""
            },
            "colorscale": [
             [
              0,
              "#0d0887"
             ],
             [
              0.1111111111111111,
              "#46039f"
             ],
             [
              0.2222222222222222,
              "#7201a8"
             ],
             [
              0.3333333333333333,
              "#9c179e"
             ],
             [
              0.4444444444444444,
              "#bd3786"
             ],
             [
              0.5555555555555556,
              "#d8576b"
             ],
             [
              0.6666666666666666,
              "#ed7953"
             ],
             [
              0.7777777777777778,
              "#fb9f3a"
             ],
             [
              0.8888888888888888,
              "#fdca26"
             ],
             [
              1,
              "#f0f921"
             ]
            ],
            "type": "heatmapgl"
           }
          ],
          "histogram": [
           {
            "marker": {
             "pattern": {
              "fillmode": "overlay",
              "size": 10,
              "solidity": 0.2
             }
            },
            "type": "histogram"
           }
          ],
          "histogram2d": [
           {
            "colorbar": {
             "outlinewidth": 0,
             "ticks": ""
            },
            "colorscale": [
             [
              0,
              "#0d0887"
             ],
             [
              0.1111111111111111,
              "#46039f"
             ],
             [
              0.2222222222222222,
              "#7201a8"
             ],
             [
              0.3333333333333333,
              "#9c179e"
             ],
             [
              0.4444444444444444,
              "#bd3786"
             ],
             [
              0.5555555555555556,
              "#d8576b"
             ],
             [
              0.6666666666666666,
              "#ed7953"
             ],
             [
              0.7777777777777778,
              "#fb9f3a"
             ],
             [
              0.8888888888888888,
              "#fdca26"
             ],
             [
              1,
              "#f0f921"
             ]
            ],
            "type": "histogram2d"
           }
          ],
          "histogram2dcontour": [
           {
            "colorbar": {
             "outlinewidth": 0,
             "ticks": ""
            },
            "colorscale": [
             [
              0,
              "#0d0887"
             ],
             [
              0.1111111111111111,
              "#46039f"
             ],
             [
              0.2222222222222222,
              "#7201a8"
             ],
             [
              0.3333333333333333,
              "#9c179e"
             ],
             [
              0.4444444444444444,
              "#bd3786"
             ],
             [
              0.5555555555555556,
              "#d8576b"
             ],
             [
              0.6666666666666666,
              "#ed7953"
             ],
             [
              0.7777777777777778,
              "#fb9f3a"
             ],
             [
              0.8888888888888888,
              "#fdca26"
             ],
             [
              1,
              "#f0f921"
             ]
            ],
            "type": "histogram2dcontour"
           }
          ],
          "mesh3d": [
           {
            "colorbar": {
             "outlinewidth": 0,
             "ticks": ""
            },
            "type": "mesh3d"
           }
          ],
          "parcoords": [
           {
            "line": {
             "colorbar": {
              "outlinewidth": 0,
              "ticks": ""
             }
            },
            "type": "parcoords"
           }
          ],
          "pie": [
           {
            "automargin": true,
            "type": "pie"
           }
          ],
          "scatter": [
           {
            "fillpattern": {
             "fillmode": "overlay",
             "size": 10,
             "solidity": 0.2
            },
            "type": "scatter"
           }
          ],
          "scatter3d": [
           {
            "line": {
             "colorbar": {
              "outlinewidth": 0,
              "ticks": ""
             }
            },
            "marker": {
             "colorbar": {
              "outlinewidth": 0,
              "ticks": ""
             }
            },
            "type": "scatter3d"
           }
          ],
          "scattercarpet": [
           {
            "marker": {
             "colorbar": {
              "outlinewidth": 0,
              "ticks": ""
             }
            },
            "type": "scattercarpet"
           }
          ],
          "scattergeo": [
           {
            "marker": {
             "colorbar": {
              "outlinewidth": 0,
              "ticks": ""
             }
            },
            "type": "scattergeo"
           }
          ],
          "scattergl": [
           {
            "marker": {
             "colorbar": {
              "outlinewidth": 0,
              "ticks": ""
             }
            },
            "type": "scattergl"
           }
          ],
          "scattermapbox": [
           {
            "marker": {
             "colorbar": {
              "outlinewidth": 0,
              "ticks": ""
             }
            },
            "type": "scattermapbox"
           }
          ],
          "scatterpolar": [
           {
            "marker": {
             "colorbar": {
              "outlinewidth": 0,
              "ticks": ""
             }
            },
            "type": "scatterpolar"
           }
          ],
          "scatterpolargl": [
           {
            "marker": {
             "colorbar": {
              "outlinewidth": 0,
              "ticks": ""
             }
            },
            "type": "scatterpolargl"
           }
          ],
          "scatterternary": [
           {
            "marker": {
             "colorbar": {
              "outlinewidth": 0,
              "ticks": ""
             }
            },
            "type": "scatterternary"
           }
          ],
          "surface": [
           {
            "colorbar": {
             "outlinewidth": 0,
             "ticks": ""
            },
            "colorscale": [
             [
              0,
              "#0d0887"
             ],
             [
              0.1111111111111111,
              "#46039f"
             ],
             [
              0.2222222222222222,
              "#7201a8"
             ],
             [
              0.3333333333333333,
              "#9c179e"
             ],
             [
              0.4444444444444444,
              "#bd3786"
             ],
             [
              0.5555555555555556,
              "#d8576b"
             ],
             [
              0.6666666666666666,
              "#ed7953"
             ],
             [
              0.7777777777777778,
              "#fb9f3a"
             ],
             [
              0.8888888888888888,
              "#fdca26"
             ],
             [
              1,
              "#f0f921"
             ]
            ],
            "type": "surface"
           }
          ],
          "table": [
           {
            "cells": {
             "fill": {
              "color": "#EBF0F8"
             },
             "line": {
              "color": "white"
             }
            },
            "header": {
             "fill": {
              "color": "#C8D4E3"
             },
             "line": {
              "color": "white"
             }
            },
            "type": "table"
           }
          ]
         },
         "layout": {
          "annotationdefaults": {
           "arrowcolor": "#2a3f5f",
           "arrowhead": 0,
           "arrowwidth": 1
          },
          "autotypenumbers": "strict",
          "coloraxis": {
           "colorbar": {
            "outlinewidth": 0,
            "ticks": ""
           }
          },
          "colorscale": {
           "diverging": [
            [
             0,
             "#8e0152"
            ],
            [
             0.1,
             "#c51b7d"
            ],
            [
             0.2,
             "#de77ae"
            ],
            [
             0.3,
             "#f1b6da"
            ],
            [
             0.4,
             "#fde0ef"
            ],
            [
             0.5,
             "#f7f7f7"
            ],
            [
             0.6,
             "#e6f5d0"
            ],
            [
             0.7,
             "#b8e186"
            ],
            [
             0.8,
             "#7fbc41"
            ],
            [
             0.9,
             "#4d9221"
            ],
            [
             1,
             "#276419"
            ]
           ],
           "sequential": [
            [
             0,
             "#0d0887"
            ],
            [
             0.1111111111111111,
             "#46039f"
            ],
            [
             0.2222222222222222,
             "#7201a8"
            ],
            [
             0.3333333333333333,
             "#9c179e"
            ],
            [
             0.4444444444444444,
             "#bd3786"
            ],
            [
             0.5555555555555556,
             "#d8576b"
            ],
            [
             0.6666666666666666,
             "#ed7953"
            ],
            [
             0.7777777777777778,
             "#fb9f3a"
            ],
            [
             0.8888888888888888,
             "#fdca26"
            ],
            [
             1,
             "#f0f921"
            ]
           ],
           "sequentialminus": [
            [
             0,
             "#0d0887"
            ],
            [
             0.1111111111111111,
             "#46039f"
            ],
            [
             0.2222222222222222,
             "#7201a8"
            ],
            [
             0.3333333333333333,
             "#9c179e"
            ],
            [
             0.4444444444444444,
             "#bd3786"
            ],
            [
             0.5555555555555556,
             "#d8576b"
            ],
            [
             0.6666666666666666,
             "#ed7953"
            ],
            [
             0.7777777777777778,
             "#fb9f3a"
            ],
            [
             0.8888888888888888,
             "#fdca26"
            ],
            [
             1,
             "#f0f921"
            ]
           ]
          },
          "colorway": [
           "#636efa",
           "#EF553B",
           "#00cc96",
           "#ab63fa",
           "#FFA15A",
           "#19d3f3",
           "#FF6692",
           "#B6E880",
           "#FF97FF",
           "#FECB52"
          ],
          "font": {
           "color": "#2a3f5f"
          },
          "geo": {
           "bgcolor": "white",
           "lakecolor": "white",
           "landcolor": "#E5ECF6",
           "showlakes": true,
           "showland": true,
           "subunitcolor": "white"
          },
          "hoverlabel": {
           "align": "left"
          },
          "hovermode": "closest",
          "mapbox": {
           "style": "light"
          },
          "paper_bgcolor": "white",
          "plot_bgcolor": "#E5ECF6",
          "polar": {
           "angularaxis": {
            "gridcolor": "white",
            "linecolor": "white",
            "ticks": ""
           },
           "bgcolor": "#E5ECF6",
           "radialaxis": {
            "gridcolor": "white",
            "linecolor": "white",
            "ticks": ""
           }
          },
          "scene": {
           "xaxis": {
            "backgroundcolor": "#E5ECF6",
            "gridcolor": "white",
            "gridwidth": 2,
            "linecolor": "white",
            "showbackground": true,
            "ticks": "",
            "zerolinecolor": "white"
           },
           "yaxis": {
            "backgroundcolor": "#E5ECF6",
            "gridcolor": "white",
            "gridwidth": 2,
            "linecolor": "white",
            "showbackground": true,
            "ticks": "",
            "zerolinecolor": "white"
           },
           "zaxis": {
            "backgroundcolor": "#E5ECF6",
            "gridcolor": "white",
            "gridwidth": 2,
            "linecolor": "white",
            "showbackground": true,
            "ticks": "",
            "zerolinecolor": "white"
           }
          },
          "shapedefaults": {
           "line": {
            "color": "#2a3f5f"
           }
          },
          "ternary": {
           "aaxis": {
            "gridcolor": "white",
            "linecolor": "white",
            "ticks": ""
           },
           "baxis": {
            "gridcolor": "white",
            "linecolor": "white",
            "ticks": ""
           },
           "bgcolor": "#E5ECF6",
           "caxis": {
            "gridcolor": "white",
            "linecolor": "white",
            "ticks": ""
           }
          },
          "title": {
           "x": 0.05
          },
          "xaxis": {
           "automargin": true,
           "gridcolor": "white",
           "linecolor": "white",
           "ticks": "",
           "title": {
            "standoff": 15
           },
           "zerolinecolor": "white",
           "zerolinewidth": 2
          },
          "yaxis": {
           "automargin": true,
           "gridcolor": "white",
           "linecolor": "white",
           "ticks": "",
           "title": {
            "standoff": 15
           },
           "zerolinecolor": "white",
           "zerolinewidth": 2
          }
         }
        }
       }
      }
     },
     "metadata": {},
     "output_type": "display_data"
    }
   ],
   "source": [
    "# overlay로 두 개의 그래프가 겹치게 만들어 줄 수 있다.\n",
    "x0=np.random.randn(500)\n",
    "x1=np.random.randn(500)+1\n",
    "\n",
    "fig=go.Figure()\n",
    "fig.add_trace(go.Histogram(x=x0))\n",
    "fig.add_trace(go.Histogram(x=x1))\n",
    "\n",
    "fig.update_layout(barmode='overlay')\n",
    "fig.update_traces(opacity=0.75)\n",
    "fig.show()"
   ]
  },
  {
   "cell_type": "code",
   "execution_count": 46,
   "metadata": {},
   "outputs": [
    {
     "data": {
      "application/vnd.plotly.v1+json": {
       "config": {
        "plotlyServerURL": "https://plot.ly"
       },
       "data": [
        {
         "type": "histogram",
         "x": [
          8.1,
          7,
          7.3,
          7.2,
          6.2,
          6.1,
          8.3,
          6.4,
          7.1,
          7,
          7.5,
          7.8,
          7.9,
          7.7,
          6.4,
          6.6,
          8.2,
          6.7,
          8.1,
          8,
          6.7,
          7.9,
          6.7,
          6.5,
          5.3,
          6.8,
          8.3,
          4.7,
          6.2,
          5.9,
          6.3,
          7.5,
          7.1,
          8,
          5.6,
          7.9,
          8.6,
          7.6,
          6.9,
          7.1,
          6.3,
          7.5,
          2.7,
          7.2,
          6.3,
          6.7,
          7.3,
          5.6,
          7.1,
          3.7,
          8.1,
          5.8,
          5.6,
          7.2,
          9,
          7.3,
          7.2,
          7.4,
          7,
          7.5,
          6.7,
          6.8,
          6.5,
          4.1,
          8.5,
          7.7,
          7.4,
          8.1,
          7.5,
          7.2,
          5.9,
          7.1,
          7.5,
          6.8,
          8.1,
          7.1,
          8.1,
          8.3,
          7.3,
          5.3,
          8.8,
          7.9,
          8.2,
          8.1,
          7.2,
          7,
          6.4,
          7.8,
          7.8,
          7.4,
          8.1,
          7,
          8.1,
          7.1,
          7.4,
          7.4,
          8.6,
          5.8,
          6.3,
          8.5,
          7,
          7,
          8,
          7.9,
          7.3,
          7.7,
          5.4,
          6.3,
          5.8,
          7.7,
          6.3,
          8.1,
          6.1,
          7.7,
          8.1,
          5.8,
          6.2,
          8.8,
          7.2,
          7.4,
          6.7,
          6.7,
          6,
          7.4,
          8.5,
          7.5,
          5.7,
          6.6,
          6.4,
          8,
          7.3,
          6,
          6.4,
          8.5,
          7.1,
          7.3,
          8.1,
          7.3,
          8.1,
          7.1,
          8,
          6.2,
          7.8,
          8.2,
          8.4,
          8.1,
          7.4,
          7.6,
          7.6,
          6.2,
          6.4,
          7.2,
          5.8,
          7.6,
          8.1,
          4.7,
          7,
          7.4,
          7.5,
          7.9,
          6,
          7,
          8,
          6.1,
          8,
          5.2,
          6.5,
          7.3,
          7.3,
          6.8,
          7.9,
          7.9,
          5.2,
          8,
          7.5,
          6.5,
          7.6,
          7,
          7.4,
          7.3,
          6.7,
          6.8,
          7,
          5.9,
          8,
          6,
          6.3,
          6.6,
          7.8,
          6.3,
          7.2,
          5.6,
          8.1,
          5.8,
          8.2,
          6.9,
          6.3,
          8.1,
          8.1,
          6.3,
          7.9,
          6.5,
          7.3,
          7.9,
          5.7,
          7.8,
          7.5,
          7.5,
          6.8,
          6.7,
          6.1,
          5.3,
          7.1,
          5.8,
          7,
          5.5,
          7.8,
          5.7,
          6.1,
          7.7,
          6.7,
          7.1,
          6.9,
          7.8,
          7,
          7,
          7.1,
          6.4,
          7,
          4.8,
          8.2,
          5.2,
          7.8,
          7.4,
          6.1,
          8,
          6.8,
          3.9,
          8.1,
          5.9,
          7.6,
          8.2,
          5.8,
          6.5,
          5.9,
          7.6,
          7.9,
          7.4,
          7.1,
          8.6,
          4.9,
          7.3,
          7.9,
          6.7,
          7.5,
          7.8,
          5.8,
          7.6,
          6.4,
          7.1,
          7.8,
          8,
          6.2,
          7,
          6,
          4.9,
          6,
          7.5,
          6.7,
          3.7,
          7.8,
          7.9,
          7.2,
          8,
          6.8,
          7,
          7.1,
          7.7,
          7,
          7.2,
          7.3,
          7.6,
          7.1,
          7,
          6,
          6.1,
          5.8,
          5.3,
          5.8,
          6.1,
          7.5,
          7.2,
          5.7,
          7.7,
          7.1,
          6.6,
          5.7,
          6.8,
          7.1,
          8.1,
          7.2,
          7.5,
          7,
          5.5,
          6.4,
          6.7,
          6.2,
          5.5,
          6,
          6.1,
          7.7,
          7.8,
          6.8,
          7.4,
          7.5,
          7,
          5.2,
          5.3,
          6.2,
          7.3,
          6.5,
          6.4,
          7.3,
          6.7,
          7.7,
          6,
          6,
          7.4,
          7,
          5.4,
          6.9,
          7.3,
          8,
          7.4,
          8.1,
          6.1,
          7.8,
          5.9,
          7.8,
          6.5,
          6.6,
          7.4,
          6.4,
          6.8,
          6.2,
          5.8,
          7.7,
          7.3,
          5.1,
          7.7,
          7.3,
          6.6,
          7.1,
          6.7,
          6.3,
          5.5,
          7.4,
          7.7,
          6.6,
          7.8,
          6.9,
          5.7,
          7.8,
          7.7,
          6.3,
          8,
          5.5,
          6.9,
          7,
          5.7,
          6,
          6.8,
          6.3,
          6.7,
          6.9,
          5.7,
          6.9,
          7.6,
          7.1,
          6.1,
          7.6,
          7.4,
          6.6,
          7.6,
          7.8,
          7.1,
          5.6,
          6.7,
          6.7,
          6.6,
          6.3,
          5.8,
          7.2,
          5,
          5.4,
          7.2,
          6.8,
          5.5,
          6,
          6.1,
          6.4,
          3.9,
          7.1,
          7.7,
          6.7,
          6.7,
          7.4,
          7.8,
          6.6,
          6.1,
          7.8,
          6.5,
          7.3,
          7.2,
          5.6,
          5.4,
          6.9,
          7.8,
          7.7,
          7.2,
          6.8,
          5.7,
          5.8,
          6.2,
          5.9,
          7.8,
          6.5,
          8.1,
          5.2,
          6,
          8.4,
          4.7,
          7,
          7.4,
          6.4,
          7.1,
          7.1,
          7.6,
          6.6,
          5.6,
          6.3,
          7.5,
          7.7,
          7.4,
          6,
          6.6,
          7.1,
          7.9,
          7.8,
          5.9,
          7,
          7,
          6.8,
          6.5,
          6.1,
          8.3,
          6.7,
          6,
          6.4,
          7.3,
          7.6,
          6,
          6.6,
          7.5,
          6.3,
          7.5,
          6.4,
          6.9,
          8,
          6.7,
          7.8,
          6.4,
          5.8,
          7.5,
          7.7,
          7.4,
          8.5,
          5.7,
          8.3,
          6.7,
          7.2,
          6.5,
          6.3,
          7.7,
          6.3,
          7.8,
          6.7,
          6.7,
          6.6,
          8,
          6.5,
          6.9,
          7,
          5.3,
          6.3,
          7.2,
          6.8,
          7.1,
          7.4,
          8.3,
          6.3,
          7.2,
          6.5,
          7.3,
          7.9,
          5.7,
          6.5,
          7.7,
          4.3,
          7.8,
          7.8,
          7.2,
          5,
          7.1,
          5.7,
          7.1,
          6,
          6.9,
          7.9,
          6.2,
          7.2,
          5.3,
          4.7,
          6.6,
          7,
          3.9,
          6.6,
          5.4,
          6.4,
          6.7,
          6.9,
          5.4,
          7,
          6.4,
          7.2,
          6.5,
          7,
          5.7,
          7.3,
          6.1,
          7.2,
          7.4,
          6.3,
          7.1,
          5.7,
          6.7,
          6.8,
          6.5,
          6.8,
          7.9,
          5.8,
          7.1,
          4.3,
          6.3,
          7.1,
          4.6,
          7.1,
          6.3,
          6.9,
          6.6,
          6.5,
          6.5,
          6.8,
          7.8,
          6.1,
          5.8,
          6.3,
          7.5,
          6.1,
          6.5,
          6,
          7.1,
          7.1,
          7.8,
          6.8,
          5.8,
          6.8,
          6.8,
          7.6,
          6.3,
          4.9,
          4.2,
          5.1,
          5.7,
          7.6,
          5.2,
          7.2,
          6,
          7.3,
          7.2,
          7.8,
          6.2,
          7.1,
          6.4,
          6.1,
          7.2,
          6.6,
          6.2,
          7.9,
          7.3,
          6.7,
          6.4,
          6.4,
          7.2,
          5.1,
          7.4,
          7.2,
          6.9,
          8.1,
          7,
          6.2,
          7.6,
          6.7,
          7.5,
          6.6,
          6.3,
          4,
          6.9,
          6.3,
          7.3,
          7.3,
          6.4,
          6.6,
          5.6,
          6,
          6.3,
          6.7,
          6,
          6.1,
          6.2,
          6.7,
          6.6,
          7,
          4.9,
          8.4,
          7,
          7.5,
          7.3,
          5.6,
          6.7,
          8,
          8.1,
          4.8,
          7.5,
          5.5,
          8.2,
          6.6,
          3.2,
          5.3,
          5.6,
          7.4,
          6.4,
          6.8,
          6.7,
          6.4,
          7,
          7.9,
          5.9,
          7.7,
          6.7,
          7,
          6.9,
          7.7,
          6.6,
          7.1,
          6.6,
          5.7,
          6.3,
          6.5,
          8,
          6.1,
          6.5,
          7.6,
          5.6,
          5.9,
          7.2,
          6.7,
          7.2,
          6.5,
          7.2,
          6.7,
          7.5,
          6.5,
          5.9,
          7.7,
          8,
          7.6,
          6.1,
          8.3,
          7.1,
          5.4,
          7.8,
          6.5,
          5.5,
          7.9,
          8.1,
          6.1,
          7.3,
          7.2,
          5.5,
          6.5,
          7,
          7.1,
          6.6,
          6.5,
          5.8,
          7.1,
          6.5,
          7.4,
          6.2,
          6,
          7.6,
          7.3,
          8.2,
          5.8,
          6.5,
          6.6,
          6.2,
          5.8,
          6.4,
          6.7,
          7.1,
          6,
          5.1,
          6.2,
          6.2,
          6.6,
          7.6,
          6.8,
          6.7,
          6.3,
          7,
          6.9,
          6.6,
          7.7,
          7.5,
          5.6,
          7.1,
          5.7,
          5.2,
          5.4,
          6.6,
          8.2,
          7.6,
          6.2,
          6.1,
          4.6,
          5.7,
          6.1,
          5.9,
          7.2,
          6.5,
          7.9,
          6.3,
          5,
          7.3,
          5.2,
          6.6,
          5.2,
          7.8,
          7.5,
          7.3,
          7.3,
          6.6,
          5.7,
          8.2,
          6.7,
          6.2,
          6.3,
          5.7,
          6.6,
          4.5,
          8.1,
          5.6,
          7.3,
          6.2,
          5.1,
          4.7,
          4.8,
          7.2,
          6.9,
          6.5,
          7.3,
          6.5,
          6.9,
          7.8,
          6.8,
          4.6,
          6.7,
          6.4,
          6,
          6.3,
          6.6,
          7.8,
          6.6,
          6.2,
          7.3,
          7.4,
          6.5,
          7,
          4.3,
          7.2,
          6.2,
          6.2,
          6.8,
          6,
          6.6,
          7.1,
          6.8,
          5.2,
          6.7,
          6.2,
          7,
          6.3,
          7.8,
          7.6,
          5.4,
          7.6,
          5.4,
          4.6,
          6.9,
          6.8,
          5.8,
          7,
          5.8,
          5.3,
          4.6,
          5.3,
          7.6,
          1.9,
          7.2,
          6.4,
          7.4,
          5.7,
          6.4,
          6.3,
          7.5,
          5.5,
          4.2,
          7.8,
          6.3,
          6.4,
          7.1,
          7.1,
          6.8,
          7.3,
          6.7,
          7.8,
          6.3,
          7.5,
          6.8,
          7.4,
          6.8,
          7.1,
          7.6,
          5.9,
          6.6,
          7.5,
          6.4,
          7.8,
          7.2,
          8.4,
          6.2,
          7.1,
          6.3,
          6.5,
          6.9,
          6.9,
          6.6,
          6.9,
          7.7,
          2.7,
          5.4,
          7,
          6.6,
          7,
          6.9,
          7.3,
          5.8,
          5.8,
          6.9,
          7.5,
          6.3,
          6.9,
          6.1,
          7.5,
          6.8,
          6.5,
          5.5,
          7.7,
          3.5,
          6.2,
          7.1,
          5.5,
          7.1,
          7.1,
          7.1,
          7.9,
          6.5,
          5.5,
          6.5,
          5.6,
          6.8,
          7.9,
          6.2,
          6.2,
          6.7,
          6.9,
          6.5,
          6.6,
          6.4,
          4.7,
          7.2,
          7.2,
          6.7,
          7.5,
          6.6,
          6.7,
          7.5,
          6.1,
          6.4,
          6.3,
          6.4,
          6.8,
          6.1,
          4.9,
          7.3,
          5.9,
          6.1,
          7.1,
          5.9,
          6.8,
          5.4,
          6.3,
          6.2,
          6.6,
          4.4,
          6.8,
          7.3,
          7.4,
          6.1,
          4.9,
          5.8,
          6.1,
          6.4,
          6.9,
          7.2,
          5.6,
          4.9,
          6.1,
          7.8,
          7.3,
          4.3,
          7.2,
          6.4,
          6.2,
          5.2,
          7.7,
          6.2,
          7.8,
          7,
          5.9,
          6.7,
          6.3,
          6.9,
          7,
          6.7,
          7.3,
          3.5,
          6.5,
          4.8,
          6.9,
          5.9,
          6.2,
          7.4,
          6,
          6.2,
          5,
          7,
          7.6,
          7,
          5.3,
          7.4,
          6.5,
          6.8,
          5.6,
          5.9,
          6.3,
          7.1,
          7.5,
          6.6,
          8.5,
          6.3,
          5.9,
          6.7,
          6.2,
          5.5,
          6.2,
          5.6,
          5.3
         ]
        }
       ],
       "layout": {
        "template": {
         "data": {
          "bar": [
           {
            "error_x": {
             "color": "#2a3f5f"
            },
            "error_y": {
             "color": "#2a3f5f"
            },
            "marker": {
             "line": {
              "color": "#E5ECF6",
              "width": 0.5
             },
             "pattern": {
              "fillmode": "overlay",
              "size": 10,
              "solidity": 0.2
             }
            },
            "type": "bar"
           }
          ],
          "barpolar": [
           {
            "marker": {
             "line": {
              "color": "#E5ECF6",
              "width": 0.5
             },
             "pattern": {
              "fillmode": "overlay",
              "size": 10,
              "solidity": 0.2
             }
            },
            "type": "barpolar"
           }
          ],
          "carpet": [
           {
            "aaxis": {
             "endlinecolor": "#2a3f5f",
             "gridcolor": "white",
             "linecolor": "white",
             "minorgridcolor": "white",
             "startlinecolor": "#2a3f5f"
            },
            "baxis": {
             "endlinecolor": "#2a3f5f",
             "gridcolor": "white",
             "linecolor": "white",
             "minorgridcolor": "white",
             "startlinecolor": "#2a3f5f"
            },
            "type": "carpet"
           }
          ],
          "choropleth": [
           {
            "colorbar": {
             "outlinewidth": 0,
             "ticks": ""
            },
            "type": "choropleth"
           }
          ],
          "contour": [
           {
            "colorbar": {
             "outlinewidth": 0,
             "ticks": ""
            },
            "colorscale": [
             [
              0,
              "#0d0887"
             ],
             [
              0.1111111111111111,
              "#46039f"
             ],
             [
              0.2222222222222222,
              "#7201a8"
             ],
             [
              0.3333333333333333,
              "#9c179e"
             ],
             [
              0.4444444444444444,
              "#bd3786"
             ],
             [
              0.5555555555555556,
              "#d8576b"
             ],
             [
              0.6666666666666666,
              "#ed7953"
             ],
             [
              0.7777777777777778,
              "#fb9f3a"
             ],
             [
              0.8888888888888888,
              "#fdca26"
             ],
             [
              1,
              "#f0f921"
             ]
            ],
            "type": "contour"
           }
          ],
          "contourcarpet": [
           {
            "colorbar": {
             "outlinewidth": 0,
             "ticks": ""
            },
            "type": "contourcarpet"
           }
          ],
          "heatmap": [
           {
            "colorbar": {
             "outlinewidth": 0,
             "ticks": ""
            },
            "colorscale": [
             [
              0,
              "#0d0887"
             ],
             [
              0.1111111111111111,
              "#46039f"
             ],
             [
              0.2222222222222222,
              "#7201a8"
             ],
             [
              0.3333333333333333,
              "#9c179e"
             ],
             [
              0.4444444444444444,
              "#bd3786"
             ],
             [
              0.5555555555555556,
              "#d8576b"
             ],
             [
              0.6666666666666666,
              "#ed7953"
             ],
             [
              0.7777777777777778,
              "#fb9f3a"
             ],
             [
              0.8888888888888888,
              "#fdca26"
             ],
             [
              1,
              "#f0f921"
             ]
            ],
            "type": "heatmap"
           }
          ],
          "heatmapgl": [
           {
            "colorbar": {
             "outlinewidth": 0,
             "ticks": ""
            },
            "colorscale": [
             [
              0,
              "#0d0887"
             ],
             [
              0.1111111111111111,
              "#46039f"
             ],
             [
              0.2222222222222222,
              "#7201a8"
             ],
             [
              0.3333333333333333,
              "#9c179e"
             ],
             [
              0.4444444444444444,
              "#bd3786"
             ],
             [
              0.5555555555555556,
              "#d8576b"
             ],
             [
              0.6666666666666666,
              "#ed7953"
             ],
             [
              0.7777777777777778,
              "#fb9f3a"
             ],
             [
              0.8888888888888888,
              "#fdca26"
             ],
             [
              1,
              "#f0f921"
             ]
            ],
            "type": "heatmapgl"
           }
          ],
          "histogram": [
           {
            "marker": {
             "pattern": {
              "fillmode": "overlay",
              "size": 10,
              "solidity": 0.2
             }
            },
            "type": "histogram"
           }
          ],
          "histogram2d": [
           {
            "colorbar": {
             "outlinewidth": 0,
             "ticks": ""
            },
            "colorscale": [
             [
              0,
              "#0d0887"
             ],
             [
              0.1111111111111111,
              "#46039f"
             ],
             [
              0.2222222222222222,
              "#7201a8"
             ],
             [
              0.3333333333333333,
              "#9c179e"
             ],
             [
              0.4444444444444444,
              "#bd3786"
             ],
             [
              0.5555555555555556,
              "#d8576b"
             ],
             [
              0.6666666666666666,
              "#ed7953"
             ],
             [
              0.7777777777777778,
              "#fb9f3a"
             ],
             [
              0.8888888888888888,
              "#fdca26"
             ],
             [
              1,
              "#f0f921"
             ]
            ],
            "type": "histogram2d"
           }
          ],
          "histogram2dcontour": [
           {
            "colorbar": {
             "outlinewidth": 0,
             "ticks": ""
            },
            "colorscale": [
             [
              0,
              "#0d0887"
             ],
             [
              0.1111111111111111,
              "#46039f"
             ],
             [
              0.2222222222222222,
              "#7201a8"
             ],
             [
              0.3333333333333333,
              "#9c179e"
             ],
             [
              0.4444444444444444,
              "#bd3786"
             ],
             [
              0.5555555555555556,
              "#d8576b"
             ],
             [
              0.6666666666666666,
              "#ed7953"
             ],
             [
              0.7777777777777778,
              "#fb9f3a"
             ],
             [
              0.8888888888888888,
              "#fdca26"
             ],
             [
              1,
              "#f0f921"
             ]
            ],
            "type": "histogram2dcontour"
           }
          ],
          "mesh3d": [
           {
            "colorbar": {
             "outlinewidth": 0,
             "ticks": ""
            },
            "type": "mesh3d"
           }
          ],
          "parcoords": [
           {
            "line": {
             "colorbar": {
              "outlinewidth": 0,
              "ticks": ""
             }
            },
            "type": "parcoords"
           }
          ],
          "pie": [
           {
            "automargin": true,
            "type": "pie"
           }
          ],
          "scatter": [
           {
            "fillpattern": {
             "fillmode": "overlay",
             "size": 10,
             "solidity": 0.2
            },
            "type": "scatter"
           }
          ],
          "scatter3d": [
           {
            "line": {
             "colorbar": {
              "outlinewidth": 0,
              "ticks": ""
             }
            },
            "marker": {
             "colorbar": {
              "outlinewidth": 0,
              "ticks": ""
             }
            },
            "type": "scatter3d"
           }
          ],
          "scattercarpet": [
           {
            "marker": {
             "colorbar": {
              "outlinewidth": 0,
              "ticks": ""
             }
            },
            "type": "scattercarpet"
           }
          ],
          "scattergeo": [
           {
            "marker": {
             "colorbar": {
              "outlinewidth": 0,
              "ticks": ""
             }
            },
            "type": "scattergeo"
           }
          ],
          "scattergl": [
           {
            "marker": {
             "colorbar": {
              "outlinewidth": 0,
              "ticks": ""
             }
            },
            "type": "scattergl"
           }
          ],
          "scattermapbox": [
           {
            "marker": {
             "colorbar": {
              "outlinewidth": 0,
              "ticks": ""
             }
            },
            "type": "scattermapbox"
           }
          ],
          "scatterpolar": [
           {
            "marker": {
             "colorbar": {
              "outlinewidth": 0,
              "ticks": ""
             }
            },
            "type": "scatterpolar"
           }
          ],
          "scatterpolargl": [
           {
            "marker": {
             "colorbar": {
              "outlinewidth": 0,
              "ticks": ""
             }
            },
            "type": "scatterpolargl"
           }
          ],
          "scatterternary": [
           {
            "marker": {
             "colorbar": {
              "outlinewidth": 0,
              "ticks": ""
             }
            },
            "type": "scatterternary"
           }
          ],
          "surface": [
           {
            "colorbar": {
             "outlinewidth": 0,
             "ticks": ""
            },
            "colorscale": [
             [
              0,
              "#0d0887"
             ],
             [
              0.1111111111111111,
              "#46039f"
             ],
             [
              0.2222222222222222,
              "#7201a8"
             ],
             [
              0.3333333333333333,
              "#9c179e"
             ],
             [
              0.4444444444444444,
              "#bd3786"
             ],
             [
              0.5555555555555556,
              "#d8576b"
             ],
             [
              0.6666666666666666,
              "#ed7953"
             ],
             [
              0.7777777777777778,
              "#fb9f3a"
             ],
             [
              0.8888888888888888,
              "#fdca26"
             ],
             [
              1,
              "#f0f921"
             ]
            ],
            "type": "surface"
           }
          ],
          "table": [
           {
            "cells": {
             "fill": {
              "color": "#EBF0F8"
             },
             "line": {
              "color": "white"
             }
            },
            "header": {
             "fill": {
              "color": "#C8D4E3"
             },
             "line": {
              "color": "white"
             }
            },
            "type": "table"
           }
          ]
         },
         "layout": {
          "annotationdefaults": {
           "arrowcolor": "#2a3f5f",
           "arrowhead": 0,
           "arrowwidth": 1
          },
          "autotypenumbers": "strict",
          "coloraxis": {
           "colorbar": {
            "outlinewidth": 0,
            "ticks": ""
           }
          },
          "colorscale": {
           "diverging": [
            [
             0,
             "#8e0152"
            ],
            [
             0.1,
             "#c51b7d"
            ],
            [
             0.2,
             "#de77ae"
            ],
            [
             0.3,
             "#f1b6da"
            ],
            [
             0.4,
             "#fde0ef"
            ],
            [
             0.5,
             "#f7f7f7"
            ],
            [
             0.6,
             "#e6f5d0"
            ],
            [
             0.7,
             "#b8e186"
            ],
            [
             0.8,
             "#7fbc41"
            ],
            [
             0.9,
             "#4d9221"
            ],
            [
             1,
             "#276419"
            ]
           ],
           "sequential": [
            [
             0,
             "#0d0887"
            ],
            [
             0.1111111111111111,
             "#46039f"
            ],
            [
             0.2222222222222222,
             "#7201a8"
            ],
            [
             0.3333333333333333,
             "#9c179e"
            ],
            [
             0.4444444444444444,
             "#bd3786"
            ],
            [
             0.5555555555555556,
             "#d8576b"
            ],
            [
             0.6666666666666666,
             "#ed7953"
            ],
            [
             0.7777777777777778,
             "#fb9f3a"
            ],
            [
             0.8888888888888888,
             "#fdca26"
            ],
            [
             1,
             "#f0f921"
            ]
           ],
           "sequentialminus": [
            [
             0,
             "#0d0887"
            ],
            [
             0.1111111111111111,
             "#46039f"
            ],
            [
             0.2222222222222222,
             "#7201a8"
            ],
            [
             0.3333333333333333,
             "#9c179e"
            ],
            [
             0.4444444444444444,
             "#bd3786"
            ],
            [
             0.5555555555555556,
             "#d8576b"
            ],
            [
             0.6666666666666666,
             "#ed7953"
            ],
            [
             0.7777777777777778,
             "#fb9f3a"
            ],
            [
             0.8888888888888888,
             "#fdca26"
            ],
            [
             1,
             "#f0f921"
            ]
           ]
          },
          "colorway": [
           "#636efa",
           "#EF553B",
           "#00cc96",
           "#ab63fa",
           "#FFA15A",
           "#19d3f3",
           "#FF6692",
           "#B6E880",
           "#FF97FF",
           "#FECB52"
          ],
          "font": {
           "color": "#2a3f5f"
          },
          "geo": {
           "bgcolor": "white",
           "lakecolor": "white",
           "landcolor": "#E5ECF6",
           "showlakes": true,
           "showland": true,
           "subunitcolor": "white"
          },
          "hoverlabel": {
           "align": "left"
          },
          "hovermode": "closest",
          "mapbox": {
           "style": "light"
          },
          "paper_bgcolor": "white",
          "plot_bgcolor": "#E5ECF6",
          "polar": {
           "angularaxis": {
            "gridcolor": "white",
            "linecolor": "white",
            "ticks": ""
           },
           "bgcolor": "#E5ECF6",
           "radialaxis": {
            "gridcolor": "white",
            "linecolor": "white",
            "ticks": ""
           }
          },
          "scene": {
           "xaxis": {
            "backgroundcolor": "#E5ECF6",
            "gridcolor": "white",
            "gridwidth": 2,
            "linecolor": "white",
            "showbackground": true,
            "ticks": "",
            "zerolinecolor": "white"
           },
           "yaxis": {
            "backgroundcolor": "#E5ECF6",
            "gridcolor": "white",
            "gridwidth": 2,
            "linecolor": "white",
            "showbackground": true,
            "ticks": "",
            "zerolinecolor": "white"
           },
           "zaxis": {
            "backgroundcolor": "#E5ECF6",
            "gridcolor": "white",
            "gridwidth": 2,
            "linecolor": "white",
            "showbackground": true,
            "ticks": "",
            "zerolinecolor": "white"
           }
          },
          "shapedefaults": {
           "line": {
            "color": "#2a3f5f"
           }
          },
          "ternary": {
           "aaxis": {
            "gridcolor": "white",
            "linecolor": "white",
            "ticks": ""
           },
           "baxis": {
            "gridcolor": "white",
            "linecolor": "white",
            "ticks": ""
           },
           "bgcolor": "#E5ECF6",
           "caxis": {
            "gridcolor": "white",
            "linecolor": "white",
            "ticks": ""
           }
          },
          "title": {
           "x": 0.05
          },
          "xaxis": {
           "automargin": true,
           "gridcolor": "white",
           "linecolor": "white",
           "ticks": "",
           "title": {
            "standoff": 15
           },
           "zerolinecolor": "white",
           "zerolinewidth": 2
          },
          "yaxis": {
           "automargin": true,
           "gridcolor": "white",
           "linecolor": "white",
           "ticks": "",
           "title": {
            "standoff": 15
           },
           "zerolinecolor": "white",
           "zerolinewidth": 2
          }
         }
        },
        "xaxis": {
         "title": {
          "text": "Rating"
         }
        },
        "yaxis": {
         "title": {
          "text": "Frequency"
         }
        }
       }
      }
     },
     "metadata": {},
     "output_type": "display_data"
    }
   ],
   "source": [
    "import pandas as pd\n",
    "\n",
    "movie_df=pd.read_csv('./csv/IMDB-Movie-Data.csv', index_col='Title')\n",
    "\n",
    "x=movie_df['Rating']\n",
    "\n",
    "mydate=go.Histogram(x=x)\n",
    "\n",
    "mylayout=go.Layout(\n",
    "    xaxis_title='Rating',\n",
    "    yaxis_title='Frequency'\n",
    ")\n",
    "\n",
    "fig=go.Figure(mydate, mylayout)\n",
    "fig.show()\n"
   ]
  },
  {
   "cell_type": "code",
   "execution_count": 49,
   "metadata": {},
   "outputs": [
    {
     "data": {
      "application/vnd.plotly.v1+json": {
       "config": {
        "plotlyServerURL": "https://plot.ly"
       },
       "data": [
        {
         "type": "histogram2d",
         "x": [
          1.6243453636632417,
          -0.6117564136500754,
          -0.5281717522634557,
          -1.0729686221561705,
          0.8654076293246785,
          -2.3015386968802827,
          1.74481176421648,
          -0.7612069008951028,
          0.31903909605709857,
          -0.2493703754774101,
          1.462107937044974,
          -2.060140709497654,
          -0.3224172040135075,
          -0.38405435466841564,
          1.1337694423354374,
          -1.0998912673140309,
          -0.17242820755043575,
          -0.8778584179213718,
          0.04221374671559283,
          0.5828152137158222,
          -1.1006191772129212,
          1.1447237098396141,
          0.9015907205927955,
          0.5024943389018682,
          0.9008559492644118,
          -0.6837278591743331,
          -0.12289022551864817,
          -0.9357694342590688,
          -0.2678880796260159,
          0.530355466738186,
          -0.691660751725309,
          -0.39675352685597737,
          -0.6871727001195994,
          -0.8452056414987196,
          -0.671246130836819,
          -0.01266459891890136,
          -1.1173103486352778,
          0.23441569781709215,
          1.6598021771098705,
          0.7420441605773356,
          -0.19183555236161492,
          -0.8876289640848363,
          -0.7471582937508376,
          1.6924546010277466,
          0.05080775477602897,
          -0.6369956465693534,
          0.19091548466746602,
          2.100255136478842,
          0.12015895248162915,
          0.6172031097074192,
          0.3001703199558275,
          -0.35224984649351865,
          -1.1425181980221402,
          -0.3493427224128775,
          -0.2088942333747781,
          0.5866231911821976,
          0.8389834138745049,
          0.9311020813035573,
          0.2855873252542588,
          0.8851411642707281,
          -0.7543979409966528,
          1.2528681552332879,
          0.5129298204180088,
          -0.29809283510271567,
          0.48851814653749703,
          -0.07557171302105573,
          1.131629387451427,
          1.5198168164221988,
          2.1855754065331614,
          -1.3964963354881377,
          -1.4441138054295894,
          -0.5044658629464512,
          0.16003706944783047,
          0.8761689211162249,
          0.31563494724160523,
          -2.022201215824003,
          -0.3062040126283718,
          0.8279746426072462,
          0.2300947353643834,
          0.7620111803120247,
          -0.22232814261035927,
          -0.20075806892999745,
          0.1865613909882843,
          0.4100516472082563,
          0.19829972012676975,
          0.11900864580745882,
          -0.6706622862890306,
          0.3775637863209194,
          0.12182127099143693,
          1.1294839079119197,
          1.198917879901507,
          0.18515641748394385,
          -0.3752849500901142,
          -0.6387304074542224,
          0.4234943540641129,
          0.07734006834855942,
          -0.3438536755710756,
          0.04359685683424694,
          -0.6200008439481293,
          0.6980320340722189,
          -0.4471285647859982,
          1.2245077048054989,
          0.4034916417908,
          0.593578523237067,
          -1.0949118457410418,
          0.1693824330586681,
          0.7405564510962748,
          -0.9537006018079346,
          -0.26621850600362207,
          0.03261454669335856,
          -1.3731173202467557,
          0.31515939204229176,
          0.8461606475850334,
          -0.8595159408319863,
          0.35054597866410736,
          -1.3122834112374318,
          -0.038695509266051115,
          -1.6157723547032947,
          1.121417708235664,
          0.4089005379368278,
          -0.024616955875778355,
          -0.7751616191691596,
          1.2737559301587766,
          1.9671017492547347,
          -1.857981864446752,
          1.2361640304528203,
          1.6276507531489064,
          0.3380116965744758,
          -1.199268032335186,
          0.8633453175440216,
          -0.18092030207815046,
          -0.6039206277932573,
          -1.2300581356669618,
          0.5505374959762154,
          0.7928068659193477,
          -0.6235307296797916,
          0.5205763370733708,
          -1.1443413896231427,
          0.8018610318713447,
          0.04656729842414554,
          -0.18656977190734877,
          -0.10174587252914521,
          0.8688861570058679,
          0.7504116398650081,
          0.5294653243527092,
          0.13770120999738608,
          0.07782112791270591,
          0.6183802619985245,
          0.23249455917873788,
          0.6825514068644851,
          -0.31011677351806,
          -2.434837764107139,
          1.038824601859414,
          2.1869796469742577,
          0.44136444356858207,
          -0.10015523328349978,
          -0.13644474389603303,
          -0.11905418777480989,
          0.0174094083000046,
          -1.1220187287468883,
          -0.5170944579202279,
          -0.997026827650263,
          0.2487991613877705,
          -0.29664115237086275,
          0.4952113239779604,
          -0.17470315974250095,
          0.986335187821242,
          0.21353390133544178,
          2.1906997289697334,
          -1.8963609228910925,
          -0.646916688254908,
          0.901486891648711,
          2.528325706806398,
          -0.24863477771546005,
          0.043668993178389105,
          -0.22631424251360518,
          1.3314571125875918,
          -0.2873078634760189,
          0.6800698398781045,
          -0.3198015988986712,
          -1.2725587552459943,
          0.31354772046343216,
          0.5031848134353261,
          1.2932258825322618,
          -0.11044702641731631,
          -0.6173620637123609,
          0.5627610966190263,
          0.24073709223773224,
          0.28066507712263905,
          -0.07311270374727777,
          1.1603385699937696,
          0.36949271637572373,
          1.9046587083409812,
          1.1110566985605046,
          0.6590497961002102,
          -1.6274383406162574,
          0.602319280295629,
          0.42028220364705954,
          0.8109516728035557,
          1.0444420947072588,
          -0.40087819178892664,
          0.8240056184504077,
          -0.5623054310190898,
          1.9548780750090344,
          -1.3319516665172482,
          -1.7606885603987834,
          -1.6507212658241002,
          -0.8905555841630485,
          -1.119115398559728,
          1.956078903703642,
          -0.32649949807818424,
          -1.342675789377436,
          1.114382976779792,
          -0.5865239388215925,
          -1.2368533765413974,
          0.8758389276492995,
          0.6233621765780327,
          -0.4349566829552277,
          1.4075400002412286,
          0.12910157971072544,
          1.6169495988573002,
          0.5027408819999043,
          1.5588055406198593,
          0.10940269642542817,
          -1.2197443969790327,
          2.4493686490613973,
          -0.5457741679825677,
          -0.19883786288889674,
          -0.7003985049212547,
          -0.20339444896455844,
          0.24266944108179458,
          0.20183017887400403,
          0.6610202875986929,
          1.792158208975567,
          -0.12046457178850745,
          -1.2331207354464266,
          -1.1823181265096336,
          -0.6657545181991266,
          -1.674195807618932,
          0.8250298244389859,
          -0.4982135636310781,
          -0.3109849783028509,
          -0.0018914828380037015,
          -1.396620424595432,
          -0.861316360776042,
          0.6747115256879723,
          0.6185391307862932,
          -0.44317193070063776,
          1.8105349141254563,
          -1.3057269225577375,
          -0.34498721015497946,
          -0.23083974313546946,
          -2.79308500014654,
          1.9375288136160798,
          0.36633201454005826,
          -1.0445893819077916,
          2.0511734428574444,
          0.5856620001723825,
          0.4295261400219645,
          -0.6069983982000461,
          0.1062227240352178,
          -1.5256803162293577,
          0.7950260944248447,
          -0.37443831884322065,
          0.13404819655462313,
          1.2020548621997058,
          0.28474811084905793,
          0.2624674454632686,
          0.27649930482218366,
          -0.7332716038953129,
          0.8360047194342688,
          1.5433591108044837,
          0.7588056600979309,
          0.8849088144648833,
          -0.8772815189181883,
          -0.8677872228729256,
          -1.44087602429184,
          1.232253070828436,
          -0.2541798676073683,
          1.3998439424809859,
          -0.7819116826868007,
          -0.437508982828581,
          0.0954250871912577,
          0.9214500686595114,
          0.060750195799506745,
          0.21112475500771674,
          0.01652756730561561,
          0.17718772027596041,
          -1.1164700178847444,
          0.0809271009732786,
          -0.18657899351146628,
          -0.0568244808858473,
          0.4923365559366488,
          -0.6806781410088858,
          -0.0845080274046298,
          -0.2973618827735036,
          0.41730200497486253,
          0.7847706510155895,
          -0.9554252623736892,
          0.5859104311026156,
          2.0657833202188343,
          -1.471156925832625,
          -0.8301718953151139,
          -0.8805775998441709,
          -0.27909772154329027,
          1.622849085954001,
          0.013352676347176594,
          -0.6946935952872263,
          0.6218035043055724,
          -0.5998045310708474,
          1.1234121620219353,
          0.30526704024401075,
          1.3887793963702684,
          -0.6613442431530187,
          3.0308571123720305,
          0.8245846250334574,
          0.6545801525867004,
          -0.05118844760766421,
          -0.7255971191344275,
          -0.8677686776235903,
          -0.13597732610058932,
          -0.7972697854931297,
          0.28267571224842025,
          -0.8260974318473202,
          0.6210827008390084,
          0.9561217041246964,
          -0.7058405074022839,
          1.1926860677546935,
          -0.23794193575218264,
          1.1552878860882252,
          0.4381663472912375,
          1.1223283216570923,
          -0.9970197955296825,
          -0.10679398677922511,
          1.4514292605909354,
          -0.6180368476815788,
          -2.037201225680795,
          -1.9425891814764555,
          -2.506440652676061,
          -2.114163921916826,
          -0.41163916318848254,
          1.2785280828417218,
          -0.4422292795131728,
          0.3235273536014321,
          -0.10999149016360682,
          0.008548945436024693,
          -0.16819883974471597,
          -0.1741803443079907,
          0.46116409997701746,
          -1.1759826714413153,
          1.0101271773347245,
          0.9200179332477632,
          -0.19505734087590118,
          0.8053934242321815,
          -0.7013444262571769,
          -0.5372230238753384,
          0.15626385027008327,
          -0.1902210250848615,
          -0.44873803267162277,
          -0.6724480387865963,
          -0.5574947217860433,
          0.9391687441964878,
          -1.9433234056683528,
          0.352494364369333,
          -0.2364369518129867,
          0.7278134999996488,
          0.5150736136393657,
          -2.7825344676529227,
          0.5846466104774262,
          0.32427424344842104,
          0.02186283662655242,
          -0.46867381627789134,
          0.8532812219556223,
          -0.4130293097110322,
          1.8347176266496867,
          0.5643828554943137,
          2.1378280674394823,
          -0.7855339969202355,
          -1.7559256402328518,
          0.7147895974858154,
          0.8527040617252863,
          0.03536009705475734,
          -1.5387932457446432,
          -0.4478951847161186,
          0.6179855339203347,
          -0.18417632565374534,
          -0.11598518547239624,
          -0.1754589686617526,
          -0.9339146556265013,
          -0.5330203260835993,
          -1.426555420520532,
          1.7679599483110264,
          -0.4753728751379821,
          0.47761018181755727,
          -1.0218859446413093,
          0.7945282396010823,
          -1.8731609776353015,
          0.9206151180549562,
          -0.03536792487871091,
          2.1106050536007097,
          -1.3065340728440185,
          0.076380480159592,
          0.3672318138838647,
          1.2328991923762371,
          -0.4228569613907754,
          0.08646440652428741,
          -2.1424667290773685,
          -0.830168864022708,
          0.45161595055524156,
          1.1041743263032135,
          -0.28173626906561283,
          2.0563555231982935,
          1.7602492264490932,
          -0.06065249177480989,
          -2.4135030011737877,
          -1.7775663758059874,
          -0.7778588266274128,
          1.1158411079241686,
          0.3102722877837673,
          -2.094247816222812,
          -0.22876582887016242,
          1.6133613745631155,
          -0.3748046873026527,
          -0.7499696172756662,
          2.054624102518116,
          0.05340953679834792,
          -0.4791570987860799,
          0.3501671588282789,
          0.017164726374088564,
          -0.42914227823509377,
          1.208456328551963,
          1.1157018027844863,
          0.8408615581411037,
          -0.1028872175735376,
          1.146900376399483,
          -0.04970257915867584,
          0.46664326722884075,
          1.033686867939501,
          0.8088443602656821,
          1.7897546832062712,
          0.4512840160401709,
          -1.6840599858682372,
          -1.1601701049822761,
          1.350106818681726,
          -0.3312831699326283,
          0.3865391451330911,
          -0.8514556565308268,
          1.000881423680301,
          -0.38483224883279044,
          1.4581082386095199,
          -0.5322340208981775,
          1.1181333967176956,
          0.6743961048208689,
          -0.7223919054141509,
          1.0989963327471792,
          -0.901634490475998,
          -0.8224671889042517,
          0.7217112921126926,
          -0.625342001465988,
          -0.5938430672545096,
          -0.3439007092103924,
          -1.0001691898725158,
          1.0449944096738975,
          0.6085146984848496,
          -0.06932869669048287,
          -0.10839206717353982,
          0.45015551276717897,
          1.7653351005190716,
          0.8709698025322423,
          -0.5084571342754007,
          0.7774192052488628,
          -0.11877117210308928,
          -0.19899818380372442,
          1.8664713751521251,
          -0.41893789767812306,
          -0.47918491512740585,
          -1.9521052872452325,
          -1.4023291454531368,
          0.4511229387345986,
          -0.6949209011852391,
          0.515413801783241,
          -1.1148710523659369,
          -0.7673098263317347,
          0.6745707069560037,
          1.460892380463078,
          0.5924728014240198,
          1.197830841721251,
          1.7045941713724069,
          1.0400891531540952,
          -0.918440038300026,
          -0.10534471250754213,
          0.630195670684911,
          -0.4148469012882354,
          0.45194603732122307,
          -1.5791562853944654,
          -0.8286279788564058,
          0.528879745585174,
          -2.2370865111124707,
          -1.1077125022845524,
          -0.01771831791014226
         ],
         "y": [
          -0.7193944746195231,
          1.057120996082092,
          0.2004525093082401,
          0.7084054044991672,
          0.7410171465994677,
          1.1892931975586576,
          0.4362112654176973,
          1.0896864073225903,
          0.3988431993506165,
          1.5560735100773853,
          2.693809113288081,
          1.1968697792502914,
          1.1698692553475718,
          -0.16400797116120214,
          1.6933662256603845,
          0.24193267144376773,
          0.19115280352787145,
          1.5574394528580333,
          1.181038744357871,
          2.1071754509490623,
          2.442876928496309,
          0.4603184377975076,
          1.1283769901559444,
          2.760415183575322,
          1.9665392502290573,
          1.7130490503032691,
          2.3062060651354486,
          0.39539703083562405,
          1.636583409414631,
          2.4092533893640082,
          2.6209122856217473,
          0.19381518261777586,
          0.7483257923685755,
          1.382715173724364,
          0.7110026569901842,
          0.6081837601919515,
          1.684001328181953,
          0.6465900171329857,
          -0.7879128911997157,
          1.3618473158395683,
          0.5755072094290725,
          0.2684690182696666,
          -0.5657381506559054,
          2.0138224669717055,
          -1.2271126318500145,
          -0.6993336047222958,
          0.7241539374388566,
          2.2289555856506973,
          2.3097059056826534,
          -0.15498263492936437,
          0.822367804016449,
          -0.5104563750875688,
          2.0112070637749087,
          -0.47656266052018026,
          0.8568042549927624,
          2.032983778949751,
          0.7775859714700915,
          2.4701603438257402,
          0.12999177680914797,
          1.3691904695468737,
          1.8532821858237332,
          0.8602882695589276,
          2.3863142642463187,
          1.548129584688193,
          -0.6374495930083417,
          4.958602704037963,
          1.6486436440906673,
          1.1073432938235896,
          -0.39881281866647633,
          1.0817678188056163,
          0.5400571691593128,
          1.6443536660303222,
          1.3716702912118652,
          2.853009485069379,
          1.1422513725263177,
          1.5135054799885475,
          1.3724568515114424,
          0.8515101969406064,
          0.8165998026799761,
          2.101000202668482,
          1.7800271353386294,
          0.37055839594622,
          -0.11343610297299023,
          0.9325899750531457,
          2.161439981674394,
          0.972470613732022,
          2.7464350892279725,
          0.22492971292656516,
          1.1416405376658052,
          -1.516303860965749,
          0.4043321190897097,
          0.6908786813581378,
          1.5109377744920893,
          2.710661838671135,
          1.03494358936374,
          2.4539175816088177,
          1.6616810764659826,
          1.9863521802120643,
          0.5338451431740721,
          2.3849913436486387,
          -0.0729642787116449,
          1.4951586112003166,
          0.04793789929374104,
          0.4818544476012452,
          -0.4614036047221062,
          0.4836520913539778,
          1.3511168965109652,
          0.9312295369213616,
          -0.34776494125366364,
          2.470739856691369,
          1.3372209383084586,
          2.008065433075763,
          1.7852269196346882,
          0.3351322330327867,
          -0.9450469586120391,
          0.08457563176829386,
          2.225155849273231,
          -0.053546073700315056,
          1.816043684324061,
          0.38759302687117625,
          1.3931092448539835,
          -0.8239198526251938,
          2.167075165999964,
          0.9603312999095179,
          1.8858257989659073,
          1.1898616493830956,
          1.7980637952989431,
          0.8980679607363999,
          1.7433565435138623,
          -0.5095726842240433,
          -0.08071069244550655,
          1.7254740044815358,
          0.9608217437905033,
          0.7712458287797874,
          0.8203877053486421,
          1.5017251093451653,
          0.40665624575758097,
          1.510307596745256,
          0.08420815093132084,
          0.5927479569800342,
          1.984951671719211,
          2.0712524278458906,
          -0.09715436025536217,
          1.8386347472283773,
          -0.03918232203490302,
          1.7330232317190783,
          -0.8988120593192948,
          -0.11711069243911254,
          0.4910277221771385,
          0.8335140451140406,
          2.423614429348987,
          1.903999174003527,
          2.5754679085723806,
          2.206607898035568,
          0.7171364483651554,
          0.7336731156812799,
          2.0689716222012624,
          1.0403714310228394,
          0.8430063275066821,
          -0.3352027230151915,
          0.8935398784444601,
          -1.7909964066938464,
          0.5438824448513147,
          0.02010974833819934,
          1.6925743475393558,
          0.5213276435843385,
          0.6709484506589192,
          2.3471054646704976,
          -0.04906774516861612,
          1.3166588951566545,
          -0.8952669474764661,
          1.089729117444651,
          1.4102657453968446,
          1.8598709717969122,
          0.1013168066813539,
          1.3196569419445936,
          1.3181541996786894,
          0.9807683659023627,
          1.1500162787278037,
          1.4635343217316654,
          1.3978804248818513,
          0.003989110911600369,
          -0.19586151032448185,
          3.505980285318673,
          2.9197922864280876,
          -0.3916938760540336,
          1.4502177420378455,
          1.6274370827531106,
          1.7513372351604846,
          1.14039543644735,
          0.07312806079137568,
          0.8175795936369025,
          0.5088748622091819,
          1.1343731160397543,
          0.7316286958794234,
          0.8683243737129817,
          2.018552474767882,
          2.2305581999547246,
          -0.18110317277182308,
          0.5400698955654187,
          0.20920004622483224,
          2.2237222119601094,
          0.9406320974515008,
          2.448989404158236,
          0.5224191453432792,
          1.0259999941856581,
          -0.3486964467972422,
          2.30253553648618,
          0.6373879124227413,
          -0.48515645132545426,
          0.40753871484673054,
          -1.304907937770138,
          0.9681828273012085,
          1.112487742414196,
          1.2880781670051507,
          2.498108183577034,
          0.6990238460446616,
          1.8074559170052702,
          1.3122386890129998,
          0.8066783595259961,
          -1.076802021923554,
          1.947501167345676,
          0.4960260508576825,
          1.0179558916508264,
          -0.2704607763854796,
          1.2829955338110017,
          1.1080308173123454,
          1.0294176189707656,
          0.8652068707042764,
          2.0492182907525676,
          1.9662208625783415,
          1.7259168525208213,
          4.3210787561703645,
          0.39977466962268515,
          0.6204824844661203,
          -0.01480369085867106,
          1.4359861962964098,
          0.31251260693982563,
          -1.698361741666047,
          -0.2133381258287046,
          1.0722518991558845,
          2.009787334947559,
          -0.5569415578650314,
          0.3875578717156557,
          0.8606481945490787,
          0.27146251057529847,
          1.531163793456225,
          1.0040008419753754,
          1.3212659144838317,
          0.27478507425463383,
          2.5365363280210986,
          0.999624991241644,
          2.2935496206633084,
          0.5610023363337224,
          1.5900394641608302,
          0.32061621700276566,
          0.04909074894923038,
          0.29564966847654117,
          0.9541333139302325,
          0.7812665410322909,
          2.5392070096550627,
          -0.14870422963694585,
          -0.09033833245481482,
          2.7001881466455258,
          1.6087836589081088,
          -0.8814108671660597,
          1.4972690986459771,
          1.2373326993395966,
          -1.1444440467284505,
          0.6304375746625668,
          0.982545048163822,
          1.7314025171250655,
          1.9544956665476874,
          1.0957467711101347,
          2.0334508032642375,
          0.8537267253886462,
          0.14250317526022804,
          0.06581815685205095,
          1.542645294566316,
          -0.9581690855990108,
          1.6778075711198115,
          -0.10657306739188521,
          0.6407759042892611,
          1.5053819027529176,
          2.2179409008013473,
          -0.9406809643648932,
          0.19382178804654304,
          1.0490616923731029,
          0.403913665412338,
          1.861623101341204,
          -1.0863905654565262,
          1.361801640571047,
          1.425920176502816,
          1.0490803971416305,
          2.102236732585342,
          -0.2295742535464289,
          2.108616757989675,
          0.29707959708983134,
          1.7255505180787332,
          0.675795780514789,
          1.8143431291489254,
          1.7804699297583744,
          -0.46405357358059174,
          0.8455088061894714,
          0.9075676814584138,
          0.7621247345431675,
          0.24433723489803494,
          2.8514378945735097,
          1.2090966765755211,
          2.555015994333089,
          0.4308513464880296,
          -0.0617967613108481,
          1.1322477789197847,
          0.4367633958825434,
          3.3901459623335115,
          1.2454228491891197,
          2.152599135010604,
          0.7757642278765015,
          0.6739386942398637,
          0.969088582395864,
          1.355717261576017,
          1.8495868450948219,
          0.8778459848883167,
          0.31914842598268256,
          -0.0678765764865552,
          0.9233206372942682,
          1.5729627259567562,
          1.4579470763097417,
          0.982182450946061,
          0.399861200764387,
          1.1467652633868894,
          1.5718048788649899,
          0.9631823434829726,
          1.112368488792219,
          0.8494956743495484,
          1.9154992680625726,
          0.5617997326613313,
          1.1855356209665553,
          1.3944280300121126,
          1.7255225582535587,
          2.4958847658844756,
          1.675453809204212,
          1.5992132354592585,
          -0.4702370890213132,
          1.606403944303837,
          3.293717612357178,
          0.1699890144323266,
          -0.019519849405716272,
          0.7853461577739773,
          2.021248126098901,
          1.5247504922968238,
          0.5228757935306679,
          0.9640098182728087,
          2.037038981773908,
          1.672619748121479,
          3.428876969522979,
          2.005686680311216,
          1.353567216002629,
          1.6147262758274485,
          0.6510158090844474,
          0.02222699846703302,
          1.1719571321675908,
          1.4905610438096388,
          -0.395283025065327,
          0.4776435348643048,
          0.6307440981710318,
          1.2656424025142852,
          0.7395339411346202,
          1.445096710344572,
          1.0981122462219912,
          2.0603275091568074,
          -0.7111676596244927,
          2.6571246380429256,
          2.4176740129993606,
          1.0503170861471354,
          1.650323214252346,
          1.6065484004132948,
          0.2627103722400681,
          1.1646650658492066,
          1.7781741790995664,
          1.3098167586074885,
          2.0513207678487513,
          1.0949961100691612,
          1.08075098862302,
          0.23219625397543986,
          0.6354619502933625,
          0.5402823189619319,
          2.705483517755442,
          1.2405055521473622,
          0.0005734986418205468,
          1.3985983881614372,
          0.8079963033689556,
          -2.053764380426305,
          1.4798523711538174,
          -0.5526987831768355,
          1.5784644202562421,
          0.03873640096949005,
          -0.458324460393154,
          1.4943416509823788,
          -0.4941937652746844,
          0.55330079652288,
          1.204377394921163,
          1.612232523128053,
          1.7448845364406518,
          0.9637187114462977,
          0.16760465231131083,
          2.923815425970925,
          0.39401867946140223,
          2.8035889814864974,
          0.5474750267159745,
          2.1612856933418074,
          2.0699655389501332,
          -0.04553424737689449,
          1.3552845070062296,
          1.7553920291908554,
          1.7009821215232441,
          0.801062549716104,
          1.3019600454061449,
          0.6053103190044424,
          -0.17181337922112228,
          1.9840122369402406,
          0.44031857808144315,
          2.379758191606217,
          1.6024509012396098,
          0.10735332648711593,
          0.8388016804587626,
          0.7136150846048263,
          0.12911235034803892,
          1.50142958989333,
          0.5213859261388156,
          2.6316915136307975,
          1.8608912410184297,
          0.11981093545842025,
          0.9809994784526834,
          0.773239807830416,
          -0.5645078538111965,
          1.9312556787681192,
          1.9498088152113293,
          1.9255012147023858,
          0.5430121424064625,
          2.068985971618918,
          0.7902470645774459,
          1.935147779591075,
          2.812527815117541,
          1.1401098813047528,
          -0.41914877714448684,
          0.6830988034716537,
          1.6409858663835064,
          2.2198743790306215,
          -0.13379203539357798,
          0.809451702338548,
          1.2333391262601219,
          1.4349983242628412,
          1.910423603003084,
          0.0515603435462032,
          0.576521702774464,
          2.0079664776005783,
          1.3923349111243075,
          1.4483806507816874,
          2.1253234986642537,
          1.1040533897090894,
          1.5280034220718364,
          0.6854361380827128,
          -0.34501002026837524,
          -0.2952578852810872,
          1.0743205536826317,
          0.8004392820037836,
          0.345396831475022,
          1.3180142964191688,
          0.10972844789175107,
          1.11133726638297,
          0.9804774416797267,
          0.16001108538775288,
          -1.2982058805378518,
          2.456527386472777,
          1.3166372357039575,
          -1.664125939262139,
          0.5735713823664776,
          1.3937877312493185,
          0.7718593092995438,
          1.5803301126032294,
          0.026732414750759936,
          1.1751677292180687,
          0.9465163072648437,
          0.8169380130380265,
          0.7789710982116644,
          1.1997595551926277,
          1.932721413688092,
          0.46988019979994844,
          0.5927599759880692,
          1.1605649917425116,
          0.879850024371251,
          1.3856022923443252,
          1.7182907357543429,
          2.291188902850876,
          0.883555851728336,
          -1.2772979966603657,
          0.9303754605448709,
          1.3538704268828403,
          0.8130449834672504
         ]
        }
       ],
       "layout": {
        "template": {
         "data": {
          "bar": [
           {
            "error_x": {
             "color": "#2a3f5f"
            },
            "error_y": {
             "color": "#2a3f5f"
            },
            "marker": {
             "line": {
              "color": "#E5ECF6",
              "width": 0.5
             },
             "pattern": {
              "fillmode": "overlay",
              "size": 10,
              "solidity": 0.2
             }
            },
            "type": "bar"
           }
          ],
          "barpolar": [
           {
            "marker": {
             "line": {
              "color": "#E5ECF6",
              "width": 0.5
             },
             "pattern": {
              "fillmode": "overlay",
              "size": 10,
              "solidity": 0.2
             }
            },
            "type": "barpolar"
           }
          ],
          "carpet": [
           {
            "aaxis": {
             "endlinecolor": "#2a3f5f",
             "gridcolor": "white",
             "linecolor": "white",
             "minorgridcolor": "white",
             "startlinecolor": "#2a3f5f"
            },
            "baxis": {
             "endlinecolor": "#2a3f5f",
             "gridcolor": "white",
             "linecolor": "white",
             "minorgridcolor": "white",
             "startlinecolor": "#2a3f5f"
            },
            "type": "carpet"
           }
          ],
          "choropleth": [
           {
            "colorbar": {
             "outlinewidth": 0,
             "ticks": ""
            },
            "type": "choropleth"
           }
          ],
          "contour": [
           {
            "colorbar": {
             "outlinewidth": 0,
             "ticks": ""
            },
            "colorscale": [
             [
              0,
              "#0d0887"
             ],
             [
              0.1111111111111111,
              "#46039f"
             ],
             [
              0.2222222222222222,
              "#7201a8"
             ],
             [
              0.3333333333333333,
              "#9c179e"
             ],
             [
              0.4444444444444444,
              "#bd3786"
             ],
             [
              0.5555555555555556,
              "#d8576b"
             ],
             [
              0.6666666666666666,
              "#ed7953"
             ],
             [
              0.7777777777777778,
              "#fb9f3a"
             ],
             [
              0.8888888888888888,
              "#fdca26"
             ],
             [
              1,
              "#f0f921"
             ]
            ],
            "type": "contour"
           }
          ],
          "contourcarpet": [
           {
            "colorbar": {
             "outlinewidth": 0,
             "ticks": ""
            },
            "type": "contourcarpet"
           }
          ],
          "heatmap": [
           {
            "colorbar": {
             "outlinewidth": 0,
             "ticks": ""
            },
            "colorscale": [
             [
              0,
              "#0d0887"
             ],
             [
              0.1111111111111111,
              "#46039f"
             ],
             [
              0.2222222222222222,
              "#7201a8"
             ],
             [
              0.3333333333333333,
              "#9c179e"
             ],
             [
              0.4444444444444444,
              "#bd3786"
             ],
             [
              0.5555555555555556,
              "#d8576b"
             ],
             [
              0.6666666666666666,
              "#ed7953"
             ],
             [
              0.7777777777777778,
              "#fb9f3a"
             ],
             [
              0.8888888888888888,
              "#fdca26"
             ],
             [
              1,
              "#f0f921"
             ]
            ],
            "type": "heatmap"
           }
          ],
          "heatmapgl": [
           {
            "colorbar": {
             "outlinewidth": 0,
             "ticks": ""
            },
            "colorscale": [
             [
              0,
              "#0d0887"
             ],
             [
              0.1111111111111111,
              "#46039f"
             ],
             [
              0.2222222222222222,
              "#7201a8"
             ],
             [
              0.3333333333333333,
              "#9c179e"
             ],
             [
              0.4444444444444444,
              "#bd3786"
             ],
             [
              0.5555555555555556,
              "#d8576b"
             ],
             [
              0.6666666666666666,
              "#ed7953"
             ],
             [
              0.7777777777777778,
              "#fb9f3a"
             ],
             [
              0.8888888888888888,
              "#fdca26"
             ],
             [
              1,
              "#f0f921"
             ]
            ],
            "type": "heatmapgl"
           }
          ],
          "histogram": [
           {
            "marker": {
             "pattern": {
              "fillmode": "overlay",
              "size": 10,
              "solidity": 0.2
             }
            },
            "type": "histogram"
           }
          ],
          "histogram2d": [
           {
            "colorbar": {
             "outlinewidth": 0,
             "ticks": ""
            },
            "colorscale": [
             [
              0,
              "#0d0887"
             ],
             [
              0.1111111111111111,
              "#46039f"
             ],
             [
              0.2222222222222222,
              "#7201a8"
             ],
             [
              0.3333333333333333,
              "#9c179e"
             ],
             [
              0.4444444444444444,
              "#bd3786"
             ],
             [
              0.5555555555555556,
              "#d8576b"
             ],
             [
              0.6666666666666666,
              "#ed7953"
             ],
             [
              0.7777777777777778,
              "#fb9f3a"
             ],
             [
              0.8888888888888888,
              "#fdca26"
             ],
             [
              1,
              "#f0f921"
             ]
            ],
            "type": "histogram2d"
           }
          ],
          "histogram2dcontour": [
           {
            "colorbar": {
             "outlinewidth": 0,
             "ticks": ""
            },
            "colorscale": [
             [
              0,
              "#0d0887"
             ],
             [
              0.1111111111111111,
              "#46039f"
             ],
             [
              0.2222222222222222,
              "#7201a8"
             ],
             [
              0.3333333333333333,
              "#9c179e"
             ],
             [
              0.4444444444444444,
              "#bd3786"
             ],
             [
              0.5555555555555556,
              "#d8576b"
             ],
             [
              0.6666666666666666,
              "#ed7953"
             ],
             [
              0.7777777777777778,
              "#fb9f3a"
             ],
             [
              0.8888888888888888,
              "#fdca26"
             ],
             [
              1,
              "#f0f921"
             ]
            ],
            "type": "histogram2dcontour"
           }
          ],
          "mesh3d": [
           {
            "colorbar": {
             "outlinewidth": 0,
             "ticks": ""
            },
            "type": "mesh3d"
           }
          ],
          "parcoords": [
           {
            "line": {
             "colorbar": {
              "outlinewidth": 0,
              "ticks": ""
             }
            },
            "type": "parcoords"
           }
          ],
          "pie": [
           {
            "automargin": true,
            "type": "pie"
           }
          ],
          "scatter": [
           {
            "fillpattern": {
             "fillmode": "overlay",
             "size": 10,
             "solidity": 0.2
            },
            "type": "scatter"
           }
          ],
          "scatter3d": [
           {
            "line": {
             "colorbar": {
              "outlinewidth": 0,
              "ticks": ""
             }
            },
            "marker": {
             "colorbar": {
              "outlinewidth": 0,
              "ticks": ""
             }
            },
            "type": "scatter3d"
           }
          ],
          "scattercarpet": [
           {
            "marker": {
             "colorbar": {
              "outlinewidth": 0,
              "ticks": ""
             }
            },
            "type": "scattercarpet"
           }
          ],
          "scattergeo": [
           {
            "marker": {
             "colorbar": {
              "outlinewidth": 0,
              "ticks": ""
             }
            },
            "type": "scattergeo"
           }
          ],
          "scattergl": [
           {
            "marker": {
             "colorbar": {
              "outlinewidth": 0,
              "ticks": ""
             }
            },
            "type": "scattergl"
           }
          ],
          "scattermapbox": [
           {
            "marker": {
             "colorbar": {
              "outlinewidth": 0,
              "ticks": ""
             }
            },
            "type": "scattermapbox"
           }
          ],
          "scatterpolar": [
           {
            "marker": {
             "colorbar": {
              "outlinewidth": 0,
              "ticks": ""
             }
            },
            "type": "scatterpolar"
           }
          ],
          "scatterpolargl": [
           {
            "marker": {
             "colorbar": {
              "outlinewidth": 0,
              "ticks": ""
             }
            },
            "type": "scatterpolargl"
           }
          ],
          "scatterternary": [
           {
            "marker": {
             "colorbar": {
              "outlinewidth": 0,
              "ticks": ""
             }
            },
            "type": "scatterternary"
           }
          ],
          "surface": [
           {
            "colorbar": {
             "outlinewidth": 0,
             "ticks": ""
            },
            "colorscale": [
             [
              0,
              "#0d0887"
             ],
             [
              0.1111111111111111,
              "#46039f"
             ],
             [
              0.2222222222222222,
              "#7201a8"
             ],
             [
              0.3333333333333333,
              "#9c179e"
             ],
             [
              0.4444444444444444,
              "#bd3786"
             ],
             [
              0.5555555555555556,
              "#d8576b"
             ],
             [
              0.6666666666666666,
              "#ed7953"
             ],
             [
              0.7777777777777778,
              "#fb9f3a"
             ],
             [
              0.8888888888888888,
              "#fdca26"
             ],
             [
              1,
              "#f0f921"
             ]
            ],
            "type": "surface"
           }
          ],
          "table": [
           {
            "cells": {
             "fill": {
              "color": "#EBF0F8"
             },
             "line": {
              "color": "white"
             }
            },
            "header": {
             "fill": {
              "color": "#C8D4E3"
             },
             "line": {
              "color": "white"
             }
            },
            "type": "table"
           }
          ]
         },
         "layout": {
          "annotationdefaults": {
           "arrowcolor": "#2a3f5f",
           "arrowhead": 0,
           "arrowwidth": 1
          },
          "autotypenumbers": "strict",
          "coloraxis": {
           "colorbar": {
            "outlinewidth": 0,
            "ticks": ""
           }
          },
          "colorscale": {
           "diverging": [
            [
             0,
             "#8e0152"
            ],
            [
             0.1,
             "#c51b7d"
            ],
            [
             0.2,
             "#de77ae"
            ],
            [
             0.3,
             "#f1b6da"
            ],
            [
             0.4,
             "#fde0ef"
            ],
            [
             0.5,
             "#f7f7f7"
            ],
            [
             0.6,
             "#e6f5d0"
            ],
            [
             0.7,
             "#b8e186"
            ],
            [
             0.8,
             "#7fbc41"
            ],
            [
             0.9,
             "#4d9221"
            ],
            [
             1,
             "#276419"
            ]
           ],
           "sequential": [
            [
             0,
             "#0d0887"
            ],
            [
             0.1111111111111111,
             "#46039f"
            ],
            [
             0.2222222222222222,
             "#7201a8"
            ],
            [
             0.3333333333333333,
             "#9c179e"
            ],
            [
             0.4444444444444444,
             "#bd3786"
            ],
            [
             0.5555555555555556,
             "#d8576b"
            ],
            [
             0.6666666666666666,
             "#ed7953"
            ],
            [
             0.7777777777777778,
             "#fb9f3a"
            ],
            [
             0.8888888888888888,
             "#fdca26"
            ],
            [
             1,
             "#f0f921"
            ]
           ],
           "sequentialminus": [
            [
             0,
             "#0d0887"
            ],
            [
             0.1111111111111111,
             "#46039f"
            ],
            [
             0.2222222222222222,
             "#7201a8"
            ],
            [
             0.3333333333333333,
             "#9c179e"
            ],
            [
             0.4444444444444444,
             "#bd3786"
            ],
            [
             0.5555555555555556,
             "#d8576b"
            ],
            [
             0.6666666666666666,
             "#ed7953"
            ],
            [
             0.7777777777777778,
             "#fb9f3a"
            ],
            [
             0.8888888888888888,
             "#fdca26"
            ],
            [
             1,
             "#f0f921"
            ]
           ]
          },
          "colorway": [
           "#636efa",
           "#EF553B",
           "#00cc96",
           "#ab63fa",
           "#FFA15A",
           "#19d3f3",
           "#FF6692",
           "#B6E880",
           "#FF97FF",
           "#FECB52"
          ],
          "font": {
           "color": "#2a3f5f"
          },
          "geo": {
           "bgcolor": "white",
           "lakecolor": "white",
           "landcolor": "#E5ECF6",
           "showlakes": true,
           "showland": true,
           "subunitcolor": "white"
          },
          "hoverlabel": {
           "align": "left"
          },
          "hovermode": "closest",
          "mapbox": {
           "style": "light"
          },
          "paper_bgcolor": "white",
          "plot_bgcolor": "#E5ECF6",
          "polar": {
           "angularaxis": {
            "gridcolor": "white",
            "linecolor": "white",
            "ticks": ""
           },
           "bgcolor": "#E5ECF6",
           "radialaxis": {
            "gridcolor": "white",
            "linecolor": "white",
            "ticks": ""
           }
          },
          "scene": {
           "xaxis": {
            "backgroundcolor": "#E5ECF6",
            "gridcolor": "white",
            "gridwidth": 2,
            "linecolor": "white",
            "showbackground": true,
            "ticks": "",
            "zerolinecolor": "white"
           },
           "yaxis": {
            "backgroundcolor": "#E5ECF6",
            "gridcolor": "white",
            "gridwidth": 2,
            "linecolor": "white",
            "showbackground": true,
            "ticks": "",
            "zerolinecolor": "white"
           },
           "zaxis": {
            "backgroundcolor": "#E5ECF6",
            "gridcolor": "white",
            "gridwidth": 2,
            "linecolor": "white",
            "showbackground": true,
            "ticks": "",
            "zerolinecolor": "white"
           }
          },
          "shapedefaults": {
           "line": {
            "color": "#2a3f5f"
           }
          },
          "ternary": {
           "aaxis": {
            "gridcolor": "white",
            "linecolor": "white",
            "ticks": ""
           },
           "baxis": {
            "gridcolor": "white",
            "linecolor": "white",
            "ticks": ""
           },
           "bgcolor": "#E5ECF6",
           "caxis": {
            "gridcolor": "white",
            "linecolor": "white",
            "ticks": ""
           }
          },
          "title": {
           "x": 0.05
          },
          "xaxis": {
           "automargin": true,
           "gridcolor": "white",
           "linecolor": "white",
           "ticks": "",
           "title": {
            "standoff": 15
           },
           "zerolinecolor": "white",
           "zerolinewidth": 2
          },
          "yaxis": {
           "automargin": true,
           "gridcolor": "white",
           "linecolor": "white",
           "ticks": "",
           "title": {
            "standoff": 15
           },
           "zerolinecolor": "white",
           "zerolinewidth": 2
          }
         }
        }
       }
      }
     },
     "metadata": {},
     "output_type": "display_data"
    }
   ],
   "source": [
    "# 2D Histogram은 데이터 분포를 확인하기 위해서 사용되는 히트맵이다\n",
    "np.random.seed(1)\n",
    "\n",
    "x=np.random.randn(500)\n",
    "y=np.random.randn(500)+1\n",
    "\n",
    "fig=go.Figure(go.Histogram2d(\n",
    "        x=x,\n",
    "        y=y\n",
    "    )\n",
    ")\n",
    "fig.show()"
   ]
  },
  {
   "cell_type": "code",
   "execution_count": 51,
   "metadata": {},
   "outputs": [
    {
     "data": {
      "application/vnd.plotly.v1+json": {
       "config": {
        "plotlyServerURL": "https://plot.ly"
       },
       "data": [
        {
         "type": "box",
         "y": [
          1140,
          1460,
          489,
          594,
          502,
          508,
          370,
          200
         ]
        }
       ],
       "layout": {
        "template": {
         "data": {
          "bar": [
           {
            "error_x": {
             "color": "#2a3f5f"
            },
            "error_y": {
             "color": "#2a3f5f"
            },
            "marker": {
             "line": {
              "color": "#E5ECF6",
              "width": 0.5
             },
             "pattern": {
              "fillmode": "overlay",
              "size": 10,
              "solidity": 0.2
             }
            },
            "type": "bar"
           }
          ],
          "barpolar": [
           {
            "marker": {
             "line": {
              "color": "#E5ECF6",
              "width": 0.5
             },
             "pattern": {
              "fillmode": "overlay",
              "size": 10,
              "solidity": 0.2
             }
            },
            "type": "barpolar"
           }
          ],
          "carpet": [
           {
            "aaxis": {
             "endlinecolor": "#2a3f5f",
             "gridcolor": "white",
             "linecolor": "white",
             "minorgridcolor": "white",
             "startlinecolor": "#2a3f5f"
            },
            "baxis": {
             "endlinecolor": "#2a3f5f",
             "gridcolor": "white",
             "linecolor": "white",
             "minorgridcolor": "white",
             "startlinecolor": "#2a3f5f"
            },
            "type": "carpet"
           }
          ],
          "choropleth": [
           {
            "colorbar": {
             "outlinewidth": 0,
             "ticks": ""
            },
            "type": "choropleth"
           }
          ],
          "contour": [
           {
            "colorbar": {
             "outlinewidth": 0,
             "ticks": ""
            },
            "colorscale": [
             [
              0,
              "#0d0887"
             ],
             [
              0.1111111111111111,
              "#46039f"
             ],
             [
              0.2222222222222222,
              "#7201a8"
             ],
             [
              0.3333333333333333,
              "#9c179e"
             ],
             [
              0.4444444444444444,
              "#bd3786"
             ],
             [
              0.5555555555555556,
              "#d8576b"
             ],
             [
              0.6666666666666666,
              "#ed7953"
             ],
             [
              0.7777777777777778,
              "#fb9f3a"
             ],
             [
              0.8888888888888888,
              "#fdca26"
             ],
             [
              1,
              "#f0f921"
             ]
            ],
            "type": "contour"
           }
          ],
          "contourcarpet": [
           {
            "colorbar": {
             "outlinewidth": 0,
             "ticks": ""
            },
            "type": "contourcarpet"
           }
          ],
          "heatmap": [
           {
            "colorbar": {
             "outlinewidth": 0,
             "ticks": ""
            },
            "colorscale": [
             [
              0,
              "#0d0887"
             ],
             [
              0.1111111111111111,
              "#46039f"
             ],
             [
              0.2222222222222222,
              "#7201a8"
             ],
             [
              0.3333333333333333,
              "#9c179e"
             ],
             [
              0.4444444444444444,
              "#bd3786"
             ],
             [
              0.5555555555555556,
              "#d8576b"
             ],
             [
              0.6666666666666666,
              "#ed7953"
             ],
             [
              0.7777777777777778,
              "#fb9f3a"
             ],
             [
              0.8888888888888888,
              "#fdca26"
             ],
             [
              1,
              "#f0f921"
             ]
            ],
            "type": "heatmap"
           }
          ],
          "heatmapgl": [
           {
            "colorbar": {
             "outlinewidth": 0,
             "ticks": ""
            },
            "colorscale": [
             [
              0,
              "#0d0887"
             ],
             [
              0.1111111111111111,
              "#46039f"
             ],
             [
              0.2222222222222222,
              "#7201a8"
             ],
             [
              0.3333333333333333,
              "#9c179e"
             ],
             [
              0.4444444444444444,
              "#bd3786"
             ],
             [
              0.5555555555555556,
              "#d8576b"
             ],
             [
              0.6666666666666666,
              "#ed7953"
             ],
             [
              0.7777777777777778,
              "#fb9f3a"
             ],
             [
              0.8888888888888888,
              "#fdca26"
             ],
             [
              1,
              "#f0f921"
             ]
            ],
            "type": "heatmapgl"
           }
          ],
          "histogram": [
           {
            "marker": {
             "pattern": {
              "fillmode": "overlay",
              "size": 10,
              "solidity": 0.2
             }
            },
            "type": "histogram"
           }
          ],
          "histogram2d": [
           {
            "colorbar": {
             "outlinewidth": 0,
             "ticks": ""
            },
            "colorscale": [
             [
              0,
              "#0d0887"
             ],
             [
              0.1111111111111111,
              "#46039f"
             ],
             [
              0.2222222222222222,
              "#7201a8"
             ],
             [
              0.3333333333333333,
              "#9c179e"
             ],
             [
              0.4444444444444444,
              "#bd3786"
             ],
             [
              0.5555555555555556,
              "#d8576b"
             ],
             [
              0.6666666666666666,
              "#ed7953"
             ],
             [
              0.7777777777777778,
              "#fb9f3a"
             ],
             [
              0.8888888888888888,
              "#fdca26"
             ],
             [
              1,
              "#f0f921"
             ]
            ],
            "type": "histogram2d"
           }
          ],
          "histogram2dcontour": [
           {
            "colorbar": {
             "outlinewidth": 0,
             "ticks": ""
            },
            "colorscale": [
             [
              0,
              "#0d0887"
             ],
             [
              0.1111111111111111,
              "#46039f"
             ],
             [
              0.2222222222222222,
              "#7201a8"
             ],
             [
              0.3333333333333333,
              "#9c179e"
             ],
             [
              0.4444444444444444,
              "#bd3786"
             ],
             [
              0.5555555555555556,
              "#d8576b"
             ],
             [
              0.6666666666666666,
              "#ed7953"
             ],
             [
              0.7777777777777778,
              "#fb9f3a"
             ],
             [
              0.8888888888888888,
              "#fdca26"
             ],
             [
              1,
              "#f0f921"
             ]
            ],
            "type": "histogram2dcontour"
           }
          ],
          "mesh3d": [
           {
            "colorbar": {
             "outlinewidth": 0,
             "ticks": ""
            },
            "type": "mesh3d"
           }
          ],
          "parcoords": [
           {
            "line": {
             "colorbar": {
              "outlinewidth": 0,
              "ticks": ""
             }
            },
            "type": "parcoords"
           }
          ],
          "pie": [
           {
            "automargin": true,
            "type": "pie"
           }
          ],
          "scatter": [
           {
            "fillpattern": {
             "fillmode": "overlay",
             "size": 10,
             "solidity": 0.2
            },
            "type": "scatter"
           }
          ],
          "scatter3d": [
           {
            "line": {
             "colorbar": {
              "outlinewidth": 0,
              "ticks": ""
             }
            },
            "marker": {
             "colorbar": {
              "outlinewidth": 0,
              "ticks": ""
             }
            },
            "type": "scatter3d"
           }
          ],
          "scattercarpet": [
           {
            "marker": {
             "colorbar": {
              "outlinewidth": 0,
              "ticks": ""
             }
            },
            "type": "scattercarpet"
           }
          ],
          "scattergeo": [
           {
            "marker": {
             "colorbar": {
              "outlinewidth": 0,
              "ticks": ""
             }
            },
            "type": "scattergeo"
           }
          ],
          "scattergl": [
           {
            "marker": {
             "colorbar": {
              "outlinewidth": 0,
              "ticks": ""
             }
            },
            "type": "scattergl"
           }
          ],
          "scattermapbox": [
           {
            "marker": {
             "colorbar": {
              "outlinewidth": 0,
              "ticks": ""
             }
            },
            "type": "scattermapbox"
           }
          ],
          "scatterpolar": [
           {
            "marker": {
             "colorbar": {
              "outlinewidth": 0,
              "ticks": ""
             }
            },
            "type": "scatterpolar"
           }
          ],
          "scatterpolargl": [
           {
            "marker": {
             "colorbar": {
              "outlinewidth": 0,
              "ticks": ""
             }
            },
            "type": "scatterpolargl"
           }
          ],
          "scatterternary": [
           {
            "marker": {
             "colorbar": {
              "outlinewidth": 0,
              "ticks": ""
             }
            },
            "type": "scatterternary"
           }
          ],
          "surface": [
           {
            "colorbar": {
             "outlinewidth": 0,
             "ticks": ""
            },
            "colorscale": [
             [
              0,
              "#0d0887"
             ],
             [
              0.1111111111111111,
              "#46039f"
             ],
             [
              0.2222222222222222,
              "#7201a8"
             ],
             [
              0.3333333333333333,
              "#9c179e"
             ],
             [
              0.4444444444444444,
              "#bd3786"
             ],
             [
              0.5555555555555556,
              "#d8576b"
             ],
             [
              0.6666666666666666,
              "#ed7953"
             ],
             [
              0.7777777777777778,
              "#fb9f3a"
             ],
             [
              0.8888888888888888,
              "#fdca26"
             ],
             [
              1,
              "#f0f921"
             ]
            ],
            "type": "surface"
           }
          ],
          "table": [
           {
            "cells": {
             "fill": {
              "color": "#EBF0F8"
             },
             "line": {
              "color": "white"
             }
            },
            "header": {
             "fill": {
              "color": "#C8D4E3"
             },
             "line": {
              "color": "white"
             }
            },
            "type": "table"
           }
          ]
         },
         "layout": {
          "annotationdefaults": {
           "arrowcolor": "#2a3f5f",
           "arrowhead": 0,
           "arrowwidth": 1
          },
          "autotypenumbers": "strict",
          "coloraxis": {
           "colorbar": {
            "outlinewidth": 0,
            "ticks": ""
           }
          },
          "colorscale": {
           "diverging": [
            [
             0,
             "#8e0152"
            ],
            [
             0.1,
             "#c51b7d"
            ],
            [
             0.2,
             "#de77ae"
            ],
            [
             0.3,
             "#f1b6da"
            ],
            [
             0.4,
             "#fde0ef"
            ],
            [
             0.5,
             "#f7f7f7"
            ],
            [
             0.6,
             "#e6f5d0"
            ],
            [
             0.7,
             "#b8e186"
            ],
            [
             0.8,
             "#7fbc41"
            ],
            [
             0.9,
             "#4d9221"
            ],
            [
             1,
             "#276419"
            ]
           ],
           "sequential": [
            [
             0,
             "#0d0887"
            ],
            [
             0.1111111111111111,
             "#46039f"
            ],
            [
             0.2222222222222222,
             "#7201a8"
            ],
            [
             0.3333333333333333,
             "#9c179e"
            ],
            [
             0.4444444444444444,
             "#bd3786"
            ],
            [
             0.5555555555555556,
             "#d8576b"
            ],
            [
             0.6666666666666666,
             "#ed7953"
            ],
            [
             0.7777777777777778,
             "#fb9f3a"
            ],
            [
             0.8888888888888888,
             "#fdca26"
            ],
            [
             1,
             "#f0f921"
            ]
           ],
           "sequentialminus": [
            [
             0,
             "#0d0887"
            ],
            [
             0.1111111111111111,
             "#46039f"
            ],
            [
             0.2222222222222222,
             "#7201a8"
            ],
            [
             0.3333333333333333,
             "#9c179e"
            ],
            [
             0.4444444444444444,
             "#bd3786"
            ],
            [
             0.5555555555555556,
             "#d8576b"
            ],
            [
             0.6666666666666666,
             "#ed7953"
            ],
            [
             0.7777777777777778,
             "#fb9f3a"
            ],
            [
             0.8888888888888888,
             "#fdca26"
            ],
            [
             1,
             "#f0f921"
            ]
           ]
          },
          "colorway": [
           "#636efa",
           "#EF553B",
           "#00cc96",
           "#ab63fa",
           "#FFA15A",
           "#19d3f3",
           "#FF6692",
           "#B6E880",
           "#FF97FF",
           "#FECB52"
          ],
          "font": {
           "color": "#2a3f5f"
          },
          "geo": {
           "bgcolor": "white",
           "lakecolor": "white",
           "landcolor": "#E5ECF6",
           "showlakes": true,
           "showland": true,
           "subunitcolor": "white"
          },
          "hoverlabel": {
           "align": "left"
          },
          "hovermode": "closest",
          "mapbox": {
           "style": "light"
          },
          "paper_bgcolor": "white",
          "plot_bgcolor": "#E5ECF6",
          "polar": {
           "angularaxis": {
            "gridcolor": "white",
            "linecolor": "white",
            "ticks": ""
           },
           "bgcolor": "#E5ECF6",
           "radialaxis": {
            "gridcolor": "white",
            "linecolor": "white",
            "ticks": ""
           }
          },
          "scene": {
           "xaxis": {
            "backgroundcolor": "#E5ECF6",
            "gridcolor": "white",
            "gridwidth": 2,
            "linecolor": "white",
            "showbackground": true,
            "ticks": "",
            "zerolinecolor": "white"
           },
           "yaxis": {
            "backgroundcolor": "#E5ECF6",
            "gridcolor": "white",
            "gridwidth": 2,
            "linecolor": "white",
            "showbackground": true,
            "ticks": "",
            "zerolinecolor": "white"
           },
           "zaxis": {
            "backgroundcolor": "#E5ECF6",
            "gridcolor": "white",
            "gridwidth": 2,
            "linecolor": "white",
            "showbackground": true,
            "ticks": "",
            "zerolinecolor": "white"
           }
          },
          "shapedefaults": {
           "line": {
            "color": "#2a3f5f"
           }
          },
          "ternary": {
           "aaxis": {
            "gridcolor": "white",
            "linecolor": "white",
            "ticks": ""
           },
           "baxis": {
            "gridcolor": "white",
            "linecolor": "white",
            "ticks": ""
           },
           "bgcolor": "#E5ECF6",
           "caxis": {
            "gridcolor": "white",
            "linecolor": "white",
            "ticks": ""
           }
          },
          "title": {
           "x": 0.05
          },
          "xaxis": {
           "automargin": true,
           "gridcolor": "white",
           "linecolor": "white",
           "ticks": "",
           "title": {
            "standoff": 15
           },
           "zerolinecolor": "white",
           "zerolinewidth": 2
          },
          "yaxis": {
           "automargin": true,
           "gridcolor": "white",
           "linecolor": "white",
           "ticks": "",
           "title": {
            "standoff": 15
           },
           "zerolinecolor": "white",
           "zerolinewidth": 2
          }
         }
        }
       }
      }
     },
     "metadata": {},
     "output_type": "display_data"
    }
   ],
   "source": [
    "# BoxPlot은 데이터의 이상치를 확인하는 데 많이 쓰인다.\n",
    "yaxis=[1140,1460,489,594,502,508,370,200]\n",
    "\n",
    "data=go.Box(y=yaxis)\n",
    "fig=go.Figure(data)\n",
    "\n",
    "fig.show()"
   ]
  },
  {
   "cell_type": "code",
   "execution_count": 54,
   "metadata": {},
   "outputs": [
    {
     "data": {
      "application/vnd.plotly.v1+json": {
       "config": {
        "plotlyServerURL": "https://plot.ly"
       },
       "data": [
        {
         "type": "box",
         "y": [
          8.1,
          7,
          7.3,
          7.2,
          6.2,
          6.1,
          8.3,
          6.4,
          7.1,
          7,
          7.5,
          7.8,
          7.9,
          7.7,
          6.4,
          6.6,
          8.2,
          6.7,
          8.1,
          8,
          6.7,
          7.9,
          6.7,
          6.5,
          5.3,
          6.8,
          8.3,
          4.7,
          6.2,
          5.9,
          6.3,
          7.5,
          7.1,
          8,
          5.6,
          7.9,
          8.6,
          7.6,
          6.9,
          7.1,
          6.3,
          7.5,
          2.7,
          7.2,
          6.3,
          6.7,
          7.3,
          5.6,
          7.1,
          3.7,
          8.1,
          5.8,
          5.6,
          7.2,
          9,
          7.3,
          7.2,
          7.4,
          7,
          7.5,
          6.7,
          6.8,
          6.5,
          4.1,
          8.5,
          7.7,
          7.4,
          8.1,
          7.5,
          7.2,
          5.9,
          7.1,
          7.5,
          6.8,
          8.1,
          7.1,
          8.1,
          8.3,
          7.3,
          5.3,
          8.8,
          7.9,
          8.2,
          8.1,
          7.2,
          7,
          6.4,
          7.8,
          7.8,
          7.4,
          8.1,
          7,
          8.1,
          7.1,
          7.4,
          7.4,
          8.6,
          5.8,
          6.3,
          8.5,
          7,
          7,
          8,
          7.9,
          7.3,
          7.7,
          5.4,
          6.3,
          5.8,
          7.7,
          6.3,
          8.1,
          6.1,
          7.7,
          8.1,
          5.8,
          6.2,
          8.8,
          7.2,
          7.4,
          6.7,
          6.7,
          6,
          7.4,
          8.5,
          7.5,
          5.7,
          6.6,
          6.4,
          8,
          7.3,
          6,
          6.4,
          8.5,
          7.1,
          7.3,
          8.1,
          7.3,
          8.1,
          7.1,
          8,
          6.2,
          7.8,
          8.2,
          8.4,
          8.1,
          7.4,
          7.6,
          7.6,
          6.2,
          6.4,
          7.2,
          5.8,
          7.6,
          8.1,
          4.7,
          7,
          7.4,
          7.5,
          7.9,
          6,
          7,
          8,
          6.1,
          8,
          5.2,
          6.5,
          7.3,
          7.3,
          6.8,
          7.9,
          7.9,
          5.2,
          8,
          7.5,
          6.5,
          7.6,
          7,
          7.4,
          7.3,
          6.7,
          6.8,
          7,
          5.9,
          8,
          6,
          6.3,
          6.6,
          7.8,
          6.3,
          7.2,
          5.6,
          8.1,
          5.8,
          8.2,
          6.9,
          6.3,
          8.1,
          8.1,
          6.3,
          7.9,
          6.5,
          7.3,
          7.9,
          5.7,
          7.8,
          7.5,
          7.5,
          6.8,
          6.7,
          6.1,
          5.3,
          7.1,
          5.8,
          7,
          5.5,
          7.8,
          5.7,
          6.1,
          7.7,
          6.7,
          7.1,
          6.9,
          7.8,
          7,
          7,
          7.1,
          6.4,
          7,
          4.8,
          8.2,
          5.2,
          7.8,
          7.4,
          6.1,
          8,
          6.8,
          3.9,
          8.1,
          5.9,
          7.6,
          8.2,
          5.8,
          6.5,
          5.9,
          7.6,
          7.9,
          7.4,
          7.1,
          8.6,
          4.9,
          7.3,
          7.9,
          6.7,
          7.5,
          7.8,
          5.8,
          7.6,
          6.4,
          7.1,
          7.8,
          8,
          6.2,
          7,
          6,
          4.9,
          6,
          7.5,
          6.7,
          3.7,
          7.8,
          7.9,
          7.2,
          8,
          6.8,
          7,
          7.1,
          7.7,
          7,
          7.2,
          7.3,
          7.6,
          7.1,
          7,
          6,
          6.1,
          5.8,
          5.3,
          5.8,
          6.1,
          7.5,
          7.2,
          5.7,
          7.7,
          7.1,
          6.6,
          5.7,
          6.8,
          7.1,
          8.1,
          7.2,
          7.5,
          7,
          5.5,
          6.4,
          6.7,
          6.2,
          5.5,
          6,
          6.1,
          7.7,
          7.8,
          6.8,
          7.4,
          7.5,
          7,
          5.2,
          5.3,
          6.2,
          7.3,
          6.5,
          6.4,
          7.3,
          6.7,
          7.7,
          6,
          6,
          7.4,
          7,
          5.4,
          6.9,
          7.3,
          8,
          7.4,
          8.1,
          6.1,
          7.8,
          5.9,
          7.8,
          6.5,
          6.6,
          7.4,
          6.4,
          6.8,
          6.2,
          5.8,
          7.7,
          7.3,
          5.1,
          7.7,
          7.3,
          6.6,
          7.1,
          6.7,
          6.3,
          5.5,
          7.4,
          7.7,
          6.6,
          7.8,
          6.9,
          5.7,
          7.8,
          7.7,
          6.3,
          8,
          5.5,
          6.9,
          7,
          5.7,
          6,
          6.8,
          6.3,
          6.7,
          6.9,
          5.7,
          6.9,
          7.6,
          7.1,
          6.1,
          7.6,
          7.4,
          6.6,
          7.6,
          7.8,
          7.1,
          5.6,
          6.7,
          6.7,
          6.6,
          6.3,
          5.8,
          7.2,
          5,
          5.4,
          7.2,
          6.8,
          5.5,
          6,
          6.1,
          6.4,
          3.9,
          7.1,
          7.7,
          6.7,
          6.7,
          7.4,
          7.8,
          6.6,
          6.1,
          7.8,
          6.5,
          7.3,
          7.2,
          5.6,
          5.4,
          6.9,
          7.8,
          7.7,
          7.2,
          6.8,
          5.7,
          5.8,
          6.2,
          5.9,
          7.8,
          6.5,
          8.1,
          5.2,
          6,
          8.4,
          4.7,
          7,
          7.4,
          6.4,
          7.1,
          7.1,
          7.6,
          6.6,
          5.6,
          6.3,
          7.5,
          7.7,
          7.4,
          6,
          6.6,
          7.1,
          7.9,
          7.8,
          5.9,
          7,
          7,
          6.8,
          6.5,
          6.1,
          8.3,
          6.7,
          6,
          6.4,
          7.3,
          7.6,
          6,
          6.6,
          7.5,
          6.3,
          7.5,
          6.4,
          6.9,
          8,
          6.7,
          7.8,
          6.4,
          5.8,
          7.5,
          7.7,
          7.4,
          8.5,
          5.7,
          8.3,
          6.7,
          7.2,
          6.5,
          6.3,
          7.7,
          6.3,
          7.8,
          6.7,
          6.7,
          6.6,
          8,
          6.5,
          6.9,
          7,
          5.3,
          6.3,
          7.2,
          6.8,
          7.1,
          7.4,
          8.3,
          6.3,
          7.2,
          6.5,
          7.3,
          7.9,
          5.7,
          6.5,
          7.7,
          4.3,
          7.8,
          7.8,
          7.2,
          5,
          7.1,
          5.7,
          7.1,
          6,
          6.9,
          7.9,
          6.2,
          7.2,
          5.3,
          4.7,
          6.6,
          7,
          3.9,
          6.6,
          5.4,
          6.4,
          6.7,
          6.9,
          5.4,
          7,
          6.4,
          7.2,
          6.5,
          7,
          5.7,
          7.3,
          6.1,
          7.2,
          7.4,
          6.3,
          7.1,
          5.7,
          6.7,
          6.8,
          6.5,
          6.8,
          7.9,
          5.8,
          7.1,
          4.3,
          6.3,
          7.1,
          4.6,
          7.1,
          6.3,
          6.9,
          6.6,
          6.5,
          6.5,
          6.8,
          7.8,
          6.1,
          5.8,
          6.3,
          7.5,
          6.1,
          6.5,
          6,
          7.1,
          7.1,
          7.8,
          6.8,
          5.8,
          6.8,
          6.8,
          7.6,
          6.3,
          4.9,
          4.2,
          5.1,
          5.7,
          7.6,
          5.2,
          7.2,
          6,
          7.3,
          7.2,
          7.8,
          6.2,
          7.1,
          6.4,
          6.1,
          7.2,
          6.6,
          6.2,
          7.9,
          7.3,
          6.7,
          6.4,
          6.4,
          7.2,
          5.1,
          7.4,
          7.2,
          6.9,
          8.1,
          7,
          6.2,
          7.6,
          6.7,
          7.5,
          6.6,
          6.3,
          4,
          6.9,
          6.3,
          7.3,
          7.3,
          6.4,
          6.6,
          5.6,
          6,
          6.3,
          6.7,
          6,
          6.1,
          6.2,
          6.7,
          6.6,
          7,
          4.9,
          8.4,
          7,
          7.5,
          7.3,
          5.6,
          6.7,
          8,
          8.1,
          4.8,
          7.5,
          5.5,
          8.2,
          6.6,
          3.2,
          5.3,
          5.6,
          7.4,
          6.4,
          6.8,
          6.7,
          6.4,
          7,
          7.9,
          5.9,
          7.7,
          6.7,
          7,
          6.9,
          7.7,
          6.6,
          7.1,
          6.6,
          5.7,
          6.3,
          6.5,
          8,
          6.1,
          6.5,
          7.6,
          5.6,
          5.9,
          7.2,
          6.7,
          7.2,
          6.5,
          7.2,
          6.7,
          7.5,
          6.5,
          5.9,
          7.7,
          8,
          7.6,
          6.1,
          8.3,
          7.1,
          5.4,
          7.8,
          6.5,
          5.5,
          7.9,
          8.1,
          6.1,
          7.3,
          7.2,
          5.5,
          6.5,
          7,
          7.1,
          6.6,
          6.5,
          5.8,
          7.1,
          6.5,
          7.4,
          6.2,
          6,
          7.6,
          7.3,
          8.2,
          5.8,
          6.5,
          6.6,
          6.2,
          5.8,
          6.4,
          6.7,
          7.1,
          6,
          5.1,
          6.2,
          6.2,
          6.6,
          7.6,
          6.8,
          6.7,
          6.3,
          7,
          6.9,
          6.6,
          7.7,
          7.5,
          5.6,
          7.1,
          5.7,
          5.2,
          5.4,
          6.6,
          8.2,
          7.6,
          6.2,
          6.1,
          4.6,
          5.7,
          6.1,
          5.9,
          7.2,
          6.5,
          7.9,
          6.3,
          5,
          7.3,
          5.2,
          6.6,
          5.2,
          7.8,
          7.5,
          7.3,
          7.3,
          6.6,
          5.7,
          8.2,
          6.7,
          6.2,
          6.3,
          5.7,
          6.6,
          4.5,
          8.1,
          5.6,
          7.3,
          6.2,
          5.1,
          4.7,
          4.8,
          7.2,
          6.9,
          6.5,
          7.3,
          6.5,
          6.9,
          7.8,
          6.8,
          4.6,
          6.7,
          6.4,
          6,
          6.3,
          6.6,
          7.8,
          6.6,
          6.2,
          7.3,
          7.4,
          6.5,
          7,
          4.3,
          7.2,
          6.2,
          6.2,
          6.8,
          6,
          6.6,
          7.1,
          6.8,
          5.2,
          6.7,
          6.2,
          7,
          6.3,
          7.8,
          7.6,
          5.4,
          7.6,
          5.4,
          4.6,
          6.9,
          6.8,
          5.8,
          7,
          5.8,
          5.3,
          4.6,
          5.3,
          7.6,
          1.9,
          7.2,
          6.4,
          7.4,
          5.7,
          6.4,
          6.3,
          7.5,
          5.5,
          4.2,
          7.8,
          6.3,
          6.4,
          7.1,
          7.1,
          6.8,
          7.3,
          6.7,
          7.8,
          6.3,
          7.5,
          6.8,
          7.4,
          6.8,
          7.1,
          7.6,
          5.9,
          6.6,
          7.5,
          6.4,
          7.8,
          7.2,
          8.4,
          6.2,
          7.1,
          6.3,
          6.5,
          6.9,
          6.9,
          6.6,
          6.9,
          7.7,
          2.7,
          5.4,
          7,
          6.6,
          7,
          6.9,
          7.3,
          5.8,
          5.8,
          6.9,
          7.5,
          6.3,
          6.9,
          6.1,
          7.5,
          6.8,
          6.5,
          5.5,
          7.7,
          3.5,
          6.2,
          7.1,
          5.5,
          7.1,
          7.1,
          7.1,
          7.9,
          6.5,
          5.5,
          6.5,
          5.6,
          6.8,
          7.9,
          6.2,
          6.2,
          6.7,
          6.9,
          6.5,
          6.6,
          6.4,
          4.7,
          7.2,
          7.2,
          6.7,
          7.5,
          6.6,
          6.7,
          7.5,
          6.1,
          6.4,
          6.3,
          6.4,
          6.8,
          6.1,
          4.9,
          7.3,
          5.9,
          6.1,
          7.1,
          5.9,
          6.8,
          5.4,
          6.3,
          6.2,
          6.6,
          4.4,
          6.8,
          7.3,
          7.4,
          6.1,
          4.9,
          5.8,
          6.1,
          6.4,
          6.9,
          7.2,
          5.6,
          4.9,
          6.1,
          7.8,
          7.3,
          4.3,
          7.2,
          6.4,
          6.2,
          5.2,
          7.7,
          6.2,
          7.8,
          7,
          5.9,
          6.7,
          6.3,
          6.9,
          7,
          6.7,
          7.3,
          3.5,
          6.5,
          4.8,
          6.9,
          5.9,
          6.2,
          7.4,
          6,
          6.2,
          5,
          7,
          7.6,
          7,
          5.3,
          7.4,
          6.5,
          6.8,
          5.6,
          5.9,
          6.3,
          7.1,
          7.5,
          6.6,
          8.5,
          6.3,
          5.9,
          6.7,
          6.2,
          5.5,
          6.2,
          5.6,
          5.3
         ]
        }
       ],
       "layout": {
        "template": {
         "data": {
          "bar": [
           {
            "error_x": {
             "color": "#2a3f5f"
            },
            "error_y": {
             "color": "#2a3f5f"
            },
            "marker": {
             "line": {
              "color": "#E5ECF6",
              "width": 0.5
             },
             "pattern": {
              "fillmode": "overlay",
              "size": 10,
              "solidity": 0.2
             }
            },
            "type": "bar"
           }
          ],
          "barpolar": [
           {
            "marker": {
             "line": {
              "color": "#E5ECF6",
              "width": 0.5
             },
             "pattern": {
              "fillmode": "overlay",
              "size": 10,
              "solidity": 0.2
             }
            },
            "type": "barpolar"
           }
          ],
          "carpet": [
           {
            "aaxis": {
             "endlinecolor": "#2a3f5f",
             "gridcolor": "white",
             "linecolor": "white",
             "minorgridcolor": "white",
             "startlinecolor": "#2a3f5f"
            },
            "baxis": {
             "endlinecolor": "#2a3f5f",
             "gridcolor": "white",
             "linecolor": "white",
             "minorgridcolor": "white",
             "startlinecolor": "#2a3f5f"
            },
            "type": "carpet"
           }
          ],
          "choropleth": [
           {
            "colorbar": {
             "outlinewidth": 0,
             "ticks": ""
            },
            "type": "choropleth"
           }
          ],
          "contour": [
           {
            "colorbar": {
             "outlinewidth": 0,
             "ticks": ""
            },
            "colorscale": [
             [
              0,
              "#0d0887"
             ],
             [
              0.1111111111111111,
              "#46039f"
             ],
             [
              0.2222222222222222,
              "#7201a8"
             ],
             [
              0.3333333333333333,
              "#9c179e"
             ],
             [
              0.4444444444444444,
              "#bd3786"
             ],
             [
              0.5555555555555556,
              "#d8576b"
             ],
             [
              0.6666666666666666,
              "#ed7953"
             ],
             [
              0.7777777777777778,
              "#fb9f3a"
             ],
             [
              0.8888888888888888,
              "#fdca26"
             ],
             [
              1,
              "#f0f921"
             ]
            ],
            "type": "contour"
           }
          ],
          "contourcarpet": [
           {
            "colorbar": {
             "outlinewidth": 0,
             "ticks": ""
            },
            "type": "contourcarpet"
           }
          ],
          "heatmap": [
           {
            "colorbar": {
             "outlinewidth": 0,
             "ticks": ""
            },
            "colorscale": [
             [
              0,
              "#0d0887"
             ],
             [
              0.1111111111111111,
              "#46039f"
             ],
             [
              0.2222222222222222,
              "#7201a8"
             ],
             [
              0.3333333333333333,
              "#9c179e"
             ],
             [
              0.4444444444444444,
              "#bd3786"
             ],
             [
              0.5555555555555556,
              "#d8576b"
             ],
             [
              0.6666666666666666,
              "#ed7953"
             ],
             [
              0.7777777777777778,
              "#fb9f3a"
             ],
             [
              0.8888888888888888,
              "#fdca26"
             ],
             [
              1,
              "#f0f921"
             ]
            ],
            "type": "heatmap"
           }
          ],
          "heatmapgl": [
           {
            "colorbar": {
             "outlinewidth": 0,
             "ticks": ""
            },
            "colorscale": [
             [
              0,
              "#0d0887"
             ],
             [
              0.1111111111111111,
              "#46039f"
             ],
             [
              0.2222222222222222,
              "#7201a8"
             ],
             [
              0.3333333333333333,
              "#9c179e"
             ],
             [
              0.4444444444444444,
              "#bd3786"
             ],
             [
              0.5555555555555556,
              "#d8576b"
             ],
             [
              0.6666666666666666,
              "#ed7953"
             ],
             [
              0.7777777777777778,
              "#fb9f3a"
             ],
             [
              0.8888888888888888,
              "#fdca26"
             ],
             [
              1,
              "#f0f921"
             ]
            ],
            "type": "heatmapgl"
           }
          ],
          "histogram": [
           {
            "marker": {
             "pattern": {
              "fillmode": "overlay",
              "size": 10,
              "solidity": 0.2
             }
            },
            "type": "histogram"
           }
          ],
          "histogram2d": [
           {
            "colorbar": {
             "outlinewidth": 0,
             "ticks": ""
            },
            "colorscale": [
             [
              0,
              "#0d0887"
             ],
             [
              0.1111111111111111,
              "#46039f"
             ],
             [
              0.2222222222222222,
              "#7201a8"
             ],
             [
              0.3333333333333333,
              "#9c179e"
             ],
             [
              0.4444444444444444,
              "#bd3786"
             ],
             [
              0.5555555555555556,
              "#d8576b"
             ],
             [
              0.6666666666666666,
              "#ed7953"
             ],
             [
              0.7777777777777778,
              "#fb9f3a"
             ],
             [
              0.8888888888888888,
              "#fdca26"
             ],
             [
              1,
              "#f0f921"
             ]
            ],
            "type": "histogram2d"
           }
          ],
          "histogram2dcontour": [
           {
            "colorbar": {
             "outlinewidth": 0,
             "ticks": ""
            },
            "colorscale": [
             [
              0,
              "#0d0887"
             ],
             [
              0.1111111111111111,
              "#46039f"
             ],
             [
              0.2222222222222222,
              "#7201a8"
             ],
             [
              0.3333333333333333,
              "#9c179e"
             ],
             [
              0.4444444444444444,
              "#bd3786"
             ],
             [
              0.5555555555555556,
              "#d8576b"
             ],
             [
              0.6666666666666666,
              "#ed7953"
             ],
             [
              0.7777777777777778,
              "#fb9f3a"
             ],
             [
              0.8888888888888888,
              "#fdca26"
             ],
             [
              1,
              "#f0f921"
             ]
            ],
            "type": "histogram2dcontour"
           }
          ],
          "mesh3d": [
           {
            "colorbar": {
             "outlinewidth": 0,
             "ticks": ""
            },
            "type": "mesh3d"
           }
          ],
          "parcoords": [
           {
            "line": {
             "colorbar": {
              "outlinewidth": 0,
              "ticks": ""
             }
            },
            "type": "parcoords"
           }
          ],
          "pie": [
           {
            "automargin": true,
            "type": "pie"
           }
          ],
          "scatter": [
           {
            "fillpattern": {
             "fillmode": "overlay",
             "size": 10,
             "solidity": 0.2
            },
            "type": "scatter"
           }
          ],
          "scatter3d": [
           {
            "line": {
             "colorbar": {
              "outlinewidth": 0,
              "ticks": ""
             }
            },
            "marker": {
             "colorbar": {
              "outlinewidth": 0,
              "ticks": ""
             }
            },
            "type": "scatter3d"
           }
          ],
          "scattercarpet": [
           {
            "marker": {
             "colorbar": {
              "outlinewidth": 0,
              "ticks": ""
             }
            },
            "type": "scattercarpet"
           }
          ],
          "scattergeo": [
           {
            "marker": {
             "colorbar": {
              "outlinewidth": 0,
              "ticks": ""
             }
            },
            "type": "scattergeo"
           }
          ],
          "scattergl": [
           {
            "marker": {
             "colorbar": {
              "outlinewidth": 0,
              "ticks": ""
             }
            },
            "type": "scattergl"
           }
          ],
          "scattermapbox": [
           {
            "marker": {
             "colorbar": {
              "outlinewidth": 0,
              "ticks": ""
             }
            },
            "type": "scattermapbox"
           }
          ],
          "scatterpolar": [
           {
            "marker": {
             "colorbar": {
              "outlinewidth": 0,
              "ticks": ""
             }
            },
            "type": "scatterpolar"
           }
          ],
          "scatterpolargl": [
           {
            "marker": {
             "colorbar": {
              "outlinewidth": 0,
              "ticks": ""
             }
            },
            "type": "scatterpolargl"
           }
          ],
          "scatterternary": [
           {
            "marker": {
             "colorbar": {
              "outlinewidth": 0,
              "ticks": ""
             }
            },
            "type": "scatterternary"
           }
          ],
          "surface": [
           {
            "colorbar": {
             "outlinewidth": 0,
             "ticks": ""
            },
            "colorscale": [
             [
              0,
              "#0d0887"
             ],
             [
              0.1111111111111111,
              "#46039f"
             ],
             [
              0.2222222222222222,
              "#7201a8"
             ],
             [
              0.3333333333333333,
              "#9c179e"
             ],
             [
              0.4444444444444444,
              "#bd3786"
             ],
             [
              0.5555555555555556,
              "#d8576b"
             ],
             [
              0.6666666666666666,
              "#ed7953"
             ],
             [
              0.7777777777777778,
              "#fb9f3a"
             ],
             [
              0.8888888888888888,
              "#fdca26"
             ],
             [
              1,
              "#f0f921"
             ]
            ],
            "type": "surface"
           }
          ],
          "table": [
           {
            "cells": {
             "fill": {
              "color": "#EBF0F8"
             },
             "line": {
              "color": "white"
             }
            },
            "header": {
             "fill": {
              "color": "#C8D4E3"
             },
             "line": {
              "color": "white"
             }
            },
            "type": "table"
           }
          ]
         },
         "layout": {
          "annotationdefaults": {
           "arrowcolor": "#2a3f5f",
           "arrowhead": 0,
           "arrowwidth": 1
          },
          "autotypenumbers": "strict",
          "coloraxis": {
           "colorbar": {
            "outlinewidth": 0,
            "ticks": ""
           }
          },
          "colorscale": {
           "diverging": [
            [
             0,
             "#8e0152"
            ],
            [
             0.1,
             "#c51b7d"
            ],
            [
             0.2,
             "#de77ae"
            ],
            [
             0.3,
             "#f1b6da"
            ],
            [
             0.4,
             "#fde0ef"
            ],
            [
             0.5,
             "#f7f7f7"
            ],
            [
             0.6,
             "#e6f5d0"
            ],
            [
             0.7,
             "#b8e186"
            ],
            [
             0.8,
             "#7fbc41"
            ],
            [
             0.9,
             "#4d9221"
            ],
            [
             1,
             "#276419"
            ]
           ],
           "sequential": [
            [
             0,
             "#0d0887"
            ],
            [
             0.1111111111111111,
             "#46039f"
            ],
            [
             0.2222222222222222,
             "#7201a8"
            ],
            [
             0.3333333333333333,
             "#9c179e"
            ],
            [
             0.4444444444444444,
             "#bd3786"
            ],
            [
             0.5555555555555556,
             "#d8576b"
            ],
            [
             0.6666666666666666,
             "#ed7953"
            ],
            [
             0.7777777777777778,
             "#fb9f3a"
            ],
            [
             0.8888888888888888,
             "#fdca26"
            ],
            [
             1,
             "#f0f921"
            ]
           ],
           "sequentialminus": [
            [
             0,
             "#0d0887"
            ],
            [
             0.1111111111111111,
             "#46039f"
            ],
            [
             0.2222222222222222,
             "#7201a8"
            ],
            [
             0.3333333333333333,
             "#9c179e"
            ],
            [
             0.4444444444444444,
             "#bd3786"
            ],
            [
             0.5555555555555556,
             "#d8576b"
            ],
            [
             0.6666666666666666,
             "#ed7953"
            ],
            [
             0.7777777777777778,
             "#fb9f3a"
            ],
            [
             0.8888888888888888,
             "#fdca26"
            ],
            [
             1,
             "#f0f921"
            ]
           ]
          },
          "colorway": [
           "#636efa",
           "#EF553B",
           "#00cc96",
           "#ab63fa",
           "#FFA15A",
           "#19d3f3",
           "#FF6692",
           "#B6E880",
           "#FF97FF",
           "#FECB52"
          ],
          "font": {
           "color": "#2a3f5f"
          },
          "geo": {
           "bgcolor": "white",
           "lakecolor": "white",
           "landcolor": "#E5ECF6",
           "showlakes": true,
           "showland": true,
           "subunitcolor": "white"
          },
          "hoverlabel": {
           "align": "left"
          },
          "hovermode": "closest",
          "mapbox": {
           "style": "light"
          },
          "paper_bgcolor": "white",
          "plot_bgcolor": "#E5ECF6",
          "polar": {
           "angularaxis": {
            "gridcolor": "white",
            "linecolor": "white",
            "ticks": ""
           },
           "bgcolor": "#E5ECF6",
           "radialaxis": {
            "gridcolor": "white",
            "linecolor": "white",
            "ticks": ""
           }
          },
          "scene": {
           "xaxis": {
            "backgroundcolor": "#E5ECF6",
            "gridcolor": "white",
            "gridwidth": 2,
            "linecolor": "white",
            "showbackground": true,
            "ticks": "",
            "zerolinecolor": "white"
           },
           "yaxis": {
            "backgroundcolor": "#E5ECF6",
            "gridcolor": "white",
            "gridwidth": 2,
            "linecolor": "white",
            "showbackground": true,
            "ticks": "",
            "zerolinecolor": "white"
           },
           "zaxis": {
            "backgroundcolor": "#E5ECF6",
            "gridcolor": "white",
            "gridwidth": 2,
            "linecolor": "white",
            "showbackground": true,
            "ticks": "",
            "zerolinecolor": "white"
           }
          },
          "shapedefaults": {
           "line": {
            "color": "#2a3f5f"
           }
          },
          "ternary": {
           "aaxis": {
            "gridcolor": "white",
            "linecolor": "white",
            "ticks": ""
           },
           "baxis": {
            "gridcolor": "white",
            "linecolor": "white",
            "ticks": ""
           },
           "bgcolor": "#E5ECF6",
           "caxis": {
            "gridcolor": "white",
            "linecolor": "white",
            "ticks": ""
           }
          },
          "title": {
           "x": 0.05
          },
          "xaxis": {
           "automargin": true,
           "gridcolor": "white",
           "linecolor": "white",
           "ticks": "",
           "title": {
            "standoff": 15
           },
           "zerolinecolor": "white",
           "zerolinewidth": 2
          },
          "yaxis": {
           "automargin": true,
           "gridcolor": "white",
           "linecolor": "white",
           "ticks": "",
           "title": {
            "standoff": 15
           },
           "zerolinecolor": "white",
           "zerolinewidth": 2
          }
         }
        },
        "title": {
         "text": "Boxplot for Rating"
        },
        "yaxis": {
         "title": {
          "text": "Rating"
         }
        }
       }
      }
     },
     "metadata": {},
     "output_type": "display_data"
    }
   ],
   "source": [
    "y_values=movie_df['Rating']\n",
    "\n",
    "mydata=go.Box(y=y_values)\n",
    "\n",
    "mylayout=go.Layout(\n",
    "    title='Boxplot for Rating',\n",
    "    yaxis_title='Rating'\n",
    ")\n",
    "\n",
    "fig=go.Figure(mydata, mylayout)\n",
    "fig.show()"
   ]
  },
  {
   "cell_type": "code",
   "execution_count": 57,
   "metadata": {},
   "outputs": [
    {
     "data": {
      "application/vnd.plotly.v1+json": {
       "config": {
        "plotlyServerURL": "https://plot.ly"
       },
       "data": [
        {
         "meanline": {
          "visible": true
         },
         "type": "violin",
         "y": [
          113.31586504129518,
          107.15278974398406,
          84.54599707888732,
          99.91616150071478,
          106.2133597389048,
          92.79914439281103,
          102.6551158569212,
          101.0854852571497,
          100.04291430934033,
          98.2539978940706,
          104.33026189953598,
          112.03037373812212,
          90.34934329483237,
          110.28274077982704,
          102.2863013012466,
          104.45137612830348,
          88.63397788168956,
          101.35136878448635,
          114.84537001836583,
          89.20195114214724,
          80.22271719342093,
          82.56627704101092,
          102.66070164000551,
          123.84967330711098,
          111.23691253409423,
          116.72622213307828,
          100.99149215835244,
          113.97996377093575,
          97.2875201203422,
          106.13204184859639,
          97.32682811326431,
          94.5069098589452,
          101.32708295759952,
          95.23857985072662,
          113.08473080863477,
          101.95013279233093,
          104.00209988252348,
          96.6236766291447,
          112.56472263755155,
          92.68030497998792,
          106.60231551226313,
          96.49128108560129,
          90.60566640237448,
          95.10662783115349,
          91.95408857730045,
          97.87302361289488,
          96.60859753936565,
          103.12169936313222,
          105.65152669656628,
          98.5257974227298,
          99.74094663183814,
          102.89094203803936,
          94.60120928667298,
          107.08160019926603,
          108.42224738382656,
          102.03580797327479,
          123.94703664884535,
          109.17458937510429,
          98.8772752880584,
          96.3781955285776,
          97.6781774405591,
          94.98271100405132,
          111.28785153109877,
          93.02189969528285,
          99.18877816183054,
          94.70703919000512,
          110.46182856808264,
          85.81443970776606,
          96.37500816844359,
          98.78094308838112,
          103.19356421091224,
          104.60902901671719,
          97.84210107669477,
          109.8907245749944,
          103.14753778811733,
          124.67651056434603,
          84.91678512836785,
          106.20600663008614,
          89.54867462485562,
          92.01991182327755,
          119.85084591425732,
          117.44814148339302,
          81.43814519388852,
          97.77226300897,
          99.34152152288799,
          78.68287891518396,
          99.51169488661247,
          103.93341217081739,
          102.1726514511804,
          80.05606230258942,
          111.07708234782649,
          102.4454397664799,
          99.38087970507596,
          92.46107039252301,
          107.11959016519839,
          109.18269151479416,
          95.1790686116452,
          100.89587612589516,
          108.26998622662265,
          80.45487879998495,
          101.17475661026639,
          80.925431118756,
          90.77090735151054,
          104.69751434083042,
          98.55633236973037,
          95.99861648014272,
          97.04016147060788,
          108.48208609021657,
          107.06830454751635,
          92.12731073752813,
          102.92940724831966,
          95.29192748514483,
          124.0432560593735,
          92.60643261491327,
          96.8717124266291,
          96.51118081782506,
          95.60973763779985,
          101.41104168064432,
          102.7304932009531,
          83.81429252184205,
          94.2688663844041,
          86.79552454108544,
          112.36205326186816,
          124.65325082061476,
          113.83232229535518,
          103.46233115351183,
          110.22516107234136,
          101.66810267019733,
          116.56716624478292,
          106.67889608833443,
          97.70053356225277,
          88.70448805566208,
          93.60037395771502,
          103.13830521559007,
          87.74164019261946,
          97.78206863600506,
          113.39926309957553,
          100.2930971094317,
          119.85385746089389,
          114.47165600668222,
          97.1237058634942,
          86.40689426894001,
          99.51958674770579,
          95.19212659867976,
          103.77753085965342,
          116.14407974145465,
          88.76895964775616,
          96.11272053145188,
          103.32349949531516,
          111.34973173081906,
          105.10714411397862,
          104.1429764119401,
          113.44549423365942,
          104.93515317248288,
          97.62995815476519,
          100.57285150156018,
          92.92928552932837,
          105.46664837534534,
          109.4250040894014,
          70.20403228938866,
          112.18148850351048,
          99.4347927691741,
          104.60888452398866,
          106.62374011724633,
          77.04896671037376,
          88.04070688536483,
          96.66898837862165,
          92.08609229032557,
          102.74172780760107,
          94.85090077528749,
          82.88928802845736,
          106.1229731249855,
          111.00129374013329,
          105.64352526386118,
          92.87200563172941,
          97.39140521445825,
          105.48428066295824,
          106.03199050230592,
          110.06861138624822,
          97.05573992610057,
          85.79119484845765,
          93.21053225379958,
          105.33884809310875,
          107.43974403785924,
          122.25049638823194,
          101.17181420194483,
          102.4461452026499,
          98.22701177354432,
          95.94270472350908,
          107.81775190375615,
          103.5347761380385,
          97.92720514278562,
          89.20302616041151,
          98.7693017148986,
          96.09017814693597,
          112.55173731709571,
          109.47126078175188,
          89.77689307722605,
          111.67168368404117,
          94.28023186712234
         ]
        },
        {
         "box": {
          "visible": true
         },
         "type": "violin",
         "y": [
          83.99412490613174,
          116.08231621909715,
          49.25741098864149,
          84.81197488827677,
          46.08574138581977,
          21.761009569327165,
          109.59793450693994,
          80.8468210189736,
          55.32897206508005,
          32.40344717456454,
          67.95581541884837,
          120.26537852765074,
          92.07407280465343,
          68.81715750689398,
          59.839296905949624,
          83.17436248387266,
          33.580838272474125,
          120.34419531884691,
          95.09567544909467,
          115.8305180738974,
          63.094829864115695,
          105.64486268938003,
          100.63714176984573,
          34.00793845129453,
          84.46882102930665,
          89.45333504665001,
          62.75247007842662,
          69.19486596711643,
          93.08555889598217,
          78.86246353960898,
          49.85850942421714,
          97.74359259890967,
          86.83452091535624,
          87.47535973659006,
          82.87289710213155,
          93.47065192081469,
          71.41993977021038,
          54.11725101808969,
          57.74525483688777,
          113.16725408474196,
          19.468440419767504,
          96.2162213930379,
          36.73103352156142,
          31.734489114856494,
          49.80294314611973,
          72.27399125595602,
          101.9152234141859,
          29.047955265142598,
          130.22226636773635,
          114.91171100505107,
          76.02279222045483,
          71.29262574162608,
          51.394027471505794,
          97.64121781426583,
          82.064044122267,
          122.36192913270932,
          59.41353155362657,
          96.43831780521997,
          78.90852386593356,
          54.589512408654386,
          137.0691212489601,
          88.38816176540033,
          98.60763504540407,
          47.942968745963505,
          58.321377994816444,
          82.52418666175254,
          62.46634530123896,
          98.0606681226114,
          93.15095717509075,
          56.529704170659855,
          85.7880795250738,
          80.12074735963814,
          75.07774127967801,
          45.53563206776418,
          54.93474488089247,
          86.3135218513816,
          110.41953892249069,
          50.894065310712726,
          116.51544677431662,
          85.47942135707149,
          41.90541224591351,
          89.70169789164996,
          106.57324572814692,
          87.93184074892136,
          149.5738195288244,
          89.26003019563382,
          106.77692094546487,
          80.33068090327394,
          109.40222384005949,
          8.13283959824605,
          54.274324548809375,
          69.07165741250964,
          95.1178070363106,
          85.64993643745007,
          112.55681220968287,
          90.70817201016929,
          86.21988702170366,
          75.64806388024768,
          84.91712758035297,
          104.88537453191725,
          102.65899873856524,
          106.38457071672987,
          72.80131103513285,
          59.14830063777991,
          65.85799751108937,
          90.484292260021,
          128.34371881980047,
          87.1801779929372,
          94.5500788444184,
          30.24185880280116,
          160.39730923937947,
          46.89433606216321,
          134.5334782614302,
          63.318579750760904,
          108.7313371906306,
          104.45662044285257,
          81.92958199262037,
          75.00783885458793,
          51.77870675021488,
          78.39216494830706,
          113.03408609432974,
          91.16367636216727,
          53.49617038718763,
          114.7415471509269,
          43.890395252172326,
          86.2951742561523,
          53.26439233613959,
          56.51936759026004,
          112.39192033387121,
          66.11477343211193,
          34.547729619499144,
          63.83844404668021,
          102.69865573184535,
          58.11802332586246,
          116.44347950240518,
          110.24848900115671,
          82.19849026780187,
          115.2119724026841,
          135.88855001962867,
          20.49090507053093,
          114.70066790324792,
          98.27846798847091,
          70.30396302580985,
          99.92436820784984,
          91.90177979274897,
          62.71649417376365,
          124.64655176234047,
          84.20740600415223,
          115.64950261953932,
          72.62763837354862,
          30.932401459725163,
          87.34394265637957,
          72.94753310572959,
          42.17516583037578,
          29.240962136695742,
          98.4935276721462,
          118.09073845019878,
          121.92013929852007,
          96.02674886801371,
          80.12306115676213,
          85.6825952686818,
          81.34324056250847,
          103.84055823010327,
          65.20577775677165,
          42.15230783000802,
          73.42219207991003,
          85.91816671536579,
          72.34158637867145,
          80.77422774519523,
          146.02899312925362,
          106.5310281047763,
          38.39532396166576,
          99.60986942989754,
          14.70174096040995,
          98.5684677318328,
          94.31702909333596,
          80.78289584410105,
          50.908829815855995,
          50.48815627899449,
          92.37598146984732,
          61.57085460987392,
          105.1124532611841,
          61.291429751665525,
          69.10441395718493,
          102.78413993398624,
          78.98219000968756,
          75.00797921844617,
          88.08717270256628,
          91.25916653168363,
          77.48254267456382,
          86.78379047748346,
          76.52357808227177,
          92.34807236188529,
          88.63431302884185,
          95.12814431340381,
          104.12802073075218,
          49.08175361322515,
          39.269073198835486,
          72.00494404910087,
          74.86121607244876
         ]
        }
       ],
       "layout": {
        "template": {
         "data": {
          "bar": [
           {
            "error_x": {
             "color": "#2a3f5f"
            },
            "error_y": {
             "color": "#2a3f5f"
            },
            "marker": {
             "line": {
              "color": "#E5ECF6",
              "width": 0.5
             },
             "pattern": {
              "fillmode": "overlay",
              "size": 10,
              "solidity": 0.2
             }
            },
            "type": "bar"
           }
          ],
          "barpolar": [
           {
            "marker": {
             "line": {
              "color": "#E5ECF6",
              "width": 0.5
             },
             "pattern": {
              "fillmode": "overlay",
              "size": 10,
              "solidity": 0.2
             }
            },
            "type": "barpolar"
           }
          ],
          "carpet": [
           {
            "aaxis": {
             "endlinecolor": "#2a3f5f",
             "gridcolor": "white",
             "linecolor": "white",
             "minorgridcolor": "white",
             "startlinecolor": "#2a3f5f"
            },
            "baxis": {
             "endlinecolor": "#2a3f5f",
             "gridcolor": "white",
             "linecolor": "white",
             "minorgridcolor": "white",
             "startlinecolor": "#2a3f5f"
            },
            "type": "carpet"
           }
          ],
          "choropleth": [
           {
            "colorbar": {
             "outlinewidth": 0,
             "ticks": ""
            },
            "type": "choropleth"
           }
          ],
          "contour": [
           {
            "colorbar": {
             "outlinewidth": 0,
             "ticks": ""
            },
            "colorscale": [
             [
              0,
              "#0d0887"
             ],
             [
              0.1111111111111111,
              "#46039f"
             ],
             [
              0.2222222222222222,
              "#7201a8"
             ],
             [
              0.3333333333333333,
              "#9c179e"
             ],
             [
              0.4444444444444444,
              "#bd3786"
             ],
             [
              0.5555555555555556,
              "#d8576b"
             ],
             [
              0.6666666666666666,
              "#ed7953"
             ],
             [
              0.7777777777777778,
              "#fb9f3a"
             ],
             [
              0.8888888888888888,
              "#fdca26"
             ],
             [
              1,
              "#f0f921"
             ]
            ],
            "type": "contour"
           }
          ],
          "contourcarpet": [
           {
            "colorbar": {
             "outlinewidth": 0,
             "ticks": ""
            },
            "type": "contourcarpet"
           }
          ],
          "heatmap": [
           {
            "colorbar": {
             "outlinewidth": 0,
             "ticks": ""
            },
            "colorscale": [
             [
              0,
              "#0d0887"
             ],
             [
              0.1111111111111111,
              "#46039f"
             ],
             [
              0.2222222222222222,
              "#7201a8"
             ],
             [
              0.3333333333333333,
              "#9c179e"
             ],
             [
              0.4444444444444444,
              "#bd3786"
             ],
             [
              0.5555555555555556,
              "#d8576b"
             ],
             [
              0.6666666666666666,
              "#ed7953"
             ],
             [
              0.7777777777777778,
              "#fb9f3a"
             ],
             [
              0.8888888888888888,
              "#fdca26"
             ],
             [
              1,
              "#f0f921"
             ]
            ],
            "type": "heatmap"
           }
          ],
          "heatmapgl": [
           {
            "colorbar": {
             "outlinewidth": 0,
             "ticks": ""
            },
            "colorscale": [
             [
              0,
              "#0d0887"
             ],
             [
              0.1111111111111111,
              "#46039f"
             ],
             [
              0.2222222222222222,
              "#7201a8"
             ],
             [
              0.3333333333333333,
              "#9c179e"
             ],
             [
              0.4444444444444444,
              "#bd3786"
             ],
             [
              0.5555555555555556,
              "#d8576b"
             ],
             [
              0.6666666666666666,
              "#ed7953"
             ],
             [
              0.7777777777777778,
              "#fb9f3a"
             ],
             [
              0.8888888888888888,
              "#fdca26"
             ],
             [
              1,
              "#f0f921"
             ]
            ],
            "type": "heatmapgl"
           }
          ],
          "histogram": [
           {
            "marker": {
             "pattern": {
              "fillmode": "overlay",
              "size": 10,
              "solidity": 0.2
             }
            },
            "type": "histogram"
           }
          ],
          "histogram2d": [
           {
            "colorbar": {
             "outlinewidth": 0,
             "ticks": ""
            },
            "colorscale": [
             [
              0,
              "#0d0887"
             ],
             [
              0.1111111111111111,
              "#46039f"
             ],
             [
              0.2222222222222222,
              "#7201a8"
             ],
             [
              0.3333333333333333,
              "#9c179e"
             ],
             [
              0.4444444444444444,
              "#bd3786"
             ],
             [
              0.5555555555555556,
              "#d8576b"
             ],
             [
              0.6666666666666666,
              "#ed7953"
             ],
             [
              0.7777777777777778,
              "#fb9f3a"
             ],
             [
              0.8888888888888888,
              "#fdca26"
             ],
             [
              1,
              "#f0f921"
             ]
            ],
            "type": "histogram2d"
           }
          ],
          "histogram2dcontour": [
           {
            "colorbar": {
             "outlinewidth": 0,
             "ticks": ""
            },
            "colorscale": [
             [
              0,
              "#0d0887"
             ],
             [
              0.1111111111111111,
              "#46039f"
             ],
             [
              0.2222222222222222,
              "#7201a8"
             ],
             [
              0.3333333333333333,
              "#9c179e"
             ],
             [
              0.4444444444444444,
              "#bd3786"
             ],
             [
              0.5555555555555556,
              "#d8576b"
             ],
             [
              0.6666666666666666,
              "#ed7953"
             ],
             [
              0.7777777777777778,
              "#fb9f3a"
             ],
             [
              0.8888888888888888,
              "#fdca26"
             ],
             [
              1,
              "#f0f921"
             ]
            ],
            "type": "histogram2dcontour"
           }
          ],
          "mesh3d": [
           {
            "colorbar": {
             "outlinewidth": 0,
             "ticks": ""
            },
            "type": "mesh3d"
           }
          ],
          "parcoords": [
           {
            "line": {
             "colorbar": {
              "outlinewidth": 0,
              "ticks": ""
             }
            },
            "type": "parcoords"
           }
          ],
          "pie": [
           {
            "automargin": true,
            "type": "pie"
           }
          ],
          "scatter": [
           {
            "fillpattern": {
             "fillmode": "overlay",
             "size": 10,
             "solidity": 0.2
            },
            "type": "scatter"
           }
          ],
          "scatter3d": [
           {
            "line": {
             "colorbar": {
              "outlinewidth": 0,
              "ticks": ""
             }
            },
            "marker": {
             "colorbar": {
              "outlinewidth": 0,
              "ticks": ""
             }
            },
            "type": "scatter3d"
           }
          ],
          "scattercarpet": [
           {
            "marker": {
             "colorbar": {
              "outlinewidth": 0,
              "ticks": ""
             }
            },
            "type": "scattercarpet"
           }
          ],
          "scattergeo": [
           {
            "marker": {
             "colorbar": {
              "outlinewidth": 0,
              "ticks": ""
             }
            },
            "type": "scattergeo"
           }
          ],
          "scattergl": [
           {
            "marker": {
             "colorbar": {
              "outlinewidth": 0,
              "ticks": ""
             }
            },
            "type": "scattergl"
           }
          ],
          "scattermapbox": [
           {
            "marker": {
             "colorbar": {
              "outlinewidth": 0,
              "ticks": ""
             }
            },
            "type": "scattermapbox"
           }
          ],
          "scatterpolar": [
           {
            "marker": {
             "colorbar": {
              "outlinewidth": 0,
              "ticks": ""
             }
            },
            "type": "scatterpolar"
           }
          ],
          "scatterpolargl": [
           {
            "marker": {
             "colorbar": {
              "outlinewidth": 0,
              "ticks": ""
             }
            },
            "type": "scatterpolargl"
           }
          ],
          "scatterternary": [
           {
            "marker": {
             "colorbar": {
              "outlinewidth": 0,
              "ticks": ""
             }
            },
            "type": "scatterternary"
           }
          ],
          "surface": [
           {
            "colorbar": {
             "outlinewidth": 0,
             "ticks": ""
            },
            "colorscale": [
             [
              0,
              "#0d0887"
             ],
             [
              0.1111111111111111,
              "#46039f"
             ],
             [
              0.2222222222222222,
              "#7201a8"
             ],
             [
              0.3333333333333333,
              "#9c179e"
             ],
             [
              0.4444444444444444,
              "#bd3786"
             ],
             [
              0.5555555555555556,
              "#d8576b"
             ],
             [
              0.6666666666666666,
              "#ed7953"
             ],
             [
              0.7777777777777778,
              "#fb9f3a"
             ],
             [
              0.8888888888888888,
              "#fdca26"
             ],
             [
              1,
              "#f0f921"
             ]
            ],
            "type": "surface"
           }
          ],
          "table": [
           {
            "cells": {
             "fill": {
              "color": "#EBF0F8"
             },
             "line": {
              "color": "white"
             }
            },
            "header": {
             "fill": {
              "color": "#C8D4E3"
             },
             "line": {
              "color": "white"
             }
            },
            "type": "table"
           }
          ]
         },
         "layout": {
          "annotationdefaults": {
           "arrowcolor": "#2a3f5f",
           "arrowhead": 0,
           "arrowwidth": 1
          },
          "autotypenumbers": "strict",
          "coloraxis": {
           "colorbar": {
            "outlinewidth": 0,
            "ticks": ""
           }
          },
          "colorscale": {
           "diverging": [
            [
             0,
             "#8e0152"
            ],
            [
             0.1,
             "#c51b7d"
            ],
            [
             0.2,
             "#de77ae"
            ],
            [
             0.3,
             "#f1b6da"
            ],
            [
             0.4,
             "#fde0ef"
            ],
            [
             0.5,
             "#f7f7f7"
            ],
            [
             0.6,
             "#e6f5d0"
            ],
            [
             0.7,
             "#b8e186"
            ],
            [
             0.8,
             "#7fbc41"
            ],
            [
             0.9,
             "#4d9221"
            ],
            [
             1,
             "#276419"
            ]
           ],
           "sequential": [
            [
             0,
             "#0d0887"
            ],
            [
             0.1111111111111111,
             "#46039f"
            ],
            [
             0.2222222222222222,
             "#7201a8"
            ],
            [
             0.3333333333333333,
             "#9c179e"
            ],
            [
             0.4444444444444444,
             "#bd3786"
            ],
            [
             0.5555555555555556,
             "#d8576b"
            ],
            [
             0.6666666666666666,
             "#ed7953"
            ],
            [
             0.7777777777777778,
             "#fb9f3a"
            ],
            [
             0.8888888888888888,
             "#fdca26"
            ],
            [
             1,
             "#f0f921"
            ]
           ],
           "sequentialminus": [
            [
             0,
             "#0d0887"
            ],
            [
             0.1111111111111111,
             "#46039f"
            ],
            [
             0.2222222222222222,
             "#7201a8"
            ],
            [
             0.3333333333333333,
             "#9c179e"
            ],
            [
             0.4444444444444444,
             "#bd3786"
            ],
            [
             0.5555555555555556,
             "#d8576b"
            ],
            [
             0.6666666666666666,
             "#ed7953"
            ],
            [
             0.7777777777777778,
             "#fb9f3a"
            ],
            [
             0.8888888888888888,
             "#fdca26"
            ],
            [
             1,
             "#f0f921"
            ]
           ]
          },
          "colorway": [
           "#636efa",
           "#EF553B",
           "#00cc96",
           "#ab63fa",
           "#FFA15A",
           "#19d3f3",
           "#FF6692",
           "#B6E880",
           "#FF97FF",
           "#FECB52"
          ],
          "font": {
           "color": "#2a3f5f"
          },
          "geo": {
           "bgcolor": "white",
           "lakecolor": "white",
           "landcolor": "#E5ECF6",
           "showlakes": true,
           "showland": true,
           "subunitcolor": "white"
          },
          "hoverlabel": {
           "align": "left"
          },
          "hovermode": "closest",
          "mapbox": {
           "style": "light"
          },
          "paper_bgcolor": "white",
          "plot_bgcolor": "#E5ECF6",
          "polar": {
           "angularaxis": {
            "gridcolor": "white",
            "linecolor": "white",
            "ticks": ""
           },
           "bgcolor": "#E5ECF6",
           "radialaxis": {
            "gridcolor": "white",
            "linecolor": "white",
            "ticks": ""
           }
          },
          "scene": {
           "xaxis": {
            "backgroundcolor": "#E5ECF6",
            "gridcolor": "white",
            "gridwidth": 2,
            "linecolor": "white",
            "showbackground": true,
            "ticks": "",
            "zerolinecolor": "white"
           },
           "yaxis": {
            "backgroundcolor": "#E5ECF6",
            "gridcolor": "white",
            "gridwidth": 2,
            "linecolor": "white",
            "showbackground": true,
            "ticks": "",
            "zerolinecolor": "white"
           },
           "zaxis": {
            "backgroundcolor": "#E5ECF6",
            "gridcolor": "white",
            "gridwidth": 2,
            "linecolor": "white",
            "showbackground": true,
            "ticks": "",
            "zerolinecolor": "white"
           }
          },
          "shapedefaults": {
           "line": {
            "color": "#2a3f5f"
           }
          },
          "ternary": {
           "aaxis": {
            "gridcolor": "white",
            "linecolor": "white",
            "ticks": ""
           },
           "baxis": {
            "gridcolor": "white",
            "linecolor": "white",
            "ticks": ""
           },
           "bgcolor": "#E5ECF6",
           "caxis": {
            "gridcolor": "white",
            "linecolor": "white",
            "ticks": ""
           }
          },
          "title": {
           "x": 0.05
          },
          "xaxis": {
           "automargin": true,
           "gridcolor": "white",
           "linecolor": "white",
           "ticks": "",
           "title": {
            "standoff": 15
           },
           "zerolinecolor": "white",
           "zerolinewidth": 2
          },
          "yaxis": {
           "automargin": true,
           "gridcolor": "white",
           "linecolor": "white",
           "ticks": "",
           "title": {
            "standoff": 15
           },
           "zerolinecolor": "white",
           "zerolinewidth": 2
          }
         }
        }
       }
      }
     },
     "metadata": {},
     "output_type": "display_data"
    }
   ],
   "source": [
    "# violin plot은 다른 값에서 데이터의 밀도를 표시한다는 점을 제외하면 boxplot과 유사하다\n",
    "np.random.seed(10)\n",
    "c1=np.random.normal(100,10,200)\n",
    "c2=np.random.normal(80,30,200)\n",
    "\n",
    "trace1=go.Violin(y=c1, meanline_visible=True)\n",
    "trace2=go.Violin(y=c2, box_visible=True)\n",
    "\n",
    "data=[trace1, trace2]\n",
    "\n",
    "fig=go.Figure(data)\n",
    "fig.show()\n"
   ]
  },
  {
   "cell_type": "code",
   "execution_count": 62,
   "metadata": {},
   "outputs": [
    {
     "data": {
      "text/html": [
       "<div>\n",
       "<style scoped>\n",
       "    .dataframe tbody tr th:only-of-type {\n",
       "        vertical-align: middle;\n",
       "    }\n",
       "\n",
       "    .dataframe tbody tr th {\n",
       "        vertical-align: top;\n",
       "    }\n",
       "\n",
       "    .dataframe thead th {\n",
       "        text-align: right;\n",
       "    }\n",
       "</style>\n",
       "<table border=\"1\" class=\"dataframe\">\n",
       "  <thead>\n",
       "    <tr style=\"text-align: right;\">\n",
       "      <th></th>\n",
       "      <th>year</th>\n",
       "      <th>model</th>\n",
       "      <th>price</th>\n",
       "      <th>mileage</th>\n",
       "      <th>color</th>\n",
       "      <th>transmission</th>\n",
       "    </tr>\n",
       "  </thead>\n",
       "  <tbody>\n",
       "    <tr>\n",
       "      <th>0</th>\n",
       "      <td>2011</td>\n",
       "      <td>SEL</td>\n",
       "      <td>21992</td>\n",
       "      <td>7413</td>\n",
       "      <td>Yellow</td>\n",
       "      <td>AUTO</td>\n",
       "    </tr>\n",
       "    <tr>\n",
       "      <th>1</th>\n",
       "      <td>2011</td>\n",
       "      <td>SEL</td>\n",
       "      <td>20995</td>\n",
       "      <td>10926</td>\n",
       "      <td>Gray</td>\n",
       "      <td>AUTO</td>\n",
       "    </tr>\n",
       "    <tr>\n",
       "      <th>2</th>\n",
       "      <td>2011</td>\n",
       "      <td>SEL</td>\n",
       "      <td>19995</td>\n",
       "      <td>7351</td>\n",
       "      <td>Silver</td>\n",
       "      <td>AUTO</td>\n",
       "    </tr>\n",
       "    <tr>\n",
       "      <th>3</th>\n",
       "      <td>2011</td>\n",
       "      <td>SEL</td>\n",
       "      <td>17809</td>\n",
       "      <td>11613</td>\n",
       "      <td>Gray</td>\n",
       "      <td>AUTO</td>\n",
       "    </tr>\n",
       "    <tr>\n",
       "      <th>4</th>\n",
       "      <td>2012</td>\n",
       "      <td>SE</td>\n",
       "      <td>17500</td>\n",
       "      <td>8367</td>\n",
       "      <td>White</td>\n",
       "      <td>AUTO</td>\n",
       "    </tr>\n",
       "    <tr>\n",
       "      <th>...</th>\n",
       "      <td>...</td>\n",
       "      <td>...</td>\n",
       "      <td>...</td>\n",
       "      <td>...</td>\n",
       "      <td>...</td>\n",
       "      <td>...</td>\n",
       "    </tr>\n",
       "    <tr>\n",
       "      <th>145</th>\n",
       "      <td>2006</td>\n",
       "      <td>SES</td>\n",
       "      <td>6200</td>\n",
       "      <td>95000</td>\n",
       "      <td>Silver</td>\n",
       "      <td>AUTO</td>\n",
       "    </tr>\n",
       "    <tr>\n",
       "      <th>146</th>\n",
       "      <td>2002</td>\n",
       "      <td>SE</td>\n",
       "      <td>5995</td>\n",
       "      <td>87003</td>\n",
       "      <td>Red</td>\n",
       "      <td>AUTO</td>\n",
       "    </tr>\n",
       "    <tr>\n",
       "      <th>147</th>\n",
       "      <td>2000</td>\n",
       "      <td>SE</td>\n",
       "      <td>5980</td>\n",
       "      <td>96841</td>\n",
       "      <td>Red</td>\n",
       "      <td>AUTO</td>\n",
       "    </tr>\n",
       "    <tr>\n",
       "      <th>148</th>\n",
       "      <td>2001</td>\n",
       "      <td>SE</td>\n",
       "      <td>4899</td>\n",
       "      <td>151479</td>\n",
       "      <td>Yellow</td>\n",
       "      <td>AUTO</td>\n",
       "    </tr>\n",
       "    <tr>\n",
       "      <th>149</th>\n",
       "      <td>2000</td>\n",
       "      <td>SE</td>\n",
       "      <td>3800</td>\n",
       "      <td>109259</td>\n",
       "      <td>Red</td>\n",
       "      <td>AUTO</td>\n",
       "    </tr>\n",
       "  </tbody>\n",
       "</table>\n",
       "<p>150 rows × 6 columns</p>\n",
       "</div>"
      ],
      "text/plain": [
       "     year model  price  mileage   color transmission\n",
       "0    2011   SEL  21992     7413  Yellow         AUTO\n",
       "1    2011   SEL  20995    10926    Gray         AUTO\n",
       "2    2011   SEL  19995     7351  Silver         AUTO\n",
       "3    2011   SEL  17809    11613    Gray         AUTO\n",
       "4    2012    SE  17500     8367   White         AUTO\n",
       "..    ...   ...    ...      ...     ...          ...\n",
       "145  2006   SES   6200    95000  Silver         AUTO\n",
       "146  2002    SE   5995    87003     Red         AUTO\n",
       "147  2000    SE   5980    96841     Red         AUTO\n",
       "148  2001    SE   4899   151479  Yellow         AUTO\n",
       "149  2000    SE   3800   109259     Red         AUTO\n",
       "\n",
       "[150 rows x 6 columns]"
      ]
     },
     "execution_count": 62,
     "metadata": {},
     "output_type": "execute_result"
    }
   ],
   "source": [
    "car_df = pd.read_csv('./csv/usedcars.csv')\n",
    "car_df"
   ]
  },
  {
   "cell_type": "code",
   "execution_count": 64,
   "metadata": {},
   "outputs": [
    {
     "data": {
      "application/vnd.plotly.v1+json": {
       "config": {
        "plotlyServerURL": "https://plot.ly"
       },
       "data": [
        {
         "type": "bar",
         "x": [
          "SEL",
          "SEL",
          "SEL",
          "SEL",
          "SE",
          "SEL",
          "SEL",
          "SEL",
          "SES",
          "SES",
          "SES",
          "SES",
          "SEL",
          "SES",
          "SE",
          "SES",
          "SEL",
          "SES",
          "SEL",
          "SEL",
          "SES",
          "SEL",
          "SE",
          "SEL",
          "SEL",
          "SE",
          "SE",
          "SE",
          "SES",
          "SEL",
          "SES",
          "SE",
          "SE",
          "SEL",
          "SES",
          "SEL",
          "SE",
          "SE",
          "SE",
          "SE",
          "SES",
          "SES",
          "SES",
          "SES",
          "SE",
          "SES",
          "SE",
          "SE",
          "SEL",
          "SEL",
          "SE",
          "SES",
          "SES",
          "SE",
          "SE",
          "SE",
          "SE",
          "SES",
          "SES",
          "SES",
          "SE",
          "SES",
          "SES",
          "SE",
          "SE",
          "SE",
          "SE",
          "SE",
          "SE",
          "SE",
          "SES",
          "SES",
          "SEL",
          "SEL",
          "SES",
          "SEL",
          "SES",
          "SE",
          "SE",
          "SE",
          "SES",
          "SE",
          "SE",
          "SE",
          "SE",
          "SE",
          "SE",
          "SE",
          "SE",
          "SE",
          "SE",
          "SES",
          "SE",
          "SE",
          "SE",
          "SE",
          "SES",
          "SES",
          "SE",
          "SE",
          "SE",
          "SE",
          "SE",
          "SE",
          "SES",
          "SE",
          "SE",
          "SE",
          "SES",
          "SES",
          "SE",
          "SES",
          "SES",
          "SEL",
          "SE",
          "SE",
          "SE",
          "SE",
          "SES",
          "SE",
          "SE",
          "SES",
          "SES",
          "SES",
          "SE",
          "SE",
          "SE",
          "SE",
          "SES",
          "SE",
          "SE",
          "SE",
          "SE",
          "SE",
          "SE",
          "SES",
          "SES",
          "SES",
          "SES",
          "SES",
          "SE",
          "SE",
          "SE",
          "SES",
          "SES",
          "SES",
          "SE",
          "SE",
          "SE",
          "SE"
         ],
         "y": [
          21992,
          20995,
          19995,
          17809,
          17500,
          17495,
          17000,
          16995,
          16995,
          16995,
          16995,
          16992,
          16950,
          16950,
          16000,
          15999,
          15999,
          15995,
          15992,
          15992,
          15988,
          15980,
          15899,
          15889,
          15688,
          15500,
          15499,
          15499,
          15298,
          14999,
          14999,
          14995,
          14992,
          14992,
          14992,
          14990,
          14989,
          14906,
          14900,
          14893,
          14761,
          14699,
          14677,
          14549,
          14499,
          14495,
          14495,
          14480,
          14477,
          14355,
          14299,
          14275,
          14000,
          13999,
          13997,
          13995,
          13995,
          13995,
          13995,
          13992,
          13992,
          13992,
          13992,
          13991,
          13950,
          13950,
          13950,
          13895,
          13888,
          13845,
          13799,
          13742,
          13687,
          13663,
          13599,
          13584,
          13425,
          13384,
          13383,
          13350,
          12999,
          12998,
          12997,
          12995,
          12995,
          12995,
          12995,
          12995,
          12995,
          12995,
          12992,
          12990,
          12988,
          12849,
          12780,
          12777,
          12704,
          12595,
          12507,
          12500,
          12500,
          12280,
          11999,
          11992,
          11984,
          11980,
          11792,
          11754,
          11749,
          11495,
          11450,
          10995,
          10995,
          10995,
          10979,
          10955,
          10955,
          10836,
          10815,
          10770,
          10717,
          10000,
          9999,
          9999,
          9995,
          9995,
          9992,
          9651,
          9000,
          8999,
          8996,
          8800,
          8495,
          8494,
          8480,
          7999,
          7995,
          7995,
          7900,
          7488,
          6999,
          6995,
          6980,
          6980,
          6950,
          6200,
          5995,
          5980,
          4899,
          3800
         ]
        }
       ],
       "layout": {
        "template": {
         "data": {
          "bar": [
           {
            "error_x": {
             "color": "#2a3f5f"
            },
            "error_y": {
             "color": "#2a3f5f"
            },
            "marker": {
             "line": {
              "color": "#E5ECF6",
              "width": 0.5
             },
             "pattern": {
              "fillmode": "overlay",
              "size": 10,
              "solidity": 0.2
             }
            },
            "type": "bar"
           }
          ],
          "barpolar": [
           {
            "marker": {
             "line": {
              "color": "#E5ECF6",
              "width": 0.5
             },
             "pattern": {
              "fillmode": "overlay",
              "size": 10,
              "solidity": 0.2
             }
            },
            "type": "barpolar"
           }
          ],
          "carpet": [
           {
            "aaxis": {
             "endlinecolor": "#2a3f5f",
             "gridcolor": "white",
             "linecolor": "white",
             "minorgridcolor": "white",
             "startlinecolor": "#2a3f5f"
            },
            "baxis": {
             "endlinecolor": "#2a3f5f",
             "gridcolor": "white",
             "linecolor": "white",
             "minorgridcolor": "white",
             "startlinecolor": "#2a3f5f"
            },
            "type": "carpet"
           }
          ],
          "choropleth": [
           {
            "colorbar": {
             "outlinewidth": 0,
             "ticks": ""
            },
            "type": "choropleth"
           }
          ],
          "contour": [
           {
            "colorbar": {
             "outlinewidth": 0,
             "ticks": ""
            },
            "colorscale": [
             [
              0,
              "#0d0887"
             ],
             [
              0.1111111111111111,
              "#46039f"
             ],
             [
              0.2222222222222222,
              "#7201a8"
             ],
             [
              0.3333333333333333,
              "#9c179e"
             ],
             [
              0.4444444444444444,
              "#bd3786"
             ],
             [
              0.5555555555555556,
              "#d8576b"
             ],
             [
              0.6666666666666666,
              "#ed7953"
             ],
             [
              0.7777777777777778,
              "#fb9f3a"
             ],
             [
              0.8888888888888888,
              "#fdca26"
             ],
             [
              1,
              "#f0f921"
             ]
            ],
            "type": "contour"
           }
          ],
          "contourcarpet": [
           {
            "colorbar": {
             "outlinewidth": 0,
             "ticks": ""
            },
            "type": "contourcarpet"
           }
          ],
          "heatmap": [
           {
            "colorbar": {
             "outlinewidth": 0,
             "ticks": ""
            },
            "colorscale": [
             [
              0,
              "#0d0887"
             ],
             [
              0.1111111111111111,
              "#46039f"
             ],
             [
              0.2222222222222222,
              "#7201a8"
             ],
             [
              0.3333333333333333,
              "#9c179e"
             ],
             [
              0.4444444444444444,
              "#bd3786"
             ],
             [
              0.5555555555555556,
              "#d8576b"
             ],
             [
              0.6666666666666666,
              "#ed7953"
             ],
             [
              0.7777777777777778,
              "#fb9f3a"
             ],
             [
              0.8888888888888888,
              "#fdca26"
             ],
             [
              1,
              "#f0f921"
             ]
            ],
            "type": "heatmap"
           }
          ],
          "heatmapgl": [
           {
            "colorbar": {
             "outlinewidth": 0,
             "ticks": ""
            },
            "colorscale": [
             [
              0,
              "#0d0887"
             ],
             [
              0.1111111111111111,
              "#46039f"
             ],
             [
              0.2222222222222222,
              "#7201a8"
             ],
             [
              0.3333333333333333,
              "#9c179e"
             ],
             [
              0.4444444444444444,
              "#bd3786"
             ],
             [
              0.5555555555555556,
              "#d8576b"
             ],
             [
              0.6666666666666666,
              "#ed7953"
             ],
             [
              0.7777777777777778,
              "#fb9f3a"
             ],
             [
              0.8888888888888888,
              "#fdca26"
             ],
             [
              1,
              "#f0f921"
             ]
            ],
            "type": "heatmapgl"
           }
          ],
          "histogram": [
           {
            "marker": {
             "pattern": {
              "fillmode": "overlay",
              "size": 10,
              "solidity": 0.2
             }
            },
            "type": "histogram"
           }
          ],
          "histogram2d": [
           {
            "colorbar": {
             "outlinewidth": 0,
             "ticks": ""
            },
            "colorscale": [
             [
              0,
              "#0d0887"
             ],
             [
              0.1111111111111111,
              "#46039f"
             ],
             [
              0.2222222222222222,
              "#7201a8"
             ],
             [
              0.3333333333333333,
              "#9c179e"
             ],
             [
              0.4444444444444444,
              "#bd3786"
             ],
             [
              0.5555555555555556,
              "#d8576b"
             ],
             [
              0.6666666666666666,
              "#ed7953"
             ],
             [
              0.7777777777777778,
              "#fb9f3a"
             ],
             [
              0.8888888888888888,
              "#fdca26"
             ],
             [
              1,
              "#f0f921"
             ]
            ],
            "type": "histogram2d"
           }
          ],
          "histogram2dcontour": [
           {
            "colorbar": {
             "outlinewidth": 0,
             "ticks": ""
            },
            "colorscale": [
             [
              0,
              "#0d0887"
             ],
             [
              0.1111111111111111,
              "#46039f"
             ],
             [
              0.2222222222222222,
              "#7201a8"
             ],
             [
              0.3333333333333333,
              "#9c179e"
             ],
             [
              0.4444444444444444,
              "#bd3786"
             ],
             [
              0.5555555555555556,
              "#d8576b"
             ],
             [
              0.6666666666666666,
              "#ed7953"
             ],
             [
              0.7777777777777778,
              "#fb9f3a"
             ],
             [
              0.8888888888888888,
              "#fdca26"
             ],
             [
              1,
              "#f0f921"
             ]
            ],
            "type": "histogram2dcontour"
           }
          ],
          "mesh3d": [
           {
            "colorbar": {
             "outlinewidth": 0,
             "ticks": ""
            },
            "type": "mesh3d"
           }
          ],
          "parcoords": [
           {
            "line": {
             "colorbar": {
              "outlinewidth": 0,
              "ticks": ""
             }
            },
            "type": "parcoords"
           }
          ],
          "pie": [
           {
            "automargin": true,
            "type": "pie"
           }
          ],
          "scatter": [
           {
            "fillpattern": {
             "fillmode": "overlay",
             "size": 10,
             "solidity": 0.2
            },
            "type": "scatter"
           }
          ],
          "scatter3d": [
           {
            "line": {
             "colorbar": {
              "outlinewidth": 0,
              "ticks": ""
             }
            },
            "marker": {
             "colorbar": {
              "outlinewidth": 0,
              "ticks": ""
             }
            },
            "type": "scatter3d"
           }
          ],
          "scattercarpet": [
           {
            "marker": {
             "colorbar": {
              "outlinewidth": 0,
              "ticks": ""
             }
            },
            "type": "scattercarpet"
           }
          ],
          "scattergeo": [
           {
            "marker": {
             "colorbar": {
              "outlinewidth": 0,
              "ticks": ""
             }
            },
            "type": "scattergeo"
           }
          ],
          "scattergl": [
           {
            "marker": {
             "colorbar": {
              "outlinewidth": 0,
              "ticks": ""
             }
            },
            "type": "scattergl"
           }
          ],
          "scattermapbox": [
           {
            "marker": {
             "colorbar": {
              "outlinewidth": 0,
              "ticks": ""
             }
            },
            "type": "scattermapbox"
           }
          ],
          "scatterpolar": [
           {
            "marker": {
             "colorbar": {
              "outlinewidth": 0,
              "ticks": ""
             }
            },
            "type": "scatterpolar"
           }
          ],
          "scatterpolargl": [
           {
            "marker": {
             "colorbar": {
              "outlinewidth": 0,
              "ticks": ""
             }
            },
            "type": "scatterpolargl"
           }
          ],
          "scatterternary": [
           {
            "marker": {
             "colorbar": {
              "outlinewidth": 0,
              "ticks": ""
             }
            },
            "type": "scatterternary"
           }
          ],
          "surface": [
           {
            "colorbar": {
             "outlinewidth": 0,
             "ticks": ""
            },
            "colorscale": [
             [
              0,
              "#0d0887"
             ],
             [
              0.1111111111111111,
              "#46039f"
             ],
             [
              0.2222222222222222,
              "#7201a8"
             ],
             [
              0.3333333333333333,
              "#9c179e"
             ],
             [
              0.4444444444444444,
              "#bd3786"
             ],
             [
              0.5555555555555556,
              "#d8576b"
             ],
             [
              0.6666666666666666,
              "#ed7953"
             ],
             [
              0.7777777777777778,
              "#fb9f3a"
             ],
             [
              0.8888888888888888,
              "#fdca26"
             ],
             [
              1,
              "#f0f921"
             ]
            ],
            "type": "surface"
           }
          ],
          "table": [
           {
            "cells": {
             "fill": {
              "color": "#EBF0F8"
             },
             "line": {
              "color": "white"
             }
            },
            "header": {
             "fill": {
              "color": "#C8D4E3"
             },
             "line": {
              "color": "white"
             }
            },
            "type": "table"
           }
          ]
         },
         "layout": {
          "annotationdefaults": {
           "arrowcolor": "#2a3f5f",
           "arrowhead": 0,
           "arrowwidth": 1
          },
          "autotypenumbers": "strict",
          "coloraxis": {
           "colorbar": {
            "outlinewidth": 0,
            "ticks": ""
           }
          },
          "colorscale": {
           "diverging": [
            [
             0,
             "#8e0152"
            ],
            [
             0.1,
             "#c51b7d"
            ],
            [
             0.2,
             "#de77ae"
            ],
            [
             0.3,
             "#f1b6da"
            ],
            [
             0.4,
             "#fde0ef"
            ],
            [
             0.5,
             "#f7f7f7"
            ],
            [
             0.6,
             "#e6f5d0"
            ],
            [
             0.7,
             "#b8e186"
            ],
            [
             0.8,
             "#7fbc41"
            ],
            [
             0.9,
             "#4d9221"
            ],
            [
             1,
             "#276419"
            ]
           ],
           "sequential": [
            [
             0,
             "#0d0887"
            ],
            [
             0.1111111111111111,
             "#46039f"
            ],
            [
             0.2222222222222222,
             "#7201a8"
            ],
            [
             0.3333333333333333,
             "#9c179e"
            ],
            [
             0.4444444444444444,
             "#bd3786"
            ],
            [
             0.5555555555555556,
             "#d8576b"
            ],
            [
             0.6666666666666666,
             "#ed7953"
            ],
            [
             0.7777777777777778,
             "#fb9f3a"
            ],
            [
             0.8888888888888888,
             "#fdca26"
            ],
            [
             1,
             "#f0f921"
            ]
           ],
           "sequentialminus": [
            [
             0,
             "#0d0887"
            ],
            [
             0.1111111111111111,
             "#46039f"
            ],
            [
             0.2222222222222222,
             "#7201a8"
            ],
            [
             0.3333333333333333,
             "#9c179e"
            ],
            [
             0.4444444444444444,
             "#bd3786"
            ],
            [
             0.5555555555555556,
             "#d8576b"
            ],
            [
             0.6666666666666666,
             "#ed7953"
            ],
            [
             0.7777777777777778,
             "#fb9f3a"
            ],
            [
             0.8888888888888888,
             "#fdca26"
            ],
            [
             1,
             "#f0f921"
            ]
           ]
          },
          "colorway": [
           "#636efa",
           "#EF553B",
           "#00cc96",
           "#ab63fa",
           "#FFA15A",
           "#19d3f3",
           "#FF6692",
           "#B6E880",
           "#FF97FF",
           "#FECB52"
          ],
          "font": {
           "color": "#2a3f5f"
          },
          "geo": {
           "bgcolor": "white",
           "lakecolor": "white",
           "landcolor": "#E5ECF6",
           "showlakes": true,
           "showland": true,
           "subunitcolor": "white"
          },
          "hoverlabel": {
           "align": "left"
          },
          "hovermode": "closest",
          "mapbox": {
           "style": "light"
          },
          "paper_bgcolor": "white",
          "plot_bgcolor": "#E5ECF6",
          "polar": {
           "angularaxis": {
            "gridcolor": "white",
            "linecolor": "white",
            "ticks": ""
           },
           "bgcolor": "#E5ECF6",
           "radialaxis": {
            "gridcolor": "white",
            "linecolor": "white",
            "ticks": ""
           }
          },
          "scene": {
           "xaxis": {
            "backgroundcolor": "#E5ECF6",
            "gridcolor": "white",
            "gridwidth": 2,
            "linecolor": "white",
            "showbackground": true,
            "ticks": "",
            "zerolinecolor": "white"
           },
           "yaxis": {
            "backgroundcolor": "#E5ECF6",
            "gridcolor": "white",
            "gridwidth": 2,
            "linecolor": "white",
            "showbackground": true,
            "ticks": "",
            "zerolinecolor": "white"
           },
           "zaxis": {
            "backgroundcolor": "#E5ECF6",
            "gridcolor": "white",
            "gridwidth": 2,
            "linecolor": "white",
            "showbackground": true,
            "ticks": "",
            "zerolinecolor": "white"
           }
          },
          "shapedefaults": {
           "line": {
            "color": "#2a3f5f"
           }
          },
          "ternary": {
           "aaxis": {
            "gridcolor": "white",
            "linecolor": "white",
            "ticks": ""
           },
           "baxis": {
            "gridcolor": "white",
            "linecolor": "white",
            "ticks": ""
           },
           "bgcolor": "#E5ECF6",
           "caxis": {
            "gridcolor": "white",
            "linecolor": "white",
            "ticks": ""
           }
          },
          "title": {
           "x": 0.05
          },
          "xaxis": {
           "automargin": true,
           "gridcolor": "white",
           "linecolor": "white",
           "ticks": "",
           "title": {
            "standoff": 15
           },
           "zerolinecolor": "white",
           "zerolinewidth": 2
          },
          "yaxis": {
           "automargin": true,
           "gridcolor": "white",
           "linecolor": "white",
           "ticks": "",
           "title": {
            "standoff": 15
           },
           "zerolinecolor": "white",
           "zerolinewidth": 2
          }
         }
        }
       }
      }
     },
     "metadata": {},
     "output_type": "display_data"
    }
   ],
   "source": [
    "x=car_df['model']\n",
    "y=car_df['price']\n",
    "\n",
    "data=go.Bar(x=x, y=y)\n",
    "\n",
    "fig=go.Figure(data)\n",
    "fig.show()"
   ]
  },
  {
   "cell_type": "code",
   "execution_count": 69,
   "metadata": {},
   "outputs": [
    {
     "data": {
      "application/vnd.plotly.v1+json": {
       "config": {
        "plotlyServerURL": "https://plot.ly"
       },
       "data": [
        {
         "mode": "markers",
         "type": "scatter",
         "x": [
          "SEL",
          "SEL",
          "SEL",
          "SEL",
          "SE",
          "SEL",
          "SEL",
          "SEL",
          "SES",
          "SES",
          "SES",
          "SES",
          "SEL",
          "SES",
          "SE",
          "SES",
          "SEL",
          "SES",
          "SEL",
          "SEL",
          "SES",
          "SEL",
          "SE",
          "SEL",
          "SEL",
          "SE",
          "SE",
          "SE",
          "SES",
          "SEL",
          "SES",
          "SE",
          "SE",
          "SEL",
          "SES",
          "SEL",
          "SE",
          "SE",
          "SE",
          "SE",
          "SES",
          "SES",
          "SES",
          "SES",
          "SE",
          "SES",
          "SE",
          "SE",
          "SEL",
          "SEL",
          "SE",
          "SES",
          "SES",
          "SE",
          "SE",
          "SE",
          "SE",
          "SES",
          "SES",
          "SES",
          "SE",
          "SES",
          "SES",
          "SE",
          "SE",
          "SE",
          "SE",
          "SE",
          "SE",
          "SE",
          "SES",
          "SES",
          "SEL",
          "SEL",
          "SES",
          "SEL",
          "SES",
          "SE",
          "SE",
          "SE",
          "SES",
          "SE",
          "SE",
          "SE",
          "SE",
          "SE",
          "SE",
          "SE",
          "SE",
          "SE",
          "SE",
          "SES",
          "SE",
          "SE",
          "SE",
          "SE",
          "SES",
          "SES",
          "SE",
          "SE",
          "SE",
          "SE",
          "SE",
          "SE",
          "SES",
          "SE",
          "SE",
          "SE",
          "SES",
          "SES",
          "SE",
          "SES",
          "SES",
          "SEL",
          "SE",
          "SE",
          "SE",
          "SE",
          "SES",
          "SE",
          "SE",
          "SES",
          "SES",
          "SES",
          "SE",
          "SE",
          "SE",
          "SE",
          "SES",
          "SE",
          "SE",
          "SE",
          "SE",
          "SE",
          "SE",
          "SES",
          "SES",
          "SES",
          "SES",
          "SES",
          "SE",
          "SE",
          "SE",
          "SES",
          "SES",
          "SES",
          "SE",
          "SE",
          "SE",
          "SE"
         ],
         "y": [
          21992,
          20995,
          19995,
          17809,
          17500,
          17495,
          17000,
          16995,
          16995,
          16995,
          16995,
          16992,
          16950,
          16950,
          16000,
          15999,
          15999,
          15995,
          15992,
          15992,
          15988,
          15980,
          15899,
          15889,
          15688,
          15500,
          15499,
          15499,
          15298,
          14999,
          14999,
          14995,
          14992,
          14992,
          14992,
          14990,
          14989,
          14906,
          14900,
          14893,
          14761,
          14699,
          14677,
          14549,
          14499,
          14495,
          14495,
          14480,
          14477,
          14355,
          14299,
          14275,
          14000,
          13999,
          13997,
          13995,
          13995,
          13995,
          13995,
          13992,
          13992,
          13992,
          13992,
          13991,
          13950,
          13950,
          13950,
          13895,
          13888,
          13845,
          13799,
          13742,
          13687,
          13663,
          13599,
          13584,
          13425,
          13384,
          13383,
          13350,
          12999,
          12998,
          12997,
          12995,
          12995,
          12995,
          12995,
          12995,
          12995,
          12995,
          12992,
          12990,
          12988,
          12849,
          12780,
          12777,
          12704,
          12595,
          12507,
          12500,
          12500,
          12280,
          11999,
          11992,
          11984,
          11980,
          11792,
          11754,
          11749,
          11495,
          11450,
          10995,
          10995,
          10995,
          10979,
          10955,
          10955,
          10836,
          10815,
          10770,
          10717,
          10000,
          9999,
          9999,
          9995,
          9995,
          9992,
          9651,
          9000,
          8999,
          8996,
          8800,
          8495,
          8494,
          8480,
          7999,
          7995,
          7995,
          7900,
          7488,
          6999,
          6995,
          6980,
          6980,
          6950,
          6200,
          5995,
          5980,
          4899,
          3800
         ]
        }
       ],
       "layout": {
        "template": {
         "data": {
          "bar": [
           {
            "error_x": {
             "color": "#2a3f5f"
            },
            "error_y": {
             "color": "#2a3f5f"
            },
            "marker": {
             "line": {
              "color": "#E5ECF6",
              "width": 0.5
             },
             "pattern": {
              "fillmode": "overlay",
              "size": 10,
              "solidity": 0.2
             }
            },
            "type": "bar"
           }
          ],
          "barpolar": [
           {
            "marker": {
             "line": {
              "color": "#E5ECF6",
              "width": 0.5
             },
             "pattern": {
              "fillmode": "overlay",
              "size": 10,
              "solidity": 0.2
             }
            },
            "type": "barpolar"
           }
          ],
          "carpet": [
           {
            "aaxis": {
             "endlinecolor": "#2a3f5f",
             "gridcolor": "white",
             "linecolor": "white",
             "minorgridcolor": "white",
             "startlinecolor": "#2a3f5f"
            },
            "baxis": {
             "endlinecolor": "#2a3f5f",
             "gridcolor": "white",
             "linecolor": "white",
             "minorgridcolor": "white",
             "startlinecolor": "#2a3f5f"
            },
            "type": "carpet"
           }
          ],
          "choropleth": [
           {
            "colorbar": {
             "outlinewidth": 0,
             "ticks": ""
            },
            "type": "choropleth"
           }
          ],
          "contour": [
           {
            "colorbar": {
             "outlinewidth": 0,
             "ticks": ""
            },
            "colorscale": [
             [
              0,
              "#0d0887"
             ],
             [
              0.1111111111111111,
              "#46039f"
             ],
             [
              0.2222222222222222,
              "#7201a8"
             ],
             [
              0.3333333333333333,
              "#9c179e"
             ],
             [
              0.4444444444444444,
              "#bd3786"
             ],
             [
              0.5555555555555556,
              "#d8576b"
             ],
             [
              0.6666666666666666,
              "#ed7953"
             ],
             [
              0.7777777777777778,
              "#fb9f3a"
             ],
             [
              0.8888888888888888,
              "#fdca26"
             ],
             [
              1,
              "#f0f921"
             ]
            ],
            "type": "contour"
           }
          ],
          "contourcarpet": [
           {
            "colorbar": {
             "outlinewidth": 0,
             "ticks": ""
            },
            "type": "contourcarpet"
           }
          ],
          "heatmap": [
           {
            "colorbar": {
             "outlinewidth": 0,
             "ticks": ""
            },
            "colorscale": [
             [
              0,
              "#0d0887"
             ],
             [
              0.1111111111111111,
              "#46039f"
             ],
             [
              0.2222222222222222,
              "#7201a8"
             ],
             [
              0.3333333333333333,
              "#9c179e"
             ],
             [
              0.4444444444444444,
              "#bd3786"
             ],
             [
              0.5555555555555556,
              "#d8576b"
             ],
             [
              0.6666666666666666,
              "#ed7953"
             ],
             [
              0.7777777777777778,
              "#fb9f3a"
             ],
             [
              0.8888888888888888,
              "#fdca26"
             ],
             [
              1,
              "#f0f921"
             ]
            ],
            "type": "heatmap"
           }
          ],
          "heatmapgl": [
           {
            "colorbar": {
             "outlinewidth": 0,
             "ticks": ""
            },
            "colorscale": [
             [
              0,
              "#0d0887"
             ],
             [
              0.1111111111111111,
              "#46039f"
             ],
             [
              0.2222222222222222,
              "#7201a8"
             ],
             [
              0.3333333333333333,
              "#9c179e"
             ],
             [
              0.4444444444444444,
              "#bd3786"
             ],
             [
              0.5555555555555556,
              "#d8576b"
             ],
             [
              0.6666666666666666,
              "#ed7953"
             ],
             [
              0.7777777777777778,
              "#fb9f3a"
             ],
             [
              0.8888888888888888,
              "#fdca26"
             ],
             [
              1,
              "#f0f921"
             ]
            ],
            "type": "heatmapgl"
           }
          ],
          "histogram": [
           {
            "marker": {
             "pattern": {
              "fillmode": "overlay",
              "size": 10,
              "solidity": 0.2
             }
            },
            "type": "histogram"
           }
          ],
          "histogram2d": [
           {
            "colorbar": {
             "outlinewidth": 0,
             "ticks": ""
            },
            "colorscale": [
             [
              0,
              "#0d0887"
             ],
             [
              0.1111111111111111,
              "#46039f"
             ],
             [
              0.2222222222222222,
              "#7201a8"
             ],
             [
              0.3333333333333333,
              "#9c179e"
             ],
             [
              0.4444444444444444,
              "#bd3786"
             ],
             [
              0.5555555555555556,
              "#d8576b"
             ],
             [
              0.6666666666666666,
              "#ed7953"
             ],
             [
              0.7777777777777778,
              "#fb9f3a"
             ],
             [
              0.8888888888888888,
              "#fdca26"
             ],
             [
              1,
              "#f0f921"
             ]
            ],
            "type": "histogram2d"
           }
          ],
          "histogram2dcontour": [
           {
            "colorbar": {
             "outlinewidth": 0,
             "ticks": ""
            },
            "colorscale": [
             [
              0,
              "#0d0887"
             ],
             [
              0.1111111111111111,
              "#46039f"
             ],
             [
              0.2222222222222222,
              "#7201a8"
             ],
             [
              0.3333333333333333,
              "#9c179e"
             ],
             [
              0.4444444444444444,
              "#bd3786"
             ],
             [
              0.5555555555555556,
              "#d8576b"
             ],
             [
              0.6666666666666666,
              "#ed7953"
             ],
             [
              0.7777777777777778,
              "#fb9f3a"
             ],
             [
              0.8888888888888888,
              "#fdca26"
             ],
             [
              1,
              "#f0f921"
             ]
            ],
            "type": "histogram2dcontour"
           }
          ],
          "mesh3d": [
           {
            "colorbar": {
             "outlinewidth": 0,
             "ticks": ""
            },
            "type": "mesh3d"
           }
          ],
          "parcoords": [
           {
            "line": {
             "colorbar": {
              "outlinewidth": 0,
              "ticks": ""
             }
            },
            "type": "parcoords"
           }
          ],
          "pie": [
           {
            "automargin": true,
            "type": "pie"
           }
          ],
          "scatter": [
           {
            "fillpattern": {
             "fillmode": "overlay",
             "size": 10,
             "solidity": 0.2
            },
            "type": "scatter"
           }
          ],
          "scatter3d": [
           {
            "line": {
             "colorbar": {
              "outlinewidth": 0,
              "ticks": ""
             }
            },
            "marker": {
             "colorbar": {
              "outlinewidth": 0,
              "ticks": ""
             }
            },
            "type": "scatter3d"
           }
          ],
          "scattercarpet": [
           {
            "marker": {
             "colorbar": {
              "outlinewidth": 0,
              "ticks": ""
             }
            },
            "type": "scattercarpet"
           }
          ],
          "scattergeo": [
           {
            "marker": {
             "colorbar": {
              "outlinewidth": 0,
              "ticks": ""
             }
            },
            "type": "scattergeo"
           }
          ],
          "scattergl": [
           {
            "marker": {
             "colorbar": {
              "outlinewidth": 0,
              "ticks": ""
             }
            },
            "type": "scattergl"
           }
          ],
          "scattermapbox": [
           {
            "marker": {
             "colorbar": {
              "outlinewidth": 0,
              "ticks": ""
             }
            },
            "type": "scattermapbox"
           }
          ],
          "scatterpolar": [
           {
            "marker": {
             "colorbar": {
              "outlinewidth": 0,
              "ticks": ""
             }
            },
            "type": "scatterpolar"
           }
          ],
          "scatterpolargl": [
           {
            "marker": {
             "colorbar": {
              "outlinewidth": 0,
              "ticks": ""
             }
            },
            "type": "scatterpolargl"
           }
          ],
          "scatterternary": [
           {
            "marker": {
             "colorbar": {
              "outlinewidth": 0,
              "ticks": ""
             }
            },
            "type": "scatterternary"
           }
          ],
          "surface": [
           {
            "colorbar": {
             "outlinewidth": 0,
             "ticks": ""
            },
            "colorscale": [
             [
              0,
              "#0d0887"
             ],
             [
              0.1111111111111111,
              "#46039f"
             ],
             [
              0.2222222222222222,
              "#7201a8"
             ],
             [
              0.3333333333333333,
              "#9c179e"
             ],
             [
              0.4444444444444444,
              "#bd3786"
             ],
             [
              0.5555555555555556,
              "#d8576b"
             ],
             [
              0.6666666666666666,
              "#ed7953"
             ],
             [
              0.7777777777777778,
              "#fb9f3a"
             ],
             [
              0.8888888888888888,
              "#fdca26"
             ],
             [
              1,
              "#f0f921"
             ]
            ],
            "type": "surface"
           }
          ],
          "table": [
           {
            "cells": {
             "fill": {
              "color": "#EBF0F8"
             },
             "line": {
              "color": "white"
             }
            },
            "header": {
             "fill": {
              "color": "#C8D4E3"
             },
             "line": {
              "color": "white"
             }
            },
            "type": "table"
           }
          ]
         },
         "layout": {
          "annotationdefaults": {
           "arrowcolor": "#2a3f5f",
           "arrowhead": 0,
           "arrowwidth": 1
          },
          "autotypenumbers": "strict",
          "coloraxis": {
           "colorbar": {
            "outlinewidth": 0,
            "ticks": ""
           }
          },
          "colorscale": {
           "diverging": [
            [
             0,
             "#8e0152"
            ],
            [
             0.1,
             "#c51b7d"
            ],
            [
             0.2,
             "#de77ae"
            ],
            [
             0.3,
             "#f1b6da"
            ],
            [
             0.4,
             "#fde0ef"
            ],
            [
             0.5,
             "#f7f7f7"
            ],
            [
             0.6,
             "#e6f5d0"
            ],
            [
             0.7,
             "#b8e186"
            ],
            [
             0.8,
             "#7fbc41"
            ],
            [
             0.9,
             "#4d9221"
            ],
            [
             1,
             "#276419"
            ]
           ],
           "sequential": [
            [
             0,
             "#0d0887"
            ],
            [
             0.1111111111111111,
             "#46039f"
            ],
            [
             0.2222222222222222,
             "#7201a8"
            ],
            [
             0.3333333333333333,
             "#9c179e"
            ],
            [
             0.4444444444444444,
             "#bd3786"
            ],
            [
             0.5555555555555556,
             "#d8576b"
            ],
            [
             0.6666666666666666,
             "#ed7953"
            ],
            [
             0.7777777777777778,
             "#fb9f3a"
            ],
            [
             0.8888888888888888,
             "#fdca26"
            ],
            [
             1,
             "#f0f921"
            ]
           ],
           "sequentialminus": [
            [
             0,
             "#0d0887"
            ],
            [
             0.1111111111111111,
             "#46039f"
            ],
            [
             0.2222222222222222,
             "#7201a8"
            ],
            [
             0.3333333333333333,
             "#9c179e"
            ],
            [
             0.4444444444444444,
             "#bd3786"
            ],
            [
             0.5555555555555556,
             "#d8576b"
            ],
            [
             0.6666666666666666,
             "#ed7953"
            ],
            [
             0.7777777777777778,
             "#fb9f3a"
            ],
            [
             0.8888888888888888,
             "#fdca26"
            ],
            [
             1,
             "#f0f921"
            ]
           ]
          },
          "colorway": [
           "#636efa",
           "#EF553B",
           "#00cc96",
           "#ab63fa",
           "#FFA15A",
           "#19d3f3",
           "#FF6692",
           "#B6E880",
           "#FF97FF",
           "#FECB52"
          ],
          "font": {
           "color": "#2a3f5f"
          },
          "geo": {
           "bgcolor": "white",
           "lakecolor": "white",
           "landcolor": "#E5ECF6",
           "showlakes": true,
           "showland": true,
           "subunitcolor": "white"
          },
          "hoverlabel": {
           "align": "left"
          },
          "hovermode": "closest",
          "mapbox": {
           "style": "light"
          },
          "paper_bgcolor": "white",
          "plot_bgcolor": "#E5ECF6",
          "polar": {
           "angularaxis": {
            "gridcolor": "white",
            "linecolor": "white",
            "ticks": ""
           },
           "bgcolor": "#E5ECF6",
           "radialaxis": {
            "gridcolor": "white",
            "linecolor": "white",
            "ticks": ""
           }
          },
          "scene": {
           "xaxis": {
            "backgroundcolor": "#E5ECF6",
            "gridcolor": "white",
            "gridwidth": 2,
            "linecolor": "white",
            "showbackground": true,
            "ticks": "",
            "zerolinecolor": "white"
           },
           "yaxis": {
            "backgroundcolor": "#E5ECF6",
            "gridcolor": "white",
            "gridwidth": 2,
            "linecolor": "white",
            "showbackground": true,
            "ticks": "",
            "zerolinecolor": "white"
           },
           "zaxis": {
            "backgroundcolor": "#E5ECF6",
            "gridcolor": "white",
            "gridwidth": 2,
            "linecolor": "white",
            "showbackground": true,
            "ticks": "",
            "zerolinecolor": "white"
           }
          },
          "shapedefaults": {
           "line": {
            "color": "#2a3f5f"
           }
          },
          "ternary": {
           "aaxis": {
            "gridcolor": "white",
            "linecolor": "white",
            "ticks": ""
           },
           "baxis": {
            "gridcolor": "white",
            "linecolor": "white",
            "ticks": ""
           },
           "bgcolor": "#E5ECF6",
           "caxis": {
            "gridcolor": "white",
            "linecolor": "white",
            "ticks": ""
           }
          },
          "title": {
           "x": 0.05
          },
          "xaxis": {
           "automargin": true,
           "gridcolor": "white",
           "linecolor": "white",
           "ticks": "",
           "title": {
            "standoff": 15
           },
           "zerolinecolor": "white",
           "zerolinewidth": 2
          },
          "yaxis": {
           "automargin": true,
           "gridcolor": "white",
           "linecolor": "white",
           "ticks": "",
           "title": {
            "standoff": 15
           },
           "zerolinecolor": "white",
           "zerolinewidth": 2
          }
         }
        }
       }
      }
     },
     "metadata": {},
     "output_type": "display_data"
    }
   ],
   "source": [
    "data=go.Scatter(x=x, y=y, mode='markers')\n",
    "\n",
    "fig=go.Figure(data)\n",
    "fig.show()"
   ]
  },
  {
   "cell_type": "code",
   "execution_count": 71,
   "metadata": {},
   "outputs": [
    {
     "data": {
      "application/vnd.plotly.v1+json": {
       "config": {
        "plotlyServerURL": "https://plot.ly"
       },
       "data": [
        {
         "type": "histogram2d",
         "x": [
          "SEL",
          "SEL",
          "SEL",
          "SEL",
          "SE",
          "SEL",
          "SEL",
          "SEL",
          "SES",
          "SES",
          "SES",
          "SES",
          "SEL",
          "SES",
          "SE",
          "SES",
          "SEL",
          "SES",
          "SEL",
          "SEL",
          "SES",
          "SEL",
          "SE",
          "SEL",
          "SEL",
          "SE",
          "SE",
          "SE",
          "SES",
          "SEL",
          "SES",
          "SE",
          "SE",
          "SEL",
          "SES",
          "SEL",
          "SE",
          "SE",
          "SE",
          "SE",
          "SES",
          "SES",
          "SES",
          "SES",
          "SE",
          "SES",
          "SE",
          "SE",
          "SEL",
          "SEL",
          "SE",
          "SES",
          "SES",
          "SE",
          "SE",
          "SE",
          "SE",
          "SES",
          "SES",
          "SES",
          "SE",
          "SES",
          "SES",
          "SE",
          "SE",
          "SE",
          "SE",
          "SE",
          "SE",
          "SE",
          "SES",
          "SES",
          "SEL",
          "SEL",
          "SES",
          "SEL",
          "SES",
          "SE",
          "SE",
          "SE",
          "SES",
          "SE",
          "SE",
          "SE",
          "SE",
          "SE",
          "SE",
          "SE",
          "SE",
          "SE",
          "SE",
          "SES",
          "SE",
          "SE",
          "SE",
          "SE",
          "SES",
          "SES",
          "SE",
          "SE",
          "SE",
          "SE",
          "SE",
          "SE",
          "SES",
          "SE",
          "SE",
          "SE",
          "SES",
          "SES",
          "SE",
          "SES",
          "SES",
          "SEL",
          "SE",
          "SE",
          "SE",
          "SE",
          "SES",
          "SE",
          "SE",
          "SES",
          "SES",
          "SES",
          "SE",
          "SE",
          "SE",
          "SE",
          "SES",
          "SE",
          "SE",
          "SE",
          "SE",
          "SE",
          "SE",
          "SES",
          "SES",
          "SES",
          "SES",
          "SES",
          "SE",
          "SE",
          "SE",
          "SES",
          "SES",
          "SES",
          "SE",
          "SE",
          "SE",
          "SE"
         ],
         "y": [
          21992,
          20995,
          19995,
          17809,
          17500,
          17495,
          17000,
          16995,
          16995,
          16995,
          16995,
          16992,
          16950,
          16950,
          16000,
          15999,
          15999,
          15995,
          15992,
          15992,
          15988,
          15980,
          15899,
          15889,
          15688,
          15500,
          15499,
          15499,
          15298,
          14999,
          14999,
          14995,
          14992,
          14992,
          14992,
          14990,
          14989,
          14906,
          14900,
          14893,
          14761,
          14699,
          14677,
          14549,
          14499,
          14495,
          14495,
          14480,
          14477,
          14355,
          14299,
          14275,
          14000,
          13999,
          13997,
          13995,
          13995,
          13995,
          13995,
          13992,
          13992,
          13992,
          13992,
          13991,
          13950,
          13950,
          13950,
          13895,
          13888,
          13845,
          13799,
          13742,
          13687,
          13663,
          13599,
          13584,
          13425,
          13384,
          13383,
          13350,
          12999,
          12998,
          12997,
          12995,
          12995,
          12995,
          12995,
          12995,
          12995,
          12995,
          12992,
          12990,
          12988,
          12849,
          12780,
          12777,
          12704,
          12595,
          12507,
          12500,
          12500,
          12280,
          11999,
          11992,
          11984,
          11980,
          11792,
          11754,
          11749,
          11495,
          11450,
          10995,
          10995,
          10995,
          10979,
          10955,
          10955,
          10836,
          10815,
          10770,
          10717,
          10000,
          9999,
          9999,
          9995,
          9995,
          9992,
          9651,
          9000,
          8999,
          8996,
          8800,
          8495,
          8494,
          8480,
          7999,
          7995,
          7995,
          7900,
          7488,
          6999,
          6995,
          6980,
          6980,
          6950,
          6200,
          5995,
          5980,
          4899,
          3800
         ]
        }
       ],
       "layout": {
        "template": {
         "data": {
          "bar": [
           {
            "error_x": {
             "color": "#2a3f5f"
            },
            "error_y": {
             "color": "#2a3f5f"
            },
            "marker": {
             "line": {
              "color": "#E5ECF6",
              "width": 0.5
             },
             "pattern": {
              "fillmode": "overlay",
              "size": 10,
              "solidity": 0.2
             }
            },
            "type": "bar"
           }
          ],
          "barpolar": [
           {
            "marker": {
             "line": {
              "color": "#E5ECF6",
              "width": 0.5
             },
             "pattern": {
              "fillmode": "overlay",
              "size": 10,
              "solidity": 0.2
             }
            },
            "type": "barpolar"
           }
          ],
          "carpet": [
           {
            "aaxis": {
             "endlinecolor": "#2a3f5f",
             "gridcolor": "white",
             "linecolor": "white",
             "minorgridcolor": "white",
             "startlinecolor": "#2a3f5f"
            },
            "baxis": {
             "endlinecolor": "#2a3f5f",
             "gridcolor": "white",
             "linecolor": "white",
             "minorgridcolor": "white",
             "startlinecolor": "#2a3f5f"
            },
            "type": "carpet"
           }
          ],
          "choropleth": [
           {
            "colorbar": {
             "outlinewidth": 0,
             "ticks": ""
            },
            "type": "choropleth"
           }
          ],
          "contour": [
           {
            "colorbar": {
             "outlinewidth": 0,
             "ticks": ""
            },
            "colorscale": [
             [
              0,
              "#0d0887"
             ],
             [
              0.1111111111111111,
              "#46039f"
             ],
             [
              0.2222222222222222,
              "#7201a8"
             ],
             [
              0.3333333333333333,
              "#9c179e"
             ],
             [
              0.4444444444444444,
              "#bd3786"
             ],
             [
              0.5555555555555556,
              "#d8576b"
             ],
             [
              0.6666666666666666,
              "#ed7953"
             ],
             [
              0.7777777777777778,
              "#fb9f3a"
             ],
             [
              0.8888888888888888,
              "#fdca26"
             ],
             [
              1,
              "#f0f921"
             ]
            ],
            "type": "contour"
           }
          ],
          "contourcarpet": [
           {
            "colorbar": {
             "outlinewidth": 0,
             "ticks": ""
            },
            "type": "contourcarpet"
           }
          ],
          "heatmap": [
           {
            "colorbar": {
             "outlinewidth": 0,
             "ticks": ""
            },
            "colorscale": [
             [
              0,
              "#0d0887"
             ],
             [
              0.1111111111111111,
              "#46039f"
             ],
             [
              0.2222222222222222,
              "#7201a8"
             ],
             [
              0.3333333333333333,
              "#9c179e"
             ],
             [
              0.4444444444444444,
              "#bd3786"
             ],
             [
              0.5555555555555556,
              "#d8576b"
             ],
             [
              0.6666666666666666,
              "#ed7953"
             ],
             [
              0.7777777777777778,
              "#fb9f3a"
             ],
             [
              0.8888888888888888,
              "#fdca26"
             ],
             [
              1,
              "#f0f921"
             ]
            ],
            "type": "heatmap"
           }
          ],
          "heatmapgl": [
           {
            "colorbar": {
             "outlinewidth": 0,
             "ticks": ""
            },
            "colorscale": [
             [
              0,
              "#0d0887"
             ],
             [
              0.1111111111111111,
              "#46039f"
             ],
             [
              0.2222222222222222,
              "#7201a8"
             ],
             [
              0.3333333333333333,
              "#9c179e"
             ],
             [
              0.4444444444444444,
              "#bd3786"
             ],
             [
              0.5555555555555556,
              "#d8576b"
             ],
             [
              0.6666666666666666,
              "#ed7953"
             ],
             [
              0.7777777777777778,
              "#fb9f3a"
             ],
             [
              0.8888888888888888,
              "#fdca26"
             ],
             [
              1,
              "#f0f921"
             ]
            ],
            "type": "heatmapgl"
           }
          ],
          "histogram": [
           {
            "marker": {
             "pattern": {
              "fillmode": "overlay",
              "size": 10,
              "solidity": 0.2
             }
            },
            "type": "histogram"
           }
          ],
          "histogram2d": [
           {
            "colorbar": {
             "outlinewidth": 0,
             "ticks": ""
            },
            "colorscale": [
             [
              0,
              "#0d0887"
             ],
             [
              0.1111111111111111,
              "#46039f"
             ],
             [
              0.2222222222222222,
              "#7201a8"
             ],
             [
              0.3333333333333333,
              "#9c179e"
             ],
             [
              0.4444444444444444,
              "#bd3786"
             ],
             [
              0.5555555555555556,
              "#d8576b"
             ],
             [
              0.6666666666666666,
              "#ed7953"
             ],
             [
              0.7777777777777778,
              "#fb9f3a"
             ],
             [
              0.8888888888888888,
              "#fdca26"
             ],
             [
              1,
              "#f0f921"
             ]
            ],
            "type": "histogram2d"
           }
          ],
          "histogram2dcontour": [
           {
            "colorbar": {
             "outlinewidth": 0,
             "ticks": ""
            },
            "colorscale": [
             [
              0,
              "#0d0887"
             ],
             [
              0.1111111111111111,
              "#46039f"
             ],
             [
              0.2222222222222222,
              "#7201a8"
             ],
             [
              0.3333333333333333,
              "#9c179e"
             ],
             [
              0.4444444444444444,
              "#bd3786"
             ],
             [
              0.5555555555555556,
              "#d8576b"
             ],
             [
              0.6666666666666666,
              "#ed7953"
             ],
             [
              0.7777777777777778,
              "#fb9f3a"
             ],
             [
              0.8888888888888888,
              "#fdca26"
             ],
             [
              1,
              "#f0f921"
             ]
            ],
            "type": "histogram2dcontour"
           }
          ],
          "mesh3d": [
           {
            "colorbar": {
             "outlinewidth": 0,
             "ticks": ""
            },
            "type": "mesh3d"
           }
          ],
          "parcoords": [
           {
            "line": {
             "colorbar": {
              "outlinewidth": 0,
              "ticks": ""
             }
            },
            "type": "parcoords"
           }
          ],
          "pie": [
           {
            "automargin": true,
            "type": "pie"
           }
          ],
          "scatter": [
           {
            "fillpattern": {
             "fillmode": "overlay",
             "size": 10,
             "solidity": 0.2
            },
            "type": "scatter"
           }
          ],
          "scatter3d": [
           {
            "line": {
             "colorbar": {
              "outlinewidth": 0,
              "ticks": ""
             }
            },
            "marker": {
             "colorbar": {
              "outlinewidth": 0,
              "ticks": ""
             }
            },
            "type": "scatter3d"
           }
          ],
          "scattercarpet": [
           {
            "marker": {
             "colorbar": {
              "outlinewidth": 0,
              "ticks": ""
             }
            },
            "type": "scattercarpet"
           }
          ],
          "scattergeo": [
           {
            "marker": {
             "colorbar": {
              "outlinewidth": 0,
              "ticks": ""
             }
            },
            "type": "scattergeo"
           }
          ],
          "scattergl": [
           {
            "marker": {
             "colorbar": {
              "outlinewidth": 0,
              "ticks": ""
             }
            },
            "type": "scattergl"
           }
          ],
          "scattermapbox": [
           {
            "marker": {
             "colorbar": {
              "outlinewidth": 0,
              "ticks": ""
             }
            },
            "type": "scattermapbox"
           }
          ],
          "scatterpolar": [
           {
            "marker": {
             "colorbar": {
              "outlinewidth": 0,
              "ticks": ""
             }
            },
            "type": "scatterpolar"
           }
          ],
          "scatterpolargl": [
           {
            "marker": {
             "colorbar": {
              "outlinewidth": 0,
              "ticks": ""
             }
            },
            "type": "scatterpolargl"
           }
          ],
          "scatterternary": [
           {
            "marker": {
             "colorbar": {
              "outlinewidth": 0,
              "ticks": ""
             }
            },
            "type": "scatterternary"
           }
          ],
          "surface": [
           {
            "colorbar": {
             "outlinewidth": 0,
             "ticks": ""
            },
            "colorscale": [
             [
              0,
              "#0d0887"
             ],
             [
              0.1111111111111111,
              "#46039f"
             ],
             [
              0.2222222222222222,
              "#7201a8"
             ],
             [
              0.3333333333333333,
              "#9c179e"
             ],
             [
              0.4444444444444444,
              "#bd3786"
             ],
             [
              0.5555555555555556,
              "#d8576b"
             ],
             [
              0.6666666666666666,
              "#ed7953"
             ],
             [
              0.7777777777777778,
              "#fb9f3a"
             ],
             [
              0.8888888888888888,
              "#fdca26"
             ],
             [
              1,
              "#f0f921"
             ]
            ],
            "type": "surface"
           }
          ],
          "table": [
           {
            "cells": {
             "fill": {
              "color": "#EBF0F8"
             },
             "line": {
              "color": "white"
             }
            },
            "header": {
             "fill": {
              "color": "#C8D4E3"
             },
             "line": {
              "color": "white"
             }
            },
            "type": "table"
           }
          ]
         },
         "layout": {
          "annotationdefaults": {
           "arrowcolor": "#2a3f5f",
           "arrowhead": 0,
           "arrowwidth": 1
          },
          "autotypenumbers": "strict",
          "coloraxis": {
           "colorbar": {
            "outlinewidth": 0,
            "ticks": ""
           }
          },
          "colorscale": {
           "diverging": [
            [
             0,
             "#8e0152"
            ],
            [
             0.1,
             "#c51b7d"
            ],
            [
             0.2,
             "#de77ae"
            ],
            [
             0.3,
             "#f1b6da"
            ],
            [
             0.4,
             "#fde0ef"
            ],
            [
             0.5,
             "#f7f7f7"
            ],
            [
             0.6,
             "#e6f5d0"
            ],
            [
             0.7,
             "#b8e186"
            ],
            [
             0.8,
             "#7fbc41"
            ],
            [
             0.9,
             "#4d9221"
            ],
            [
             1,
             "#276419"
            ]
           ],
           "sequential": [
            [
             0,
             "#0d0887"
            ],
            [
             0.1111111111111111,
             "#46039f"
            ],
            [
             0.2222222222222222,
             "#7201a8"
            ],
            [
             0.3333333333333333,
             "#9c179e"
            ],
            [
             0.4444444444444444,
             "#bd3786"
            ],
            [
             0.5555555555555556,
             "#d8576b"
            ],
            [
             0.6666666666666666,
             "#ed7953"
            ],
            [
             0.7777777777777778,
             "#fb9f3a"
            ],
            [
             0.8888888888888888,
             "#fdca26"
            ],
            [
             1,
             "#f0f921"
            ]
           ],
           "sequentialminus": [
            [
             0,
             "#0d0887"
            ],
            [
             0.1111111111111111,
             "#46039f"
            ],
            [
             0.2222222222222222,
             "#7201a8"
            ],
            [
             0.3333333333333333,
             "#9c179e"
            ],
            [
             0.4444444444444444,
             "#bd3786"
            ],
            [
             0.5555555555555556,
             "#d8576b"
            ],
            [
             0.6666666666666666,
             "#ed7953"
            ],
            [
             0.7777777777777778,
             "#fb9f3a"
            ],
            [
             0.8888888888888888,
             "#fdca26"
            ],
            [
             1,
             "#f0f921"
            ]
           ]
          },
          "colorway": [
           "#636efa",
           "#EF553B",
           "#00cc96",
           "#ab63fa",
           "#FFA15A",
           "#19d3f3",
           "#FF6692",
           "#B6E880",
           "#FF97FF",
           "#FECB52"
          ],
          "font": {
           "color": "#2a3f5f"
          },
          "geo": {
           "bgcolor": "white",
           "lakecolor": "white",
           "landcolor": "#E5ECF6",
           "showlakes": true,
           "showland": true,
           "subunitcolor": "white"
          },
          "hoverlabel": {
           "align": "left"
          },
          "hovermode": "closest",
          "mapbox": {
           "style": "light"
          },
          "paper_bgcolor": "white",
          "plot_bgcolor": "#E5ECF6",
          "polar": {
           "angularaxis": {
            "gridcolor": "white",
            "linecolor": "white",
            "ticks": ""
           },
           "bgcolor": "#E5ECF6",
           "radialaxis": {
            "gridcolor": "white",
            "linecolor": "white",
            "ticks": ""
           }
          },
          "scene": {
           "xaxis": {
            "backgroundcolor": "#E5ECF6",
            "gridcolor": "white",
            "gridwidth": 2,
            "linecolor": "white",
            "showbackground": true,
            "ticks": "",
            "zerolinecolor": "white"
           },
           "yaxis": {
            "backgroundcolor": "#E5ECF6",
            "gridcolor": "white",
            "gridwidth": 2,
            "linecolor": "white",
            "showbackground": true,
            "ticks": "",
            "zerolinecolor": "white"
           },
           "zaxis": {
            "backgroundcolor": "#E5ECF6",
            "gridcolor": "white",
            "gridwidth": 2,
            "linecolor": "white",
            "showbackground": true,
            "ticks": "",
            "zerolinecolor": "white"
           }
          },
          "shapedefaults": {
           "line": {
            "color": "#2a3f5f"
           }
          },
          "ternary": {
           "aaxis": {
            "gridcolor": "white",
            "linecolor": "white",
            "ticks": ""
           },
           "baxis": {
            "gridcolor": "white",
            "linecolor": "white",
            "ticks": ""
           },
           "bgcolor": "#E5ECF6",
           "caxis": {
            "gridcolor": "white",
            "linecolor": "white",
            "ticks": ""
           }
          },
          "title": {
           "x": 0.05
          },
          "xaxis": {
           "automargin": true,
           "gridcolor": "white",
           "linecolor": "white",
           "ticks": "",
           "title": {
            "standoff": 15
           },
           "zerolinecolor": "white",
           "zerolinewidth": 2
          },
          "yaxis": {
           "automargin": true,
           "gridcolor": "white",
           "linecolor": "white",
           "ticks": "",
           "title": {
            "standoff": 15
           },
           "zerolinecolor": "white",
           "zerolinewidth": 2
          }
         }
        }
       }
      }
     },
     "metadata": {},
     "output_type": "display_data"
    }
   ],
   "source": [
    "data=go.Histogram2d(x=x, y=y)\n",
    "\n",
    "fig=go.Figure(data)\n",
    "fig.show()"
   ]
  },
  {
   "cell_type": "code",
   "execution_count": null,
   "metadata": {},
   "outputs": [],
   "source": []
  }
 ],
 "metadata": {
  "kernelspec": {
   "display_name": "Python 3.10.7 64-bit",
   "language": "python",
   "name": "python3"
  },
  "language_info": {
   "codemirror_mode": {
    "name": "ipython",
    "version": 3
   },
   "file_extension": ".py",
   "mimetype": "text/x-python",
   "name": "python",
   "nbconvert_exporter": "python",
   "pygments_lexer": "ipython3",
   "version": "3.10.7"
  },
  "orig_nbformat": 4,
  "vscode": {
   "interpreter": {
    "hash": "e4434393e5ce7c6be21b057763801f3aacbc5b1ae01ea26fd365fd93e92b0c53"
   }
  }
 },
 "nbformat": 4,
 "nbformat_minor": 2
}
