{
 "cells": [
  {
   "cell_type": "markdown",
   "metadata": {},
   "source": [
    "## 반복문 (Loop)\n",
    "문장을 반복해서 실행한다.\n",
    "- for : 처음부터 한도 정해준다. (정적이다.)\n",
    "- while : 조건이 충족되는 한 계속 반복(동적이다.)"
   ]
  },
  {
   "cell_type": "markdown",
   "metadata": {},
   "source": [
    "### For loop"
   ]
  },
  {
   "cell_type": "code",
   "execution_count": null,
   "metadata": {},
   "outputs": [],
   "source": [
    "for 변수이름 in 반복기준 :\n",
    "    실행문1\n",
    "    실행문2\n",
    "    실행문3"
   ]
  },
  {
   "cell_type": "code",
   "execution_count": 1,
   "metadata": {},
   "outputs": [
    {
     "name": "stdout",
     "output_type": "stream",
     "text": [
      "1\n",
      "2\n",
      "3\n",
      "1\n",
      "2\n",
      "3\n"
     ]
    }
   ],
   "source": [
    "for i in [1, 2, 3]:\n",
    "    print(i)\n",
    "\n",
    "i = 1\n",
    "print(i)\n",
    "i = 2\n",
    "print(i)\n",
    "i = 3\n",
    "print(i)"
   ]
  },
  {
   "cell_type": "markdown",
   "metadata": {},
   "source": [
    "#### 참조하면 좋은 사이트:\n",
    "코드 시각화 https://pythontutor.com/"
   ]
  },
  {
   "cell_type": "code",
   "execution_count": 2,
   "metadata": {},
   "outputs": [
    {
     "name": "stdout",
     "output_type": "stream",
     "text": [
      "1\n",
      "3\n",
      "5\n",
      "7\n",
      "9\n"
     ]
    }
   ],
   "source": [
    "list1 = [1, 3, 5, 7, 9]\n",
    "for i in list1:\n",
    "    print(i)"
   ]
  },
  {
   "cell_type": "code",
   "execution_count": 3,
   "metadata": {},
   "outputs": [
    {
     "name": "stdout",
     "output_type": "stream",
     "text": [
      "5\n",
      "6\n",
      "7\n",
      "8\n",
      "9\n",
      "10\n"
     ]
    }
   ],
   "source": [
    "for i in range(5, 11): # 슬라이싱처럼, 시작점 포함, 끝점 불포함\n",
    "    print(i)"
   ]
  },
  {
   "cell_type": "code",
   "execution_count": 4,
   "metadata": {},
   "outputs": [
    {
     "name": "stdout",
     "output_type": "stream",
     "text": [
      "0\n",
      "1\n",
      "2\n",
      "3\n",
      "4\n",
      "5\n",
      "6\n",
      "7\n",
      "8\n",
      "9\n",
      "10\n"
     ]
    }
   ],
   "source": [
    "# range 함수를 사용하면 default 시작점이 0이다.\n",
    "for i in range(11):\n",
    "    print(i)"
   ]
  },
  {
   "cell_type": "code",
   "execution_count": 5,
   "metadata": {},
   "outputs": [
    {
     "name": "stdout",
     "output_type": "stream",
     "text": [
      "0\n",
      "3\n",
      "6\n",
      "9\n",
      "12\n",
      "15\n",
      "18\n"
     ]
    }
   ],
   "source": [
    "# 증가값도 조절 가능(기본값 = 1)\n",
    "for i in range(0, 20, 3):\n",
    "    print(i)"
   ]
  },
  {
   "cell_type": "code",
   "execution_count": 6,
   "metadata": {},
   "outputs": [
    {
     "name": "stdout",
     "output_type": "stream",
     "text": [
      "20\n",
      "16\n",
      "12\n",
      "8\n",
      "4\n",
      "0\n",
      "-4\n",
      "-8\n"
     ]
    }
   ],
   "source": [
    "for i in range(20, -10, -4):\n",
    "    print(i)"
   ]
  },
  {
   "cell_type": "code",
   "execution_count": 7,
   "metadata": {},
   "outputs": [
    {
     "name": "stdout",
     "output_type": "stream",
     "text": [
      "0\n",
      "1\n",
      "2\n",
      "3\n",
      "4\n"
     ]
    }
   ],
   "source": [
    "list1 = [1, 3, 5, 7, 9]\n",
    "\n",
    "for i in range(len(list1)):\n",
    "    print(i)"
   ]
  },
  {
   "cell_type": "code",
   "execution_count": null,
   "metadata": {},
   "outputs": [],
   "source": [
    "# len/range 함수를 사용해서 1부터 해당 갯수를 반복하고 싶다."
   ]
  },
  {
   "cell_type": "markdown",
   "metadata": {},
   "source": [
    "### while loop\n",
    "조건이 충족되는한 (True) 반복한다:\n",
    "- 조건이 충족되야지 시작한다.\n",
    "- 조건이 False로 바뀔 때까지 반복한다."
   ]
  },
  {
   "cell_type": "code",
   "execution_count": null,
   "metadata": {},
   "outputs": [],
   "source": [
    "while 조건:\n",
    "    실행문1\n",
    "    실행문2"
   ]
  },
  {
   "cell_type": "code",
   "execution_count": 9,
   "metadata": {},
   "outputs": [
    {
     "name": "stdout",
     "output_type": "stream",
     "text": [
      "실행완료\n"
     ]
    }
   ],
   "source": [
    "# 조건이 충족되야 시작한다.\n",
    "# 즉, 최소 한번이라도 실행하려면\n",
    "while False:\n",
    "    print(\"조건이 충족되지 않은 상태: 실행하지 않는다\")\n",
    "print(\"실행완료\")"
   ]
  },
  {
   "cell_type": "code",
   "execution_count": null,
   "metadata": {},
   "outputs": [],
   "source": [
    "# 조건이 False로 바뀔때 까지 반복한다.\n",
    "# exit 조건이 없다면 무한히 반복된다.\n",
    "\n",
    "while True:\n",
    "    print(\"exit 조건이 없다면 무한히 반복된다.\")\n",
    "print(\"실행완료\")"
   ]
  },
  {
   "cell_type": "code",
   "execution_count": 1,
   "metadata": {},
   "outputs": [
    {
     "name": "stdout",
     "output_type": "stream",
     "text": [
      "3\n",
      "4\n",
      "5\n",
      "6\n",
      "7\n",
      "8\n",
      "9\n"
     ]
    }
   ],
   "source": [
    "# 주의 : while 반복문을 만들 때는 반드시 1. 초기 조건을 만족하고 2. 탈출 조건을 단들어 줘야 한다.\n",
    "no = 3\n",
    "\n",
    "while no <10:\n",
    "    print(no)\n",
    "    no += 1"
   ]
  },
  {
   "cell_type": "markdown",
   "metadata": {},
   "source": [
    "### Continue/Break\n",
    "- continue : 해당 회차만 skip\n",
    "- break : 해당 회차를 포함한 반복문 전체를 끝낸다.\n",
    "    - 조건이 만족되던 안되던 break."
   ]
  },
  {
   "cell_type": "code",
   "execution_count": 2,
   "metadata": {},
   "outputs": [
    {
     "name": "stdout",
     "output_type": "stream",
     "text": [
      "apple\n",
      "banana\n",
      "concord\n",
      "cucumber\n",
      "peach\n",
      "grapes\n"
     ]
    }
   ],
   "source": [
    "fruits = ['apple', 'banana', 'concord', 'cucumber', 'peach', 'grapes']\n",
    "\n",
    "for i in fruits:\n",
    "    print(i)"
   ]
  },
  {
   "cell_type": "code",
   "execution_count": 3,
   "metadata": {},
   "outputs": [
    {
     "name": "stdout",
     "output_type": "stream",
     "text": [
      "apple\n",
      "banana\n",
      "concord\n",
      "peach\n",
      "grapes\n"
     ]
    }
   ],
   "source": [
    "fruits = ['apple', 'banana', 'concord', 'cucumber', 'peach', 'grapes']\n",
    "\n",
    "for i in fruits:\n",
    "    if i == 'cucumber':\n",
    "        continue\n",
    "    print(i)"
   ]
  },
  {
   "cell_type": "code",
   "execution_count": 4,
   "metadata": {},
   "outputs": [
    {
     "name": "stdout",
     "output_type": "stream",
     "text": [
      "apple\n",
      "banana\n",
      "concord\n"
     ]
    }
   ],
   "source": [
    "fruits = ['apple', 'banana', 'concord', 'cucumber', 'peach', 'grapes']\n",
    "\n",
    "for i in fruits:\n",
    "    if i == 'cucumber':\n",
    "        break\n",
    "    print(i)"
   ]
  },
  {
   "cell_type": "code",
   "execution_count": 5,
   "metadata": {},
   "outputs": [
    {
     "name": "stdout",
     "output_type": "stream",
     "text": [
      "apple\n",
      "banana\n",
      "cucmber\n"
     ]
    }
   ],
   "source": [
    "while True:\n",
    "    i = input(\"과일을 입력하세요\")\n",
    "    if i == \"cucumber\":\n",
    "        break\n",
    "    print(i)"
   ]
  },
  {
   "cell_type": "markdown",
   "metadata": {},
   "source": [
    "#### 연습문제\n",
    "\n",
    "1. 숫자 1개를 입력받아서 해당 숫자의 단에 해당하는 구구단을 출력하세요."
   ]
  },
  {
   "cell_type": "code",
   "execution_count": 8,
   "metadata": {},
   "outputs": [
    {
     "name": "stdout",
     "output_type": "stream",
     "text": [
      "5 X 1 = 5\n",
      "5 X 2 = 10\n",
      "5 X 3 = 15\n",
      "5 X 4 = 20\n",
      "5 X 5 = 25\n",
      "5 X 6 = 30\n",
      "5 X 7 = 35\n",
      "5 X 8 = 40\n",
      "5 X 9 = 45\n"
     ]
    }
   ],
   "source": [
    "num = int(input(\"숫자를 입력하세요: \"))\n",
    "\n",
    "for i in range(9):\n",
    "    print(\"%s X %s = %s\" %(num, i+1, num*(i+1)))"
   ]
  },
  {
   "cell_type": "markdown",
   "metadata": {},
   "source": [
    "2. 숫자 1개를 입력받아서 1부터 해당 숫자 사이의 짝수/홀수만 출력하도록 코드를 작성하세요.\n",
    "(짝수 출력 코드와 홀수 출력 코드를 따로 작성해도 됩니다.)"
   ]
  },
  {
   "cell_type": "code",
   "execution_count": 15,
   "metadata": {},
   "outputs": [
    {
     "name": "stdout",
     "output_type": "stream",
     "text": [
      "2\n",
      "4\n",
      "6\n",
      "8\n",
      "10\n",
      "1\n",
      "3\n",
      "5\n",
      "7\n",
      "9\n"
     ]
    }
   ],
   "source": [
    "num = int(input(\"숫자를 입력하세요: \"))\n",
    "\n",
    "def even(num):\n",
    "    for i in range(num):\n",
    "        if (i+1) % 2 == 0:\n",
    "            print(i+1)\n",
    "def odd(num):\n",
    "     for i in range(num):\n",
    "        if (i+1) % 2 != 0:\n",
    "            print(i+1) \n",
    "\n",
    "even(num)\n",
    "odd(num)                       "
   ]
  },
  {
   "cell_type": "markdown",
   "metadata": {},
   "source": [
    "3. 숫자 1개를 입력받아서 해당 숫자의 단에 해당하는 구구단을 while 반복문으로 출력하세요."
   ]
  },
  {
   "cell_type": "code",
   "execution_count": 1,
   "metadata": {},
   "outputs": [
    {
     "name": "stdout",
     "output_type": "stream",
     "text": [
      "3 X 1 = 3\n",
      "3 X 2 = 6\n",
      "3 X 3 = 9\n",
      "3 X 4 = 12\n",
      "3 X 5 = 15\n",
      "3 X 6 = 18\n",
      "3 X 7 = 21\n",
      "3 X 8 = 24\n",
      "3 X 9 = 27\n"
     ]
    }
   ],
   "source": [
    "num = int(input(\"숫자를 입력하세요: \"))\n",
    "\n",
    "i = 1\n",
    "while i < 10:\n",
    "    print(\"%s X %s = %s\" %(num, i, num*i))\n",
    "    i += 1"
   ]
  },
  {
   "cell_type": "markdown",
   "metadata": {},
   "source": [
    "4. 아래 예시와 같이 stu2 변수에 '홍길동, 일지매, 유관순'의 문자열 리스트로 할당하여 현재 수강신청 명단으로 보여준 후 아래의 결과 화면 예시와 같이\n",
    "학생의 이름을 입력 받아서 이름을 수정하여 출력하도록 코드를 작성하세요."
   ]
  },
  {
   "cell_type": "code",
   "execution_count": 2,
   "metadata": {},
   "outputs": [
    {
     "name": "stdout",
     "output_type": "stream",
     "text": [
      "현재 이 과목의 수강 신청자는 ['홍길동', '일지매', '유관순'] 입니다.\n",
      "요청하신대로 홍길동을 전우치(으)로 변경하였습니다.\n"
     ]
    },
    {
     "data": {
      "text/plain": [
       "['전우치', '일지매', '유관순']"
      ]
     },
     "execution_count": 2,
     "metadata": {},
     "output_type": "execute_result"
    }
   ],
   "source": [
    "stu2 = ['홍길동', '일지매', '유관순']\n",
    "print(\"현재 이 과목의 수강 신청자는\", stu2, \"입니다.\")\n",
    "\n",
    "preName = input(\"변경전 이름을 입력하세요: \")\n",
    "postName = input(\"변경전 이름을 입력하세요: \")\n",
    "\n",
    "idx = stu2.index(preName)\n",
    "stu2[idx] = postName\n",
    "\n",
    "print(\"요청하신대로 %s을 %s(으)로 변경하였습니다.\" %(preName, postName))\n",
    "stu2"
   ]
  },
  {
   "cell_type": "markdown",
   "metadata": {},
   "source": [
    "5. 아래 그림의 3, 4번 행과 같은 리스트가 있습니다. 이 리스트를 for 반복문을 활용하여 아래의 결과와 같이 출력되도록 아래의 코드를 완성하세요."
   ]
  },
  {
   "cell_type": "code",
   "execution_count": 4,
   "metadata": {},
   "outputs": [
    {
     "name": "stdout",
     "output_type": "stream",
     "text": [
      "1페이지의 1번 글입니다.\n",
      "1페이지의 2번 글입니다.\n",
      "1페이지의 3번 글입니다.\n",
      "1페이지의 4번 글입니다.\n",
      "1페이지의 5번 글입니다.\n",
      "-----------------\n",
      "2페이지의 1번 글입니다.\n",
      "2페이지의 2번 글입니다.\n",
      "2페이지의 3번 글입니다.\n",
      "2페이지의 4번 글입니다.\n",
      "2페이지의 5번 글입니다.\n",
      "-----------------\n",
      "3페이지의 1번 글입니다.\n",
      "3페이지의 2번 글입니다.\n",
      "3페이지의 3번 글입니다.\n",
      "3페이지의 4번 글입니다.\n",
      "3페이지의 5번 글입니다.\n",
      "-----------------\n"
     ]
    }
   ],
   "source": [
    "page_no = [1, 2, 3]\n",
    "test_no = [1, 2, 3, 4, 5]\n",
    "\n",
    "for i in page_no:\n",
    "    for j in test_no:\n",
    "        print(\"%s페이지의 %s번 글입니다.\" %(i, j))\n",
    "    print(\"-----------------\")    "
   ]
  },
  {
   "cell_type": "markdown",
   "metadata": {},
   "source": [
    "6. 아래 코드의 3, 4, 5, 6번 행처럼 리스트가 존재합니다. 조거문 for 반복문을 사용하여 아래의 결과처럼 나오도록 아래의 빈칸 코드를 완성하세요."
   ]
  },
  {
   "cell_type": "code",
   "execution_count": 7,
   "metadata": {},
   "outputs": [
    {
     "name": "stdout",
     "output_type": "stream",
     "text": [
      "1반 : 홍길동\n",
      "1반 : 일지매\n",
      "1반 : 전우치\n",
      "==============\n",
      "2반 : 유관순\n",
      "2반 : 신사임당\n",
      "2반 : 어우동\n",
      "==============\n",
      "3반 : 강감찬\n",
      "3반 : 광개토대왕\n",
      "3반 : 김구\n",
      "==============\n"
     ]
    }
   ],
   "source": [
    "class_name = ['1반', '2반', '3반']\n",
    "name1 = ['홍길동', '일지매', '전우치']\n",
    "name2 = ['유관순', '신사임당', '어우동']\n",
    "name3 = ['강감찬', '광개토대왕', '김구']\n",
    "\n",
    "for i in class_name:\n",
    "    if i == '1반':\n",
    "        for j in name1:\n",
    "            print(\"%s : %s\" %(i, j))\n",
    "        print('==============')\n",
    "    elif i == '2반':\n",
    "        for j in name2:\n",
    "            print(\"%s : %s\" %(i, j))\n",
    "        print('==============')    \n",
    "    else:\n",
    "        for j in name3:\n",
    "            print(\"%s : %s\" %(i, j))\n",
    "        print('==============')"
   ]
  },
  {
   "cell_type": "markdown",
   "metadata": {},
   "source": [
    "7. 아래 그림과 같이 메뉴이름과 가격을 보여준 후 주문할 메뉴 번호를 입력받고 주문 수량을 입력 받아서 주문 내역을 요약해서 출력하고 추가 주문을 받겠습니까?를 물어본 후 사용자가 \"Y\"나 \"y\"를 입력하면 주문화면을 다시 보여주고 그 외 다른 글자를 입력하면 주문을 종료하도록 코드를 작성하세요"
   ]
  },
  {
   "cell_type": "code",
   "execution_count": 8,
   "metadata": {},
   "outputs": [
    {
     "name": "stdout",
     "output_type": "stream",
     "text": [
      "1. 짜장명 - 5,000원    2. 짬뽕 - 6,000원\n",
      "3. 군만두 - 8,000원    4. 탕수육 - 10,000원\n",
      "주문하신 메뉴는 짜장면이고 주문 수량은 2그릇이며 주문금액은 10000입니다.\n",
      "주문하신 메뉴는 짜장면이고 주문 수량은 2그릇이며 주문금액은 10000입니다.\n"
     ]
    }
   ],
   "source": [
    "print(\"1. 짜장명 - 5,000원    2. 짬뽕 - 6,000원\")\n",
    "print(\"3. 군만두 - 8,000원    4. 탕수육 - 10,000원\")\n",
    "\n",
    "while True:\n",
    "    menu = int(input(\"1. 위 메뉴 중 주문할 메뉴의 번호를 쓰세요: \"))\n",
    "    count = int(input(\"2. 위 메뉴의 주문 수량을 쓰세요: \"))\n",
    "\n",
    "    if menu == 1:\n",
    "        menu = \"짜장면\"\n",
    "        price = 5000\n",
    "    elif menu == 2:\n",
    "        menu = \"짬뽕\"\n",
    "        price = 6000\n",
    "    elif menu == 30:\n",
    "        menu = \"군만두\"\n",
    "        price = 8000\n",
    "    else:\n",
    "        menu = \"탕수육\"\n",
    "        price = 10000        \n",
    "\n",
    "    print(\"주문하신 메뉴는 %s이고 주문 수량은 %d그릇이며 주문금액은 %d입니다.\" %(menu, count, price*count))\n",
    "\n",
    "    reorder = input(\"3. 추가 주문을 하시겠습니까?(Y / N): \")\n",
    "\n",
    "    if reorder == 'Y' or reorder == 'y':\n",
    "        continue\n",
    "    else: \n",
    "        break"
   ]
  },
  {
   "cell_type": "markdown",
   "metadata": {},
   "source": [
    "8. 연습문제 7에서 추가 주문을 받는 횟수가 3회가 넘을 시 아래와 같은 메시지를 보이면서 종료되도록 코드를 수정하세요."
   ]
  },
  {
   "cell_type": "code",
   "execution_count": 13,
   "metadata": {},
   "outputs": [
    {
     "name": "stdout",
     "output_type": "stream",
     "text": [
      "1. 짜장명 - 5,000원    2. 짬뽕 - 6,000원\n",
      "3. 군만두 - 8,000원    4. 탕수육 - 10,000원\n",
      "주문하신 메뉴는 짜장면이고 주문 수량은 1그릇이며 주문금액은 5000입니다.\n",
      "주문하신 메뉴는 짜장면이고 주문 수량은 1그릇이며 주문금액은 5000입니다.\n",
      "주문하신 메뉴는 짜장면이고 주문 수량은 1그릇이며 주문금액은 5000입니다.\n",
      "주문하신 메뉴는 짜장면이고 주문 수량은 1그릇이며 주문금액은 5000입니다.\n",
      "추가 주문은 총 3회까지만 가능합니다.\n"
     ]
    }
   ],
   "source": [
    "print(\"1. 짜장명 - 5,000원    2. 짬뽕 - 6,000원\")\n",
    "print(\"3. 군만두 - 8,000원    4. 탕수육 - 10,000원\")\n",
    "\n",
    "chance = 0\n",
    "\n",
    "while True:\n",
    "    if chance == 4:\n",
    "        print(\"추가 주문은 총 3회까지만 가능합니다.\")\n",
    "        break\n",
    "\n",
    "    menu = int(input(\"1. 위 메뉴 중 주문할 메뉴의 번호를 쓰세요: \"))\n",
    "    count = int(input(\"2. 위 메뉴의 주문 수량을 쓰세요: \"))\n",
    "\n",
    "    if menu == 1:\n",
    "        menu = \"짜장면\"\n",
    "        price = 5000\n",
    "    elif menu == 2:\n",
    "        menu = \"짬뽕\"\n",
    "        price = 6000\n",
    "    elif menu == 30:\n",
    "        menu = \"군만두\"\n",
    "        price = 8000\n",
    "    else:\n",
    "        menu = \"탕수육\"\n",
    "        price = 10000        \n",
    "\n",
    "    print(\"주문하신 메뉴는 %s이고 주문 수량은 %d그릇이며 주문금액은 %d입니다.\" %(menu, count, price*count))\n",
    "\n",
    "    reorder = input(\"3. 추가 주문을 하시겠습니까?(Y / N): \")\n",
    "\n",
    "    if reorder == 'Y' or reorder == 'y':\n",
    "        chance += 1\n",
    "    else: \n",
    "        break"
   ]
  },
  {
   "cell_type": "markdown",
   "metadata": {},
   "source": [
    "9. 학생들의 평균 키를 계산하여라\n",
    "\n",
    "조건 : 입력할 학생수를 먼저 물어보고 그 수만큼 입력을 받을 것, 한 번 입력/계산이 왼료되면 다시 계산할 것인지 의사를 물어볼 것(y/n) 이때 대/소문자 y/n을 제외한 입력이 들어오면 \"Y나 N만 입력하시오\" 라고 출력하고 다시 의사를 물어볼 것 대/소문자 관계없이 반복문을 수행할 수 있어야 함"
   ]
  },
  {
   "cell_type": "code",
   "execution_count": 1,
   "metadata": {},
   "outputs": [
    {
     "name": "stdout",
     "output_type": "stream",
     "text": [
      "149.5\n",
      "130.0\n"
     ]
    }
   ],
   "source": [
    "count = int(input(\"학생 수를 입력하세요: \"))\n",
    "\n",
    "def heightCount(count):\n",
    "    total = 0\n",
    "\n",
    "    for i in range(count):\n",
    "        height = int(input(\"학생의 키를 입력하세요: \"))\n",
    "        total += height\n",
    "    total = total / count    \n",
    "    print(total)    \n",
    "    return total\n",
    "\n",
    "heightCount(count)\n",
    "\n",
    "while True:\n",
    "    reCount = input(\"다시 계산하시겠습니까? (y / n)\")\n",
    "    if reCount == 'Y' or reCount == 'y':\n",
    "        heightCount(count)\n",
    "    elif reCount == 'N' or reCount == 'n':\n",
    "        break\n",
    "    else:\n",
    "        print(\"Y나 N만 입력하세요.\")"
   ]
  },
  {
   "cell_type": "markdown",
   "metadata": {},
   "source": [
    "실전문제 : \n",
    "주어진 리스트를 활용하여 문자/특수문자/숫자로 이루어진 비밀번호를 랜덤하게 생성해 주는 코드를 만들어라. 이때 문자/특수문자/숫자의 수는 사용자에게서 입력 받는다."
   ]
  },
  {
   "cell_type": "code",
   "execution_count": null,
   "metadata": {},
   "outputs": [],
   "source": [
    "#주어진 리스트\n",
    "letters = ['a', 'b', 'c', 'd', 'e', 'f', 'g', 'h', 'i', 'j', 'k', 'l', 'm', 'n', 'o', 'p', 'q', 'r', 's', 't', 'u', 'v', 'w', 'x', 'y', 'z', 'A', 'B', 'C', 'D', 'E', 'F', 'G', 'H', 'I', 'J', 'K', 'L', 'M', 'N', 'O', 'P', 'Q', 'R', 'S', 'T', 'U', 'V', 'W', 'X', 'Y', 'Z']\n",
    "numbers = ['0', '1', '2', '3', '4', '5', '6', '7', '8', '9']\n",
    "symbols = ['!', '#', '$', '%', '&', '(', ')', '*', '+']\n",
    "\n",
    "lettersNum = int(input())\n",
    "numbersNum = int(input())\n",
    "symbolsNum = int(input())\n",
    "\n",
    "import random\n",
    "\n",
    "# 랜덤하게 배열에서 선택해서 하나의 리스트에 넣어준다."
   ]
  },
  {
   "cell_type": "markdown",
   "metadata": {},
   "source": [
    "### 사용자 정의 함수\n",
    "- 함수 : 공구 <- set of actions을 담아두는 그릇.\n",
    "- 모듈 : 공구통\n",
    "- 사용자 정의 함수 : DIY 공구\n",
    "\n",
    "입력 - 처리(set of actions) - 출력"
   ]
  },
  {
   "cell_type": "code",
   "execution_count": null,
   "metadata": {},
   "outputs": [],
   "source": [
    "def 함수이름():\n",
    "    실행문"
   ]
  },
  {
   "cell_type": "code",
   "execution_count": null,
   "metadata": {},
   "outputs": [],
   "source": [
    "def 함수이름(인자):\n",
    "    실행문\n",
    "    return 출력"
   ]
  },
  {
   "cell_type": "code",
   "execution_count": null,
   "metadata": {},
   "outputs": [],
   "source": [
    "# 1. 사용자 정의 함수 선언 <- 행동을 저장한다.\n",
    "def 함수이름():\n",
    "    print(\"이 문장은 함수이름() 함수를 실행하면 출력됩니다.\")\n",
    "\n",
    "# 2. 선언된 함수 실행\n",
    "함수이름()"
   ]
  },
  {
   "cell_type": "markdown",
   "metadata": {},
   "source": [
    "### 사용자 정의 함수 Scope()\n",
    "- Local Scope(variable) : 사용자 정의 함수 안에서만 사용되는 함수\n",
    "- Global Scope(variable) : 프로그램 전체에서 사용되는 변수"
   ]
  },
  {
   "cell_type": "code",
   "execution_count": 2,
   "metadata": {},
   "outputs": [
    {
     "ename": "NameError",
     "evalue": "name 'enemies' is not defined",
     "output_type": "error",
     "traceback": [
      "\u001b[1;31m---------------------------------------------------------------------------\u001b[0m",
      "\u001b[1;31mNameError\u001b[0m                                 Traceback (most recent call last)",
      "Cell \u001b[1;32mIn [2], line 6\u001b[0m\n\u001b[0;32m      3\u001b[0m     enemies \u001b[39m=\u001b[39m \u001b[39m3\u001b[39m\n\u001b[0;32m      4\u001b[0m     \u001b[39mprint\u001b[39m(\u001b[39mf\u001b[39m\u001b[39m\"\u001b[39m\u001b[39m스켈레톤 \u001b[39m\u001b[39m{\u001b[39;00menemies\u001b[39m}\u001b[39;00m\u001b[39m마리와 마주쳤다.\u001b[39m\u001b[39m\"\u001b[39m)\n\u001b[1;32m----> 6\u001b[0m \u001b[39mprint\u001b[39m(\u001b[39mf\u001b[39m\u001b[39m\"\u001b[39m\u001b[39m스켈레톤 \u001b[39m\u001b[39m{\u001b[39;00menemies\u001b[39m}\u001b[39;00m\u001b[39m마리와 마주쳤다.\u001b[39m\u001b[39m\"\u001b[39m)\n",
      "\u001b[1;31mNameError\u001b[0m: name 'enemies' is not defined"
     ]
    }
   ],
   "source": [
    "# 사용자 정의 함수 내에서 발생하는 변수는 바깥세상으로 나갈 수 없다.\n",
    "def increase_enemies():\n",
    "    enemies = 3\n",
    "    print(f\"스켈레톤 {enemies}마리와 마주쳤다.\")\n",
    "\n",
    "print(f\"스켈레톤 {enemies}마리와 마주쳤다.\")    "
   ]
  },
  {
   "cell_type": "code",
   "execution_count": 3,
   "metadata": {},
   "outputs": [
    {
     "name": "stdout",
     "output_type": "stream",
     "text": [
      "스켈레톤 3마리와 마주쳤다.\n"
     ]
    }
   ],
   "source": [
    "enemies = 3\n",
    "print(f\"스켈레톤 {enemies}마리와 마주쳤다.\")\n",
    "\n",
    "def increase_enemies():\n",
    "    print(f\"스켈레톤 {enemies}마리와 마주쳤다.\")"
   ]
  },
  {
   "cell_type": "code",
   "execution_count": 4,
   "metadata": {},
   "outputs": [
    {
     "name": "stdout",
     "output_type": "stream",
     "text": [
      "스켈레톤 3마리와 마주쳤다.\n"
     ]
    }
   ],
   "source": [
    "# 사용자 정의 함수 내에서 발생하는 변수는 바깥 세상으로 나갈 수 가 없다.\n",
    "# 밖으로 나가려면 선택 받아야 한다.\n",
    "def increase_enemies():\n",
    "    global enemies\n",
    "    enemies = 3\n",
    "    print(f\"스켈레톤 {enemies}마리와 마주쳤다.\")\n",
    "\n",
    "print(f\"스켈레톤 {enemies}마리와 마주쳤다.\")    "
   ]
  },
  {
   "cell_type": "code",
   "execution_count": 5,
   "metadata": {},
   "outputs": [
    {
     "name": "stdout",
     "output_type": "stream",
     "text": [
      "스켈레톤 3마리와 마주쳤다.\n",
      "스켈레톤 3마리와 마주쳤다.\n"
     ]
    },
    {
     "ename": "NameError",
     "evalue": "name 'enemies2' is not defined",
     "output_type": "error",
     "traceback": [
      "\u001b[1;31m---------------------------------------------------------------------------\u001b[0m",
      "\u001b[1;31mNameError\u001b[0m                                 Traceback (most recent call last)",
      "Cell \u001b[1;32mIn [5], line 13\u001b[0m\n\u001b[0;32m     10\u001b[0m \u001b[39mprint\u001b[39m(\u001b[39mf\u001b[39m\u001b[39m\"\u001b[39m\u001b[39m스켈레톤 \u001b[39m\u001b[39m{\u001b[39;00mnum_enemies\u001b[39m}\u001b[39;00m\u001b[39m마리와 마주쳤다.\u001b[39m\u001b[39m\"\u001b[39m)\n\u001b[0;32m     12\u001b[0m \u001b[39m# 변수 자체를 내보내지는 않기 때문에 이 부분에서 에러가 난다,\u001b[39;00m\n\u001b[1;32m---> 13\u001b[0m \u001b[39mprint\u001b[39m(\u001b[39mf\u001b[39m\u001b[39m\"\u001b[39m\u001b[39m스켈레톤 \u001b[39m\u001b[39m{\u001b[39;00menemies2\u001b[39m}\u001b[39;00m\u001b[39m마리와 마주쳤다.\u001b[39m\u001b[39m\"\u001b[39m)\n",
      "\u001b[1;31mNameError\u001b[0m: name 'enemies2' is not defined"
     ]
    }
   ],
   "source": [
    "# Q : 리턴으로 변수를 내보낼 수 있나?\n",
    "# A : 리턴은 \"값\"을 내볼낼 수 있으나 변수를 내보내지는 않는다.\n",
    "def increase_enemies():\n",
    "    enemies2 = 3\n",
    "    print(f\"스켈레톤 {enemies2}마리와 마주쳤다.\")\n",
    "    # return은 변수를 출력하는게 아니고 \"값\"만 내보낸다.\n",
    "    return enemies2 \n",
    "\n",
    "num_enemies = increase_enemies() # == 3 함수에서 내보낸 값을 변수에 다시 담아 활용할 수는 있다.\n",
    "print(f\"스켈레톤 {num_enemies}마리와 마주쳤다.\")\n",
    "\n",
    "# 변수 자체를 내보내지는 않기 때문에 이 부분에서 에러가 난다,\n",
    "print(f\"스켈레톤 {enemies2}마리와 마주쳤다.\")"
   ]
  },
  {
   "cell_type": "code",
   "execution_count": 6,
   "metadata": {},
   "outputs": [
    {
     "data": {
      "text/plain": [
       "3"
      ]
     },
     "execution_count": 6,
     "metadata": {},
     "output_type": "execute_result"
    }
   ],
   "source": [
    "enemies"
   ]
  },
  {
   "cell_type": "markdown",
   "metadata": {},
   "source": [
    "실습 : \n",
    "* 숫자 맞추는 게임 = > 난이도 hard/easy\n",
    "* 숫자는 1~99사이의 정수\n",
    "* 사용자가 숫자를 말하면 UP/DOWN을 말해준다.\n",
    "* 사용자가 숫자를 정확하게 맞추면 승리.\n",
    "\n",
    "* Hardmode = 시도가능횟수 : 5 , hard모드에서 실패하면 자동으로 easy 모드로 재시작.\n",
    "\n",
    "* Easymode = 시도가능횟수 : 10"
   ]
  },
  {
   "cell_type": "code",
   "execution_count": null,
   "metadata": {},
   "outputs": [],
   "source": []
  }
 ],
 "metadata": {
  "kernelspec": {
   "display_name": "Python 3.10.7 64-bit",
   "language": "python",
   "name": "python3"
  },
  "language_info": {
   "codemirror_mode": {
    "name": "ipython",
    "version": 3
   },
   "file_extension": ".py",
   "mimetype": "text/x-python",
   "name": "python",
   "nbconvert_exporter": "python",
   "pygments_lexer": "ipython3",
   "version": "3.10.7"
  },
  "orig_nbformat": 4,
  "vscode": {
   "interpreter": {
    "hash": "e4434393e5ce7c6be21b057763801f3aacbc5b1ae01ea26fd365fd93e92b0c53"
   }
  }
 },
 "nbformat": 4,
 "nbformat_minor": 2
}
