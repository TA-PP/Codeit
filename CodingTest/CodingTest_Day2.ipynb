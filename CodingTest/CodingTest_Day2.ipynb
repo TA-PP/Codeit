{
 "cells": [
  {
   "cell_type": "markdown",
   "metadata": {},
   "source": [
    "## 조건문\n",
    "- 조건이 만족될 때(부울값 = True) 특정 작업을 실시한다."
   ]
  },
  {
   "cell_type": "code",
   "execution_count": null,
   "metadata": {},
   "outputs": [],
   "source": [
    "# 문법\n",
    "실행문0\n",
    "\n",
    "if 조건: # if 조건 == True: (이라면)\n",
    "    실행할 문장 1\n",
    "    실행할 문자 2\n",
    "    실행할 문장 3\n",
    "\n",
    "실행문4"
   ]
  },
  {
   "cell_type": "markdown",
   "metadata": {},
   "source": [
    "### 논리연산자.\n",
    "- True/False로 답이 되는 연산자"
   ]
  },
  {
   "cell_type": "code",
   "execution_count": 4,
   "metadata": {},
   "outputs": [
    {
     "name": "stdout",
     "output_type": "stream",
     "text": [
      "10 11\n",
      "False\n",
      "True\n",
      "False\n",
      "True\n",
      "False\n",
      "True\n"
     ]
    },
    {
     "data": {
      "text/plain": [
       "bool"
      ]
     },
     "execution_count": 4,
     "metadata": {},
     "output_type": "execute_result"
    }
   ],
   "source": [
    "a = 10\n",
    "b = 11\n",
    "print(a, b)\n",
    "\n",
    "print(a == b)\n",
    "print(a != b)\n",
    "print(a > b)\n",
    "print(a < b)\n",
    "print(a >= b)\n",
    "print(a <= b)\n",
    "\n",
    "type(a==b)"
   ]
  },
  {
   "cell_type": "code",
   "execution_count": 1,
   "metadata": {},
   "outputs": [
    {
     "name": "stdout",
     "output_type": "stream",
     "text": [
      "True\n",
      "a와 b는 같다.\n"
     ]
    }
   ],
   "source": [
    "a = 10\n",
    "b = 10\n",
    "\n",
    "print(a == b)\n",
    "if a == b:\n",
    "    print(\"a와 b는 같다.\")"
   ]
  },
  {
   "cell_type": "code",
   "execution_count": 3,
   "metadata": {},
   "outputs": [
    {
     "name": "stdout",
     "output_type": "stream",
     "text": [
      "조건문 실행\n"
     ]
    }
   ],
   "source": [
    "c = True\n",
    "type(c)\n",
    "\n",
    "if c:\n",
    "    print(\"조건문 실행\")"
   ]
  },
  {
   "cell_type": "markdown",
   "metadata": {},
   "source": [
    "### 조건이 하나 이상일 때:\n",
    "- if/else/elif 사용\n",
    "- and/or 사용\n",
    "- nested if (if 안에 if)"
   ]
  },
  {
   "cell_type": "markdown",
   "metadata": {},
   "source": [
    "### if / else / elif 사용\n",
    "if / else / elit\n",
    "- if가 가장 먼저\n",
    "- else : 마지막에. 나머지 모든 조건.\n",
    "- elif : 중간 조건들 모두 elif 사용"
   ]
  },
  {
   "cell_type": "code",
   "execution_count": null,
   "metadata": {},
   "outputs": [],
   "source": [
    "# 조건 1개\n",
    "if 조건1:\n",
    "    실행문1\n",
    "\n",
    "# 조건 2개\n",
    "if 조건1:\n",
    "    실행문1\n",
    "else: # 특정하지 않은 조건을 제외하고 나머지 전부.\n",
    "    실행문 2\n",
    "\n",
    "# 조건 3개 : 처음 if, 마지막 else, 중간 전부 elif\n",
    "if 조건1:\n",
    "    실행문1\n",
    "elif 조건2:\n",
    "    실행문2\n",
    "\n",
    "...\n",
    "\n",
    "elif 조건n-1:\n",
    "    실행문n-1\n",
    "else: \n",
    "    실행문 n"
   ]
  },
  {
   "cell_type": "markdown",
   "metadata": {},
   "source": [
    "### 다중조건 : and / or 사용\n",
    "- 조건a and 조건b: a와 b \"모두: True여야 True가 된다. <- 조건이 엄격해진다.\n",
    "- 조건a or 조건b: a 혹은 b 중 하나만 True여도 True가 된다. <- 조건이 유해진다."
   ]
  },
  {
   "cell_type": "code",
   "execution_count": 6,
   "metadata": {},
   "outputs": [
    {
     "data": {
      "text/plain": [
       "False"
      ]
     },
     "execution_count": 6,
     "metadata": {},
     "output_type": "execute_result"
    }
   ],
   "source": [
    "a = True\n",
    "b = False\n",
    "a and b"
   ]
  },
  {
   "cell_type": "code",
   "execution_count": 7,
   "metadata": {},
   "outputs": [
    {
     "data": {
      "text/plain": [
       "False"
      ]
     },
     "execution_count": 7,
     "metadata": {},
     "output_type": "execute_result"
    }
   ],
   "source": [
    "a = True\n",
    "b = False\n",
    "c = True\n",
    "a and b and c"
   ]
  },
  {
   "cell_type": "code",
   "execution_count": 8,
   "metadata": {},
   "outputs": [
    {
     "data": {
      "text/plain": [
       "True"
      ]
     },
     "execution_count": 8,
     "metadata": {},
     "output_type": "execute_result"
    }
   ],
   "source": [
    "a = True\n",
    "b = False\n",
    "c = True\n",
    "a or b or c"
   ]
  },
  {
   "cell_type": "code",
   "execution_count": 9,
   "metadata": {},
   "outputs": [
    {
     "name": "stdout",
     "output_type": "stream",
     "text": [
      "잘 먹겠습니다.\n"
     ]
    }
   ],
   "source": [
    "토핑1 = '페퍼로니'\n",
    "토핑2 = '파인애플'\n",
    "\n",
    "if 토핑1 == '페퍼로니' and 토핑2 == '파인애플':\n",
    "    print(\"잘 먹겠습니다.\")\n",
    "else:\n",
    "    print(\"안먹을래\")"
   ]
  },
  {
   "cell_type": "code",
   "execution_count": 10,
   "metadata": {},
   "outputs": [
    {
     "name": "stdout",
     "output_type": "stream",
     "text": [
      "안먹을래\n"
     ]
    }
   ],
   "source": [
    "토핑1 = '페퍼로니'\n",
    "토핑2 = '멸치'\n",
    "\n",
    "if 토핑1 == '페퍼로니' and 토핑2 == '파인애플':\n",
    "    print(\"잘 먹겠습니다.\")\n",
    "else:\n",
    "    print(\"안먹을래\")"
   ]
  },
  {
   "cell_type": "code",
   "execution_count": 11,
   "metadata": {},
   "outputs": [
    {
     "name": "stdout",
     "output_type": "stream",
     "text": [
      "안먹을래\n"
     ]
    }
   ],
   "source": [
    "토핑1 = '페퍼로니'\n",
    "토핑2 = ''\n",
    "\n",
    "if 토핑1 == '페퍼로니' and 토핑2 == '파인애플':\n",
    "    print(\"잘 먹겠습니다.\")\n",
    "else:\n",
    "    print(\"안먹을래\")"
   ]
  },
  {
   "cell_type": "code",
   "execution_count": 12,
   "metadata": {},
   "outputs": [
    {
     "name": "stdout",
     "output_type": "stream",
     "text": [
      "잘 먹겠습니다.\n"
     ]
    }
   ],
   "source": [
    "토핑1 = '페퍼로니'\n",
    "토핑2 = '파인애플'\n",
    "\n",
    "if 토핑1 == '페퍼로니' or 토핑2 == '파인애플':\n",
    "    print(\"잘 먹겠습니다.\")\n",
    "else:\n",
    "    print(\"안먹을래\")"
   ]
  },
  {
   "cell_type": "code",
   "execution_count": 15,
   "metadata": {},
   "outputs": [
    {
     "name": "stdout",
     "output_type": "stream",
     "text": [
      "안먹을래\n"
     ]
    }
   ],
   "source": [
    "# 주의\n",
    "# 친구가 피자를 사왔다. 페퍼로니나 파인애플 토핑이라면 먹을 것이다.\n",
    "# 친구에게서 토핑을 입력받아 먹을 것인지 안 먹을 것인지를 판단하라.\n",
    "\n",
    "토핑 = input(\"무슨 토핑 사왔어?\")\n",
    "\n",
    "if 토핑 == '페퍼로니' or 토핑 == '파인애플':\n",
    "    print(\"잘 먹겠습니다.\")\n",
    "else:\n",
    "    print(\"안먹을래\")"
   ]
  },
  {
   "cell_type": "markdown",
   "metadata": {},
   "source": [
    "### NESTED IF"
   ]
  },
  {
   "cell_type": "code",
   "execution_count": 14,
   "metadata": {},
   "outputs": [
    {
     "ename": "SyntaxError",
     "evalue": "incomplete input (2691791795.py, line 3)",
     "output_type": "error",
     "traceback": [
      "\u001b[1;36m  Cell \u001b[1;32mIn [14], line 3\u001b[1;36m\u001b[0m\n\u001b[1;33m    if 조건2 :\u001b[0m\n\u001b[1;37m            ^\u001b[0m\n\u001b[1;31mSyntaxError\u001b[0m\u001b[1;31m:\u001b[0m incomplete input\n"
     ]
    }
   ],
   "source": [
    "# nested\n",
    "if 조건1 :\n",
    "    if 조건2 :\n",
    "        if 조건3:"
   ]
  },
  {
   "cell_type": "markdown",
   "metadata": {},
   "source": [
    "#### 연습문제 \n",
    "1. 사용자에게 숫자를 입력받아서 no1 변수에 저장한 후 입력된 숫자가 3의 배수이면 제곱해서 출력하고 아닐 경우 0을 출력하세요"
   ]
  },
  {
   "cell_type": "code",
   "execution_count": 27,
   "metadata": {},
   "outputs": [
    {
     "name": "stdout",
     "output_type": "stream",
     "text": [
      "0\n"
     ]
    }
   ],
   "source": [
    "no1 = int(input())\n",
    "\n",
    "if no1 % 3 == 0:\n",
    "    print(no1 ** 2)\n",
    "else:\n",
    "    print(0)    "
   ]
  },
  {
   "cell_type": "markdown",
   "metadata": {},
   "source": [
    "2. 사용자에게 \"사과, 감, 귤 중에 어떤 과일 좋아하세요?:\"라고 보여준 후에 과일의 이름을 입력받아 fruits 변수에 저장하고 사용자가 \"사과\"를 입력하면\n",
    "\"Good~\"을 출력하고 사용자가 \"감\"을 입력하면 \"Very Good~\"을 출력하고 사용자가 \"귤\"을 입력하면 \"So So...\"를 출력하고 다른 값이 들어오면 \"사과나 감,\n",
    "귤 중에서 하나를 입력하세요~~\"라고 메시지를 출력하세요."
   ]
  },
  {
   "cell_type": "code",
   "execution_count": 28,
   "metadata": {},
   "outputs": [
    {
     "name": "stdout",
     "output_type": "stream",
     "text": [
      "Good~\n"
     ]
    }
   ],
   "source": [
    "fruit = input(\"사과, 감, 귤 중에 어떤 과일 좋아하세요?: \")\n",
    "\n",
    "if fruit == \"사과\":\n",
    "    print(\"Good~\")\n",
    "elif fruit == \"감\":\n",
    "    print(\"Very Good~\")\n",
    "elif fruit == \"귤\":\n",
    "    print(\"So So...\")\n",
    "else:\n",
    "    print(\"사과나 감, 귤 중에서 하나를 입력하세요~~\")"
   ]
  },
  {
   "cell_type": "markdown",
   "metadata": {},
   "source": [
    "3. 사용자에게 \"사과, 감, 귤, 복숭아 중에 어떤 과일 좋아하세요?:\"라고 보여준 후에 과일의 이름을 입력받아 fruits 변수에 저장하고 사용자가 \"사과\" 또는 \"감\"을 입력하면 \"Very Good~\"을 출력하고 사용자가 \"귤\" 또는 \"복숭아\"를 입력하면 \"Good\"를 출력하고 다른 값이 들어오면 \"사과나 감, 귤, 복숭아 중에서 하나를 입력하세요~~\"라고 메시지를 출력하세요."
   ]
  },
  {
   "cell_type": "code",
   "execution_count": 29,
   "metadata": {},
   "outputs": [
    {
     "name": "stdout",
     "output_type": "stream",
     "text": [
      "사과나 감, 귤 중에서 하나를 입력하세요~~\n"
     ]
    }
   ],
   "source": [
    "fruit = input(\"사과, 감, 귤 중에 어떤 과일 좋아하세요?: \")\n",
    "\n",
    "if fruit == \"사과\" or fruit == \"감\":\n",
    "    print(\"Very Good~\")\n",
    "elif fruit == \"귤\" or fruit == \"복숭아\":\n",
    "    print(\"Good\")\n",
    "else:\n",
    "    print(\"사과나 감, 귤, 복숭아 중에서 하나를 입력하세요~~\")"
   ]
  },
  {
   "cell_type": "markdown",
   "metadata": {},
   "source": [
    "4. 여러 가지 메뉴를 보여준 후 주문할 메뉴의 번호와 주문 수량을 입력받은 후 주문내역을 보여주도록 코드를 작성하라."
   ]
  },
  {
   "cell_type": "code",
   "execution_count": 34,
   "metadata": {},
   "outputs": [
    {
     "name": "stdout",
     "output_type": "stream",
     "text": [
      "\n",
      "1. 짜장면 - 5000원  2. 짬뽕 - 6000 원\n",
      "3. 군만두 - 8000원  4. 탕수육 - 10,000원\n",
      "\n",
      "주문하신 메뉴는 짜장면이고 주문 수량은 2그릇이며 주문 금액은 10000입니다.\n"
     ]
    }
   ],
   "source": [
    "print('''\n",
    "1. 짜장면 - 5000원  2. 짬뽕 - 6000 원\n",
    "3. 군만두 - 8000원  4. 탕수육 - 10,000원\n",
    "''')\n",
    "\n",
    "menu = int(input(\"1. 위 메뉴 중 주문할 메뉴의 번호를 쓰세요: \"))\n",
    "count = int(input(\"2. 위 메뉴의 주문 수량을 쓰세요: \"))\n",
    "\n",
    "if menu == 1:\n",
    "    name = \"짜장면\"\n",
    "    price = 5000 * count\n",
    "elif menu == 2:\n",
    "    name = \"짬뽕\"\n",
    "    price = 6000 * count\n",
    "elif menu == 3:\n",
    "    name = \"군만두\"\n",
    "    price = 8000 * count\n",
    "else:\n",
    "    name = \"탕수육\"\n",
    "    price = 10000 * count \n",
    "\n",
    "print(\"주문하신 메뉴는 %s이고 주문 수량은 %s그릇이며 주문 금액은 %s원입니다.\" %(name, count, price))           "
   ]
  },
  {
   "cell_type": "markdown",
   "metadata": {},
   "source": [
    "윤년 계산기 : 사용자에게서 입력받은 int가 윤년인지 평년인지 계산하여 결과를 알려준다.\n",
    "\n",
    "조건 : \n",
    "- 4로 나누어 떨어지면 윤년이다.\n",
    "- 단, 4로 나누어 떨어지면서 100으로 나누어 떨어지면 평년이다.\n",
    "- 100으로 나누어 떨어져도 400으로 나누어 떨어지면 윤년이다.\n",
    "- diagram으로 먼저 flow chart를 그려본다. draw.io"
   ]
  },
  {
   "cell_type": "code",
   "execution_count": 32,
   "metadata": {},
   "outputs": [
    {
     "name": "stdout",
     "output_type": "stream",
     "text": [
      "윤년이 아닙니다.\n"
     ]
    }
   ],
   "source": [
    "year = int(input(\"연도를 입력해주세요:\"))\n",
    "\n",
    "if year % 4 == 0:\n",
    "    if year % 100 == 0:\n",
    "        if year % 400 == 0:\n",
    "            print(\"윤년입니다.\")\n",
    "        else:\n",
    "            print(\"윤년이 아닙니다.\")\n",
    "    print(\"윤년입니다.\")        \n",
    "else:\n",
    "    print(\"윤년이 아닙니다.\")            \n"
   ]
  },
  {
   "cell_type": "markdown",
   "metadata": {},
   "source": [
    "## 리스트(List)\n",
    "데이터 타입 중 하나\n",
    "\n",
    "여러 개의 데이터를 하나로 묶어서 변수 하나에 여러 개 데이터를 담을 수 있도록 해준다.\n",
    "\n",
    "리스트 이름 = []"
   ]
  },
  {
   "cell_type": "code",
   "execution_count": 35,
   "metadata": {},
   "outputs": [
    {
     "name": "stdout",
     "output_type": "stream",
     "text": [
      "[]\n"
     ]
    }
   ],
   "source": [
    "list1 =[]\n",
    "print(list1)"
   ]
  },
  {
   "cell_type": "markdown",
   "metadata": {},
   "source": [
    "리스트에는 모든 데이터 타입을 다 담을 수 있다."
   ]
  },
  {
   "cell_type": "code",
   "execution_count": 36,
   "metadata": {},
   "outputs": [
    {
     "name": "stdout",
     "output_type": "stream",
     "text": [
      "[123, '홍길동', '2022-11-23', ['짬뽕', '짜장면']]\n"
     ]
    }
   ],
   "source": [
    "list1 = [123, \"홍길동\", '2022-11-23', ['짬뽕', '짜장면']]\n",
    "print(list1)"
   ]
  },
  {
   "cell_type": "markdown",
   "metadata": {},
   "source": [
    "리스트 안에 담긴 각각의 데이터가 요소로 취급된다. <- 인덱싱/슬라이싱"
   ]
  },
  {
   "cell_type": "code",
   "execution_count": 39,
   "metadata": {},
   "outputs": [
    {
     "name": "stdout",
     "output_type": "stream",
     "text": [
      "홍길동\n"
     ]
    },
    {
     "data": {
      "text/plain": [
       "str"
      ]
     },
     "execution_count": 39,
     "metadata": {},
     "output_type": "execute_result"
    }
   ],
   "source": [
    "print(list1[1])\n",
    "type(list1[1])"
   ]
  },
  {
   "cell_type": "code",
   "execution_count": 41,
   "metadata": {},
   "outputs": [
    {
     "name": "stdout",
     "output_type": "stream",
     "text": [
      "길\n",
      "길\n"
     ]
    }
   ],
   "source": [
    "print(list1[1][1])\n",
    "print('홍길동'[1])"
   ]
  },
  {
   "cell_type": "code",
   "execution_count": 45,
   "metadata": {},
   "outputs": [
    {
     "name": "stdout",
     "output_type": "stream",
     "text": [
      "[123, '홍길동', '2022-11-23', ['짬뽕', '짜장면']]\n",
      "['짬뽕', '짜장면']\n",
      "<class 'list'>\n",
      "짜장면\n",
      "장\n"
     ]
    }
   ],
   "source": [
    "print(list1)\n",
    "print(list1[3])\n",
    "print(type(list1[3]))\n",
    "print(list1[3][1])\n",
    "print(list1[3][1][1])"
   ]
  },
  {
   "cell_type": "markdown",
   "metadata": {},
   "source": [
    "리스트는 \"자유롭게\" 데이터를 넣을 수도 있고 뺄 수도 있다.\n",
    "\n",
    "추가 / 수정 / 삭제가 flexible 하다."
   ]
  },
  {
   "cell_type": "code",
   "execution_count": 47,
   "metadata": {},
   "outputs": [
    {
     "data": {
      "text/plain": [
       "[1, 2, 3, 'append로 추가한 값']"
      ]
     },
     "execution_count": 47,
     "metadata": {},
     "output_type": "execute_result"
    }
   ],
   "source": [
    "# append() : 리스트 맨 뒤에 데이터 추가\n",
    "list2 = [1, 2, 3]\n",
    "list2.append(\"append로 추가한 값\")\n",
    "\n",
    "list2"
   ]
  },
  {
   "cell_type": "code",
   "execution_count": 48,
   "metadata": {},
   "outputs": [
    {
     "data": {
      "text/plain": [
       "[1, 2, 'insert로 추가한 값', 3, 'append로 추가한 값']"
      ]
     },
     "execution_count": 48,
     "metadata": {},
     "output_type": "execute_result"
    }
   ],
   "source": [
    "# insert() : 특정 위치(인덱스)에 데이터 추가\n",
    "list2.insert(2, \"insert로 추가한 값\")\n",
    "\n",
    "list2\n"
   ]
  },
  {
   "cell_type": "code",
   "execution_count": 54,
   "metadata": {},
   "outputs": [
    {
     "name": "stdout",
     "output_type": "stream",
     "text": [
      "[123, '홍길동', '2022-11-23', ['짬뽕', '짜장면']]\n"
     ]
    },
    {
     "data": {
      "text/plain": [
       "[123, '홍길동', '활빈당', ['짬뽕', '짜장면']]"
      ]
     },
     "execution_count": 54,
     "metadata": {},
     "output_type": "execute_result"
    }
   ],
   "source": [
    "# slicing으로도 데이터를 추가/수정 할 수 있다.\n",
    "print(list1)\n",
    "list1[2] = \"활빈당\"\n",
    "list1"
   ]
  },
  {
   "cell_type": "code",
   "execution_count": 49,
   "metadata": {},
   "outputs": [
    {
     "data": {
      "text/plain": [
       "[1, 2, 3, 'append로 추가한 값']"
      ]
     },
     "execution_count": 49,
     "metadata": {},
     "output_type": "execute_result"
    }
   ],
   "source": [
    "# 데이터 제거\n",
    "# del / remove() / pop()\n",
    "\n",
    "# del 리스트 전용 함수 아님\n",
    "# del 인덱스 기준 데이터 삭제\n",
    "del list2[2]\n",
    "list2"
   ]
  },
  {
   "cell_type": "code",
   "execution_count": 50,
   "metadata": {},
   "outputs": [
    {
     "data": {
      "text/plain": [
       "[1, 3, 'append로 추가한 값']"
      ]
     },
     "execution_count": 50,
     "metadata": {},
     "output_type": "execute_result"
    }
   ],
   "source": [
    "# remove() : 특정 값을 기준으로 데이터 삭제\n",
    "list2.remove(2)\n",
    "list2"
   ]
  },
  {
   "cell_type": "code",
   "execution_count": 51,
   "metadata": {},
   "outputs": [
    {
     "data": {
      "text/plain": [
       "[1, 3]"
      ]
     },
     "execution_count": 51,
     "metadata": {},
     "output_type": "execute_result"
    }
   ],
   "source": [
    "# pop() : 제일 마지막 데이터 삭제\n",
    "list2.pop()\n",
    "list2"
   ]
  },
  {
   "cell_type": "code",
   "execution_count": null,
   "metadata": {},
   "outputs": [],
   "source": [
    "# popleft() 제일 앞 데이터 삭제 <- 리스트 x, deque\n",
    "del list2[0] <- 리스트 데이터에서 사용"
   ]
  },
  {
   "cell_type": "markdown",
   "metadata": {},
   "source": [
    "### 자주쓰는 함수들"
   ]
  },
  {
   "cell_type": "code",
   "execution_count": 52,
   "metadata": {},
   "outputs": [
    {
     "data": {
      "text/plain": [
       "2"
      ]
     },
     "execution_count": 52,
     "metadata": {},
     "output_type": "execute_result"
    }
   ],
   "source": [
    "len(list2) # 요소 수를 알려준다."
   ]
  },
  {
   "cell_type": "code",
   "execution_count": 53,
   "metadata": {},
   "outputs": [
    {
     "name": "stdout",
     "output_type": "stream",
     "text": [
      "[123, '홍길동', '2022-11-23', ['짬뽕', '짜장면']]\n"
     ]
    },
    {
     "data": {
      "text/plain": [
       "1"
      ]
     },
     "execution_count": 53,
     "metadata": {},
     "output_type": "execute_result"
    }
   ],
   "source": [
    "print(list1)\n",
    "list1.index(\"홍길동\")"
   ]
  },
  {
   "cell_type": "code",
   "execution_count": 57,
   "metadata": {},
   "outputs": [
    {
     "data": {
      "text/plain": [
       "[7, 6, 5, 4, 4, 3, 3, 1]"
      ]
     },
     "execution_count": 57,
     "metadata": {},
     "output_type": "execute_result"
    }
   ],
   "source": [
    "list3 = [3, 1, 3, 4, 5, 6, 4, 7]\n",
    "list3.sort(reverse=True)\n",
    "list3"
   ]
  },
  {
   "cell_type": "code",
   "execution_count": 61,
   "metadata": {},
   "outputs": [
    {
     "name": "stdout",
     "output_type": "stream",
     "text": [
      "1\n",
      "3\n"
     ]
    },
    {
     "data": {
      "text/plain": [
       "[4, 3, 5, 7, 3, 1, 6, 4]"
      ]
     },
     "execution_count": 61,
     "metadata": {},
     "output_type": "execute_result"
    }
   ],
   "source": [
    "import random\n",
    "\n",
    "print(random.randint(0, 5)) # 0 ~ 5 사이 int를 랜덤 추출한다. \n",
    "print(random.choice(list3)) # 리스트에서 한 요소를 댄덤 추출한다.\n",
    "random.shuffle(list3) # 리스트의 요소를 랜덤하게 섞어준다.\n",
    "\n",
    "list3"
   ]
  },
  {
   "cell_type": "markdown",
   "metadata": {},
   "source": [
    "1. 현재 수강신청 인원의 명단(리스트)을 보여준 후 목록에 추가할 첫 번째 학생의 이름을 입력받아서 명단에 추가하고 두 번째 학생의 이름을 입력받아 목록에 추가한 후 변경된 최종 수강 신청자의 명단을 보여주도록 코드를 작성하세요. 최초의 리스트에는 '홍길동', '일지매'가 있다고 가정하고 진행하고 변수 이름은 편한 것을 사용한다."
   ]
  },
  {
   "cell_type": "code",
   "execution_count": 65,
   "metadata": {},
   "outputs": [
    {
     "name": "stdout",
     "output_type": "stream",
     "text": [
      "전우치 학생의 신청이 완료되었습니다.\n",
      "유관순 학생의 신청이 완료되었습니다.\n",
      "현재 이 과목의 최종 수강 신청자는  ['홍길동', '일지매', '전우치', '유관순'] 입니다.\n"
     ]
    }
   ],
   "source": [
    "name = [\"홍길동\", \"일지매\"]\n",
    "\n",
    "for i in range(len(name)):\n",
    "    student = input(\"목록에 추가할 %d번째 학생의 이름을 입력하세요: \" %(i))\n",
    "    print(\"%s 학생의 신청이 완료되었습니다.\" %(student))\n",
    "    name.append(student)\n",
    "\n",
    "print(\"현재 이 과목의 최종 수강 신청자는 \",name,\"입니다.\")"
   ]
  },
  {
   "cell_type": "markdown",
   "metadata": {},
   "source": [
    "2. 문제 1번에서 생성한 리스트에서 아래 예시화면과 같이 수강신청 철회하는 학생의 이름을 입력 받아서 해당 학생의 이름을 삭제한 후 명단을 다시 보여주도록 코드를 작성하세요. 이때 최종 명단 출력 시 학생 이름을 오름차순으로 정렬하세요."
   ]
  },
  {
   "cell_type": "code",
   "execution_count": 66,
   "metadata": {},
   "outputs": [
    {
     "name": "stdout",
     "output_type": "stream",
     "text": [
      "현재 수강 신청자는  ['홍길동', '일지매', '전우치', '유관순'] 입니다.\n",
      "%s학생의 수강 신청 철회가 완료되었습니다.\n",
      "현재 이 과목의 최종 수강 신청자는  ['홍길동', '일지매', '유관순'] 입니다.\n"
     ]
    }
   ],
   "source": [
    "print(\"현재 수강 신청자는 \",name,\"입니다.\")\n",
    "\n",
    "delStudent = input(\"수강 철회하는 학생의 이름을 쓰세요: \")\n",
    "print(\"%s학생의 수강 신청 철회가 완료되었습니다.\" %(delStudent))\n",
    "name.remove(delStudent)\n",
    "\n",
    "print(\"현재 이 과목의 최종 수강 신청자는 \",name,\"입니다.\")"
   ]
  },
  {
   "cell_type": "markdown",
   "metadata": {},
   "source": [
    "3. 문제 1번에서 생성한 리스트에서 아래 예시화면과 같이 이름을 변경하는 학생의 이름을 입력받아서 해당 학생의 이름을 변경 후 학생의 이름으로 변경한 뒤 결과를 예시화면 처럼 보여주도록 코드를 작성하시오."
   ]
  },
  {
   "cell_type": "code",
   "execution_count": 69,
   "metadata": {},
   "outputs": [
    {
     "name": "stdout",
     "output_type": "stream",
     "text": [
      "현재 이 과목의 최종 수강 신청자는  ['홍길동', '일지매', '유관순'] 입니다.\n",
      "요청하신대로 홍길동을 전우치(으)로 변경하였습니다.\n"
     ]
    }
   ],
   "source": [
    "print(\"현재 이 과목의 최종 수강 신청자는 \",name,\"입니다.\")\n",
    "\n",
    "preName = input(\"변경 전 이름을 입력하세요: \")\n",
    "postName = input(\"변경 전 이름을 입력하세요: \")\n",
    "\n",
    "idx = name.index(preName)\n",
    "name[idx] = postName\n",
    "\n",
    "print(\"요청하신대로 %s을 %s(으)로 변경하였습니다.\" %(preName, postName))"
   ]
  },
  {
   "cell_type": "markdown",
   "metadata": {},
   "source": [
    "4. 사용자에게서 가위/바위/보를 입력받아 컴퓨터와 가위 바위 보 게임을 할 수 있도록 코드를 작성하시오.\n",
    "- 사용자가 이기면 \"이겼습니다\"\n",
    "- 사용자가 지면 \"졌습니다\"\n",
    "- 비기면 \"비겼습니다\"를 출력할 것"
   ]
  },
  {
   "cell_type": "code",
   "execution_count": 72,
   "metadata": {},
   "outputs": [
    {
     "name": "stdout",
     "output_type": "stream",
     "text": [
      "컴퓨터는 보를 냈습니다\n",
      "비겼습니다\n"
     ]
    }
   ],
   "source": [
    "answer = input(\"가위 바위 보!: \")\n",
    "comAnswer = random.randint(0, 3)\n",
    "\n",
    "if answer == \"가위\":\n",
    "    answer = 0\n",
    "elif answer == \"바위\":\n",
    "    answer = 1\n",
    "else:\n",
    "    answer = 2 \n",
    "\n",
    "if comAnswer == 0:\n",
    "    print(\"컴퓨터는 가위를 냈습니다\")\n",
    "    if answer == 0:\n",
    "        print(\"비겼습니다\")\n",
    "    elif answer == 1:\n",
    "        print(\"이겼습니다\")\n",
    "    else:\n",
    "        print(\"졌습니다\")\n",
    "elif comAnswer == 1:\n",
    "    print(\"컴퓨터는 바위를 냈습니다\")\n",
    "    if answer == 0:\n",
    "        print(\"졌습니다\")\n",
    "    elif answer == 1:\n",
    "        print(\"비겼습니다\")\n",
    "    else:\n",
    "        print(\"이겼습니다\")\n",
    "else:\n",
    "    print(\"컴퓨터는 보를 냈습니다\")\n",
    "    if answer == 0:\n",
    "        print(\"이겼습니다\")\n",
    "    elif answer == 1:\n",
    "        print(\"졌습니다\")\n",
    "    else:\n",
    "        print(\"비겼습니다\")        "
   ]
  },
  {
   "cell_type": "code",
   "execution_count": null,
   "metadata": {},
   "outputs": [],
   "source": []
  }
 ],
 "metadata": {
  "kernelspec": {
   "display_name": "Python 3.10.7 64-bit",
   "language": "python",
   "name": "python3"
  },
  "language_info": {
   "codemirror_mode": {
    "name": "ipython",
    "version": 3
   },
   "file_extension": ".py",
   "mimetype": "text/x-python",
   "name": "python",
   "nbconvert_exporter": "python",
   "pygments_lexer": "ipython3",
   "version": "3.10.7"
  },
  "orig_nbformat": 4,
  "vscode": {
   "interpreter": {
    "hash": "e4434393e5ce7c6be21b057763801f3aacbc5b1ae01ea26fd365fd93e92b0c53"
   }
  }
 },
 "nbformat": 4,
 "nbformat_minor": 2
}
