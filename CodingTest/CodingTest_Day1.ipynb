{
 "cells": [
  {
   "cell_type": "markdown",
   "metadata": {},
   "source": [
    "# Markdown(텍스트) <- 노트 필기\n",
    "\n",
    "워드 기본 기능들 모두 포함\n",
    "\n",
    "## 제목2\n",
    "### 제목3\n",
    "#### 제목4\n",
    "##### 제목5\n",
    "\n",
    "1.  항목 추가\n",
    "2.  항목 추가\n",
    "\n",
    "*   항목 추가\n",
    "*   항목 추가"
   ]
  },
  {
   "cell_type": "markdown",
   "metadata": {},
   "source": [
    "### 코드 실행 Hotkey\n",
    "\n",
    "- ctrl + enter : 현재 셀 실행\n",
    "- shift + enter : 현재 셀 실행 후 다음 셀 지정\n",
    "- alt + enter : 현재 셀 실행 후 아래쪽 셀 추가"
   ]
  },
  {
   "cell_type": "code",
   "execution_count": null,
   "metadata": {},
   "outputs": [],
   "source": [
    "# 주석 달기 \n",
    "\n",
    "# 1. 사용하지 않는 코드 삭제하지 않고 실행만 하지 않을 때\n",
    "# 2. 주석 달기\n",
    "\n",
    "print(\"Hello\")\n",
    "print(\"Python\")\n",
    "\n",
    "# hotkey : ctrl + /"
   ]
  },
  {
   "cell_type": "markdown",
   "metadata": {},
   "source": [
    "# 파이썬 기초 문법"
   ]
  },
  {
   "cell_type": "markdown",
   "metadata": {},
   "source": [
    "## 변수(Variables) :\n",
    "- '그릇' <- 데이터를 담는(저장하는) 그릇이다."
   ]
  },
  {
   "cell_type": "code",
   "execution_count": 1,
   "metadata": {},
   "outputs": [],
   "source": [
    "변수1 = \"hello python\""
   ]
  },
  {
   "cell_type": "code",
   "execution_count": 2,
   "metadata": {},
   "outputs": [
    {
     "name": "stdout",
     "output_type": "stream",
     "text": [
      "hello python\n",
      "hello python\n",
      "hello python\n"
     ]
    }
   ],
   "source": [
    "print(변수1)\n",
    "print(변수1)\n",
    "print(변수1)"
   ]
  },
  {
   "cell_type": "markdown",
   "metadata": {},
   "source": [
    "### 변수 사용 시 규칙 :\n",
    "- 변수 이름 :\n",
    "    - 이름만 봐도 뭐하는 변수인지 알 수 있도록 설정\n",
    "    - 예약어 사용 x\n",
    "    - 변수 이름은 글자부터 시작 (숫자/특수문자 사용 x)\n",
    "    - 대/소문자 구분\n",
    "\n",
    "- 1변수 1데이터 사용 "
   ]
  },
  {
   "cell_type": "code",
   "execution_count": 3,
   "metadata": {},
   "outputs": [],
   "source": [
    "# player_1_stats\n",
    "player_1_stats = \"데이터\"\n",
    "ps1 = 'x'"
   ]
  },
  {
   "cell_type": "code",
   "execution_count": 4,
   "metadata": {},
   "outputs": [
    {
     "ename": "SyntaxError",
     "evalue": "invalid decimal literal (886337090.py, line 1)",
     "output_type": "error",
     "traceback": [
      "\u001b[1;36m  Cell \u001b[1;32mIn [4], line 1\u001b[1;36m\u001b[0m\n\u001b[1;33m    1_player_stats = \"데이터\"\u001b[0m\n\u001b[1;37m     ^\u001b[0m\n\u001b[1;31mSyntaxError\u001b[0m\u001b[1;31m:\u001b[0m invalid decimal literal\n"
     ]
    }
   ],
   "source": [
    "1_player_stats = \"데이터\""
   ]
  },
  {
   "cell_type": "code",
   "execution_count": 5,
   "metadata": {},
   "outputs": [
    {
     "data": {
      "text/plain": [
       "'데이터'"
      ]
     },
     "execution_count": 5,
     "metadata": {},
     "output_type": "execute_result"
    }
   ],
   "source": [
    "# 부득이하게 숫자부터 사용한다면\n",
    "_1_player_stats = \"데이터\"\n",
    "_1_player_stats\n",
    "\n",
    "# note : '_' 컴퓨터 눈에 보이지 않음"
   ]
  },
  {
   "cell_type": "code",
   "execution_count": 6,
   "metadata": {},
   "outputs": [
    {
     "ename": "SyntaxError",
     "evalue": "unterminated string literal (detected at line 1) (967917624.py, line 1)",
     "output_type": "error",
     "traceback": [
      "\u001b[1;36m  Cell \u001b[1;32mIn [6], line 1\u001b[1;36m\u001b[0m\n\u001b[1;33m    player_1_stats = \"데이터\u001b[0m\n\u001b[1;37m                     ^\u001b[0m\n\u001b[1;31mSyntaxError\u001b[0m\u001b[1;31m:\u001b[0m unterminated string literal (detected at line 1)\n"
     ]
    }
   ],
   "source": [
    "player_1_stats = \"데이터\n",
    "palyer_1_Stats\n",
    "\n",
    "# 파이썬은 case sensitive 하다."
   ]
  },
  {
   "cell_type": "code",
   "execution_count": 7,
   "metadata": {},
   "outputs": [
    {
     "name": "stdout",
     "output_type": "stream",
     "text": [
      "프린트 함수는 이 내용을 출력한다.\n"
     ]
    }
   ],
   "source": [
    "# 예약어는 사용 x\n",
    "print(\"프린트 함수는 이 내용을 출력한다.\")"
   ]
  },
  {
   "cell_type": "code",
   "execution_count": 8,
   "metadata": {},
   "outputs": [
    {
     "data": {
      "text/plain": [
       "100"
      ]
     },
     "execution_count": 8,
     "metadata": {},
     "output_type": "execute_result"
    }
   ],
   "source": [
    "print = 100\n",
    "print"
   ]
  },
  {
   "cell_type": "code",
   "execution_count": 9,
   "metadata": {},
   "outputs": [
    {
     "ename": "TypeError",
     "evalue": "'int' object is not callable",
     "output_type": "error",
     "traceback": [
      "\u001b[1;31m---------------------------------------------------------------------------\u001b[0m",
      "\u001b[1;31mTypeError\u001b[0m                                 Traceback (most recent call last)",
      "Cell \u001b[1;32mIn [9], line 1\u001b[0m\n\u001b[1;32m----> 1\u001b[0m \u001b[39mprint\u001b[39m \u001b[39m=\u001b[39m \u001b[39mprint\u001b[39m(\u001b[39m\"\u001b[39m\u001b[39m프린트 함수는 이 내용을 출력한다.\u001b[39m\u001b[39m\"\u001b[39m)\n",
      "\u001b[1;31mTypeError\u001b[0m: 'int' object is not callable"
     ]
    }
   ],
   "source": [
    "print = print(\"프린트 함수는 이 내용을 출력한다.\")"
   ]
  },
  {
   "cell_type": "code",
   "execution_count": 10,
   "metadata": {},
   "outputs": [],
   "source": [
    "del print"
   ]
  },
  {
   "cell_type": "code",
   "execution_count": 11,
   "metadata": {},
   "outputs": [
    {
     "data": {
      "text/plain": [
       "(10, 20)"
      ]
     },
     "execution_count": 11,
     "metadata": {},
     "output_type": "execute_result"
    }
   ],
   "source": [
    "# '=' <- '할당하다' : 오른쪽의 값을 왼쪽에 할당한다.\n",
    "var1 = 10, 20\n",
    "var1\n",
    "\n",
    "# note : '같다' : '=='"
   ]
  },
  {
   "cell_type": "code",
   "execution_count": 12,
   "metadata": {},
   "outputs": [
    {
     "data": {
      "text/plain": [
       "10"
      ]
     },
     "execution_count": 12,
     "metadata": {},
     "output_type": "execute_result"
    }
   ],
   "source": [
    "var1, var2 = 10, 20\n",
    "var1"
   ]
  },
  {
   "cell_type": "code",
   "execution_count": 13,
   "metadata": {},
   "outputs": [
    {
     "name": "stdout",
     "output_type": "stream",
     "text": [
      "10\n"
     ]
    }
   ],
   "source": [
    "# 주의 jupyter 기반 에디터만 변수를 바로 출력한다.\n",
    "print(var1)"
   ]
  },
  {
   "cell_type": "markdown",
   "metadata": {},
   "source": [
    "## print() 함수 활용"
   ]
  },
  {
   "cell_type": "markdown",
   "metadata": {},
   "source": [
    "### data type\n",
    "숫자 : 1234(정수:int), 1.234(실수:float)\n",
    "\n",
    "문자 : \"\" 혹은 ''로 쌓여있다."
   ]
  },
  {
   "cell_type": "markdown",
   "metadata": {},
   "source": [
    "## input()\n",
    "변수 = input(\"출력할 메세지\")"
   ]
  },
  {
   "cell_type": "code",
   "execution_count": 15,
   "metadata": {},
   "outputs": [],
   "source": [
    "var1 = input(\"이 메세지는 사용자에게만 띄워준다.\")"
   ]
  },
  {
   "cell_type": "code",
   "execution_count": 16,
   "metadata": {},
   "outputs": [
    {
     "data": {
      "text/plain": [
       "'100'"
      ]
     },
     "execution_count": 16,
     "metadata": {},
     "output_type": "execute_result"
    }
   ],
   "source": [
    "var1"
   ]
  },
  {
   "cell_type": "code",
   "execution_count": 17,
   "metadata": {},
   "outputs": [
    {
     "data": {
      "text/plain": [
       "str"
      ]
     },
     "execution_count": 17,
     "metadata": {},
     "output_type": "execute_result"
    }
   ],
   "source": [
    "# input 함수로 입력을 받아오면 기본적으로 \"문자\"취급함\n",
    "type(var1)"
   ]
  },
  {
   "cell_type": "code",
   "execution_count": 19,
   "metadata": {},
   "outputs": [
    {
     "name": "stdout",
     "output_type": "stream",
     "text": [
      "10050\n"
     ]
    }
   ],
   "source": [
    "print(var1 + \"50\")"
   ]
  },
  {
   "cell_type": "code",
   "execution_count": 20,
   "metadata": {},
   "outputs": [
    {
     "name": "stdout",
     "output_type": "stream",
     "text": [
      "150\n"
     ]
    }
   ],
   "source": [
    "print(int(var1) + 50)"
   ]
  },
  {
   "cell_type": "code",
   "execution_count": 21,
   "metadata": {},
   "outputs": [
    {
     "data": {
      "text/plain": [
       "int"
      ]
     },
     "execution_count": 21,
     "metadata": {},
     "output_type": "execute_result"
    }
   ],
   "source": [
    "type(int(var1))"
   ]
  },
  {
   "cell_type": "code",
   "execution_count": 22,
   "metadata": {},
   "outputs": [
    {
     "data": {
      "text/plain": [
       "int"
      ]
     },
     "execution_count": 22,
     "metadata": {},
     "output_type": "execute_result"
    }
   ],
   "source": [
    "var1 = int(input(\"이 메세지는 사용자에게만 띄워준다.\"))\n",
    "type(var1)"
   ]
  },
  {
   "cell_type": "code",
   "execution_count": 26,
   "metadata": {},
   "outputs": [
    {
     "name": "stdout",
     "output_type": "stream",
     "text": [
      "송승우님의 취미는 낚시 입니다\n"
     ]
    }
   ],
   "source": [
    "name = input(\"1. 이름을 입력하세요: \")\n",
    "hobby = input(\"2. 취미를 입력하세요: \")\n",
    "\n",
    "print(name+\"님의 취미는\", hobby,\"입니다\")"
   ]
  },
  {
   "cell_type": "code",
   "execution_count": 27,
   "metadata": {},
   "outputs": [
    {
     "name": "stdout",
     "output_type": "stream",
     "text": [
      "가는 지역은 1이고 인원은 3입니다.\n"
     ]
    }
   ],
   "source": [
    "# ''' ''' \"\"\" \"\"\" 으로 여러줄 메세지를 하나로 묶어준다.\n",
    "var1 = input('''\n",
    "1. 서울   2. 부산   3. 제주   4. 여수   5. 남해\n",
    "\n",
    "1. 지역 입력 ''')\n",
    "\n",
    "var2 = input(\"2. 몇 명?\")\n",
    "\n",
    "print(f\"가는 지역은 {var1}이고 인원은 {var2}입니다.\")"
   ]
  },
  {
   "cell_type": "code",
   "execution_count": 28,
   "metadata": {},
   "outputs": [
    {
     "ename": "SyntaxError",
     "evalue": "unexpected character after line continuation character (1478666889.py, line 2)",
     "output_type": "error",
     "traceback": [
      "\u001b[1;36m  Cell \u001b[1;32mIn [28], line 2\u001b[1;36m\u001b[0m\n\u001b[1;33m    H:\\\\내 드라이브\\\\강의자료\\\\Artificial Intelligence\\\\Computer Vision\u001b[0m\n\u001b[1;37m       ^\u001b[0m\n\u001b[1;31mSyntaxError\u001b[0m\u001b[1;31m:\u001b[0m unexpected character after line continuation character\n"
     ]
    }
   ],
   "source": [
    "# 경로 표현할때 \\\\ 혹은 / 로 통일.\n",
    "H:\\\\내 드라이브\\\\강의자료\\\\Artificial Intelligence\\\\Computer Vision\n",
    "H:/내 드라이브/강의자료/Artificial Intelligence/Computer Vision"
   ]
  },
  {
   "cell_type": "code",
   "execution_count": 29,
   "metadata": {},
   "outputs": [
    {
     "name": "stdout",
     "output_type": "stream",
     "text": [
      "1. 서울   2.부산     3.제주     4.여수      5.남해 \n",
      " \n",
      "1.지역입력\n"
     ]
    }
   ],
   "source": [
    "# \\n == 줄바꿈\n",
    "print('1. 서울   2.부산     3.제주     4.여수      5.남해 \\n \\n1.지역입력')"
   ]
  },
  {
   "cell_type": "markdown",
   "metadata": {},
   "source": [
    "## 데이터 타입들\n",
    "- 숫자 : 정수(int), 실수(float)\n",
    "- 문자 : 문자열(str)\n",
    "- 불리언 : 부울(boolean) : True/False로 표현하는 데이터\n",
    "\n",
    "- 리스트 : []\n",
    "- 딕셔너리 : {}\n",
    "- 튜플 : ()"
   ]
  },
  {
   "cell_type": "markdown",
   "metadata": {},
   "source": [
    "### 숫자형 데이터\n",
    "수학 연산을 할 수 있다.\n",
    "+-*/ <- \"연산자\""
   ]
  },
  {
   "cell_type": "markdown",
   "metadata": {},
   "source": [
    "## 함수 : 공구\n",
    "'그릇' <- 행동(set actions)을 담아두는 그릇.\n",
    "- 변수 실행 시 : 변수 안의 데이터를 가져온다.\n",
    "- 함수 실행 시 : 저장된 행동을 취한다.\n",
    "\n",
    "함수 이름()"
   ]
  },
  {
   "cell_type": "markdown",
   "metadata": {},
   "source": [
    "## 모듈 : 공구통\n",
    "함수를 모아놓은 묶음"
   ]
  },
  {
   "cell_type": "code",
   "execution_count": 30,
   "metadata": {},
   "outputs": [],
   "source": [
    "import math # 모듈 불러오기"
   ]
  },
  {
   "cell_type": "code",
   "execution_count": 31,
   "metadata": {},
   "outputs": [
    {
     "ename": "NameError",
     "evalue": "name 'trunc' is not defined",
     "output_type": "error",
     "traceback": [
      "\u001b[1;31m---------------------------------------------------------------------------\u001b[0m",
      "\u001b[1;31mNameError\u001b[0m                                 Traceback (most recent call last)",
      "Cell \u001b[1;32mIn [31], line 4\u001b[0m\n\u001b[0;32m      1\u001b[0m \u001b[39m# trunc() : 버림\u001b[39;00m\n\u001b[0;32m      3\u001b[0m var \u001b[39m=\u001b[39m \u001b[39m3.121651\u001b[39m\n\u001b[1;32m----> 4\u001b[0m trunc(var)\n",
      "\u001b[1;31mNameError\u001b[0m: name 'trunc' is not defined"
     ]
    }
   ],
   "source": [
    "# trunc() : 버림\n",
    "\n",
    "var = 3.121651\n",
    "trunc(var)"
   ]
  },
  {
   "cell_type": "code",
   "execution_count": 32,
   "metadata": {},
   "outputs": [
    {
     "data": {
      "text/plain": [
       "3"
      ]
     },
     "execution_count": 32,
     "metadata": {},
     "output_type": "execute_result"
    }
   ],
   "source": [
    "math.trunc(var) # math라는 모듈에서 trunc() 함수를 불러와라"
   ]
  },
  {
   "cell_type": "code",
   "execution_count": 34,
   "metadata": {},
   "outputs": [
    {
     "data": {
      "text/plain": [
       "4"
      ]
     },
     "execution_count": 34,
     "metadata": {},
     "output_type": "execute_result"
    }
   ],
   "source": [
    "# ceil() : 올림\n",
    "math.ceil(var)"
   ]
  },
  {
   "cell_type": "markdown",
   "metadata": {},
   "source": [
    "벽에 스프레이 페인트를 칠하려고 한다.\n",
    "조건 : 스프레이 페인트 한 캔당 5m2 면적을 칠할 수 있다.\n",
    "사용자에게 높이와 너비를 입력받아서 필요한 캔의 개수가 몇 개인지 구하여라\n",
    "\n",
    "task1 : 사용자에게 높이와 너비를 입력받아\n",
    "\n",
    "task2 : 입력받은 값으로 벽 면적 구하기 \n",
    "\n",
    "task3 : 벽 면적 / 한 캔으로 칠할 수 있는 면적\n",
    "\n",
    "task4 : 예를들어 0.3캔을 사올 순 없으니 결과값을 ceil() 해준다."
   ]
  },
  {
   "cell_type": "code",
   "execution_count": 35,
   "metadata": {},
   "outputs": [
    {
     "data": {
      "text/plain": [
       "26"
      ]
     },
     "execution_count": 35,
     "metadata": {},
     "output_type": "execute_result"
    }
   ],
   "source": [
    "# task1 : 사용자에게 높이와 너비를 입력받아\n",
    "height = int(input(\"높이를 입력하세요\"))\n",
    "width = int(input(\"너비를 입력하세요\"))\n",
    "\n",
    "# task2 : 입력받은 값으로 벽 면적 구하기\n",
    "size = height * width\n",
    "\n",
    "# task3 : 벽 면적 / 한 캔으로 칠할 수 있는 면적\n",
    "total = size / 5\n",
    "\n",
    "# task4 : 예를들어 0.3캔을 사올 순 없으니 결과값을 ceil() 해준다.\n",
    "math.ceil(total)"
   ]
  },
  {
   "cell_type": "markdown",
   "metadata": {},
   "source": [
    "### 문자열 유형(String)\n",
    "'' 혹은 \"\" 로 쌓여 있다."
   ]
  },
  {
   "cell_type": "code",
   "execution_count": 56,
   "metadata": {},
   "outputs": [],
   "source": [
    "숫자 = 100\n",
    "문자 = \"100\""
   ]
  },
  {
   "cell_type": "code",
   "execution_count": 57,
   "metadata": {},
   "outputs": [
    {
     "name": "stdout",
     "output_type": "stream",
     "text": [
      "숫자\n"
     ]
    }
   ],
   "source": [
    "print(\"숫자\")"
   ]
  },
  {
   "cell_type": "code",
   "execution_count": 59,
   "metadata": {},
   "outputs": [
    {
     "name": "stdout",
     "output_type": "stream",
     "text": [
      "150\n"
     ]
    }
   ],
   "source": [
    "# 변수의 값 + 문자 섞어서 출력\n",
    "var1 = 100\n",
    "var2 = 50\n",
    "var3 = var1 + var2\n",
    "\n",
    "print(var3)"
   ]
  },
  {
   "cell_type": "code",
   "execution_count": 60,
   "metadata": {},
   "outputs": [
    {
     "name": "stdout",
     "output_type": "stream",
     "text": [
      "100 + 50 = 150\n"
     ]
    }
   ],
   "source": [
    "# 방법1 : 변수와 \"문자\"를 ','를 이용해서 나누어 준다.\n",
    "\n",
    "# 출력하고 싶은 메세지 : 100 + 50 = 150\n",
    "print(var1, \"+\", var2, \"=\", var3)"
   ]
  },
  {
   "cell_type": "code",
   "execution_count": 61,
   "metadata": {},
   "outputs": [
    {
     "name": "stdout",
     "output_type": "stream",
     "text": [
      "100 + 50 = 150\n"
     ]
    }
   ],
   "source": [
    "# 방법2 % 활용 : %를 사용해서 변수 위치를 지정해 준다.\n",
    "var1 = 100\n",
    "var2 = 50\n",
    "\n",
    "print(\"%s + %s = %s\" %(var1, var2, var3))"
   ]
  },
  {
   "cell_type": "code",
   "execution_count": 62,
   "metadata": {},
   "outputs": [
    {
     "name": "stdout",
     "output_type": "stream",
     "text": [
      "==150==\n"
     ]
    }
   ],
   "source": [
    "# 변수 하나만 출력할 경우: ()를 빼준다.\n",
    "print('==%s==' %var3)"
   ]
  },
  {
   "cell_type": "code",
   "execution_count": 63,
   "metadata": {},
   "outputs": [
    {
     "name": "stdout",
     "output_type": "stream",
     "text": [
      "100 + 50 = 150\n"
     ]
    }
   ],
   "source": [
    "# 방법3 f\n",
    "print(f\"{var1} + {var2} = {var3}\")"
   ]
  },
  {
   "cell_type": "code",
   "execution_count": 64,
   "metadata": {},
   "outputs": [
    {
     "name": "stdout",
     "output_type": "stream",
     "text": [
      "안녕하세요 저는 송승우이고 취미는 캠핑입니다.\n"
     ]
    }
   ],
   "source": [
    "이름 = '송승우'\n",
    "취미 = '캠핑'\n",
    "\n",
    "print(f\"안녕하세요 저는 {이름}이고 취미는 {취미}입니다.\")"
   ]
  },
  {
   "cell_type": "code",
   "execution_count": 65,
   "metadata": {},
   "outputs": [
    {
     "name": "stdout",
     "output_type": "stream",
     "text": [
      "안녕하세요 저는 송승우이고 취미는 ['캠핑', '게임']입니다.\n"
     ]
    }
   ],
   "source": [
    "이름 = '송승우'\n",
    "취미 = ['캠핑', '게임']\n",
    "\n",
    "print(f\"안녕하세요 저는 {이름}이고 취미는 {취미}입니다.\")"
   ]
  },
  {
   "cell_type": "code",
   "execution_count": 67,
   "metadata": {},
   "outputs": [
    {
     "name": "stdout",
     "output_type": "stream",
     "text": [
      "1. 페퍼로니    2. 떡볶이\n",
      "3. 육회        4. 삼겹살\n"
     ]
    }
   ],
   "source": [
    "# 여러 줄을 한 번에 출력할 때 ''' '''  \"\"\" \"\"\"\n",
    "# 1. 페퍼로니    2. 떡볶이\n",
    "# 3. 육회        4. 삼겹살\n",
    "\n",
    "print(\"1. 페퍼로니    2. 떡볶이\")\n",
    "print(\"3. 육회        4. 삼겹살\") "
   ]
  },
  {
   "cell_type": "code",
   "execution_count": 68,
   "metadata": {},
   "outputs": [
    {
     "name": "stdout",
     "output_type": "stream",
     "text": [
      "\n",
      "1. 페퍼로니    2. 떡볶이\n",
      "3. 육회        4. 삼겹살\n",
      "\n"
     ]
    }
   ],
   "source": [
    "print('''\n",
    "1. 페퍼로니    2. 떡볶이\n",
    "3. 육회        4. 삼겹살\n",
    "''')"
   ]
  },
  {
   "cell_type": "code",
   "execution_count": 70,
   "metadata": {},
   "outputs": [
    {
     "name": "stdout",
     "output_type": "stream",
     "text": [
      "   1. 페퍼로니    2. 떡볶이\n",
      "            3. 육회        4. 삼겹살\n",
      "\n"
     ]
    }
   ],
   "source": [
    "print('''   1. 페퍼로니    2. 떡볶이\n",
    "            3. 육회        4. 삼겹살\n",
    "''')"
   ]
  },
  {
   "cell_type": "code",
   "execution_count": null,
   "metadata": {},
   "outputs": [],
   "source": [
    "'''\n",
    "여러줄 짜리 \n",
    "주석을 \n",
    "달 수 도 있습니다.\n",
    "'''"
   ]
  },
  {
   "cell_type": "code",
   "execution_count": 36,
   "metadata": {},
   "outputs": [
    {
     "ename": "SyntaxError",
     "evalue": "unterminated string literal (detected at line 2) (1625156913.py, line 2)",
     "output_type": "error",
     "traceback": [
      "\u001b[1;36m  Cell \u001b[1;32mIn [36], line 2\u001b[1;36m\u001b[0m\n\u001b[1;33m    문자 = 'i'm hungry'\u001b[0m\n\u001b[1;37m                    ^\u001b[0m\n\u001b[1;31mSyntaxError\u001b[0m\u001b[1;31m:\u001b[0m unterminated string literal (detected at line 2)\n"
     ]
    }
   ],
   "source": [
    "# i'm hungry\n",
    "문자 = 'i'm hungry'"
   ]
  },
  {
   "cell_type": "code",
   "execution_count": 37,
   "metadata": {},
   "outputs": [],
   "source": [
    "문자 = \"i'm hungry\""
   ]
  },
  {
   "cell_type": "code",
   "execution_count": 38,
   "metadata": {},
   "outputs": [],
   "source": [
    "# she said: \"i saw that\"\n",
    "문자2 = 'she said: \"i saw that\"'"
   ]
  },
  {
   "cell_type": "code",
   "execution_count": 39,
   "metadata": {},
   "outputs": [
    {
     "name": "stdout",
     "output_type": "stream",
     "text": [
      "she said: \"i'm saw that\"\n"
     ]
    }
   ],
   "source": [
    "# she said: \"i saw that\"\n",
    "문자3 = 'she said: \"i\\'m saw that\"'\n",
    "\n",
    "print(문자3)"
   ]
  },
  {
   "cell_type": "code",
   "execution_count": 40,
   "metadata": {},
   "outputs": [
    {
     "name": "stdout",
     "output_type": "stream",
     "text": [
      "she \n",
      "said: \n",
      "\"I'm hungry\n"
     ]
    }
   ],
   "source": [
    "문자3 = '''she \n",
    "said: \n",
    "\"I\\'m hungry'''\n",
    "\n",
    "print(문자3)"
   ]
  },
  {
   "cell_type": "markdown",
   "metadata": {},
   "source": [
    "#### Indexing / slicing\n",
    "- element(요소) : 데이터를 구성하는 가장 작은 단위\n",
    "    - 예) 문자열 <- 문자(char)들이 모여서 문자열을 구성한다.\n",
    "\n",
    "- index : 요소의 위치를 표현한다.\n",
    "- slicing : index를 기준으로 요소를 추출한다."
   ]
  },
  {
   "cell_type": "code",
   "execution_count": 41,
   "metadata": {},
   "outputs": [],
   "source": [
    "str1 = \"희망찬 코딩\""
   ]
  },
  {
   "cell_type": "code",
   "execution_count": 42,
   "metadata": {},
   "outputs": [
    {
     "data": {
      "text/plain": [
       "'코'"
      ]
     },
     "execution_count": 42,
     "metadata": {},
     "output_type": "execute_result"
    }
   ],
   "source": [
    "# 슬라이싱 : 변수[인덱스 값(정수)]\n",
    "str1[2]\n",
    "str1[-2]"
   ]
  },
  {
   "cell_type": "code",
   "execution_count": 43,
   "metadata": {},
   "outputs": [
    {
     "data": {
      "text/plain": [
       "'망찬 코'"
      ]
     },
     "execution_count": 43,
     "metadata": {},
     "output_type": "execute_result"
    }
   ],
   "source": [
    "# 슬라이싱을 이용한 범위 지정\n",
    "str1[1:5]\n",
    "# 주의 : \n",
    "# 시작점 포함, 끝점 미포함"
   ]
  },
  {
   "cell_type": "code",
   "execution_count": 44,
   "metadata": {},
   "outputs": [
    {
     "name": "stdout",
     "output_type": "stream",
     "text": [
      "희망\n",
      "찬 코딩\n"
     ]
    }
   ],
   "source": [
    "print(str1[:2])\n",
    "print(str1[2:])"
   ]
  },
  {
   "cell_type": "code",
   "execution_count": 45,
   "metadata": {},
   "outputs": [
    {
     "name": "stdout",
     "output_type": "stream",
     "text": [
      "python\n",
      "PYTHON\n"
     ]
    }
   ],
   "source": [
    "# lower() / upper()\n",
    "str2 = \"PythOn\"\n",
    "\n",
    "print(str2.lower())\n",
    "print(str2.upper())"
   ]
  },
  {
   "cell_type": "code",
   "execution_count": 46,
   "metadata": {},
   "outputs": [
    {
     "name": "stdout",
     "output_type": "stream",
     "text": [
      "Python Is Very Easy And Fun\n"
     ]
    }
   ],
   "source": [
    "# 앞 글자만 대문자\n",
    "str3 = \"PythOn is very easy and fun\"\n",
    "str3\n",
    "str4 = str3.title()\n",
    "print(str4)"
   ]
  },
  {
   "cell_type": "code",
   "execution_count": 47,
   "metadata": {},
   "outputs": [
    {
     "data": {
      "text/plain": [
       "'Python is very easy and fun'"
      ]
     },
     "execution_count": 47,
     "metadata": {},
     "output_type": "execute_result"
    }
   ],
   "source": [
    "str4.capitalize()"
   ]
  },
  {
   "cell_type": "code",
   "execution_count": 48,
   "metadata": {},
   "outputs": [
    {
     "data": {
      "text/plain": [
       "'새우도 해산물 인가요?'"
      ]
     },
     "execution_count": 48,
     "metadata": {},
     "output_type": "execute_result"
    }
   ],
   "source": [
    "# replace() <- 문자열에서 내용 바꾸기\n",
    "str5 = '새우깡도 해산물 인가요?'\n",
    "# 문자열.replace(\"바꾸고 싶은 단어\", \"새로운 단어\")\n",
    "\n",
    "str5.replace(\"새우깡\", \"새우\") "
   ]
  },
  {
   "cell_type": "code",
   "execution_count": 49,
   "metadata": {},
   "outputs": [
    {
     "data": {
      "text/plain": [
       "'새우도 해산물 인가요?'"
      ]
     },
     "execution_count": 49,
     "metadata": {},
     "output_type": "execute_result"
    }
   ],
   "source": [
    "str5.replace(\"깡\", \"\")"
   ]
  },
  {
   "cell_type": "code",
   "execution_count": 50,
   "metadata": {},
   "outputs": [
    {
     "data": {
      "text/plain": [
       "['a', 'b', 'b', 'b', 'c', 'c', 'a']"
      ]
     },
     "execution_count": 50,
     "metadata": {},
     "output_type": "execute_result"
    }
   ],
   "source": [
    "# split()\n",
    "입력 = \"a b b b c c a\"\n",
    "입력.split() # 공백 기준 쪼개기가 기본"
   ]
  },
  {
   "cell_type": "code",
   "execution_count": 51,
   "metadata": {},
   "outputs": [
    {
     "data": {
      "text/plain": [
       "['02', '1234', '5678']"
      ]
     },
     "execution_count": 51,
     "metadata": {},
     "output_type": "execute_result"
    }
   ],
   "source": [
    "tel = '02-1234-5678'\n",
    "tel.split('-') # 입력하는 문자를 기준으로 쪼갠다."
   ]
  },
  {
   "cell_type": "code",
   "execution_count": 53,
   "metadata": {},
   "outputs": [
    {
     "data": {
      "text/plain": [
       "['02', '1234-5678']"
      ]
     },
     "execution_count": 53,
     "metadata": {},
     "output_type": "execute_result"
    }
   ],
   "source": [
    "tel.split('-', 1)"
   ]
  },
  {
   "cell_type": "code",
   "execution_count": 54,
   "metadata": {},
   "outputs": [
    {
     "data": {
      "text/plain": [
       "12"
      ]
     },
     "execution_count": 54,
     "metadata": {},
     "output_type": "execute_result"
    }
   ],
   "source": [
    "# len() <- 요소 수를 세어준다.\n",
    "len(tel)"
   ]
  },
  {
   "cell_type": "code",
   "execution_count": 55,
   "metadata": {},
   "outputs": [
    {
     "data": {
      "text/plain": [
       "7"
      ]
     },
     "execution_count": 55,
     "metadata": {},
     "output_type": "execute_result"
    }
   ],
   "source": [
    "len(입력.split())"
   ]
  },
  {
   "cell_type": "code",
   "execution_count": null,
   "metadata": {},
   "outputs": [],
   "source": []
  }
 ],
 "metadata": {
  "kernelspec": {
   "display_name": "Python 3.10.7 64-bit",
   "language": "python",
   "name": "python3"
  },
  "language_info": {
   "codemirror_mode": {
    "name": "ipython",
    "version": 3
   },
   "file_extension": ".py",
   "mimetype": "text/x-python",
   "name": "python",
   "nbconvert_exporter": "python",
   "pygments_lexer": "ipython3",
   "version": "3.10.7"
  },
  "orig_nbformat": 4,
  "vscode": {
   "interpreter": {
    "hash": "e4434393e5ce7c6be21b057763801f3aacbc5b1ae01ea26fd365fd93e92b0c53"
   }
  }
 },
 "nbformat": 4,
 "nbformat_minor": 2
}
