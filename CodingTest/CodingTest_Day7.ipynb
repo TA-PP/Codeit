{
 "cells": [
  {
   "cell_type": "markdown",
   "metadata": {},
   "source": [
    "### 정렬 알고리즘"
   ]
  },
  {
   "cell_type": "markdown",
   "metadata": {},
   "source": [
    "Sorting.\n",
    "- 프로그램의 가장 기본이 된다.\n",
    "- 면접 단골 문제\n",
    "- 이진탐색 알고리즘 전처리 과정\n",
    "- 상황별로 효율성 상이 <- 상황파악 중요\n",
    "\n",
    "# Sorting 알고리즘 종류:\n",
    "- 선택정렬(Selection) : 가장 기본. 가장 느림\n",
    "- 삽입정렬(insertion) : 현재 데이터 상태가 완전정렬과 가까우면 가까울수록 빠르다\n",
    "- 퀵(Quick) : 일반적으로 가장 빠름.\n",
    "- 계수정렬(Count) : 특정조건에서 가장 빠른"
   ]
  },
  {
   "cell_type": "markdown",
   "metadata": {},
   "source": [
    "## 선택정렬\n",
    "제일 작은 데이터를 제일 앞에 있는 데이터와 스왑(SWAP) 두 번째 작은 데이터를 제일 앞에서 두 번째 데이터와 스왑한다."
   ]
  },
  {
   "cell_type": "code",
   "execution_count": 3,
   "metadata": {},
   "outputs": [
    {
     "data": {
      "text/plain": [
       "[0, 1, 2, 3, 4, 5, 6, 7, 8, 9]"
      ]
     },
     "execution_count": 3,
     "metadata": {},
     "output_type": "execute_result"
    }
   ],
   "source": [
    "array = [7, 5, 9, 0, 3, 1, 6, 2, 4, 8]\n",
    "\n",
    "for i in range(len(array)):\n",
    "    min_index = i\n",
    "\n",
    "    for j in range(i + 1, len(array)):\n",
    "        if array[min_index] > array[j]:\n",
    "            min_index = j\n",
    "\n",
    "    # swap = a, b = b, a\n",
    "    array[i], array[min_index] = array[min_index], array[i]  \n",
    "\n",
    "array"
   ]
  },
  {
   "cell_type": "code",
   "execution_count": 2,
   "metadata": {},
   "outputs": [
    {
     "data": {
      "text/plain": [
       "[7, 1]"
      ]
     },
     "execution_count": 2,
     "metadata": {},
     "output_type": "execute_result"
    }
   ],
   "source": [
    "# SWAP\n",
    "리스트 = [1, 7]\n",
    "\n",
    "리스트[0], 리스트[1] = 리스트[1], 리스트[0]\n",
    "\n",
    "리스트"
   ]
  },
  {
   "cell_type": "markdown",
   "metadata": {},
   "source": [
    "### 선택정렬의 시간 복잡도\n",
    "- N - 1 만큼 swap : 가장 작은 수를 맨 앞으로 보낸다.\n",
    "- 가장 작은 수를 찾는 비교 연산 N + (N-1) + (N-2) ...\n",
    "\n",
    "O(N^2) : 정렬 대상이 100개 증가할 때 수행시간이 1000배 증가한다."
   ]
  },
  {
   "cell_type": "markdown",
   "metadata": {},
   "source": [
    "## 삽입정렬(insertion sorting)\n",
    "데이터를 개별적으로 확인하되, 각 데이터를 적절한 위치에 삽입한다.\n",
    "- 두 번째 데이터부터 정렬을 시작한다."
   ]
  },
  {
   "cell_type": "code",
   "execution_count": 4,
   "metadata": {},
   "outputs": [
    {
     "data": {
      "text/plain": [
       "[0, 1, 2, 3, 4, 5, 6, 7, 8, 9]"
      ]
     },
     "execution_count": 4,
     "metadata": {},
     "output_type": "execute_result"
    }
   ],
   "source": [
    "arry = [7, 5, 9, 0, 3, 1, 6, 2, 4, 8]\n",
    "\n",
    "for i in range(1, len(array)):\n",
    "    for j in range(i, 0, -1):\n",
    "        if array[j] < array[j - 1]: # 한 칸씩 왼쪽으로 이동\n",
    "           array[j], array[j - 1] = array[j - 1], array[j]\n",
    "        else:\n",
    "            break # 자기보다 작은 데이터를 만나면 그 위치에 멈춤\n",
    "\n",
    "array "
   ]
  },
  {
   "cell_type": "markdown",
   "metadata": {},
   "source": [
    "### 삽입정렬의 시간복잡도\n",
    "O(N^2)\n",
    "- 현재 데이터의 정렬상태가 완전 정렬상태에 가까울수록 선택정렬보다 빠르다."
   ]
  },
  {
   "cell_type": "markdown",
   "metadata": {},
   "source": [
    "## 퀵 정렬\n",
    "- 일반적인 상황에서 일반적으로 가장 빠르다 : 가장 많이 사용한다.\n",
    "- 정렬 라이브러리의 기본 알고리즘\n",
    "\n",
    "#### 동작방식\n",
    "1. 기준 설정\n",
    "2. 큰 수와 작은 수 swap : pivot을 기준으로 교환 기준 설정\n",
    "    - 파티션에서 제일 먼저 나오는 요소를 pivot으로 설정한다.\n",
    "3. 큰 수와 작은 수 가 cross가 된다면 pivot과 작은 수를 swap해주고, 기존 pivot값을 기준으로 리스트를 반으로 나누어 준다.\n",
    "(이 때 나누어지는 토막들을 보고 division/partition이라고 한다.)\n",
    "\n",
    "-> merge, heap 등 고급정렬 방식으로 확장됨"
   ]
  },
  {
   "cell_type": "code",
   "execution_count": 7,
   "metadata": {},
   "outputs": [
    {
     "data": {
      "text/plain": [
       "[0, 1, 2, 3, 4, 5, 6, 7, 8, 9]"
      ]
     },
     "execution_count": 7,
     "metadata": {},
     "output_type": "execute_result"
    }
   ],
   "source": [
    "arry = [7, 5, 9, 0, 3, 1, 6, 2, 4, 8]\n",
    "\n",
    "def quick_sort(array):\n",
    "    if len(array) <= 1:\n",
    "        return array\n",
    "    pivot = array[0] # 첫 번째 요소를 pivot으로 설정\n",
    "    tail = array[1:] # pivot을 제외한 나머지\n",
    "\n",
    "    left_side = [x for x in tail if x <= pivot]\n",
    "    right_side = [x for x in tail if x > pivot]\n",
    "\n",
    "    return quick_sort(left_side) + [pivot] + quick_sort(right_side)\n",
    "\n",
    "quick_sort(array)"
   ]
  },
  {
   "cell_type": "code",
   "execution_count": null,
   "metadata": {},
   "outputs": [],
   "source": [
    "# [x for x in tail if x <= pivot]\n",
    "for x in tail:\n",
    "    if x <= pivot:\n",
    "        x 값을 정해줘라"
   ]
  },
  {
   "cell_type": "markdown",
   "metadata": {},
   "source": [
    "### 퀵 정렬의 시간 복잡도\n",
    "\n",
    "평균적으로 : O(NlogN)\n",
    "- 데이터가 완전 무작위로 입력될 경우 퀵정렬의 성능이 좋다.\n",
    "\n",
    "최악의 경우 : O(N^2)\n",
    "- 데이터가 이미 정렬되어 이쓴ㄴ 경우 가장 느리다."
   ]
  },
  {
   "cell_type": "markdown",
   "metadata": {},
   "source": [
    "## 계수정렬(Count Sort)\n",
    "특정 조건에서 매우 빠름 : '데이터의 크기 범위가 제한되어 정수 형태로만 표현할 수 있을 때'\n",
    "- 0 <= N <= 1,000,000 사이의 정수값을 가질 때 빠르다.\n",
    "<- 성적 데이터 정렬\n",
    "\n",
    "#### 작동원리 \n",
    "- 가장 큰 데이터와 가장 작은 데이터의 범위를 모두 담을 수 있는 0으로 이루어진 리스트 선언\n",
    "- 데이터를 하나씩 확인하여 데이터의 값과 동일한 인덱스의 데이터를 1씩 증가한다."
   ]
  },
  {
   "cell_type": "code",
   "execution_count": 9,
   "metadata": {},
   "outputs": [
    {
     "name": "stdout",
     "output_type": "stream",
     "text": [
      "0 1 2 3 4 5 6 7 8 9 "
     ]
    }
   ],
   "source": [
    "arry = [7, 5, 9, 0, 3, 1, 6, 2, 4, 8]\n",
    "\n",
    "count = [0] * (max(array) + 1)\n",
    "\n",
    "for i in range(len(array)):\n",
    "    count[array[i]] += 1 # 각 데이터에 해당하는 인덱스의 값\n",
    "\n",
    "for i in range(len(count)): # 리스트에 기록된 정렬정보 확인\n",
    "    for j in range(count[i]):\n",
    "        print(i,  end = ' ')"
   ]
  },
  {
   "cell_type": "markdown",
   "metadata": {},
   "source": [
    "### 이진분류\n",
    "- 최단경로 찾기\n",
    "- 다이나믹 프로그래밍\n",
    "- 그래프 이론"
   ]
  },
  {
   "cell_type": "markdown",
   "metadata": {},
   "source": [
    "### 순차 탐색\n",
    "앞에서 부터 하나씩 조회해서 찾아내는 작업\n",
    "- 탐색 : 원하는 데이터를 찾는 작업"
   ]
  },
  {
   "cell_type": "code",
   "execution_count": 11,
   "metadata": {},
   "outputs": [],
   "source": [
    "def sequential_search(n, target, array):\n",
    "    for i in range(n):\n",
    "        if array[i] == target:\n",
    "            return i + 1"
   ]
  },
  {
   "cell_type": "code",
   "execution_count": 13,
   "metadata": {},
   "outputs": [
    {
     "data": {
      "text/plain": [
       "5"
      ]
     },
     "execution_count": 13,
     "metadata": {},
     "output_type": "execute_result"
    }
   ],
   "source": [
    "arry = [7, 5, 9, 0, 3, 1, 6, 2, 4, 8]\n",
    "\n",
    "sequential_search(len(array), 4, array)"
   ]
  },
  {
   "cell_type": "markdown",
   "metadata": {},
   "source": [
    "시간복잡도 : O(N)"
   ]
  },
  {
   "cell_type": "markdown",
   "metadata": {},
   "source": [
    "# 이진탐색 : Binary Search\n",
    "탐색범위를 절반씩 좁혀가며 데이터를 탐색한다.\n",
    "- *데이터가 정렬되어 있어야 한다.*\n",
    "- 매우 빠르게 데이터를 찾을 수 있다."
   ]
  },
  {
   "cell_type": "markdown",
   "metadata": {},
   "source": [
    "#### NOTE 이진탐색 알고리즘 코드\n",
    "외워두는 것이 좋다."
   ]
  },
  {
   "cell_type": "markdown",
   "metadata": {},
   "source": [
    "## 트리 자료구조.\n",
    "일반적인 데이터베이스는 트리 자료구조를 갖는다."
   ]
  },
  {
   "cell_type": "markdown",
   "metadata": {},
   "source": [
    "### 이진탐색 문제\n",
    "- 입력 데이터가 많다 (> 1000만개)\n",
    "- 탐색 범위가 넓다. (> 1000억 이상)\n",
    "Note 시간제한은 입략 - 출력 모두 포함, 따라서, input()은 느려서 사용하면 안됨. readline() 함수 사용"
   ]
  },
  {
   "cell_type": "code",
   "execution_count": null,
   "metadata": {},
   "outputs": [],
   "source": [
    "import sys\n",
    "\n",
    "# .rstrip()은 문자열 오른쪽에 공백을 제거하는 함수.\n",
    "input_data = sys.stdin.readline().rstrip()\n",
    "\n",
    "print(input_data)"
   ]
  }
 ],
 "metadata": {
  "kernelspec": {
   "display_name": "Python 3.10.7 64-bit",
   "language": "python",
   "name": "python3"
  },
  "language_info": {
   "codemirror_mode": {
    "name": "ipython",
    "version": 3
   },
   "file_extension": ".py",
   "mimetype": "text/x-python",
   "name": "python",
   "nbconvert_exporter": "python",
   "pygments_lexer": "ipython3",
   "version": "3.10.7"
  },
  "orig_nbformat": 4,
  "vscode": {
   "interpreter": {
    "hash": "e4434393e5ce7c6be21b057763801f3aacbc5b1ae01ea26fd365fd93e92b0c53"
   }
  }
 },
 "nbformat": 4,
 "nbformat_minor": 2
}
